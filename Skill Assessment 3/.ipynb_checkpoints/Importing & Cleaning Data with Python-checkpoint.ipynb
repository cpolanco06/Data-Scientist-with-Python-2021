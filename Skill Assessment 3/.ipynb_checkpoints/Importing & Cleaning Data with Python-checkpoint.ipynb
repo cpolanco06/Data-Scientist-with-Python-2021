{
 "cells": [
  {
   "cell_type": "code",
   "execution_count": 1,
   "metadata": {},
   "outputs": [
    {
     "name": "stdout",
     "output_type": "stream",
     "text": [
      "      id  math  physics\n",
      "0  101.0  90.0     88.0\n",
      "1  102.0   NaN     89.0\n",
      "2    NaN   NaN      NaN \n",
      "\n",
      "      id  math  physics\n",
      "0  101.0  90.0     88.0\n"
     ]
    }
   ],
   "source": [
    "import pandas as pd\n",
    "score = pd.read_csv('datasets/score.csv')\n",
    "\n",
    "#Consider the Pandas DataFrame score below. Drop the rows where any of the row values are NaN.\n",
    "\n",
    "print(score, '\\n')\n",
    "\n",
    "#Complete the code to return the output\n",
    "\n",
    "print(score.dropna())"
   ]
  },
  {
   "cell_type": "code",
   "execution_count": 2,
   "metadata": {},
   "outputs": [
    {
     "name": "stdout",
     "output_type": "stream",
     "text": [
      "    Name  Height  Weight\n",
      "0  Nancy      65     120\n",
      "1  Henry      71     165\n",
      "2   Alan      68     160\n",
      "3    Bob      73     170 \n",
      "\n",
      "    Name variable  value\n",
      "0  Nancy   Height     65\n",
      "1  Henry   Height     71\n",
      "2   Alan   Height     68\n",
      "3    Bob   Height     73\n"
     ]
    }
   ],
   "source": [
    "import pandas as pd\n",
    "measure = pd.read_csv('datasets/measure.csv')\n",
    "\n",
    "#Consider the Pandas DataFrame measure below. Keep the column Name and convert the column Height to rows.\n",
    "\n",
    "print(measure, '\\n')\n",
    "\n",
    "#Complete the code to return the output\n",
    "\n",
    "import pandas as pd\n",
    "\n",
    "df = pd.melt(measure, id_vars = 'Name', value_vars = 'Height')\n",
    "\n",
    "print(df)"
   ]
  },
  {
   "cell_type": "code",
   "execution_count": 3,
   "metadata": {},
   "outputs": [
    {
     "name": "stdout",
     "output_type": "stream",
     "text": [
      "     id  score\n",
      "0  7134   75.0\n",
      "1  4020   94.0\n",
      "2  6757    NaN\n",
      "3  2561   91.0\n",
      "4  6875    NaN \n",
      "\n",
      "     id  score\n",
      "0  7134   75.0\n",
      "1  4020   94.0\n",
      "2  6757   80.0\n",
      "3  2561   91.0\n",
      "4  6875   80.0\n"
     ]
    }
   ],
   "source": [
    "import pandas as pd\n",
    "df1 = pd.read_csv('datasets/df1.csv')\n",
    "\n",
    "#Consider the Pandas DataFrame df below. Replace all NaN values with the value 80.\n",
    "\n",
    "print(df1, '\\n')\n",
    "\n",
    "#Complete the code to return the output\n",
    "\n",
    "print(df1.fillna(80))"
   ]
  },
  {
   "cell_type": "code",
   "execution_count": 4,
   "metadata": {},
   "outputs": [
    {
     "name": "stdout",
     "output_type": "stream",
     "text": [
      "        bmi      country   year\n",
      "0  21.48678  Afghanistan  Y1980\n",
      "1       NaN      Albania  Y1980\n",
      "2  21.46552  Afghanistan  Y1981\n",
      "3       NaN      Albania  Y1981 \n",
      "\n",
      "     bmi  country   year\n",
      "0  False    False  False\n",
      "1   True    False  False\n",
      "2  False    False  False\n",
      "3   True    False  False\n"
     ]
    }
   ],
   "source": [
    "import pandas as pd\n",
    "data = pd.read_csv('datasets/data.csv')\n",
    "\n",
    "#Consider the Pandas DataFrame data below. Identify the missing values.\n",
    "\n",
    "print(data, '\\n')\n",
    "\n",
    "#Complete the code to return the output\n",
    "\n",
    "import numpy as np\n",
    "import pandas as pd\n",
    "\n",
    "print(data.isna())"
   ]
  },
  {
   "cell_type": "code",
   "execution_count": 5,
   "metadata": {},
   "outputs": [
    {
     "name": "stdout",
     "output_type": "stream",
     "text": [
      "manipulating strings is useful for text analysis\n"
     ]
    }
   ],
   "source": [
    "#You have asked some students in your class why it is useful to be able to manipulate strings. You now want to find common\n",
    "#themes in the responses, but they have used a mixture of upper and lower case. Convert the example string to lower case.\n",
    "\n",
    "#Complete the code to return the output\n",
    "\n",
    "text = \"Manipulating Strings is Useful for Text analysis\"\n",
    "\n",
    "text = text.lower()\n",
    "\n",
    "print(text)"
   ]
  },
  {
   "cell_type": "code",
   "execution_count": 6,
   "metadata": {},
   "outputs": [
    {
     "name": "stdout",
     "output_type": "stream",
     "text": [
      "reviewer,film,score\n",
      "a,Casino Royale,10\n",
      "b,Casino Royale,2\n",
      "c,Casino Royale,5\n",
      "a,Despicable Me,4\n",
      "b,Despicable Me,9 \n",
      "\n",
      "  reviewer           film  score\n",
      "0        a  Casino Royale     10\n",
      "1        b  Casino Royale      2\n",
      "2        c  Casino Royale      5\n",
      "3        a  Despicable Me      4\n",
      "4        b  Despicable Me      9\n"
     ]
    }
   ],
   "source": [
    "file_name = 'datasets/movies.csv'\n",
    "\n",
    "#The movies.csv file is previewed below. Import the data as a pandas DataFrame. The filename has been set for you in the object\n",
    "#file_name.\n",
    "\n",
    "with open(file_name, 'r') as file:\n",
    "    print(file.read(), '\\n')\n",
    "\n",
    "#Complete the code to return the output\n",
    "\n",
    "import pandas as pd\n",
    "\n",
    "movies = pd.read_csv(file_name)\n",
    "\n",
    "print(movies.head())"
   ]
  },
  {
   "cell_type": "code",
   "execution_count": 7,
   "metadata": {},
   "outputs": [
    {
     "name": "stdout",
     "output_type": "stream",
     "text": [
      "   id  math  chemistry\n",
      "0  12    85         88\n",
      "1  13    88         86\n",
      "2  14    90         91\n",
      "3  15    85         90 \n",
      "\n",
      "   id   variable  value\n",
      "0  12       math     85\n",
      "1  13       math     88\n",
      "2  14       math     90\n",
      "3  15       math     85\n",
      "4  12  chemistry     88\n",
      "5  13  chemistry     86\n",
      "6  14  chemistry     91\n",
      "7  15  chemistry     90\n"
     ]
    }
   ],
   "source": [
    "import pandas as pd\n",
    "df2 = pd.read_csv('datasets/df2.csv')\n",
    "\n",
    "#Consider the Pandas DataFrame df below. Convert the columns math and chemistry from wide to long format.\n",
    "\n",
    "print(df2, '\\n')\n",
    "\n",
    "#Complete the code to return the output\n",
    "\n",
    "import pandas as pd\n",
    "\n",
    "df2 = pd.melt(df2, id_vars = 'id', value_vars = ['math', 'chemistry'])\n",
    "\n",
    "print(df2)"
   ]
  },
  {
   "cell_type": "code",
   "execution_count": 8,
   "metadata": {},
   "outputs": [
    {
     "name": "stdout",
     "output_type": "stream",
     "text": [
      "                                                        0  \\\n",
      "skills  Business Intelligence/nArtificial Intelligence...   \n",
      "roles   Immediate opening For Data Scientist/Data Analyst   \n",
      "\n",
      "                                                        1  \\\n",
      "skills  IT Skills/nJava/nPython/nTesting/nCloud/nBig D...   \n",
      "roles          Associate NLP & Text Mining Data Scientist   \n",
      "\n",
      "                                                        2  \\\n",
      "skills  Pytorch/nTensorflow/nCnn/nRnn/nNLP/nSpacy/nMac...   \n",
      "roles            Trainer - Data Scientist/ AIML Engineer:   \n",
      "\n",
      "                                                        3  \n",
      "skills  IT Skills/nJava/nPython/nTesting/nData Science...  \n",
      "roles                         Data Scientist/Data Analyst  \n"
     ]
    }
   ],
   "source": [
    "file_name = 'datasets/jobs.csv'\n",
    "\n",
    "#A friend sent you an unprocessed .csv file containing Data Science skills data that was scraped from a job listing website.\n",
    "\n",
    "#You're unsure of the structure of the data so import only the first 4 rows to help you decide how to proceed.\n",
    "\n",
    "#Complete the code to return the output\n",
    "\n",
    "import pandas as pd\n",
    "\n",
    "job_listings = pd.read_csv(file_name, index_col=0, nrows= 4)\n",
    "\n",
    "print(job_listings.head().transpose())"
   ]
  },
  {
   "cell_type": "code",
   "execution_count": 9,
   "metadata": {},
   "outputs": [
    {
     "name": "stdout",
     "output_type": "stream",
     "text": [
      "                                              skills  \\\n",
      "0  Business Intelligence/nArtificial Intelligence...   \n",
      "1  IT Skills/nJava/nPython/nTesting/nCloud/nBig D...   \n",
      "2  Pytorch/nTensorflow/nCnn/nRnn/nNLP/nSpacy/nMac...   \n",
      "3  IT Skills/nJava/nPython/nTesting/nData Science...   \n",
      "4  NLP/nAlgorithms/nBusiness Analytics/nData Scie...   \n",
      "\n",
      "                                               roles  \n",
      "0  Immediate opening For Data Scientist/Data Analyst  \n",
      "1         Associate NLP & Text Mining Data Scientist  \n",
      "2           Trainer - Data Scientist/ AIML Engineer:  \n",
      "3                        Data Scientist/Data Analyst  \n",
      "4              Data Scientist - Machine Learning/NLP   \n",
      "\n",
      "0    immediate opening for data scientist/data analyst\n",
      "1           associate nlp & text mining data scientist\n",
      "2             trainer - data scientist/ aiml engineer:\n",
      "3                          data scientist/data analyst\n",
      "4                data scientist - machine learning/nlp\n",
      "Name: roles, dtype: object\n"
     ]
    }
   ],
   "source": [
    "import pandas as pd\n",
    "jobs = pd.read_csv('datasets/jobs.csv')\n",
    "\n",
    "#A friend sent you an unprocessed .csv file containing Data Science skills data that was scraped from a job listing website.\n",
    "\n",
    "#Convert the text in the roles column of the jobs DataFrame to lower case.\n",
    "\n",
    "print(jobs.head(), '\\n')\n",
    "\n",
    "#Complete the code to return the output\n",
    "\n",
    "import pandas as pd\n",
    "\n",
    "jobs['roles'] = jobs['roles'].str.lower()\n",
    "print(jobs['roles'].head())"
   ]
  },
  {
   "cell_type": "code",
   "execution_count": 10,
   "metadata": {},
   "outputs": [
    {
     "name": "stdout",
     "output_type": "stream",
     "text": [
      "            Item Serving Size  Calories\n",
      "0   Korean Salad       7,9 oz       140\n",
      "1  Chicken Salad         9 oz       380\n",
      "2    Greek Salad       8.1 oz       140\n"
     ]
    }
   ],
   "source": [
    "#The food.xlsx Excel file contains multiple sheets. Read the salad sheet into a pandas DataFrame.\n",
    "\n",
    "#Complete the code to return the output\n",
    "\n",
    "import pandas as pd\n",
    "\n",
    "filename = \"datasets/food.xlsx\"\n",
    "\n",
    "df = pd.read_excel(filename, \"salad\")\n",
    "print(df)"
   ]
  },
  {
   "cell_type": "code",
   "execution_count": 11,
   "metadata": {},
   "outputs": [
    {
     "name": "stdout",
     "output_type": "stream",
     "text": [
      "               name   cuisine\n",
      "0           Nom Wah   Chinese\n",
      "1  midnight express  American \n",
      "\n",
      "          name  cuisine\n",
      "0  Bagel World   Bagels\n",
      "1   Enzo Pizza  Italian \n",
      "\n",
      "               name   cuisine\n",
      "0           Nom Wah   Chinese\n",
      "1  midnight express  American\n",
      "0       Bagel World    Bagels\n",
      "1        Enzo Pizza   Italian\n"
     ]
    }
   ],
   "source": [
    "import pandas as pd\n",
    "rest_manhattan = pd.read_csv('datasets/rest_manhattan.csv')\n",
    "rest_brooklyn = pd.read_csv('datasets/rest_brooklyn.csv')\n",
    "\n",
    "#Consider the two Pandas DataFrame rest_manhattan and rest_brooklyn below, respectively. Combine their rows into a single\n",
    "#DataFrame.\n",
    "\n",
    "print(rest_manhattan, '\\n') \n",
    "print(rest_brooklyn, '\\n') \n",
    "\n",
    "#Complete the code to return the output\n",
    "\n",
    "import pandas as pd\n",
    "\n",
    "df = pd.concat([rest_manhattan, rest_brooklyn])\n",
    "\n",
    "print(df)"
   ]
  },
  {
   "cell_type": "code",
   "execution_count": 12,
   "metadata": {},
   "outputs": [
    {
     "name": "stdout",
     "output_type": "stream",
     "text": [
      "0    False\n",
      "1     True\n",
      "2    False\n",
      "dtype: bool\n"
     ]
    }
   ],
   "source": [
    "import numpy as np\n",
    "import pandas as pd\n",
    "\n",
    "data = pd.Series([1, np.nan, 3])\n",
    "print(data.isna())"
   ]
  },
  {
   "cell_type": "code",
   "execution_count": 13,
   "metadata": {},
   "outputs": [
    {
     "name": "stdout",
     "output_type": "stream",
     "text": [
      "               name   cuisine\n",
      "0           Nom Wah   Chinese\n",
      "1  midnight express  American\n",
      "2        Enzo Pizza   Italian \n",
      "\n",
      "     borough\n",
      "0  Manhattan\n",
      "1  Manhattan\n",
      "2   Brooklyn \n",
      "\n",
      "               name   cuisine    borough\n",
      "0           Nom Wah   Chinese  Manhattan\n",
      "1  midnight express  American  Manhattan\n",
      "2        Enzo Pizza   Italian   Brooklyn\n"
     ]
    }
   ],
   "source": [
    "import pandas as pd\n",
    "restaurant = pd.read_csv('datasets/restaurant.csv')\n",
    "location = pd.read_csv('datasets/location.csv')\n",
    "\n",
    "#Consider the Pandas DataFrames restaurant and location below, respectively. Combine their columns into a single DataFrame.\n",
    "\n",
    "print(restaurant, '\\n')\n",
    "print(location, '\\n')\n",
    "\n",
    "#Complete the code to return the output\n",
    "\n",
    "import pandas as pd\n",
    "\n",
    "df = pd.concat([restaurant, location], axis = 1)\n",
    "\n",
    "print(df)"
   ]
  },
  {
   "cell_type": "code",
   "execution_count": 14,
   "metadata": {},
   "outputs": [
    {
     "name": "stdout",
     "output_type": "stream",
     "text": [
      "team@datacamp.com\n"
     ]
    }
   ],
   "source": [
    "email = 'TEAM@DATACAMP.com'\n",
    "\n",
    "#An email address is stored in a variable named email. Change the case of email to lower case.\n",
    "\n",
    "#Complete the code to return the output\n",
    "\n",
    "print(email.lower())"
   ]
  },
  {
   "cell_type": "code",
   "execution_count": 15,
   "metadata": {},
   "outputs": [
    {
     "name": "stdout",
     "output_type": "stream",
     "text": [
      "0\t1\n",
      "34\t17800\n",
      "22\t2800\n",
      "33\t3500\n",
      "44\t1450 \n",
      "\n",
      "[[    0     1]\n",
      " [   34 17800]\n",
      " [   22  2800]\n",
      " [   33  3500]\n",
      " [   44  1450]]\n"
     ]
    }
   ],
   "source": [
    "#Consider the dataset contained in data.txt below. Load the file as a single data type object using numpy.\n",
    "\n",
    "with open('datasets/data.txt', 'r') as f:\n",
    "    print(f.read(), '\\n')\n",
    "\n",
    "#Complete the code to return the output\n",
    "\n",
    "import numpy as np\n",
    "\n",
    "data = np.loadtxt(\"datasets/data.txt\", delimiter=\"\\t\", dtype=\"int\")\n",
    "\n",
    "print(data)"
   ]
  },
  {
   "cell_type": "code",
   "execution_count": 16,
   "metadata": {},
   "outputs": [
    {
     "name": "stdout",
     "output_type": "stream",
     "text": [
      "                                              skills  \\\n",
      "0  Business Intelligence/nArtificial Intelligence...   \n",
      "1  IT Skills/nJava/nPython/nTesting/nCloud/nBig D...   \n",
      "2  Pytorch/nTensorflow/nCnn/nRnn/nNLP/nSpacy/nMac...   \n",
      "3  IT Skills/nJava/nPython/nTesting/nData Science...   \n",
      "4  NLP/nAlgorithms/nBusiness Analytics/nData Scie...   \n",
      "\n",
      "                                               roles  \n",
      "0  Immediate opening For Data Scientist/Data Analyst  \n",
      "1         Associate NLP & Text Mining Data Scientist  \n",
      "2           Trainer - Data Scientist/ AIML Engineer:  \n",
      "3                        Data Scientist/Data Analyst  \n",
      "4              Data Scientist - Machine Learning/NLP   \n",
      "\n",
      "                       0                        1  \\\n",
      "0  Business Intelligence  Artificial Intelligence   \n",
      "1              IT Skills                     Java   \n",
      "2                Pytorch               Tensorflow   \n",
      "3              IT Skills                     Java   \n",
      "4                    NLP               Algorithms   \n",
      "\n",
      "                             2                3                 4  \\\n",
      "0  Natural Language Processing  Neural Networks       Data Mining   \n",
      "1                       Python          Testing             Cloud   \n",
      "2                          Cnn              Rnn               NLP   \n",
      "3                       Python          Testing      Data Science   \n",
      "4           Business Analytics   Data Scientist  Machine Learning   \n",
      "\n",
      "                  5                 6             7  \n",
      "0  Machine Learning     Deep Learning           SQL  \n",
      "1          Big Data               AWS         Azure  \n",
      "2             Spacy  Machine Learning  Scikit-Learn  \n",
      "3               AWS           Tableau         Azure  \n",
      "4     Deep Learning            Python                \n"
     ]
    }
   ],
   "source": [
    "import pandas as pd\n",
    "jobs = pd.read_csv('datasets/jobs.csv')\n",
    "\n",
    "#A friend sent you an unprocessed .csv file containing Data Science skills data that was scraped from a job listing website.\n",
    "\n",
    "#You have imported the file and notice that all the skills have been stored in one column separated by \\n.\n",
    "\n",
    "#Split the skills column of the jobs DataFrame into individual columns.\n",
    "\n",
    "print(jobs, '\\n')\n",
    "\n",
    "#Complete the code to return the output\n",
    "\n",
    "import pandas as pd\n",
    "\n",
    "skills = jobs.skills.str.split(\"/n\", expand=True)\n",
    "print(skills)"
   ]
  },
  {
   "cell_type": "code",
   "execution_count": 17,
   "metadata": {},
   "outputs": [
    {
     "name": "stdout",
     "output_type": "stream",
     "text": [
      "       name       binomial name water_requirement\n",
      "0   ALFREDO  Monstera Deliciosa        moderate  \n",
      "1  ISABELLA  Calathea Orbifolia          moderate\n",
      "2     MARTY               Areca             high \n",
      "3     OLLIE    Alocasia Zebrina              high\n",
      "4    HOWERD          Kentiapalm          moderate \n",
      "\n",
      "       name       binomial name water_requirement\n",
      "0   ALFREDO  Monstera Deliciosa          moderate\n",
      "1  ISABELLA  Calathea Orbifolia          moderate\n",
      "2     MARTY               Areca              high\n",
      "3     OLLIE    Alocasia Zebrina              high\n",
      "4    HOWERD          Kentiapalm          moderate\n"
     ]
    }
   ],
   "source": [
    "import pandas as pd\n",
    "plants1 = pd.read_csv('datasets/plants1.csv')\n",
    "\n",
    "#Some mistakes were made during data entry of plant inventory for Green Friend Nursery. There are leading spaces in the\n",
    "#water_requirement column of the plants DataFrame. Remove the leading spaces from all entries in the column.\n",
    "\n",
    "print(plants1, '\\n')\n",
    "\n",
    "#Complete the code to return the output\n",
    "\n",
    "import pandas as pd\n",
    "\n",
    "plants1['water_requirement'] = plants1['water_requirement'].str.strip()\n",
    "print(plants1.head())"
   ]
  },
  {
   "cell_type": "code",
   "execution_count": 18,
   "metadata": {},
   "outputs": [
    {
     "name": "stdout",
     "output_type": "stream",
     "text": [
      "DatetimeIndex(['2012-01-01 09:12:34', '2012-01-01 09:12:34'], dtype='datetime64[ns]', freq=None)\n"
     ]
    }
   ],
   "source": [
    "#Using the appropriate pandas function, convert the list l to a datetime object\n",
    "\n",
    "#Complete the code to return the output\n",
    "\n",
    "import pandas as pd\n",
    "\n",
    "l = ['2012-01-01 091234','2012-01-01 091234']\n",
    "print(pd.to_datetime(l))"
   ]
  },
  {
   "cell_type": "code",
   "execution_count": 19,
   "metadata": {},
   "outputs": [
    {
     "name": "stdout",
     "output_type": "stream",
     "text": [
      "<class 'pandas.core.frame.DataFrame'>\n",
      "Int64Index: 5 entries, 0 to 4\n",
      "Data columns (total 3 columns):\n",
      " #   Column   Non-Null Count  Dtype \n",
      "---  ------   --------------  ----- \n",
      " 0   user_id  5 non-null      int64 \n",
      " 1   xp       5 non-null      int64 \n",
      " 2   status   5 non-null      object\n",
      "dtypes: int64(2), object(1)\n",
      "memory usage: 160.0+ bytes\n",
      "None \n",
      "\n",
      "<class 'pandas.core.frame.DataFrame'>\n",
      "Int64Index: 5 entries, 0 to 4\n",
      "Data columns (total 3 columns):\n",
      " #   Column   Non-Null Count  Dtype   \n",
      "---  ------   --------------  -----   \n",
      " 0   user_id  5 non-null      int64   \n",
      " 1   xp       5 non-null      int64   \n",
      " 2   status   5 non-null      category\n",
      "dtypes: category(1), int64(2)\n",
      "memory usage: 329.0 bytes\n",
      "None\n"
     ]
    }
   ],
   "source": [
    "import pandas as pd\n",
    "user_xp = pd.read_csv('datasets/user_xp.csv')\n",
    "\n",
    "#The user_xp DataFrame contains the user_id, xp and status of users of an online games platform. The status variable is should\n",
    "#be a categorical variable with 5 levels (bronze, silver, gold, platinum, diamond) but the .info() method of the user_xp shows\n",
    "#that the status column as an object type. Convert the status column to a categorical variable.\n",
    "\n",
    "print(user_xp.info(), '\\n')\n",
    "\n",
    "#<class 'pandas.core.frame.DataFrame'>\n",
    "#RangeIndex: 200 entries, 0 to 199\n",
    "#Data columns (total 3 columns):\n",
    "#user_id    200 non-null int64\n",
    "#xp         200 non-null int64\n",
    "#status     200 non-null object\n",
    "#dtypes: int64(2), object(1)\n",
    "#memory usage: 4.8+ KB\n",
    "\n",
    "#Complete the code to return the output\n",
    "\n",
    "user_xp['status'] = user_xp['status'].astype('category')\n",
    "\n",
    "print(user_xp.info())\n",
    "\n",
    "#Expected Output\n",
    "\n",
    "#<class 'pandas.core.frame.DataFrame'>\n",
    "#RangeIndex: 200 entries, 0 to 199\n",
    "#Data columns (total 3 columns):\n",
    "#user_id    200 non-null int64\n",
    "#xp         200 non-null int64\n",
    "#status     200 non-null category\n",
    "#dtypes: category(1), int64(2)\n",
    "#memory usage: 3.6 KB\n",
    "#None"
   ]
  },
  {
   "cell_type": "code",
   "execution_count": 20,
   "metadata": {},
   "outputs": [
    {
     "name": "stdout",
     "output_type": "stream",
     "text": [
      "b'MATLAB 5.0 MAT-file, Platform: PCWIN64, Created on: Tue Nov 24 17:35:19 2015'\n"
     ]
    }
   ],
   "source": [
    "#You have been giving a dataset by a colleague who prefers to work with MATLAB. Being a Pythonista, you would like to import the\n",
    "#data as a Python dictionary.\n",
    "\n",
    "#Complete the code to return the output\n",
    "\n",
    "import scipy.io\n",
    "import numpy as np\n",
    "\n",
    "file_name = 'datasets/file.mat'\n",
    "\n",
    "annotations = scipy.io.loadmat(file_name)\n",
    "print(annotations[\"__header__\"])"
   ]
  },
  {
   "cell_type": "code",
   "execution_count": 21,
   "metadata": {},
   "outputs": [
    {
     "name": "stdout",
     "output_type": "stream",
     "text": [
      "       name       binomial name  sales price\n",
      "0   ALFREDO  Monstera Deliciosa        24.95\n",
      "1  ISABELLA  Calathea Orbifolia        28.95\n",
      "2     MARTY               Areca        44.95\n",
      "3     OLLIE    Alocasia Zebrina        29.95\n",
      "4    HOWERD          Kentiapalm        49.95 \n",
      "\n",
      "       name       binomial name  sales price\n",
      "0   alfredo  Monstera Deliciosa        24.95\n",
      "1  isabella  Calathea Orbifolia        28.95\n",
      "2     marty               Areca        44.95\n",
      "3     ollie    Alocasia Zebrina        29.95\n",
      "4    howerd          Kentiapalm        49.95\n"
     ]
    }
   ],
   "source": [
    "import pandas as pd\n",
    "plants2 = pd.read_csv('datasets/plants2.csv')\n",
    "\n",
    "#Convert the names of the plants in the name column of the plants DataFrame from uppercase to lowercase.\n",
    "\n",
    "print(plants2, '\\n')\n",
    "\n",
    "#Complete the code to return the output\n",
    "\n",
    "import pandas as pd\n",
    "\n",
    "plants2['name'] = plants2['name'].str.lower()\n",
    "print(plants2.head())"
   ]
  },
  {
   "cell_type": "code",
   "execution_count": 22,
   "metadata": {},
   "outputs": [
    {
     "name": "stdout",
     "output_type": "stream",
     "text": [
      "      id  math  physics\n",
      "0  101.0  90.0     88.0\n",
      "1  102.0   NaN     89.0\n",
      "2    NaN   NaN      NaN \n",
      "\n",
      "      id  math  physics\n",
      "0  101.0  90.0     88.0\n",
      "1  102.0   NaN     89.0\n"
     ]
    }
   ],
   "source": [
    "import pandas as pd\n",
    "score = pd.read_csv('datasets/score.csv')\n",
    "\n",
    "#Consider the Pandas DataFrame score below. Drop the rows where all values are NaN.\n",
    "\n",
    "print(score, '\\n')\n",
    "\n",
    "#Complete the code to return the output\n",
    "\n",
    "print(score.dropna(how = 'all'))"
   ]
  },
  {
   "cell_type": "code",
   "execution_count": 23,
   "metadata": {},
   "outputs": [
    {
     "name": "stdout",
     "output_type": "stream",
     "text": [
      "0     red\n",
      "1    blue\n",
      "2     red\n",
      "dtype: object \n",
      "\n",
      "0     True\n",
      "1    False\n",
      "2     True\n",
      "dtype: bool\n"
     ]
    }
   ],
   "source": [
    "#Consider the Pandas Series s below:\n",
    "\n",
    "s = pd.Series(['red', 'blue', 'red'])\n",
    "print(s, '\\n')\n",
    "\n",
    "#Complete the code to return the output\n",
    "\n",
    "import pandas as pd\n",
    "\n",
    "print(s.str.startswith('re'))"
   ]
  },
  {
   "cell_type": "code",
   "execution_count": 24,
   "metadata": {},
   "outputs": [
    {
     "name": "stdout",
     "output_type": "stream",
     "text": [
      "     id  seq         from           to\n",
      "0  1107    1      Hoboken      Hoboken\n",
      "1  1107    2      Hoboken  Secaucus L1\n",
      "2  1107    3  Secaucus L1    Kingsland\n"
     ]
    }
   ],
   "source": [
    "#An extract from the train.xlsx Excel file is shown below. While importing the Excel file, override the column names to id, seq,\n",
    "#from, and to.\n",
    "\n",
    "#Complete the code to return the output\n",
    "\n",
    "import pandas as pd\n",
    "\n",
    "filename = \"datasets/train.xlsx\"\n",
    "\n",
    "df = pd.read_excel(filename, names=['id', 'seq', 'from', 'to'])\n",
    "print(df.head())"
   ]
  },
  {
   "cell_type": "code",
   "execution_count": 25,
   "metadata": {},
   "outputs": [
    {
     "name": "stdout",
     "output_type": "stream",
     "text": [
      "   id         style   type    country  price  rating   number_sold\n",
      "0  65        malbec    red  argentina  19.04     4.2            22\n",
      "1  31     alvarinho  white   portugal  18.99     4.2            13\n",
      "2  69      riesling  white    germany  16.95     4.0             6\n",
      "3  97    pinot noir    red    germany    NaN     4.0            17\n",
      "4  68     primitivo    red      italy  17.99     4.2            19\n",
      "5  76  valpolicella    red      italy  19.39     4.2             6\n"
     ]
    }
   ],
   "source": [
    "file_name = 'datasets/wine_sales.csv'\n",
    "\n",
    "#Below is a preview of the wine_sales.csv data set. Import only the first 6 rows of the data.\n",
    "\n",
    "#Complete the code to return the output\n",
    "\n",
    "import pandas as pd\n",
    "\n",
    "wine = pd.read_csv(file_name, nrows=6)\n",
    "\n",
    "print(wine)"
   ]
  },
  {
   "cell_type": "code",
   "execution_count": 26,
   "metadata": {},
   "outputs": [
    {
     "name": "stdout",
     "output_type": "stream",
     "text": [
      "<class 'dict'>\n"
     ]
    }
   ],
   "source": [
    "#Load the pickled file data.pkl using pandas, then check what type of object was pickled.\n",
    "\n",
    "#Complete the code to return the output\n",
    "\n",
    "import pandas as pd\n",
    "\n",
    "x = pd.read_pickle('datasets/data.pkl')\n",
    "print(type(x))"
   ]
  },
  {
   "cell_type": "code",
   "execution_count": 27,
   "metadata": {},
   "outputs": [
    {
     "name": "stdout",
     "output_type": "stream",
     "text": [
      "        style   type  price\n",
      "0      malbec    red  19.04\n",
      "1   alvarinho  white  18.99\n",
      "2    riesling  white  16.95\n",
      "3  pinot noir    red    NaN\n",
      "4   primitivo    red  17.99\n"
     ]
    }
   ],
   "source": [
    "file_name = 'datasets/wine_sales.csv'\n",
    "\n",
    "#Below is a preview of the wine_sales.csv data set. For your analysis you only need the columns style, type and price. Import\n",
    "#the data, reading only these three columns.\n",
    "\n",
    "#Complete the code to return the output\n",
    "\n",
    "import pandas as pd\n",
    "\n",
    "cols= ['style', 'type', 'price']\n",
    "\n",
    "wine= pd.read_csv(file_name, usecols=cols)\n",
    "\n",
    "print(wine.head())"
   ]
  },
  {
   "cell_type": "code",
   "execution_count": 28,
   "metadata": {},
   "outputs": [
    {
     "name": "stdout",
     "output_type": "stream",
     "text": [
      "   user_id      xp    status\n",
      "0  1520965  292382      gold\n",
      "1  1577585   45308    bronze\n",
      "2   706833  493393  platinum\n",
      "3  1303891  342382      gold\n",
      "4   650641  127259    silver\n"
     ]
    }
   ],
   "source": [
    "#An online games platform would like to assign a special status to their users based on the number of experience points (xp)\n",
    "#that users have. The user_xp DataFrame contains the user_ids and xp per user. Use Pandas method to create a new status column\n",
    "#that indicates a user's special status. The bins and labels have been defined for you based on the xp status table.\n",
    "\n",
    "#-- xp status\n",
    "#[0 - 125 000)        Bronze\n",
    "#[125 000 - 250 000)  Silver\n",
    "#[250 000 - 375 000)  Gold\n",
    "#[375 000 - 500 000)  Platinum\n",
    "#[500 000 - inf)      Diamond\n",
    "\n",
    "#Complete the code to return the output\n",
    "\n",
    "import pandas as pd\n",
    "\n",
    "bins = [0, 125000, 250000, 375000, 500000, float('inf')]\n",
    "labels = [\"bronze\", \"silver\", \"gold\", \"platinum\", \"diamond\"]\n",
    "\n",
    "user_xp['status'] = pd.cut(user_xp['xp'], bins=bins, labels=labels)\n",
    "\n",
    "print(user_xp.head())"
   ]
  },
  {
   "cell_type": "code",
   "execution_count": 29,
   "metadata": {},
   "outputs": [
    {
     "name": "stdout",
     "output_type": "stream",
     "text": [
      "       Product.1   Cost  Inventory\n",
      "0   Bicycle Lock  24.95        4.0\n",
      "1   Bicycle Pump  39.95        5.0\n",
      "2       MTB Tube   8.00       20.0\n",
      "3      Road Tube   6.00       25.0\n",
      "4  Bicycle Light   4.95        8.0\n"
     ]
    }
   ],
   "source": [
    "#The 2Weels Bicycle Shop stores their sales data and inventory in one Excel sheet. Import the inventory data located in the\n",
    "#table starting at cell F2 into a pandas DataFrame.\n",
    "\n",
    "#Complete the code to return the output\n",
    "\n",
    "import pandas as pd\n",
    "\n",
    "filename = \"datasets/bicycle_shop_sales.xlsx\"\n",
    "\n",
    "inventory = pd.read_excel(filename, skiprows = 1, usecols = \"F:H\")\n",
    "print(inventory.head())"
   ]
  },
  {
   "cell_type": "code",
   "execution_count": 30,
   "metadata": {},
   "outputs": [
    {
     "name": "stdout",
     "output_type": "stream",
     "text": [
      "   Day  Ozone  Temp  Wind\n",
      "0    1     41    67   7.4\n",
      "1    2     36    72   8.0\n",
      "2    3     12    74  12.6\n",
      "3    4     18    62  11.5\n",
      "4    5     23    65   8.6\n"
     ]
    }
   ],
   "source": [
    "#The data airquality.csv is shown below. The headers have not been included in the data. Import the data adding the headers Day,\n",
    "#Ozone, Temp and Wind, which have been added to a list for you.\n",
    "\n",
    "\n",
    "#Complete the code to return the output\n",
    "\n",
    "import pandas as pd\n",
    "\n",
    "cols= ['Day', 'Ozone', 'Temp', 'Wind']\n",
    "\n",
    "air= pd.read_csv(\"datasets/airquality.csv\", names=cols)\n",
    "\n",
    "print(air)"
   ]
  },
  {
   "cell_type": "code",
   "execution_count": 31,
   "metadata": {},
   "outputs": [
    {
     "name": "stdout",
     "output_type": "stream",
     "text": [
      "[(b'A', 17800) (b'B',  2800) (b'C',  3500) (b'D',  1450)]\n"
     ]
    },
    {
     "name": "stderr",
     "output_type": "stream",
     "text": [
      "D:\\Users\\ASUS\\anaconda3\\lib\\site-packages\\ipykernel_launcher.py:7: VisibleDeprecationWarning: Reading unicode strings without specifying the encoding argument is deprecated. Set the encoding, use None for the system default.\n",
      "  import sys\n"
     ]
    }
   ],
   "source": [
    "#Consider the file data.csv and its contents below. Import it as a numpy array.\n",
    "\n",
    "#Complete the code to return the output\n",
    "\n",
    "import numpy as np\n",
    "\n",
    "data = np.genfromtxt(\"datasets/data2.csv\", delimiter=',', dtype=None, skip_header=1)\n",
    "\n",
    "print(data)"
   ]
  },
  {
   "cell_type": "code",
   "execution_count": 32,
   "metadata": {},
   "outputs": [
    {
     "name": "stdout",
     "output_type": "stream",
     "text": [
      "  first_name last_name\n",
      "0      Roger   Federer\n",
      "1     Rafael     Nadal\n",
      "2      Novak  Djokovic \n",
      "\n",
      "  first_name last_name            name\n",
      "0      Roger   Federer   Roger Federer\n",
      "1     Rafael     Nadal    Rafael Nadal\n",
      "2      Novak  Djokovic  Novak Djokovic\n"
     ]
    }
   ],
   "source": [
    "import pandas as pd\n",
    "tennis = pd.read_csv('datasets/tennis.csv')\n",
    "\n",
    "#Consider the Pandas DataFrame tennis below. Combine the first_name and last_name columns into a single column name, and add it\n",
    "#to to df.\n",
    "\n",
    "print(tennis, '\\n')\n",
    "df = tennis\n",
    "\n",
    "#Complete the code to return the output\n",
    "\n",
    "df['name'] = df['first_name'].str.cat(df['last_name'], sep = ' ')\n",
    "print(df)"
   ]
  },
  {
   "cell_type": "code",
   "execution_count": 33,
   "metadata": {},
   "outputs": [
    {
     "name": "stdout",
     "output_type": "stream",
     "text": [
      "Dec 09 1986\n"
     ]
    }
   ],
   "source": [
    "#Represent the datetime object date_of_birth as a character string, in the format MMM DD YYYY. The representation of this format\n",
    "#has been provided for you as fmt.\n",
    "\n",
    "#Complete the code to return the output\n",
    "\n",
    "from datetime import date\n",
    "\n",
    "date_of_birth = date(1986, 12, 9)\n",
    "\n",
    "fmt = '%b %d %Y'\n",
    "\n",
    "print(date_of_birth.strftime(fmt))"
   ]
  },
  {
   "cell_type": "code",
   "execution_count": 34,
   "metadata": {},
   "outputs": [
    {
     "name": "stdout",
     "output_type": "stream",
     "text": [
      "          style   type    country  price  rating\n",
      "0        malbec    red  argentina  19.04     4.2\n",
      "1        malbec    red  argentina  18.49     4.2\n",
      "2     alvarinho  white   portugal  18.99     4.2\n",
      "3      riesling  white    germany  16.95     4.0\n",
      "4  valpolicella    red      italy  17.99     4.2\n",
      "5  valpolicella    red      italy  17.99     4.2 \n",
      "\n",
      "0    False\n",
      "1    False\n",
      "2    False\n",
      "3    False\n",
      "4    False\n",
      "5     True\n",
      "dtype: bool\n"
     ]
    }
   ],
   "source": [
    "import pandas as pd\n",
    "wine = pd.read_csv('datasets/wine.csv')\n",
    "\n",
    "#The wine data contains information on wines sold in two different stores. Some of the wines are sold in both stores, so have\n",
    "#been duplicated in the data. Identify the rows where values in all columns are duplicated.\n",
    "\n",
    "print(wine, '\\n')\n",
    "\n",
    "#Complete the code to return the output\n",
    "\n",
    "duplicated_rows= wine.duplicated()\n",
    "\n",
    "print(duplicated_rows)"
   ]
  },
  {
   "cell_type": "code",
   "execution_count": 35,
   "metadata": {},
   "outputs": [
    {
     "name": "stdout",
     "output_type": "stream",
     "text": [
      "        bmi      country   year\n",
      "0  21.48678  Afghanistan  Y1980\n",
      "1  25.22533      Albania  Y1980\n",
      "2  21.46552  Afghanistan  Y1981\n",
      "3  25.23981      Albania  Y1981 \n",
      "\n",
      "year            Y1980     Y1981\n",
      "country                        \n",
      "Afghanistan  21.48678  21.46552\n",
      "Albania      25.22533  25.23981\n"
     ]
    }
   ],
   "source": [
    "import pandas as pd\n",
    "df = pd.read_csv('datasets/df.csv')\n",
    "\n",
    "#Consider the Pandas DataFrame df below.\n",
    "\n",
    "print(df, '\\n')\n",
    "\n",
    "#Complete the code to return the output\n",
    "\n",
    "print(df.pivot_table(index = \"country\", columns = \"year\", values = \"bmi\"))"
   ]
  },
  {
   "cell_type": "code",
   "execution_count": 36,
   "metadata": {},
   "outputs": [
    {
     "name": "stdout",
     "output_type": "stream",
     "text": [
      "      ingredient quantity\n",
      "0         butter    125 g\n",
      "1          cream    1 cup\n",
      "2  caramel treat    360 g \n",
      "\n",
      "      ingredient quantity\n",
      "0         butter    125 g\n",
      "1          cream    1 cup\n",
      "2  caramel treat    360 g \n",
      "\n",
      "                   ingredient quantity\n",
      "0                      butter    125 g\n",
      "1                       cream    1 cup\n",
      "2               caramel treat    360 g\n",
      "0             tennis biscuits    125 g\n",
      "1  peppermint crisp chocolate    1 cup\n"
     ]
    }
   ],
   "source": [
    "import pandas as pd\n",
    "df3 = pd.read_csv('datasets/df3.csv')\n",
    "df4 = pd.read_csv('datasets/df4.csv')\n",
    "\n",
    "#Combine the following DataFrames df1 and df2 :\n",
    "\n",
    "print(df3, '\\n')\n",
    "print(df3, '\\n')\n",
    "\n",
    "#Complete the code to return the output\n",
    "\n",
    "print(pd.concat([df3, df4], axis=0))"
   ]
  },
  {
   "cell_type": "code",
   "execution_count": 37,
   "metadata": {},
   "outputs": [
    {
     "name": "stdout",
     "output_type": "stream",
     "text": [
      "<HDF5 file \"LIGO_data.hdf5\" (mode r)>\n"
     ]
    }
   ],
   "source": [
    "#The file LIGO_data.hdf5 is in the current directory. Load it as an HDF5 object using the h5py package.\n",
    "\n",
    "#Complete the code to return the output\n",
    "\n",
    "import numpy as np\n",
    "import h5py\n",
    "\n",
    "hf = h5py.File('datasets/LIGO_data.hdf5', 'r')\n",
    "print(hf)"
   ]
  },
  {
   "cell_type": "code",
   "execution_count": 38,
   "metadata": {},
   "outputs": [
    {
     "name": "stdout",
     "output_type": "stream",
     "text": [
      "   train_id  stop_sequence         from           to\n",
      "0      1107              2      Hoboken  Secaucus L1\n",
      "1      1107              3  Secaucus L1    Kingsland\n"
     ]
    }
   ],
   "source": [
    "#An extract from the train.xlsx Excel file is shown below. While importing the Excel file, skip the 2nd row.\n",
    "\n",
    "#Complete the code to return the output\n",
    "\n",
    "import pandas as pd\n",
    "\n",
    "filename = \"datasets/train.xlsx\"\n",
    "\n",
    "df = pd.read_excel(filename, skiprows = [1])\n",
    "print(df.head())"
   ]
  },
  {
   "cell_type": "code",
   "execution_count": 39,
   "metadata": {},
   "outputs": [
    {
     "name": "stdout",
     "output_type": "stream",
     "text": [
      "        date  items_sold last_report\n",
      "0 2019-10-06          26         NaT\n",
      "1 2019-10-15          12  2019-10-06\n",
      "2 2019-10-24          82  2019-10-15\n",
      "3 2019-10-30           6  2019-10-24\n",
      "4 2019-11-05         101  2019-10-30 \n",
      "\n",
      "        date  items_sold last_report   diff\n",
      "0 2019-10-06          26         NaT    NaT\n",
      "1 2019-10-15          12  2019-10-06 9 days\n",
      "2 2019-10-24          82  2019-10-15 9 days\n",
      "3 2019-10-30           6  2019-10-24 6 days\n",
      "4 2019-11-05         101  2019-10-30 6 days\n"
     ]
    }
   ],
   "source": [
    "import pandas as pd\n",
    "sales = pd.read_csv('datasets/sales.csv')\n",
    "sales['date'] = pd.to_datetime(sales['date'], format=\"%Y/%m/%d\")\n",
    "sales['last_report'] = pd.to_datetime(sales['last_report'], format=\"%Y/%m/%d\")\n",
    "\n",
    "#The sales DataFrame, previewed below, shows the number of items sold on a number of individual dates along with the date of the\n",
    "#last report. Add a new column to the data, diff, that gives the gap between reporting times.\n",
    "\n",
    "print(sales, '\\n')\n",
    "\n",
    "#Complete the code to return the output\n",
    "\n",
    "sales['diff'] = sales['date'] - sales['last_report']\n",
    "\n",
    "print(sales.head())"
   ]
  },
  {
   "cell_type": "code",
   "execution_count": 40,
   "metadata": {},
   "outputs": [
    {
     "name": "stdout",
     "output_type": "stream",
     "text": [
      "0    1.0\n",
      "1    2.0\n",
      "2    2.0\n",
      "3    4.0\n",
      "4    4.0\n",
      "dtype: float64\n"
     ]
    }
   ],
   "source": [
    "import numpy as np\n",
    "import pandas as pd\n",
    "\n",
    "data = pd.Series([1, 2, np.nan, 4, np.nan])\n",
    "print(data.fillna(method = \"ffill\"))"
   ]
  },
  {
   "cell_type": "code",
   "execution_count": 41,
   "metadata": {},
   "outputs": [
    {
     "name": "stdout",
     "output_type": "stream",
     "text": [
      "                     type    country  price  rating\n",
      "style                                              \n",
      "alvarinho           white   portugal  18.99     4.2\n",
      "blanc de blanc  sparkling     france    NaN     3.8\n",
      "cabernet              red  argentina  14.90     4.0\n",
      "gavi                white      italy  13.56     NaN\n",
      "malbec                red  argentina  19.04     4.2 \n",
      "\n",
      "                     type    country  price  rating\n",
      "style                                              \n",
      "alvarinho           white   portugal  18.99    4.20\n",
      "blanc de blanc  sparkling     france    NaN    3.80\n",
      "cabernet              red  argentina  14.90    4.00\n",
      "gavi                white      italy  13.56    4.05\n",
      "malbec                red  argentina  19.04    4.20\n"
     ]
    }
   ],
   "source": [
    "import pandas as pd\n",
    "wine1 = pd.read_csv('datasets/wine1.csv', index_col='style')\n",
    "\n",
    "#The wine data, previewed below, has been imported for you. There are missing values in multiple columns, but you have decided\n",
    "#that you only need to replace missing rating values. You have decided that they should be replaced by the average of all other\n",
    "#ratings.\n",
    "\n",
    "print(wine1, '\\n')\n",
    "\n",
    "#Complete the code to return the output\n",
    "\n",
    "rating_mean= wine1['rating'].mean()\n",
    "\n",
    "wine_imputed= wine1.fillna({'rating': rating_mean})\n",
    "\n",
    "print(wine_imputed)"
   ]
  },
  {
   "cell_type": "code",
   "execution_count": 42,
   "metadata": {},
   "outputs": [
    {
     "name": "stdout",
     "output_type": "stream",
     "text": [
      "            type    country  price  rating\n",
      "style                                     \n",
      "alvarinho  white   portugal  18.99     4.2\n",
      "cabernet     red  argentina  14.90     4.0\n",
      "gavi       white      italy  13.56     NaN\n",
      "malbec       red  argentina  19.04     4.2\n"
     ]
    }
   ],
   "source": [
    "#The wine data has been imported for you. You want to perform some analysis of this data, but have established that wines with\n",
    "#no price listed are not of importance and should be removed from the data. Remove rows where there are missing values only in\n",
    "#the price column.\n",
    "\n",
    "#Complete the code to return the output\n",
    "\n",
    "wine_with_price= wine1.dropna(subset= ['price'])\n",
    "\n",
    "print(wine_with_price)"
   ]
  },
  {
   "cell_type": "code",
   "execution_count": 43,
   "metadata": {},
   "outputs": [
    {
     "name": "stdout",
     "output_type": "stream",
     "text": [
      "  employee         team  hire_date\n",
      "0    James   Accounting       2018\n",
      "1     Mary  Engineering       2019\n",
      "2    Kevin  Engineering       2019\n",
      "3    Linda           HR       2020 \n",
      "\n",
      "          team team_lead\n",
      "0   Accounting     Karen\n",
      "1  Engineering    George\n",
      "2           HR   Michael \n",
      "\n",
      "  employee         team  hire_date team_lead\n",
      "0    James   Accounting       2018     Karen\n",
      "1     Mary  Engineering       2019    George\n",
      "2    Kevin  Engineering       2019    George\n",
      "3    Linda           HR       2020   Michael\n"
     ]
    }
   ],
   "source": [
    "import pandas as pd\n",
    "df5 = pd.read_csv('datasets/df5.csv')\n",
    "df6 = pd.read_csv('datasets/df6.csv')\n",
    "\n",
    "#df1 contains the names of a employees, the team to which the belong and their hiring date. Add the name of each employee's team\n",
    "#lead by combining df1 and df2.\n",
    "\n",
    "print(df5, '\\n')\n",
    "print(df6, '\\n')\n",
    "\n",
    "#Complete the code to return the output\n",
    "\n",
    "print(pd.merge(df5, df6))"
   ]
  },
  {
   "cell_type": "code",
   "execution_count": 44,
   "metadata": {},
   "outputs": [
    {
     "name": "stdout",
     "output_type": "stream",
     "text": [
      "         date   val\n",
      "0  2020-03-28  25.5\n",
      "1  2020-04-30  24.2\n",
      "2  2020-05-31   NaN\n",
      "3  2020-06-29  24.9 \n",
      "\n",
      "         date   val\n",
      "0  2020-03-28  25.5\n",
      "1  2020-04-30  24.2\n",
      "2  2020-05-31  24.2\n",
      "3  2020-06-29  24.9\n"
     ]
    }
   ],
   "source": [
    "import pandas as pd\n",
    "times = pd.read_csv('datasets/times.csv')\n",
    "\n",
    "#You have been asked to produce a summary graphic of the race times of an athlete. The data is stored in the data frame times,\n",
    "#but some values are missing as the athlete did not race that day. The experts have told you to replace these times with the\n",
    "#time from the race before it. The data is already arranged by date.\n",
    "\n",
    "print(times, '\\n')\n",
    "\n",
    "#Complete the code to return the output\n",
    "\n",
    "import pandas as pd\n",
    "\n",
    "times_no_missing = times.fillna(method = \"ffill\")\n",
    "\n",
    "print(times_no_missing.head(n = 4))"
   ]
  },
  {
   "cell_type": "code",
   "execution_count": null,
   "metadata": {},
   "outputs": [],
   "source": []
  }
 ],
 "metadata": {
  "kernelspec": {
   "display_name": "Python 3",
   "language": "python",
   "name": "python3"
  },
  "language_info": {
   "codemirror_mode": {
    "name": "ipython",
    "version": 3
   },
   "file_extension": ".py",
   "mimetype": "text/x-python",
   "name": "python",
   "nbconvert_exporter": "python",
   "pygments_lexer": "ipython3",
   "version": "3.7.6"
  }
 },
 "nbformat": 4,
 "nbformat_minor": 4
}
