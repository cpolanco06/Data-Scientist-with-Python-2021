{
 "cells": [
  {
   "cell_type": "code",
   "execution_count": 1,
   "metadata": {},
   "outputs": [],
   "source": [
    "#Exploring your working directory\n",
    "\n",
    "#In order to import data into Python, you should first have an idea of what files are in your working directory.\n",
    "\n",
    "#IPython, which is running on DataCamp's servers, has a bunch of cool commands, including its magic commands. For example,\n",
    "#starting a line with ! gives you complete system shell access. This means that the IPython magic command ! ls will display the\n",
    "#contents of your current directory. Your task is to use the IPython magic command ! ls to check out the contents of your\n",
    "#current directory and answer the following question: which of the following files is in your working directory?\n",
    "\n",
    "#! ls\n",
    "#moby_dick.txt\n",
    "\n",
    "#Possible Answers\n",
    "\n",
    "#huck_finn.txt\n",
    "\n",
    "#titanic.csv\n",
    "\n",
    "#moby_dick.txt*"
   ]
  },
  {
   "cell_type": "code",
   "execution_count": 2,
   "metadata": {},
   "outputs": [
    {
     "name": "stdout",
     "output_type": "stream",
     "text": [
      "CHAPTER 1. Loomings.\n",
      "\n",
      "Call me Ishmael. Some years ago--never mind how long precisely--having\n",
      "little or no money in my purse, and nothing particular to interest me on\n",
      "shore, I thought I would sail about a little and see the watery part of\n",
      "the world. It is a way I have of driving off the spleen and regulating\n",
      "the circulation. Whenever I find myself growing grim about the mouth;\n",
      "whenever it is a damp, drizzly November in my soul; whenever I find\n",
      "myself involuntarily pausing before coffin warehouses, and bringing up\n",
      "the rear of every funeral I meet; and especially whenever my hypos get\n",
      "such an upper hand of me, that it requires a strong moral principle to\n",
      "prevent me from deliberately stepping into the street, and methodically\n",
      "knocking people's hats off--then, I account it high time to get to sea\n",
      "as soon as I can. This is my substitute for pistol and ball. With a\n",
      "philosophical flourish Cato throws himself upon his sword; I quietly\n",
      "take to the ship. There is nothing surprising in this. If they but knew\n",
      "it, almost all men in their degree, some time or other, cherish very\n",
      "nearly the same feelings towards the ocean with me. \n",
      "\n",
      "False \n",
      "\n",
      "True\n"
     ]
    }
   ],
   "source": [
    "#Importing entire text files\n",
    "\n",
    "#In this exercise, you'll be working with the file moby_dick.txt. It is a text file that contains the opening sentences of Moby\n",
    "#Dick, one of the great American novels! Here you'll get experience opening a text file, printing its contents to the shell and,\n",
    "#finally, closing it.\n",
    "\n",
    "# Open a file: file\n",
    "file = open('datasets/moby_dick.txt', mode='r')\n",
    "\n",
    "# Print it\n",
    "print(file.read(), '\\n')\n",
    "\n",
    "# Check whether file is closed\n",
    "print(file.closed, '\\n')\n",
    "\n",
    "# Close file\n",
    "file.close()\n",
    "\n",
    "# Check whether file is closed\n",
    "print(file.closed)"
   ]
  },
  {
   "cell_type": "code",
   "execution_count": 3,
   "metadata": {},
   "outputs": [
    {
     "name": "stdout",
     "output_type": "stream",
     "text": [
      "CHAPTER 1. Loomings.\n",
      "\n",
      "\n",
      "\n",
      "Call me Ishmael. Some years ago--never mind how long precisely--having\n",
      "\n"
     ]
    }
   ],
   "source": [
    "#Importing text files line by line\n",
    "\n",
    "#For large files, we may not want to print all of their content to the shell: you may wish to print only the first few lines.\n",
    "#Enter the readline() method, which allows you to do this. When a file called file is open, you can print out the first line by\n",
    "#executing file.readline(). If you execute the same command again, the second line will print, and so on.\n",
    "\n",
    "#In the introductory video, Hugo also introduced the concept of a context manager. He showed that you can bind a variable file\n",
    "#by using a context manager construct:\n",
    "\n",
    "#with open('huck_finn.txt') as file:\n",
    "\n",
    "#While still within this construct, the variable file will be bound to open('huck_finn.txt'); thus, to print the file to the\n",
    "#shell, all the code you need to execute is:\n",
    "\n",
    "#with open('huck_finn.txt') as file:\n",
    "#    print(file.readline())\n",
    "\n",
    "#You'll now use these tools to print the first few lines of moby_dick.txt!\n",
    "\n",
    "# Read & print the first 3 lines\n",
    "with open('datasets/moby_dick.txt') as file:\n",
    "    print(file.readline())\n",
    "    print(file.readline())\n",
    "    print(file.readline())"
   ]
  },
  {
   "cell_type": "code",
   "execution_count": 4,
   "metadata": {},
   "outputs": [],
   "source": [
    "#Pop quiz: examples of flat files\n",
    "\n",
    "#You're now well-versed in importing text files and you're about to become a wiz at importing flat files. But can you remember\n",
    "#exactly what a flat file is? Test your knowledge by answering the following question: which of these file types below is NOT an\n",
    "#example of a flat file?\n",
    "\n",
    "#Possible Answers\n",
    "\n",
    "#A .csv file.\n",
    "\n",
    "#A tab-delimited .txt.\n",
    "\n",
    "#A relational database (e.g. PostgreSQL).*"
   ]
  },
  {
   "cell_type": "code",
   "execution_count": 5,
   "metadata": {},
   "outputs": [],
   "source": [
    "#Pop quiz: what exactly are flat files?\n",
    "\n",
    "#Which of the following statements about flat files is incorrect?\n",
    "\n",
    "#Possible Answers\n",
    "\n",
    "#Flat files consist of rows and each row is called a record.\n",
    "\n",
    "#Flat files consist of multiple tables with structured relationships between the tables.*\n",
    "\n",
    "#A record in a flat file is composed of fields or attributes, each of which contains at most one item of information.\n",
    "\n",
    "#Flat files are pervasive in data science."
   ]
  },
  {
   "cell_type": "code",
   "execution_count": 6,
   "metadata": {},
   "outputs": [
    {
     "name": "stdout",
     "output_type": "stream",
     "text": [
      "The Zen of Python, by Tim Peters\n",
      "\n",
      "Beautiful is better than ugly.\n",
      "Explicit is better than implicit.\n",
      "Simple is better than complex.\n",
      "Complex is better than complicated.\n",
      "Flat is better than nested.\n",
      "Sparse is better than dense.\n",
      "Readability counts.\n",
      "Special cases aren't special enough to break the rules.\n",
      "Although practicality beats purity.\n",
      "Errors should never pass silently.\n",
      "Unless explicitly silenced.\n",
      "In the face of ambiguity, refuse the temptation to guess.\n",
      "There should be one-- and preferably only one --obvious way to do it.\n",
      "Although that way may not be obvious at first unless you're Dutch.\n",
      "Now is better than never.\n",
      "Although never is often better than *right* now.\n",
      "If the implementation is hard to explain, it's a bad idea.\n",
      "If the implementation is easy to explain, it may be a good idea.\n",
      "Namespaces are one honking great idea -- let's do more of those!\n"
     ]
    }
   ],
   "source": [
    "#Why we like flat files and the Zen of Python\n",
    "\n",
    "#In PythonLand, there are currently hundreds of Python Enhancement Proposals, commonly referred to as PEPs. PEP8, for example,\n",
    "#is a standard style guide for Python, written by our sensei Guido van Rossum himself. It is the basis for how we here at\n",
    "#DataCamp ask our instructors to style their code. Another one of my favorites is PEP20, commonly called the Zen of Python. Its\n",
    "#abstract is as follows:\n",
    "\n",
    "#Long time Pythoneer Tim Peters succinctly channels the BDFL's guiding principles for Python's design into 20 aphorisms, only 19\n",
    "#of which have been written down.\n",
    "\n",
    "#If you don't know what the acronym BDFL stands for, I suggest that you look here. You can print the Zen of Python in your shell\n",
    "#by typing import this into it! You're going to do this now and the 5th aphorism (line) will say something of particular\n",
    "#interest.\n",
    "\n",
    "#The question you need to answer is: what is the 5th aphorism of the Zen of Python?\n",
    "\n",
    "import this"
   ]
  },
  {
   "cell_type": "code",
   "execution_count": 7,
   "metadata": {},
   "outputs": [],
   "source": [
    "#Possible Answers\n",
    "\n",
    "#Flat is better than nested.*\n",
    "\n",
    "#Flat files are essential for data science.\n",
    "\n",
    "#The world is representable as a flat file.\n",
    "\n",
    "#Flatness is in the eye of the beholder."
   ]
  },
  {
   "cell_type": "code",
   "execution_count": 8,
   "metadata": {},
   "outputs": [],
   "source": [
    "#BDFL -> Benevolent Dictator For Life, a.k.a. Guido van Rossum, Python’s creator."
   ]
  },
  {
   "cell_type": "code",
   "execution_count": 9,
   "metadata": {},
   "outputs": [
    {
     "name": "stdout",
     "output_type": "stream",
     "text": [
      "<class 'numpy.ndarray'>\n"
     ]
    },
    {
     "data": {
      "image/png": "[encoded data removed]",
      "text/plain": [
       "<Figure size 720x576 with 1 Axes>"
      ]
     },
     "metadata": {
      "needs_background": "light"
     },
     "output_type": "display_data"
    }
   ],
   "source": [
    "#Using NumPy to import flat files\n",
    "\n",
    "import matplotlib.pyplot as plt\n",
    "plt.figure(figsize=(10,8)) #Para cambiar el tamaño de la grafica\n",
    "\n",
    "#In this exercise, you're now going to load the MNIST digit recognition dataset using the numpy function loadtxt() and see just\n",
    "#how easy it can be:\n",
    "\n",
    "#- The first argument will be the filename.\n",
    "#- The second will be the delimiter which, in this case, is a comma.\n",
    "\n",
    "#You can find more information about the MNIST dataset here on the webpage of Yann LeCun, who is currently Director of AI\n",
    "#Research at Facebook and Founding Director of the NYU Center for Data Science, among many other things.\n",
    "\n",
    "# Import package\n",
    "import numpy as np\n",
    "\n",
    "# Assign filename to variable: file\n",
    "file = 'datasets/digits.csv'\n",
    "\n",
    "# Load file as array: digits\n",
    "digits = np.loadtxt(file, delimiter=',')\n",
    "\n",
    "# Print datatype of digits\n",
    "print(type(digits))\n",
    "\n",
    "# Select and reshape a row\n",
    "im = digits[21, 1:]\n",
    "im_sq = np.reshape(im, (28, 28))\n",
    "\n",
    "# Plot reshaped data (matplotlib.pyplot already loaded as plt)\n",
    "plt.imshow(im_sq, cmap='Greys', interpolation='nearest')\n",
    "plt.show()"
   ]
  },
  {
   "cell_type": "code",
   "execution_count": 10,
   "metadata": {},
   "outputs": [
    {
     "name": "stdout",
     "output_type": "stream",
     "text": [
      "[[1. 0.]\n",
      " [0. 0.]\n",
      " [1. 0.]\n",
      " [4. 0.]\n",
      " [0. 0.]\n",
      " [0. 0.]\n",
      " [7. 0.]\n",
      " [3. 0.]\n",
      " [5. 0.]\n",
      " [3. 0.]\n",
      " [8. 0.]\n",
      " [9. 0.]\n",
      " [1. 0.]\n",
      " [3. 0.]\n",
      " [3. 0.]\n",
      " [1. 0.]\n",
      " [2. 0.]\n",
      " [0. 0.]\n",
      " [7. 0.]\n",
      " [5. 0.]\n",
      " [8. 0.]\n",
      " [6. 0.]\n",
      " [2. 0.]\n",
      " [0. 0.]\n",
      " [2. 0.]\n",
      " [3. 0.]\n",
      " [6. 0.]\n",
      " [9. 0.]\n",
      " [9. 0.]\n",
      " [7. 0.]\n",
      " [8. 0.]\n",
      " [9. 0.]\n",
      " [4. 0.]\n",
      " [9. 0.]\n",
      " [2. 0.]\n",
      " [1. 0.]\n",
      " [3. 0.]\n",
      " [1. 0.]\n",
      " [1. 0.]\n",
      " [4. 0.]\n",
      " [9. 0.]\n",
      " [1. 0.]\n",
      " [4. 0.]\n",
      " [4. 0.]\n",
      " [2. 0.]\n",
      " [6. 0.]\n",
      " [3. 0.]\n",
      " [7. 0.]\n",
      " [7. 0.]\n",
      " [4. 0.]\n",
      " [7. 0.]\n",
      " [5. 0.]\n",
      " [1. 0.]\n",
      " [9. 0.]\n",
      " [0. 0.]\n",
      " [2. 0.]\n",
      " [2. 0.]\n",
      " [3. 0.]\n",
      " [9. 0.]\n",
      " [1. 0.]\n",
      " [1. 0.]\n",
      " [1. 0.]\n",
      " [5. 0.]\n",
      " [0. 0.]\n",
      " [6. 0.]\n",
      " [3. 0.]\n",
      " [4. 0.]\n",
      " [8. 0.]\n",
      " [1. 0.]\n",
      " [0. 0.]\n",
      " [3. 0.]\n",
      " [9. 0.]\n",
      " [6. 0.]\n",
      " [2. 0.]\n",
      " [6. 0.]\n",
      " [4. 0.]\n",
      " [7. 0.]\n",
      " [1. 0.]\n",
      " [4. 0.]\n",
      " [1. 0.]\n",
      " [5. 0.]\n",
      " [4. 0.]\n",
      " [8. 0.]\n",
      " [9. 0.]\n",
      " [2. 0.]\n",
      " [9. 0.]\n",
      " [9. 0.]\n",
      " [8. 0.]\n",
      " [9. 0.]\n",
      " [6. 0.]\n",
      " [3. 0.]\n",
      " [6. 0.]\n",
      " [4. 0.]\n",
      " [6. 0.]\n",
      " [2. 0.]\n",
      " [9. 0.]\n",
      " [1. 0.]\n",
      " [2. 0.]\n",
      " [0. 0.]\n",
      " [5. 0.]]\n"
     ]
    }
   ],
   "source": [
    "#Customizing your NumPy import\n",
    "\n",
    "#What if there are rows, such as a header, that you don't want to import? What if your file has a delimiter other than a comma?\n",
    "#What if you only wish to import particular columns?\n",
    "\n",
    "#There are a number of arguments that np.loadtxt() takes that you'll find useful:\n",
    "\n",
    "#- delimiter changes the delimiter that loadtxt() is expecting.\n",
    "    #- You can use ',' for comma-delimited.\n",
    "    #- You can use '\\t' for tab-delimited.\n",
    "#- skiprows allows you to specify how many rows (not indices) you wish to skip\n",
    "#- usecols takes a list of the indices of the columns you wish to keep.\n",
    "\n",
    "#The file that you'll be importing, digits_header.txt, has a header and is tab-delimited.\n",
    "\n",
    "# Import numpy\n",
    "import numpy as np\n",
    "\n",
    "# Assign the filename: file\n",
    "file = 'datasets/digits_header.txt'\n",
    "\n",
    "# Load the data: data\n",
    "data = np.loadtxt(file, delimiter='\\t', skiprows=1, usecols=[0, 2])\n",
    "\n",
    "# Print data\n",
    "print(data)"
   ]
  },
  {
   "cell_type": "code",
   "execution_count": 11,
   "metadata": {},
   "outputs": [
    {
     "name": "stdout",
     "output_type": "stream",
     "text": [
      "['Time' 'Percent'] \n",
      "\n",
      "[0.    0.357] \n",
      "\n"
     ]
    },
    {
     "data": {
      "image/png": "[encoded data removed]",
      "text/plain": [
       "<Figure size 720x576 with 1 Axes>"
      ]
     },
     "metadata": {
      "needs_background": "light"
     },
     "output_type": "display_data"
    }
   ],
   "source": [
    "#Importing different datatypes\n",
    "\n",
    "import matplotlib.pyplot as plt\n",
    "plt.figure(figsize=(10,8))\n",
    "\n",
    "#The file seaslug.txt\n",
    "\n",
    "#- has a text header, consisting of strings\n",
    "#- is tab-delimited.\n",
    "\n",
    "#These data consists of percentage of sea slug larvae that had metamorphosed in a given time period. Read more here.\n",
    "\n",
    "#Due to the header, if you tried to import it as-is using np.loadtxt(), Python would throw you a ValueError and tell you that it\n",
    "#could not convert string to float. There are two ways to deal with this: firstly, you can set the data type argument dtype\n",
    "#equal to str (for string).\n",
    "\n",
    "#Alternatively, you can skip the first row as we have seen before, using the skiprows argument.\n",
    "\n",
    "# Assign filename: file\n",
    "file = 'datasets/seaslug.txt'\n",
    "\n",
    "# Import file: data\n",
    "data = np.loadtxt(file, delimiter='\\t', dtype=str)\n",
    "\n",
    "# Print the first element of data\n",
    "print(data[0], '\\n')\n",
    "\n",
    "# Import data as floats and skip the first row: data_float\n",
    "data_float = np.loadtxt(file, delimiter='\\t', dtype=float, skiprows=1)\n",
    "\n",
    "# Print the 10th element of data_float\n",
    "print(data_float[9], '\\n')\n",
    "\n",
    "# Plot a scatterplot of the data\n",
    "plt.scatter(data_float[:, 0], data_float[:, 1])\n",
    "plt.xlabel('time (min.)')\n",
    "plt.ylabel('percentage of larvae')\n",
    "plt.show()"
   ]
  },
  {
   "cell_type": "code",
   "execution_count": 12,
   "metadata": {},
   "outputs": [
    {
     "name": "stderr",
     "output_type": "stream",
     "text": [
      "D:\\Users\\ASUS\\anaconda3\\lib\\site-packages\\ipykernel_launcher.py:10: VisibleDeprecationWarning: Reading unicode strings without specifying the encoding argument is deprecated. Set the encoding, use None for the system default.\n",
      "  # Remove the CWD from sys.path while we load stuff.\n"
     ]
    },
    {
     "data": {
      "text/plain": [
       "array([1, 0, 1, 0])"
      ]
     },
     "execution_count": 12,
     "metadata": {},
     "output_type": "execute_result"
    }
   ],
   "source": [
    "#Working with mixed datatypes (1)\n",
    "\n",
    "#Much of the time you will need to import datasets which have different datatypes in different columns; one column may contain\n",
    "#strings and another floats, for example. The function np.loadtxt() will freak at this. There is another function,\n",
    "#np.genfromtxt(), which can handle such structures. If we pass dtype=None to it, it will figure out what types each column\n",
    "#should be.\n",
    "\n",
    "#Import 'titanic.csv' using the function np.genfromtxt() as follows:\n",
    "\n",
    "data = np.genfromtxt('datasets/titanic_sub.csv', delimiter=',', names=True, dtype=None)\n",
    "\n",
    "#Here, the first argument is the filename, the second specifies the delimiter , and the third argument names tells us there is a\n",
    "#header. Because the data are of different types, data is an object called a structured array. Because numpy arrays have to\n",
    "#contain elements that are all the same type, the structured array solves this by being a 1D array, where each element of the\n",
    "#array is a row of the flat file imported. You can test this by checking out the array's shape in the shell by executing\n",
    "#np.shape(data).\n",
    "\n",
    "#Accessing rows and columns of structured arrays is super-intuitive: to get the ith row, merely execute data[i] and to get the\n",
    "#column with name 'Fare', execute data['Fare'].\n",
    "\n",
    "#After importing the Titanic data as a structured array (as per the instructions above), print the entire column with the name\n",
    "#Survived to the shell. What are the last 4 values of this column?\n",
    "\n",
    "data[-4:]['Survived']"
   ]
  },
  {
   "cell_type": "code",
   "execution_count": 13,
   "metadata": {},
   "outputs": [],
   "source": [
    "#Possible Answers\n",
    "\n",
    "#1,0,0,1.\n",
    "\n",
    "#1,2,0,0.\n",
    "\n",
    "#1,0,1,0.*\n",
    "\n",
    "#0,1,1,1."
   ]
  },
  {
   "cell_type": "code",
   "execution_count": 14,
   "metadata": {},
   "outputs": [
    {
     "name": "stdout",
     "output_type": "stream",
     "text": [
      "[(1, 0, 3, b'male', 22., 1, 0, b'A/5 21171',  7.25  , b'', b'S')\n",
      " (2, 1, 1, b'female', 38., 1, 0, b'PC 17599', 71.2833, b'C85', b'C')\n",
      " (3, 1, 3, b'female', 26., 0, 0, b'STON/O2. 3101282',  7.925 , b'', b'S')]\n"
     ]
    },
    {
     "name": "stderr",
     "output_type": "stream",
     "text": [
      "D:\\Users\\ASUS\\anaconda3\\lib\\site-packages\\numpy\\lib\\npyio.py:2372: VisibleDeprecationWarning: Reading unicode strings without specifying the encoding argument is deprecated. Set the encoding, use None for the system default.\n",
      "  output = genfromtxt(fname, **kwargs)\n"
     ]
    }
   ],
   "source": [
    "#Working with mixed datatypes (2)\n",
    "\n",
    "#You have just used np.genfromtxt() to import data containing mixed datatypes. There is also another function np.recfromcsv()\n",
    "#that behaves similarly to np.genfromtxt(), except that its default dtype is None. In this exercise, you'll practice using this\n",
    "#to achieve the same result.\n",
    "\n",
    "# Assign the filename: file\n",
    "file = 'datasets/titanic_sub.csv'\n",
    "\n",
    "# Import file using np.recfromcsv: d\n",
    "d = np.recfromcsv(file)\n",
    "\n",
    "# Print out first three entries of d\n",
    "print(d[:3])"
   ]
  },
  {
   "cell_type": "code",
   "execution_count": 15,
   "metadata": {},
   "outputs": [
    {
     "name": "stdout",
     "output_type": "stream",
     "text": [
      "   PassengerId  Survived  Pclass     Sex   Age  SibSp  Parch  \\\n",
      "0            1         0       3    male  22.0      1      0   \n",
      "1            2         1       1  female  38.0      1      0   \n",
      "2            3         1       3  female  26.0      0      0   \n",
      "3            4         1       1  female  35.0      1      0   \n",
      "4            5         0       3    male  35.0      0      0   \n",
      "\n",
      "             Ticket     Fare Cabin Embarked  \n",
      "0         A/5 21171   7.2500   NaN        S  \n",
      "1          PC 17599  71.2833   C85        C  \n",
      "2  STON/O2. 3101282   7.9250   NaN        S  \n",
      "3            113803  53.1000  C123        S  \n",
      "4            373450   8.0500   NaN        S  \n"
     ]
    }
   ],
   "source": [
    "#Using pandas to import flat files as DataFrames (1)\n",
    "\n",
    "#In the last exercise, you were able to import flat files containing columns with different datatypes as numpy arrays. However,\n",
    "#the DataFrame object in pandas is a more appropriate structure in which to store such data and, thankfully, we can easily\n",
    "#import files of mixed data types as DataFrames using the pandas functions read_csv() and read_table().\n",
    "\n",
    "# Import pandas as pd\n",
    "import pandas as pd\n",
    "\n",
    "# Assign the filename: file\n",
    "file = 'datasets/titanic_sub.csv'\n",
    "\n",
    "# Read the file into a DataFrame: df\n",
    "df = pd.read_csv(file)\n",
    "\n",
    "# View the head of the DataFrame\n",
    "print(df.head())"
   ]
  },
  {
   "cell_type": "code",
   "execution_count": 16,
   "metadata": {},
   "outputs": [
    {
     "name": "stdout",
     "output_type": "stream",
     "text": [
      "<class 'numpy.ndarray'>\n"
     ]
    }
   ],
   "source": [
    "#Using pandas to import flat files as DataFrames (2)\n",
    "\n",
    "#In the last exercise, you were able to import flat files into a pandas DataFrame. As a bonus, it is then straightforward to\n",
    "#retrieve the corresponding numpy array using the attribute values. You'll now have a chance to do this using the MNIST dataset,\n",
    "#which is available as digits.csv.\n",
    "\n",
    "# Assign the filename: file\n",
    "file = 'datasets/digits.csv'\n",
    "\n",
    "# Read the first 5 rows of the file into a DataFrame: data\n",
    "data = pd.read_csv(file, nrows=5, header=None)\n",
    "\n",
    "# Build a numpy array from the DataFrame: data_array\n",
    "data_array = np.array(data)\n",
    "\n",
    "# Print the datatype of data_array to the shell\n",
    "print(type(data_array))"
   ]
  },
  {
   "cell_type": "code",
   "execution_count": 17,
   "metadata": {},
   "outputs": [
    {
     "name": "stdout",
     "output_type": "stream",
     "text": [
      "   PassengerId  Survived  Pclass     Sex   Age  SibSp  Parch  \\\n",
      "0            1         0       3    male  22.0      1      0   \n",
      "1            2         1       1  female  38.0      1      0   \n",
      "2            3         1       3  female  26.0      0      0   \n",
      "3            4         1       1  female  35.0      1      0   \n",
      "4            5         0       3    male  35.0      0      0   \n",
      "\n",
      "             Ticket    Fare Cabin Embarked  \n",
      "0         A/5 21171   7.250   NaN       S   \n",
      "1          PC 17599     NaN   NaN      NaN  \n",
      "2  STON/O2. 3101282   7.925   NaN        S  \n",
      "3            113803  53.100  C123        S  \n",
      "4            373450   8.050   NaN        S   \n",
      "\n"
     ]
    },
    {
     "data": {
      "image/png": "[encoded data removed]",
      "text/plain": [
       "<Figure size 720x432 with 1 Axes>"
      ]
     },
     "metadata": {
      "needs_background": "light"
     },
     "output_type": "display_data"
    }
   ],
   "source": [
    "#Customizing your pandas import\n",
    "\n",
    "#The pandas package is also great at dealing with many of the issues you will encounter when importing data as a data scientist,\n",
    "#such as comments occurring in flat files, empty lines and missing values. Note that missing values are also commonly referred\n",
    "#to as NA or NaN. To wrap up this chapter, you're now going to import a slightly corrupted copy of the Titanic dataset\n",
    "#titanic_corrupt.txt, which\n",
    "\n",
    "#- contains comments after the character '#'\n",
    "#- is tab-delimited.\n",
    "\n",
    "# Import matplotlib.pyplot as plt\n",
    "import matplotlib.pyplot as plt\n",
    "\n",
    "# Assign filename: file\n",
    "file = 'datasets/titanic_corrupt.txt'\n",
    "\n",
    "# Import file: data\n",
    "data = pd.read_csv(file, sep='\\t', comment='#', na_values='Nothing')\n",
    "\n",
    "# Print the head of the DataFrame\n",
    "print(data.head(), '\\n')\n",
    "\n",
    "# Plot 'Age' variable in a histogram\n",
    "pd.DataFrame.hist(data[['Age']], figsize=(10,6))\n",
    "plt.xlabel('Age (years)')\n",
    "plt.ylabel('count')\n",
    "plt.show()"
   ]
  },
  {
   "cell_type": "code",
   "execution_count": null,
   "metadata": {},
   "outputs": [],
   "source": []
  }
 ],
 "metadata": {
  "kernelspec": {
   "display_name": "Python 3",
   "language": "python",
   "name": "python3"
  },
  "language_info": {
   "codemirror_mode": {
    "name": "ipython",
    "version": 3
   },
   "file_extension": ".py",
   "mimetype": "text/x-python",
   "name": "python",
   "nbconvert_exporter": "python",
   "pygments_lexer": "ipython3",
   "version": "3.7.6"
  }
 },
 "nbformat": 4,
 "nbformat_minor": 4
}
