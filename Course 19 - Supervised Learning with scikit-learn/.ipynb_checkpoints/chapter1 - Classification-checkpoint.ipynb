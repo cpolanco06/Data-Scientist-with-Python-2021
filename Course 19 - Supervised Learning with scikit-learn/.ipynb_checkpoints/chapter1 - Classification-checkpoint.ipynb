{
 "cells": [
  {
   "cell_type": "code",
   "execution_count": 1,
   "metadata": {},
   "outputs": [],
   "source": [
    "#Which of these is a classification problem?\n",
    "\n",
    "#Once you decide to leverage supervised machine learning to solve a new problem, you need to identify whether your problem\n",
    "#is better suited to classification or regression. This exercise will help you develop your intuition for distinguishing\n",
    "#between the two.\n",
    "\n",
    "#Provided below are 4 example applications of machine learning. Which of them is a supervised classification problem?\n",
    "\n",
    "#Possible Answers\n",
    "\n",
    "#Using labeled financial data to predict whether the value of a stock will go up or go down next week.*\n",
    "\n",
    "#Using labeled housing price data to predict the price of a new house based on various features.\n",
    "\n",
    "#Using unlabeled data to cluster the students of an online education company into different categories based on their\n",
    "#learning styles.\n",
    "\n",
    "#Using labeled financial data to predict what the value of a stock will be next week."
   ]
  },
  {
   "cell_type": "code",
   "execution_count": 2,
   "metadata": {},
   "outputs": [],
   "source": [
    "#NOTE: In this example, there are two discrete, qualitative outcomes: the stock market going up, and the stock market going\n",
    "#down. This can be represented using a binary variable, and is an application perfectly suited for classification."
   ]
  },
  {
   "cell_type": "code",
   "execution_count": 3,
   "metadata": {},
   "outputs": [
    {
     "name": "stdout",
     "output_type": "stream",
     "text": [
      "<class 'pandas.core.frame.DataFrame'>\n",
      "RangeIndex: 435 entries, 0 to 434\n",
      "Data columns (total 17 columns):\n",
      " #   Column             Non-Null Count  Dtype \n",
      "---  ------             --------------  ----- \n",
      " 0   party              435 non-null    object\n",
      " 1   infants            435 non-null    int64 \n",
      " 2   water              435 non-null    int64 \n",
      " 3   budget             435 non-null    int64 \n",
      " 4   physician          435 non-null    int64 \n",
      " 5   salvador           435 non-null    int64 \n",
      " 6   religious          435 non-null    int64 \n",
      " 7   satellite          435 non-null    int64 \n",
      " 8   aid                435 non-null    int64 \n",
      " 9   missile            435 non-null    int64 \n",
      " 10  immigration        435 non-null    int64 \n",
      " 11  synfuels           435 non-null    int64 \n",
      " 12  education          435 non-null    int64 \n",
      " 13  superfund          435 non-null    int64 \n",
      " 14  crime              435 non-null    int64 \n",
      " 15  duty_free_exports  435 non-null    int64 \n",
      " 16  eaa_rsa            435 non-null    int64 \n",
      "dtypes: int64(16), object(1)\n",
      "memory usage: 57.9+ KB\n"
     ]
    },
    {
     "data": {
      "text/html": [
       "<div>\n",
       "<style scoped>\n",
       "    .dataframe tbody tr th:only-of-type {\n",
       "        vertical-align: middle;\n",
       "    }\n",
       "\n",
       "    .dataframe tbody tr th {\n",
       "        vertical-align: top;\n",
       "    }\n",
       "\n",
       "    .dataframe thead th {\n",
       "        text-align: right;\n",
       "    }\n",
       "</style>\n",
       "<table border=\"1\" class=\"dataframe\">\n",
       "  <thead>\n",
       "    <tr style=\"text-align: right;\">\n",
       "      <th></th>\n",
       "      <th>party</th>\n",
       "      <th>infants</th>\n",
       "      <th>water</th>\n",
       "      <th>budget</th>\n",
       "      <th>physician</th>\n",
       "      <th>salvador</th>\n",
       "      <th>religious</th>\n",
       "      <th>satellite</th>\n",
       "      <th>aid</th>\n",
       "      <th>missile</th>\n",
       "      <th>immigration</th>\n",
       "      <th>synfuels</th>\n",
       "      <th>education</th>\n",
       "      <th>superfund</th>\n",
       "      <th>crime</th>\n",
       "      <th>duty_free_exports</th>\n",
       "      <th>eaa_rsa</th>\n",
       "    </tr>\n",
       "  </thead>\n",
       "  <tbody>\n",
       "    <tr>\n",
       "      <th>0</th>\n",
       "      <td>republican</td>\n",
       "      <td>0</td>\n",
       "      <td>1</td>\n",
       "      <td>0</td>\n",
       "      <td>1</td>\n",
       "      <td>1</td>\n",
       "      <td>1</td>\n",
       "      <td>0</td>\n",
       "      <td>0</td>\n",
       "      <td>0</td>\n",
       "      <td>1</td>\n",
       "      <td>0</td>\n",
       "      <td>1</td>\n",
       "      <td>1</td>\n",
       "      <td>1</td>\n",
       "      <td>0</td>\n",
       "      <td>1</td>\n",
       "    </tr>\n",
       "    <tr>\n",
       "      <th>1</th>\n",
       "      <td>republican</td>\n",
       "      <td>0</td>\n",
       "      <td>1</td>\n",
       "      <td>0</td>\n",
       "      <td>1</td>\n",
       "      <td>1</td>\n",
       "      <td>1</td>\n",
       "      <td>0</td>\n",
       "      <td>0</td>\n",
       "      <td>0</td>\n",
       "      <td>0</td>\n",
       "      <td>0</td>\n",
       "      <td>1</td>\n",
       "      <td>1</td>\n",
       "      <td>1</td>\n",
       "      <td>0</td>\n",
       "      <td>1</td>\n",
       "    </tr>\n",
       "    <tr>\n",
       "      <th>2</th>\n",
       "      <td>democrat</td>\n",
       "      <td>0</td>\n",
       "      <td>1</td>\n",
       "      <td>1</td>\n",
       "      <td>0</td>\n",
       "      <td>1</td>\n",
       "      <td>1</td>\n",
       "      <td>0</td>\n",
       "      <td>0</td>\n",
       "      <td>0</td>\n",
       "      <td>0</td>\n",
       "      <td>1</td>\n",
       "      <td>0</td>\n",
       "      <td>1</td>\n",
       "      <td>1</td>\n",
       "      <td>0</td>\n",
       "      <td>0</td>\n",
       "    </tr>\n",
       "    <tr>\n",
       "      <th>3</th>\n",
       "      <td>democrat</td>\n",
       "      <td>0</td>\n",
       "      <td>1</td>\n",
       "      <td>1</td>\n",
       "      <td>0</td>\n",
       "      <td>1</td>\n",
       "      <td>1</td>\n",
       "      <td>0</td>\n",
       "      <td>0</td>\n",
       "      <td>0</td>\n",
       "      <td>0</td>\n",
       "      <td>1</td>\n",
       "      <td>0</td>\n",
       "      <td>1</td>\n",
       "      <td>0</td>\n",
       "      <td>0</td>\n",
       "      <td>1</td>\n",
       "    </tr>\n",
       "    <tr>\n",
       "      <th>4</th>\n",
       "      <td>democrat</td>\n",
       "      <td>1</td>\n",
       "      <td>1</td>\n",
       "      <td>1</td>\n",
       "      <td>0</td>\n",
       "      <td>1</td>\n",
       "      <td>1</td>\n",
       "      <td>0</td>\n",
       "      <td>0</td>\n",
       "      <td>0</td>\n",
       "      <td>0</td>\n",
       "      <td>1</td>\n",
       "      <td>0</td>\n",
       "      <td>1</td>\n",
       "      <td>1</td>\n",
       "      <td>1</td>\n",
       "      <td>1</td>\n",
       "    </tr>\n",
       "  </tbody>\n",
       "</table>\n",
       "</div>"
      ],
      "text/plain": [
       "        party  infants  water  budget  physician  salvador  religious  \\\n",
       "0  republican        0      1       0          1         1          1   \n",
       "1  republican        0      1       0          1         1          1   \n",
       "2    democrat        0      1       1          0         1          1   \n",
       "3    democrat        0      1       1          0         1          1   \n",
       "4    democrat        1      1       1          0         1          1   \n",
       "\n",
       "   satellite  aid  missile  immigration  synfuels  education  superfund  \\\n",
       "0          0    0        0            1         0          1          1   \n",
       "1          0    0        0            0         0          1          1   \n",
       "2          0    0        0            0         1          0          1   \n",
       "3          0    0        0            0         1          0          1   \n",
       "4          0    0        0            0         1          0          1   \n",
       "\n",
       "   crime  duty_free_exports  eaa_rsa  \n",
       "0      1                  0        1  \n",
       "1      1                  0        1  \n",
       "2      1                  0        0  \n",
       "3      0                  0        1  \n",
       "4      1                  1        1  "
      ]
     },
     "execution_count": 3,
     "metadata": {},
     "output_type": "execute_result"
    }
   ],
   "source": [
    "#Numerical EDA\n",
    "\n",
    "import pandas as pd\n",
    "df = pd.read_csv('datasets/votes_us_house_representatives_congressmen.csv')\n",
    "\n",
    "#In this chapter, you'll be working with a dataset obtained from the UCI Machine Learning Repository consisting of votes\n",
    "#made by US House of Representatives Congressmen. Your goal will be to predict their party affiliation ('Democrat' or\n",
    "#'Republican') based on how they voted on certain key issues. Here, it's worth noting that we have preprocessed this\n",
    "#dataset to deal with missing values. This is so that your focus can be directed towards understanding how to train and\n",
    "#evaluate supervised learning models. Once you have mastered these fundamentals, you will be introduced to preprocessing\n",
    "#techniques in Chapter 4 and have the chance to apply them there yourself - including on this very same dataset!\n",
    "\n",
    "#Before thinking about what supervised learning models you can apply to this, however, you need to perform Exploratory data\n",
    "#analysis (EDA) in order to understand the structure of the data. For a refresher on the importance of EDA, check out the\n",
    "#first two chapters of Statistical Thinking in Python (Part 1).\n",
    "\n",
    "#Get started with your EDA now by exploring this voting records dataset numerically. It has been pre-loaded for you into a\n",
    "#DataFrame called df. Use pandas' .head(), .info(), and .describe() methods in the IPython Shell to explore the DataFrame,\n",
    "#and select the statement below that is not true.\n",
    "\n",
    "df.info()\n",
    "df.head()"
   ]
  },
  {
   "cell_type": "code",
   "execution_count": 4,
   "metadata": {},
   "outputs": [],
   "source": [
    "#Possible Answers\n",
    "\n",
    "#The DataFrame has a total of 435 rows and 17 columns.\n",
    "\n",
    "#Except for 'party', all of the columns are of type int64.\n",
    "\n",
    "#The first two rows of the DataFrame consist of votes made by Republicans and the next three rows consist of votes made by\n",
    "#Democrats.\n",
    "\n",
    "#There are 17 predictor variables, or features, in this DataFrame.*\n",
    "\n",
    "#The target variable in this DataFrame is 'party'."
   ]
  },
  {
   "cell_type": "code",
   "execution_count": 5,
   "metadata": {},
   "outputs": [],
   "source": [
    "#NOTE: The number of columns in the DataFrame is not equal to the number of features. One of the columns - 'party' is the\n",
    "#target variable."
   ]
  },
  {
   "cell_type": "code",
   "execution_count": 6,
   "metadata": {},
   "outputs": [
    {
     "data": {
      "image/png": "[encoded data removed]",
      "text/plain": [
       "<Figure size 576x576 with 1 Axes>"
      ]
     },
     "metadata": {
      "needs_background": "light"
     },
     "output_type": "display_data"
    }
   ],
   "source": [
    "#Visual EDA\n",
    "\n",
    "import matplotlib.pyplot as plt\n",
    "import seaborn as sns\n",
    "\n",
    "#The Numerical EDA you did in the previous exercise gave you some very important information, such as the names and data\n",
    "#types of the columns, and the dimensions of the DataFrame. Following this with some visual EDA will give you an even\n",
    "#better understanding of the data. In the video, Hugo used the scatter_matrix() function on the Iris data for this purpose.\n",
    "#However, you may have noticed in the previous exercise that all the features in this dataset are binary; that is, they are\n",
    "#either 0 or 1. So a different type of plot would be more useful here, such as Seaborn's countplot.\n",
    "\n",
    "#Given on the right is a countplot of the 'education' bill, generated from the following code:\n",
    "\n",
    "#plt.figure()\n",
    "plt.figure(figsize=(8,8))\n",
    "sns.countplot(x='education', hue='party', data=df, palette='RdBu')\n",
    "plt.xticks([0,1], ['No', 'Yes'])\n",
    "plt.show()\n",
    "\n",
    "#In sns.countplot(), we specify the x-axis data to be 'education', and hue to be 'party'. Recall that 'party' is also our\n",
    "#target variable. So the resulting plot shows the difference in voting behavior between the two parties for the 'education'\n",
    "#bill, with each party colored differently. We manually specified the color to be 'RdBu', as the Republican party has been\n",
    "#traditionally associated with red, and the Democratic party with blue.\n",
    "\n",
    "#It seems like Democrats voted resoundingly against this bill, compared to Republicans. This is the kind of information\n",
    "#that our machine learning model will seek to learn when we try to predict party affiliation solely based on voting\n",
    "#behavior. An expert in U.S politics may be able to predict this without machine learning, but probably not instantaneously\n",
    "#- and certainly not if we are dealing with hundreds of samples!\n",
    "\n",
    "#In the IPython Shell, explore the voting behavior further by generating countplots for the 'satellite' and 'missile'\n",
    "#bills, and answer the following question: Of these two bills, for which ones do Democrats vote resoundingly in favor of,\n",
    "#compared to Republicans? Be sure to begin your plotting statements for each figure with plt.figure() so that a new figure\n",
    "#will be set up. Otherwise, your plots will be overlaid onto the same figure."
   ]
  },
  {
   "cell_type": "code",
   "execution_count": 7,
   "metadata": {},
   "outputs": [
    {
     "data": {
      "image/png": "[encoded data removed]",
      "text/plain": [
       "<Figure size 576x576 with 1 Axes>"
      ]
     },
     "metadata": {
      "needs_background": "light"
     },
     "output_type": "display_data"
    }
   ],
   "source": [
    "plt.figure(figsize=(8,8))\n",
    "sns.countplot(x='satellite', hue='party', data=df, palette='RdBu')\n",
    "plt.xticks([0,1], ['No', 'Yes'])\n",
    "plt.show()"
   ]
  },
  {
   "cell_type": "code",
   "execution_count": 8,
   "metadata": {},
   "outputs": [
    {
     "data": {
      "image/png": "[encoded data removed]",
      "text/plain": [
       "<Figure size 576x576 with 1 Axes>"
      ]
     },
     "metadata": {
      "needs_background": "light"
     },
     "output_type": "display_data"
    }
   ],
   "source": [
    "plt.figure(figsize=(8,8))\n",
    "sns.countplot(x='missile', hue='party', data=df, palette='RdBu')\n",
    "plt.xticks([0,1], ['No', 'Yes'])\n",
    "plt.show()"
   ]
  },
  {
   "cell_type": "code",
   "execution_count": 9,
   "metadata": {},
   "outputs": [],
   "source": [
    "#Possible Answers\n",
    "\n",
    "#'satellite'.\n",
    "\n",
    "#'missile'.\n",
    "\n",
    "#Both 'satellite' and 'missile'.*\n",
    "\n",
    "#Neither 'satellite' nor 'missile'."
   ]
  },
  {
   "cell_type": "code",
   "execution_count": 10,
   "metadata": {},
   "outputs": [
    {
     "data": {
      "text/plain": [
       "KNeighborsClassifier(n_neighbors=6)"
      ]
     },
     "execution_count": 10,
     "metadata": {},
     "output_type": "execute_result"
    }
   ],
   "source": [
    "#k-Nearest Neighbors: Fit\n",
    "\n",
    "#Having explored the Congressional voting records dataset, it is time now to build your first classifier. In this exercise,\n",
    "#you will fit a k-Nearest Neighbors classifier to the voting dataset, which has once again been pre-loaded for you into a\n",
    "#DataFrame df.\n",
    "\n",
    "#In the video, Hugo discussed the importance of ensuring your data adheres to the format required by the scikit-learn API.\n",
    "#The features need to be in an array where each column is a feature and each row a different observation or data point - in\n",
    "#this case, a Congressman's voting record. The target needs to be a single column with the same number of observations as\n",
    "#the feature data. We have done this for you in this exercise. Notice we named the feature array X and response variable y:\n",
    "#This is in accordance with the common scikit-learn practice.\n",
    "\n",
    "#Your job is to create an instance of a k-NN classifier with 6 neighbors (by specifying the n_neighbors parameter) and then\n",
    "#fit it to the data. The data has been pre-loaded into a DataFrame called df.\n",
    "\n",
    "# Import KNeighborsClassifier from sklearn.neighbors\n",
    "from sklearn.neighbors import KNeighborsClassifier\n",
    "\n",
    "# Create arrays for the features and the response variable\n",
    "y = df['party'].values\n",
    "X = df.drop('party', axis=1).values\n",
    "\n",
    "# Create a k-NN classifier with 6 neighbors\n",
    "knn = KNeighborsClassifier(n_neighbors=6)\n",
    "\n",
    "# Fit the classifier to the data\n",
    "knn.fit(X, y)"
   ]
  },
  {
   "cell_type": "code",
   "execution_count": 11,
   "metadata": {},
   "outputs": [],
   "source": [
    "#NOTE: Now that your k-NN classifier with 6 neighbors has been fit to the data, it can be used to predict the labels of new\n",
    "#data points."
   ]
  },
  {
   "cell_type": "code",
   "execution_count": 12,
   "metadata": {},
   "outputs": [
    {
     "name": "stdout",
     "output_type": "stream",
     "text": [
      "Prediction: ['democrat']\n"
     ]
    }
   ],
   "source": [
    "#k-Nearest Neighbors: Predict\n",
    "\n",
    "new_x = [[0.696469,  0.286139,  0.226851,  0.551315,  0.719469,  0.423106,  0.980764,\n",
    "           0.68483,  0.480932,  0.392118,  0.343178,   0.72905,  0.438572,  0.059678,\n",
    "          0.398044,  0.737995]]\n",
    "X_new = pd.DataFrame(new_x, columns=[0,1,2,3,4,5,6,7,8,9,10,11,12,13,14,15])\n",
    "\n",
    "#Having fit a k-NN classifier, you can now use it to predict the label of a new data point. However, there is no unlabeled\n",
    "#data available since all of it was used to fit the model! You can still use the .predict() method on the X that was used\n",
    "#to fit the model, but it is not a good indicator of the model's ability to generalize to new, unseen data.\n",
    "\n",
    "#In the next video, Hugo will discuss a solution to this problem. For now, a random unlabeled data point has been generated\n",
    "#and is available to you as X_new. You will use your classifier to predict the label for this new data point, as well as on\n",
    "#the training data X that the model has already seen. Using .predict() on X_new will generate 1 prediction, while using it\n",
    "#on X will generate 435 predictions: 1 for each sample.\n",
    "\n",
    "#The DataFrame has been pre-loaded as df. This time, you will create the feature array X and target variable array y\n",
    "#yourself.\n",
    "\n",
    "# Import KNeighborsClassifier from sklearn.neighbors\n",
    "from sklearn.neighbors import KNeighborsClassifier \n",
    "\n",
    "# Create arrays for the features and the response variable\n",
    "y = df['party'].values\n",
    "X = df.drop('party', axis=1).values\n",
    "\n",
    "# Create a k-NN classifier with 6 neighbors: knn\n",
    "knn = KNeighborsClassifier(n_neighbors=6)\n",
    "\n",
    "# Fit the classifier to the data\n",
    "knn.fit(X, y)\n",
    "\n",
    "# Predict the labels for the training data X\n",
    "y_pred = knn.predict(X)\n",
    "\n",
    "# Predict and print the label for the new data point X_new\n",
    "new_prediction = knn.predict(X_new)\n",
    "print(\"Prediction: {}\".format(new_prediction))"
   ]
  },
  {
   "cell_type": "code",
   "execution_count": 13,
   "metadata": {},
   "outputs": [],
   "source": [
    "#NOTE: ¿Tu modelo predijo 'democrat'o 'republican'? ¿Qué tan seguro puede estar de sus predicciones? En otras palabras,\n",
    "#¿cómo se puede medir su desempeño?"
   ]
  },
  {
   "cell_type": "code",
   "execution_count": 14,
   "metadata": {},
   "outputs": [
    {
     "name": "stdout",
     "output_type": "stream",
     "text": [
      "dict_keys(['data', 'target', 'frame', 'feature_names', 'target_names', 'images', 'DESCR'])\n",
      ".. _digits_dataset:\n",
      "\n",
      "Optical recognition of handwritten digits dataset\n",
      "--------------------------------------------------\n",
      "\n",
      "**Data Set Characteristics:**\n",
      "\n",
      "    :Number of Instances: 1797\n",
      "    :Number of Attributes: 64\n",
      "    :Attribute Information: 8x8 image of integer pixels in the range 0..16.\n",
      "    :Missing Attribute Values: None\n",
      "    :Creator: E. Alpaydin (alpaydin '@' boun.edu.tr)\n",
      "    :Date: July; 1998\n",
      "\n",
      "This is a copy of the test set of the UCI ML hand-written digits datasets\n",
      "https://archive.ics.uci.edu/ml/datasets/Optical+Recognition+of+Handwritten+Digits\n",
      "\n",
      "The data set contains images of hand-written digits: 10 classes where\n",
      "each class refers to a digit.\n",
      "\n",
      "Preprocessing programs made available by NIST were used to extract\n",
      "normalized bitmaps of handwritten digits from a preprinted form. From a\n",
      "total of 43 people, 30 contributed to the training set and different 13\n",
      "to the test set. 32x32 bitmaps are divided into nonoverlapping blocks of\n",
      "4x4 and the number of on pixels are counted in each block. This generates\n",
      "an input matrix of 8x8 where each element is an integer in the range\n",
      "0..16. This reduces dimensionality and gives invariance to small\n",
      "distortions.\n",
      "\n",
      "For info on NIST preprocessing routines, see M. D. Garris, J. L. Blue, G.\n",
      "T. Candela, D. L. Dimmick, J. Geist, P. J. Grother, S. A. Janet, and C.\n",
      "L. Wilson, NIST Form-Based Handprint Recognition System, NISTIR 5469,\n",
      "1994.\n",
      "\n",
      ".. topic:: References\n",
      "\n",
      "  - C. Kaynak (1995) Methods of Combining Multiple Classifiers and Their\n",
      "    Applications to Handwritten Digit Recognition, MSc Thesis, Institute of\n",
      "    Graduate Studies in Science and Engineering, Bogazici University.\n",
      "  - E. Alpaydin, C. Kaynak (1998) Cascading Classifiers, Kybernetika.\n",
      "  - Ken Tang and Ponnuthurai N. Suganthan and Xi Yao and A. Kai Qin.\n",
      "    Linear dimensionalityreduction using relevance weighted LDA. School of\n",
      "    Electrical and Electronic Engineering Nanyang Technological University.\n",
      "    2005.\n",
      "  - Claudio Gentile. A New Approximate Maximal Margin Classification\n",
      "    Algorithm. NIPS. 2000.\n",
      "\n",
      "(1797, 8, 8)\n",
      "(1797, 64)\n"
     ]
    },
    {
     "data": {
      "image/png": "[encoded data removed]",
      "text/plain": [
       "<Figure size 432x288 with 1 Axes>"
      ]
     },
     "metadata": {
      "needs_background": "light"
     },
     "output_type": "display_data"
    }
   ],
   "source": [
    "#The digits recognition dataset\n",
    "\n",
    "#Up until now, you have been performing binary classification, since the target variable had two possible outcomes. Hugo,\n",
    "#however, got to perform multi-class classification in the videos, where the target variable could take on three possible\n",
    "#outcomes. Why does he get to have all the fun?! In the following exercises, you'll be working with the MNIST digits\n",
    "#recognition dataset, which has 10 classes, the digits 0 through 9! A reduced version of the MNIST dataset is one of\n",
    "#scikit-learn's included datasets, and that is the one we will use in this exercise.\n",
    "\n",
    "#Each sample in this scikit-learn dataset is an 8x8 image representing a handwritten digit. Each pixel is represented by an\n",
    "#integer in the range 0 to 16, indicating varying levels of black. Recall that scikit-learn's built-in datasets are of type\n",
    "#Bunch, which are dictionary-like objects. Helpfully for the MNIST dataset, scikit-learn provides an 'images' key in\n",
    "#addition to the 'data' and 'target' keys that you have seen with the Iris data. Because it is a 2D array of the images\n",
    "#corresponding to each sample, this 'images' key is useful for visualizing the images, as you'll see in this exercise (for\n",
    "#more on plotting 2D arrays, see Chapter 2 of DataCamp's course on Data Visualization with Python). On the other hand, the\n",
    "#'data' key contains the feature array - that is, the images as a flattened array of 64 pixels.\n",
    "\n",
    "#Notice that you can access the keys of these Bunch objects in two different ways: By using the . notation, as in\n",
    "#digits.images, or the [] notation, as in digits['images'].\n",
    "\n",
    "#For more on the MNIST data, check out this exercise in Part 1 of DataCamp's Importing Data in Python course. There, the\n",
    "#full version of the MNIST dataset is used, in which the images are 28x28. It is a famous dataset in machine learning and\n",
    "#computer vision, and frequently used as a benchmark to evaluate the performance of a new model.\n",
    "\n",
    "# Import necessary modules\n",
    "from sklearn import datasets\n",
    "import matplotlib.pyplot as plt\n",
    "\n",
    "# Load the digits dataset: digits\n",
    "digits = datasets.load_digits()\n",
    "\n",
    "# Print the keys and DESCR of the dataset\n",
    "print(digits.keys())\n",
    "print(digits.DESCR)\n",
    "\n",
    "# Print the shape of the images and data keys\n",
    "print(digits.images.shape)\n",
    "print(digits.data.shape)\n",
    "\n",
    "# Display digit 1010\n",
    "plt.imshow(digits.images[1010], cmap=plt.cm.gray_r, interpolation='nearest')\n",
    "plt.show()"
   ]
  },
  {
   "cell_type": "code",
   "execution_count": 15,
   "metadata": {},
   "outputs": [
    {
     "name": "stdout",
     "output_type": "stream",
     "text": [
      "0.9833333333333333\n"
     ]
    }
   ],
   "source": [
    "#Train/Test Split + Fit/Predict/Accuracy\n",
    "\n",
    "#Now that you have learned about the importance of splitting your data into training and test sets, it's time to practice\n",
    "#doing this on the digits dataset! After creating arrays for the features and target variable, you will split them into\n",
    "#training and test sets, fit a k-NN classifier to the training data, and then compute its accuracy using the .score()\n",
    "#method.\n",
    "\n",
    "# Import necessary modules\n",
    "from sklearn.neighbors import KNeighborsClassifier\n",
    "from sklearn.model_selection import train_test_split\n",
    "\n",
    "# Create feature and target arrays\n",
    "X = digits.data\n",
    "y = digits.target\n",
    "\n",
    "# Split into training and test set\n",
    "X_train, X_test, y_train, y_test = train_test_split(X, y, test_size = 0.2, random_state=42, stratify=y)\n",
    "\n",
    "# Create a k-NN classifier with 7 neighbors: knn\n",
    "knn = KNeighborsClassifier(n_neighbors=7)\n",
    "\n",
    "# Fit the classifier to the training data\n",
    "knn.fit(X_train, y_train)\n",
    "\n",
    "# Print the accuracy\n",
    "print(knn.score(X_test, y_test))"
   ]
  },
  {
   "cell_type": "code",
   "execution_count": 16,
   "metadata": {},
   "outputs": [
    {
     "data": {
      "image/png": "[encoded data removed]",
      "text/plain": [
       "<Figure size 720x432 with 1 Axes>"
      ]
     },
     "metadata": {
      "needs_background": "light"
     },
     "output_type": "display_data"
    }
   ],
   "source": [
    "#Overfitting and underfitting\n",
    "\n",
    "from sklearn.neighbors import KNeighborsClassifier\n",
    "from sklearn.model_selection import train_test_split\n",
    "from sklearn.preprocessing import StandardScaler\n",
    "import numpy as np\n",
    "scaler = StandardScaler()\n",
    "scaler.fit(digits.data)\n",
    "X = scaler.transform(digits.data)\n",
    "#X = digits.data\n",
    "y = digits.target\n",
    "X_train, X_test, y_train, y_test = train_test_split(X, y, test_size = 0.2, random_state=42, stratify=y)\n",
    "plt.figure(figsize=(10,6))\n",
    "\n",
    "#Remember the model complexity curve that Hugo showed in the video? You will now construct such a curve for the digits\n",
    "#dataset! In this exercise, you will compute and plot the training and testing accuracy scores for a variety of different\n",
    "#neighbor values. By observing how the accuracy scores differ for the training and testing sets with different values of k,\n",
    "#you will develop your intuition for overfitting and underfitting.\n",
    "\n",
    "#The training and testing sets are available to you in the workspace as X_train, X_test, y_train, y_test. In addition,\n",
    "#KNeighborsClassifier has been imported from sklearn.neighbors.\n",
    "\n",
    "# Setup arrays to store train and test accuracies\n",
    "neighbors = np.arange(1, 9)\n",
    "train_accuracy = np.empty(len(neighbors))\n",
    "test_accuracy = np.empty(len(neighbors))\n",
    "\n",
    "# Loop over different values of k\n",
    "for i, k in enumerate(neighbors):\n",
    "    # Setup a k-NN Classifier with k neighbors: knn\n",
    "    knn = KNeighborsClassifier(n_neighbors=k)\n",
    "\n",
    "    # Fit the classifier to the training data\n",
    "    knn.fit(X_train, y_train)\n",
    "    \n",
    "    #Compute accuracy on the training set\n",
    "    train_accuracy[i] = knn.score(X_train, y_train)\n",
    "\n",
    "    #Compute accuracy on the testing set\n",
    "    test_accuracy[i] = knn.score(X_test, y_test)\n",
    "\n",
    "# Generate plot\n",
    "plt.title('k-NN: Varying Number of Neighbors')\n",
    "plt.plot(neighbors, test_accuracy, label = 'Testing Accuracy')\n",
    "plt.plot(neighbors, train_accuracy, label = 'Training Accuracy')\n",
    "plt.legend()\n",
    "plt.xlabel('Number of Neighbors')\n",
    "plt.ylabel('Accuracy')\n",
    "plt.show()"
   ]
  },
  {
   "cell_type": "code",
   "execution_count": 17,
   "metadata": {},
   "outputs": [],
   "source": [
    "#NOTE: It looks like the test accuracy is highest when using 3 and 5 neighbors. Using 8 neighbors or more seems to result\n",
    "#in a simple model that underfits the data."
   ]
  },
  {
   "cell_type": "code",
   "execution_count": null,
   "metadata": {},
   "outputs": [],
   "source": []
  }
 ],
 "metadata": {
  "kernelspec": {
   "display_name": "Python 3",
   "language": "python",
   "name": "python3"
  },
  "language_info": {
   "codemirror_mode": {
    "name": "ipython",
    "version": 3
   },
   "file_extension": ".py",
   "mimetype": "text/x-python",
   "name": "python",
   "nbconvert_exporter": "python",
   "pygments_lexer": "ipython3",
   "version": "3.7.6"
  }
 },
 "nbformat": 4,
 "nbformat_minor": 4
}
