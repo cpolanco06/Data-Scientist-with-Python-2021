{
 "cells": [
  {
   "cell_type": "code",
   "execution_count": 1,
   "metadata": {},
   "outputs": [
    {
     "name": "stdout",
     "output_type": "stream",
     "text": [
      "[[176  30]\n",
      " [ 52  50]] \n",
      "\n",
      "              precision    recall  f1-score   support\n",
      "\n",
      "           0       0.77      0.85      0.81       206\n",
      "           1       0.62      0.49      0.55       102\n",
      "\n",
      "    accuracy                           0.73       308\n",
      "   macro avg       0.70      0.67      0.68       308\n",
      "weighted avg       0.72      0.73      0.72       308\n",
      "\n"
     ]
    }
   ],
   "source": [
    "#Metrics for classification\n",
    "\n",
    "import pandas as pd\n",
    "df = pd.read_csv('datasets/pima_indians_diabetes.csv')\n",
    "X = df.drop('diabetes', axis=1)\n",
    "y = df['diabetes']\n",
    "from sklearn.model_selection import train_test_split\n",
    "from sklearn.neighbors import KNeighborsClassifier\n",
    "\n",
    "#In Chapter 1, you evaluated the performance of your k-NN classifier based on its accuracy. However, as Andy discussed,\n",
    "#accuracy is not always an informative metric. In this exercise, you will dive more deeply into evaluating the performance\n",
    "#of binary classifiers by computing a confusion matrix and generating a classification report.\n",
    "\n",
    "#You may have noticed in the video that the classification report consisted of three rows, and an additional support\n",
    "#column. The support gives the number of samples of the true response that lie in that class - so in the video example, the\n",
    "#support was the number of Republicans or Democrats in the test set on which the classification report was computed. The\n",
    "#precision, recall, and f1-score columns, then, gave the respective metrics for that particular class.\n",
    "\n",
    "#Here, you'll work with the PIMA Indians dataset obtained from the UCI Machine Learning Repository. The goal is to predict\n",
    "#whether or not a given female patient will contract diabetes based on features such as BMI, age, and number of\n",
    "#pregnancies. Therefore, it is a binary classification problem. A target value of 0 indicates that the patient does not\n",
    "#have diabetes, while a value of 1 indicates that the patient does have diabetes. As in Chapters 1 and 2, the dataset has\n",
    "#been preprocessed to deal with missing values.\n",
    "\n",
    "#The dataset has been loaded into a DataFrame df and the feature and target variable arrays X and y have been created for\n",
    "#you. In addition, sklearn.model_selection.train_test_split and sklearn.neighbors.KNeighborsClassifier have already been\n",
    "#imported.\n",
    "\n",
    "#Your job is to train a k-NN classifier to the data and evaluate its performance by generating a confusion matrix and\n",
    "#classification report.\n",
    "\n",
    "# Import necessary modules\n",
    "from sklearn.metrics import classification_report\n",
    "from sklearn.metrics import confusion_matrix\n",
    "\n",
    "# Create training and test set\n",
    "X_train, X_test, y_train, y_test = train_test_split(X, y, test_size=0.4, random_state=42)\n",
    "\n",
    "# Instantiate a k-NN classifier: knn\n",
    "knn = KNeighborsClassifier(n_neighbors=6)\n",
    "\n",
    "# Fit the classifier to the training data\n",
    "knn.fit(X_train, y_train)\n",
    "\n",
    "# Predict the labels of the test data: y_pred\n",
    "y_pred = knn.predict(X_test)\n",
    "\n",
    "# Generate the confusion matrix and classification report\n",
    "print(confusion_matrix(y_test, y_pred), '\\n')\n",
    "print(classification_report(y_test, y_pred))"
   ]
  },
  {
   "cell_type": "code",
   "execution_count": 2,
   "metadata": {},
   "outputs": [],
   "source": [
    "#NOTE: By analyzing the confusion matrix and classification report, you can get a much better understanding of your\n",
    "#classifier's performance."
   ]
  },
  {
   "cell_type": "code",
   "execution_count": 3,
   "metadata": {},
   "outputs": [
    {
     "name": "stdout",
     "output_type": "stream",
     "text": [
      "[[176  30]\n",
      " [ 35  67]] \n",
      "\n",
      "              precision    recall  f1-score   support\n",
      "\n",
      "           0       0.83      0.85      0.84       206\n",
      "           1       0.69      0.66      0.67       102\n",
      "\n",
      "    accuracy                           0.79       308\n",
      "   macro avg       0.76      0.76      0.76       308\n",
      "weighted avg       0.79      0.79      0.79       308\n",
      "\n"
     ]
    }
   ],
   "source": [
    "#Building a logistic regression model\n",
    "\n",
    "#Time to build your first logistic regression model! As Hugo showed in the video, scikit-learn makes it very easy to try\n",
    "#different models, since the Train-Test-Split/Instantiate/Fit/Predict paradigm applies to all classifiers and regressors -\n",
    "#which are known in scikit-learn as 'estimators'. You'll see this now for yourself as you train a logistic regression model\n",
    "#on exactly the same data as in the previous exercise. Will it outperform k-NN? There's only one way to find out!\n",
    "\n",
    "#The feature and target variable arrays X and y have been pre-loaded, and train_test_split has been imported for you from\n",
    "#sklearn.model_selection.\n",
    "\n",
    " # Import the necessary modules\n",
    "from sklearn.linear_model import LogisticRegression\n",
    "from sklearn.metrics import confusion_matrix, classification_report\n",
    "\n",
    "# Create training and test sets\n",
    "X_train, X_test, y_train, y_test = train_test_split(X, y, test_size=0.4, random_state=42)\n",
    "\n",
    "# Create the classifier: logreg\n",
    "#logreg = LogisticRegression() #ConvergenceWarning\n",
    "logreg = LogisticRegression(solver='liblinear')\n",
    "\n",
    "# Fit the classifier to the training data\n",
    "logreg.fit(X_train, y_train)\n",
    "\n",
    "# Predict the labels of the test set: y_pred\n",
    "y_pred = logreg.predict(X_test)\n",
    "\n",
    "# Compute and print the confusion matrix and classification report\n",
    "print(confusion_matrix(y_test, y_pred), '\\n')\n",
    "print(classification_report(y_test, y_pred))"
   ]
  },
  {
   "cell_type": "code",
   "execution_count": 4,
   "metadata": {},
   "outputs": [
    {
     "data": {
      "image/png": "[encoded data removed]",
      "text/plain": [
       "<Figure size 720x432 with 1 Axes>"
      ]
     },
     "metadata": {
      "needs_background": "light"
     },
     "output_type": "display_data"
    }
   ],
   "source": [
    "#Plotting an ROC curve\n",
    "\n",
    "import matplotlib.pyplot as plt\n",
    "plt.figure(figsize=(10,6))\n",
    "\n",
    "#Great job in the previous exercise - you now have a new addition to your toolbox of classifiers!\n",
    "\n",
    "#Classification reports and confusion matrices are great methods to quantitatively evaluate model performance, while ROC\n",
    "#curves provide a way to visually evaluate models. As Hugo demonstrated in the video, most classifiers in scikit-learn have\n",
    "#a .predict_proba() method which returns the probability of a given sample being in a particular class. Having built a\n",
    "#logistic regression model, you'll now evaluate its performance by plotting an ROC curve. In doing so, you'll make use of\n",
    "#the .predict_proba() method and become familiar with its functionality.\n",
    "\n",
    "#Here, you'll continue working with the PIMA Indians diabetes dataset. The classifier has already been fit to the training\n",
    "#data and is available as logreg.\n",
    "\n",
    "# Import necessary modules\n",
    "from sklearn.metrics import roc_curve\n",
    "\n",
    "# Compute predicted probabilities: y_pred_prob\n",
    "y_pred_prob = logreg.predict_proba(X_test)[:,1]\n",
    "\n",
    "# Generate ROC curve values: fpr, tpr, thresholds\n",
    "fpr, tpr, thresholds = roc_curve(y_test, y_pred_prob)\n",
    "\n",
    "# Plot ROC curve\n",
    "plt.plot([0, 1], [0, 1], 'k--')\n",
    "plt.plot(fpr, tpr)\n",
    "plt.xlabel('False Positive Rate')\n",
    "plt.ylabel('True Positive Rate')\n",
    "plt.title('ROC Curve')\n",
    "plt.show()"
   ]
  },
  {
   "cell_type": "code",
   "execution_count": 5,
   "metadata": {},
   "outputs": [],
   "source": [
    "#NOTE: This ROC curve provides a nice visual way to assess your classifier's performance."
   ]
  },
  {
   "cell_type": "code",
   "execution_count": 6,
   "metadata": {},
   "outputs": [],
   "source": [
    "#Precision-recall Curve\n",
    "\n",
    "#When looking at your ROC curve, you may have noticed that the y-axis (True positive rate) is also known as recall. Indeed,\n",
    "#in addition to the ROC curve, there are other ways to visually evaluate model performance. One such way is the\n",
    "#precision-recall curve, which is generated by plotting the precision and recall for different thresholds. As a reminder,\n",
    "#precision and recall are defined as:"
   ]
  },
  {
   "cell_type": "markdown",
   "metadata": {},
   "source": [
    "$$\n",
    "Precision = \\frac{TP}{TP + FP}\n",
    "$$\n",
    "\\\n",
    "$$\n",
    "Recall = \\frac{TP}{TP + FN}\n",
    "$$"
   ]
  },
  {
   "cell_type": "code",
   "execution_count": 7,
   "metadata": {},
   "outputs": [],
   "source": [
    "#On the right, a precision-recall curve has been generated for the diabetes dataset. The classification report and\n",
    "#confusion matrix are displayed in the IPython Shell.\n",
    "\n",
    "#Study the precision-recall curve and then consider the statements given below. Choose the one statement that is not true.\n",
    "#Note that here, the class is positive (1) if the individual has diabetes."
   ]
  },
  {
   "cell_type": "code",
   "execution_count": 8,
   "metadata": {},
   "outputs": [
    {
     "data": {
      "image/png": "[encoded data removed]",
      "text/plain": [
       "<Figure size 576x432 with 1 Axes>"
      ]
     },
     "metadata": {
      "needs_background": "light"
     },
     "output_type": "display_data"
    },
    {
     "name": "stdout",
     "output_type": "stream",
     "text": [
      "              precision    recall  f1-score   support\n",
      "\n",
      "           0       0.83      0.85      0.84       206\n",
      "           1       0.69      0.66      0.67       102\n",
      "\n",
      "    accuracy                           0.79       308\n",
      "   macro avg       0.76      0.76      0.76       308\n",
      "weighted avg       0.79      0.79      0.79       308\n",
      " \n",
      "\n",
      "[[176  30]\n",
      " [ 35  67]]\n"
     ]
    }
   ],
   "source": [
    "from sklearn.metrics import precision_recall_curve\n",
    "plt.figure(figsize=(8,6))\n",
    "\n",
    "precision, recall, thresholds = precision_recall_curve(y_test, y_pred_prob)\n",
    "plt.plot(recall, precision)\n",
    "plt.xlabel('Recall')\n",
    "plt.ylabel('Precision')\n",
    "plt.title('Precision-Recall Curve')\n",
    "plt.show()\n",
    "\n",
    "print(classification_report(y_test, y_pred), '\\n')\n",
    "print(confusion_matrix(y_test, y_pred))"
   ]
  },
  {
   "cell_type": "code",
   "execution_count": 9,
   "metadata": {},
   "outputs": [],
   "source": [
    "#Possible Answers\n",
    "\n",
    "#A recall of 1 corresponds to a classifier with a low threshold in which all females who contract diabetes were correctly\n",
    "#classified as such, at the expense of many misclassifications of those who did not have diabetes.\n",
    "\n",
    "#Precision is undefined for a classifier which makes no positive predictions, that is, classifies everyone as not having\n",
    "#diabetes.\n",
    "\n",
    "#When the threshold is very close to 1, precision is also 1, because the classifier is absolutely certain about its\n",
    "#predictions.\n",
    "\n",
    "#Precision and recall take true negatives into consideration.*"
   ]
  },
  {
   "cell_type": "code",
   "execution_count": 10,
   "metadata": {},
   "outputs": [],
   "source": [
    "#NOTE: True negatives do not appear at all in the definitions of precision and recall."
   ]
  },
  {
   "cell_type": "code",
   "execution_count": 11,
   "metadata": {},
   "outputs": [
    {
     "name": "stdout",
     "output_type": "stream",
     "text": [
      "AUC: 0.8254806777079765\n",
      "AUC scores computed using 5-fold cross-validation: [0.80185185 0.80648148 0.81481481 0.86245283 0.8554717 ]\n"
     ]
    }
   ],
   "source": [
    "#AUC computation\n",
    "\n",
    "logreg = LogisticRegression(solver='liblinear')\n",
    "logreg.fit(X_train, y_train)\n",
    "\n",
    "#Say you have a binary classifier that in fact is just randomly making guesses. It would be correct approximately 50% of\n",
    "#the time, and the resulting ROC curve would be a diagonal line in which the True Positive Rate and False Positive Rate are\n",
    "#always equal. The Area under this ROC curve would be 0.5. This is one way in which the AUC, which Hugo discussed in the\n",
    "#video, is an informative metric to evaluate a model. If the AUC is greater than 0.5, the model is better than random\n",
    "#guessing. Always a good sign!\n",
    "\n",
    "#In this exercise, you'll calculate AUC scores using the roc_auc_score() function from sklearn.metrics as well as by\n",
    "#performing cross-validation on the diabetes dataset.\n",
    "\n",
    "#X and y, along with training and test sets X_train, X_test, y_train, y_test, have been pre-loaded for you, and a logistic\n",
    "#regression classifier logreg has been fit to the training data.\n",
    "\n",
    "# Import necessary modules\n",
    "from sklearn.metrics import roc_auc_score\n",
    "from sklearn.model_selection import cross_val_score\n",
    "\n",
    "# Compute predicted probabilities: y_pred_prob\n",
    "y_pred_prob = logreg.predict_proba(X_test)[:,1]\n",
    "\n",
    "# Compute and print AUC score\n",
    "print(\"AUC: {}\".format(roc_auc_score(y_test, y_pred_prob)))\n",
    "\n",
    "# Compute cross-validated AUC scores: cv_auc\n",
    "cv_auc = cross_val_score(logreg, X, y, cv=5, scoring='roc_auc')\n",
    "\n",
    "# Print list of AUC scores\n",
    "print(\"AUC scores computed using 5-fold cross-validation: {}\".format(cv_auc))"
   ]
  },
  {
   "cell_type": "code",
   "execution_count": 12,
   "metadata": {},
   "outputs": [],
   "source": [
    "#NOTE: You now have a number of different methods you can use to evaluate your model's performance."
   ]
  },
  {
   "cell_type": "code",
   "execution_count": 13,
   "metadata": {},
   "outputs": [
    {
     "name": "stdout",
     "output_type": "stream",
     "text": [
      "Tuned Logistic Regression Parameters: {'C': 3.727593720314938}\n",
      "Best score is 0.7708768355827178\n"
     ]
    }
   ],
   "source": [
    "#Hyperparameter tuning with GridSearchCV\n",
    "\n",
    "import numpy as np\n",
    "\n",
    "#Hugo demonstrated how to tune the n_neighbors parameter of the KNeighborsClassifier() using GridSearchCV on the voting\n",
    "#dataset. You will now practice this yourself, but by using logistic regression on the diabetes dataset instead!\n",
    "\n",
    "#Like the alpha parameter of lasso and ridge regularization that you saw earlier, logistic regression also has a\n",
    "#regularization parameter: C. C controls the inverse of the regularization strength, and this is what you will tune in this\n",
    "#exercise. A large C can lead to an overfit model, while a small C can lead to an underfit model.\n",
    "\n",
    "#The hyperparameter space for C has been setup for you. Your job is to use GridSearchCV and logistic regression to find the\n",
    "#optimal C in this hyperparameter space. The feature array is available as X and target variable array is available as y.\n",
    "\n",
    "#You may be wondering why you aren't asked to split the data into training and test sets. Good observation! Here, we want\n",
    "#you to focus on the process of setting up the hyperparameter grid and performing grid-search cross-validation. In\n",
    "#practice, you will indeed want to hold out a portion of your data for evaluation purposes, and you will learn all about\n",
    "#this in the next video!\n",
    "\n",
    "# Import necessary modules\n",
    "from sklearn.linear_model import LogisticRegression\n",
    "from sklearn.model_selection import GridSearchCV\n",
    "\n",
    "# Setup the hyperparameter grid\n",
    "c_space = np.logspace(-5, 8, 15)\n",
    "param_grid = {'C': c_space}\n",
    "\n",
    "# Instantiate a logistic regression classifier: logreg\n",
    "#logreg = LogisticRegression() #ConvergenceWarning\n",
    "logreg = LogisticRegression(solver='liblinear')\n",
    "\n",
    "# Instantiate the GridSearchCV object: logreg_cv\n",
    "logreg_cv = GridSearchCV(logreg, param_grid, cv=5)\n",
    "\n",
    "# Fit it to the data\n",
    "logreg_cv.fit(X, y)\n",
    "\n",
    "# Print the tuned parameters and score\n",
    "print(\"Tuned Logistic Regression Parameters: {}\".format(logreg_cv.best_params_)) \n",
    "print(\"Best score is {}\".format(logreg_cv.best_score_))"
   ]
  },
  {
   "cell_type": "code",
   "execution_count": 14,
   "metadata": {},
   "outputs": [],
   "source": [
    "#NOTE: It looks like a 'C' of 3.727 results in the best performance."
   ]
  },
  {
   "cell_type": "code",
   "execution_count": 15,
   "metadata": {},
   "outputs": [
    {
     "name": "stdout",
     "output_type": "stream",
     "text": [
      "Tuned Decision Tree Parameters: {'criterion': 'gini', 'max_depth': None, 'max_features': 3, 'min_samples_leaf': 7}\n",
      "Best score is 0.7292080468551058\n"
     ]
    }
   ],
   "source": [
    "#Hyperparameter tuning with RandomizedSearchCV\n",
    "\n",
    "#GridSearchCV can be computationally expensive, especially if you are searching over a large hyperparameter space and\n",
    "#dealing with multiple hyperparameters. A solution to this is to use RandomizedSearchCV, in which not all hyperparameter\n",
    "#values are tried out. Instead, a fixed number of hyperparameter settings is sampled from specified probability\n",
    "#distributions. You'll practice using RandomizedSearchCV in this exercise and see how this works.\n",
    "\n",
    "#Here, you'll also be introduced to a new model: the Decision Tree. Don't worry about the specifics of how this model\n",
    "#works. Just like k-NN, linear regression, and logistic regression, decision trees in scikit-learn have .fit() and\n",
    "#.predict() methods that you can use in exactly the same way as before. Decision trees have many parameters that can be\n",
    "#tuned, such as max_features, max_depth, and min_samples_leaf: This makes it an ideal use case for RandomizedSearchCV.\n",
    "\n",
    "#As before, the feature array X and target variable array y of the diabetes dataset have been pre-loaded. The\n",
    "#hyperparameter settings have been specified for you. Your goal is to use RandomizedSearchCV to find the optimal\n",
    "#hyperparameters. Go for it!\n",
    "\n",
    "# Import necessary modules\n",
    "from scipy.stats import randint\n",
    "from sklearn.tree import DecisionTreeClassifier\n",
    "from sklearn.model_selection import RandomizedSearchCV\n",
    "\n",
    "# Setup the parameters and distributions to sample from: param_dist\n",
    "param_dist = {\"max_depth\": [3, None],\n",
    "              \"max_features\": randint(1, 9),\n",
    "              \"min_samples_leaf\": randint(1, 9),\n",
    "              \"criterion\": [\"gini\", \"entropy\"]}\n",
    "\n",
    "# Instantiate a Decision Tree classifier: tree\n",
    "#tree = DecisionTreeClassifier()\n",
    "tree = DecisionTreeClassifier(random_state=42)\n",
    "\n",
    "# Instantiate the RandomizedSearchCV object: tree_cv\n",
    "#tree_cv = RandomizedSearchCV(tree, param_dist, cv=5)\n",
    "tree_cv = RandomizedSearchCV(tree, param_dist, cv=5, random_state=42)\n",
    "\n",
    "# Fit it to the data\n",
    "tree_cv.fit(X, y)\n",
    "\n",
    "# Print the tuned parameters and score\n",
    "print(\"Tuned Decision Tree Parameters: {}\".format(tree_cv.best_params_))\n",
    "print(\"Best score is {}\".format(tree_cv.best_score_))"
   ]
  },
  {
   "cell_type": "code",
   "execution_count": 16,
   "metadata": {},
   "outputs": [],
   "source": [
    "#tree_cv.get_params()"
   ]
  },
  {
   "cell_type": "code",
   "execution_count": 17,
   "metadata": {},
   "outputs": [],
   "source": [
    "#NOTE: Note that RandomizedSearchCV will never outperform GridSearchCV. Instead, it is valuable because it saves on\n",
    "#computation time."
   ]
  },
  {
   "cell_type": "code",
   "execution_count": 18,
   "metadata": {},
   "outputs": [
    {
     "data": {
      "text/plain": [
       "'\\nfrom sklearn.tree import export_graphviz\\nimport graphviz\\n#import pydot\\n# Estructura del árbol creado\\nexport_graphviz(\\n                    tree_cv.best_estimator_,\\n                    out_file = \\'arbol.dot\\',\\n                    class_names = [\\'0\\', \\'1\\'],\\n                    feature_names = X.columns,\\n                    impurity = True,\\n                    filled = True,\\n                    rounded = True\\n)\\n\\nwith open(\\'arbol.dot\\', encoding=\"utf8\") as f:\\n    dot_graph = f.read()\\n\\nprint(f\"Profundidad del árbol: {tree_cv.best_estimator_.get_depth()}\")\\nprint(f\"Número de nodos terminales: {tree_cv.best_estimator_.get_n_leaves()}\")\\n\\ngraphviz.Source(dot_graph)\\n'"
      ]
     },
     "execution_count": 18,
     "metadata": {},
     "output_type": "execute_result"
    }
   ],
   "source": [
    "'''\n",
    "from sklearn.tree import export_graphviz\n",
    "import graphviz\n",
    "#import pydot\n",
    "# Estructura del árbol creado\n",
    "export_graphviz(\n",
    "                    tree_cv.best_estimator_,\n",
    "                    out_file = 'arbol.dot',\n",
    "                    class_names = ['0', '1'],\n",
    "                    feature_names = X.columns,\n",
    "                    impurity = True,\n",
    "                    filled = True,\n",
    "                    rounded = True\n",
    ")\n",
    "\n",
    "with open('arbol.dot', encoding=\"utf8\") as f:\n",
    "    dot_graph = f.read()\n",
    "\n",
    "print(f\"Profundidad del árbol: {tree_cv.best_estimator_.get_depth()}\")\n",
    "print(f\"Número de nodos terminales: {tree_cv.best_estimator_.get_n_leaves()}\")\n",
    "\n",
    "graphviz.Source(dot_graph)\n",
    "'''"
   ]
  },
  {
   "cell_type": "code",
   "execution_count": 19,
   "metadata": {},
   "outputs": [],
   "source": [
    "#tree_cv.best_estimator_"
   ]
  },
  {
   "cell_type": "code",
   "execution_count": 20,
   "metadata": {},
   "outputs": [],
   "source": [
    "#Hold-out set reasoning\n",
    "\n",
    "#For which of the following reasons would you want to use a hold-out set for the very end?\n",
    "\n",
    "#Possible Answers\n",
    "\n",
    "#You want to maximize the amount of training data used.\n",
    "\n",
    "#You want to be absolutely certain about your model's ability to generalize to unseen data.*\n",
    "\n",
    "#You want to tune the hyperparameters of your model."
   ]
  },
  {
   "cell_type": "code",
   "execution_count": 21,
   "metadata": {},
   "outputs": [],
   "source": [
    "#NOTE: The idea is to tune the model's hyperparameters on the training set, and then evaluate its performance on the\n",
    "#hold-out set which it has never seen before."
   ]
  },
  {
   "cell_type": "code",
   "execution_count": 22,
   "metadata": {},
   "outputs": [
    {
     "name": "stdout",
     "output_type": "stream",
     "text": [
      "Tuned Logistic Regression Parameter: {'C': 0.4393970560760795, 'penalty': 'l1'}\n",
      "Tuned Logistic Regression Accuracy: 0.7673913043478262\n"
     ]
    }
   ],
   "source": [
    "#Hold-out set in practice I: Classification\n",
    "\n",
    "#You will now practice evaluating a model with tuned hyperparameters on a hold-out set. The feature array and target\n",
    "#variable array from the diabetes dataset have been pre-loaded as X and y.\n",
    "\n",
    "#In addition to C, logistic regression has a 'penalty' hyperparameter which specifies whether to use 'l1' or 'l2'\n",
    "#regularization. Your job in this exercise is to create a hold-out set, tune the 'C' and 'penalty' hyperparameters of a\n",
    "#logistic regression classifier using GridSearchCV on the training set.\n",
    "\n",
    "# Import necessary modules\n",
    "from sklearn.model_selection import train_test_split\n",
    "from sklearn.linear_model import LogisticRegression\n",
    "from sklearn.model_selection import GridSearchCV\n",
    "\n",
    "# Create the hyperparameter grid\n",
    "c_space = np.logspace(-5, 8, 15)\n",
    "param_grid = {'C': c_space, 'penalty': ['l1', 'l2']}\n",
    "\n",
    "# Instantiate the logistic regression classifier: logreg\n",
    "#logreg = LogisticRegression() #FitFailedWarning, ConvergenceWarning\n",
    "logreg = LogisticRegression(solver='liblinear')\n",
    "\n",
    "# Create train and test sets\n",
    "X_train, X_test, y_train, y_test = train_test_split(X, y, test_size=0.4, random_state=42)\n",
    "\n",
    "# Instantiate the GridSearchCV object: logreg_cv\n",
    "logreg_cv = GridSearchCV(logreg, param_grid, cv=5)\n",
    "\n",
    "# Fit it to the training data\n",
    "logreg_cv.fit(X_train, y_train)\n",
    "\n",
    "# Print the optimal parameters and best score\n",
    "print(\"Tuned Logistic Regression Parameter: {}\".format(logreg_cv.best_params_))\n",
    "print(\"Tuned Logistic Regression Accuracy: {}\".format(logreg_cv.best_score_))"
   ]
  },
  {
   "cell_type": "code",
   "execution_count": 23,
   "metadata": {},
   "outputs": [],
   "source": [
    "#Hold-out set in practice II: Regression\n",
    "\n",
    "#Remember lasso and ridge regression from the previous chapter? Lasso used the L1 penalty to regularize, while ridge used\n",
    "#the L2 penalty. There is another type of regularized regression known as the elastic net. In elastic net regularization,\n",
    "#the penalty term is a linear combination of the L1 and L2 penalties:"
   ]
  },
  {
   "cell_type": "markdown",
   "metadata": {},
   "source": [
    "$$\n",
    "a*L1+b*L2\n",
    "$$"
   ]
  },
  {
   "cell_type": "code",
   "execution_count": 24,
   "metadata": {},
   "outputs": [],
   "source": [
    "#In scikit-learn, this term is represented by the 'l1_ratio' parameter: An 'l1_ratio' of 1 corresponds to an L1 penalty,\n",
    "#and anything lower is a combination of L1 and L2.\n",
    "\n",
    "#In this exercise, you will GridSearchCV to tune the 'l1_ratio' of an elastic net model trained on the Gapminder data. As\n",
    "#in the previous exercise, use a hold-out set to evaluate your model's performance."
   ]
  },
  {
   "cell_type": "code",
   "execution_count": 25,
   "metadata": {},
   "outputs": [
    {
     "name": "stdout",
     "output_type": "stream",
     "text": [
      "Tuned ElasticNet l1 ratio: {'l1_ratio': 0.8620689655172413}\n",
      "Tuned ElasticNet R squared: 0.8618735715297989\n",
      "Tuned ElasticNet MSE: 10.43229978086587\n"
     ]
    }
   ],
   "source": [
    "import pandas as pd\n",
    "import numpy as np\n",
    "df = pd.read_csv('datasets/gapminder_2008_region.csv')\n",
    "df = df.drop('Region', axis=1)\n",
    "X = df.drop('life', axis=1).values\n",
    "y = df['life'].values\n",
    "\n",
    "# Import necessary modules\n",
    "from sklearn.linear_model import ElasticNet\n",
    "from sklearn.metrics import mean_squared_error\n",
    "from sklearn.model_selection import GridSearchCV\n",
    "from sklearn.model_selection import train_test_split\n",
    "\n",
    "# Create train and test sets\n",
    "X_train, X_test, y_train, y_test = train_test_split(X, y, test_size=0.4, random_state=42)\n",
    "\n",
    "# Create the hyperparameter grid\n",
    "l1_space = np.linspace(0, 1, 30)\n",
    "param_grid = {'l1_ratio' : l1_space}\n",
    "\n",
    "# Instantiate the ElasticNet regressor: elastic_net\n",
    "#elastic_net = ElasticNet(max_iter=1000, tol=0.0001) #Default parameters\n",
    "elastic_net = ElasticNet(max_iter=1000, tol=0.1)\n",
    "\n",
    "# Setup the GridSearchCV object: gm_cv\n",
    "gm_cv = GridSearchCV(elastic_net, param_grid, cv=5)\n",
    "\n",
    "# Fit it to the training data\n",
    "gm_cv.fit(X_train, y_train)\n",
    "\n",
    "# Predict on the test set and compute metrics\n",
    "y_pred = gm_cv.predict(X_test)\n",
    "r2 = gm_cv.score(X_test, y_test)\n",
    "mse = mean_squared_error(y_test, y_pred)\n",
    "print(\"Tuned ElasticNet l1 ratio: {}\".format(gm_cv.best_params_))\n",
    "print(\"Tuned ElasticNet R squared: {}\".format(r2))\n",
    "print(\"Tuned ElasticNet MSE: {}\".format(mse))"
   ]
  },
  {
   "cell_type": "code",
   "execution_count": null,
   "metadata": {},
   "outputs": [],
   "source": []
  }
 ],
 "metadata": {
  "kernelspec": {
   "display_name": "Python 3",
   "language": "python",
   "name": "python3"
  },
  "language_info": {
   "codemirror_mode": {
    "name": "ipython",
    "version": 3
   },
   "file_extension": ".py",
   "mimetype": "text/x-python",
   "name": "python",
   "nbconvert_exporter": "python",
   "pygments_lexer": "ipython3",
   "version": "3.7.6"
  }
 },
 "nbformat": 4,
 "nbformat_minor": 4
}
