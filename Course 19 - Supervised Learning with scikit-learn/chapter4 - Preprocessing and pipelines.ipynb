{
 "cells": [
  {
   "cell_type": "code",
   "execution_count": 1,
   "metadata": {},
   "outputs": [
    {
     "data": {
      "image/png": "[encoded data removed]",
      "text/plain": [
       "<Figure size 720x432 with 1 Axes>"
      ]
     },
     "metadata": {
      "needs_background": "light"
     },
     "output_type": "display_data"
    }
   ],
   "source": [
    "#Exploring categorical features\n",
    "\n",
    "import matplotlib.pyplot as plt\n",
    "\n",
    "#The Gapminder dataset that you worked with in previous chapters also contained a categorical 'Region' feature, which we\n",
    "#dropped in previous exercises since you did not have the tools to deal with it. Now however, you do, so we have added it\n",
    "#back in!\n",
    "\n",
    "#Your job in this exercise is to explore this feature. Boxplots are particularly useful for visualizing categorical\n",
    "#features such as this.\n",
    "\n",
    "# Import pandas\n",
    "import pandas as pd\n",
    "\n",
    "# Read 'gapminder.csv' into a DataFrame: df\n",
    "df = pd.read_csv('datasets/gapminder_2008_region.csv')\n",
    "\n",
    "# Create a boxplot of life expectancy per region\n",
    "df.boxplot('life', 'Region', rot=60, figsize=(10,6))\n",
    "\n",
    "# Show the plot\n",
    "plt.show()"
   ]
  },
  {
   "cell_type": "code",
   "execution_count": 2,
   "metadata": {},
   "outputs": [],
   "source": [
    "#NOTE: Exploratory data analysis should always be the precursor to model building."
   ]
  },
  {
   "cell_type": "code",
   "execution_count": 3,
   "metadata": {},
   "outputs": [
    {
     "name": "stdout",
     "output_type": "stream",
     "text": [
      "Index(['population', 'fertility', 'HIV', 'CO2', 'BMI_male', 'GDP',\n",
      "       'BMI_female', 'life', 'child_mortality', 'Region_America',\n",
      "       'Region_East Asia & Pacific', 'Region_Europe & Central Asia',\n",
      "       'Region_Middle East & North Africa', 'Region_South Asia',\n",
      "       'Region_Sub-Saharan Africa'],\n",
      "      dtype='object') \n",
      "\n",
      "Index(['population', 'fertility', 'HIV', 'CO2', 'BMI_male', 'GDP',\n",
      "       'BMI_female', 'life', 'child_mortality', 'Region_East Asia & Pacific',\n",
      "       'Region_Europe & Central Asia', 'Region_Middle East & North Africa',\n",
      "       'Region_South Asia', 'Region_Sub-Saharan Africa'],\n",
      "      dtype='object')\n"
     ]
    }
   ],
   "source": [
    "#Creating dummy variables\n",
    "\n",
    "#As Andy discussed in the video, scikit-learn does not accept non-numerical features. You saw in the previous exercise that\n",
    "#the 'Region' feature contains very useful information that can predict life expectancy. For example, Sub-Saharan Africa\n",
    "#has a lower life expectancy compared to Europe and Central Asia. Therefore, if you are trying to predict life expectancy,\n",
    "#it would be preferable to retain the 'Region' feature. To do this, you need to binarize it by creating dummy variables,\n",
    "#which is what you will do in this exercise.\n",
    "\n",
    "# Create dummy variables: df_region\n",
    "df_region = pd.get_dummies(df)\n",
    "\n",
    "# Print the columns of df_region\n",
    "print(df_region.columns, '\\n')\n",
    "\n",
    "# Create dummy variables with drop_first=True: df_region\n",
    "df_region = pd.get_dummies(df, drop_first=True)\n",
    "\n",
    "# Print the new columns of df_region\n",
    "print(df_region.columns)"
   ]
  },
  {
   "cell_type": "code",
   "execution_count": 4,
   "metadata": {},
   "outputs": [],
   "source": [
    "#NOTE: Now that you have created the dummy variables, you can use the 'Region' feature to predict life expectancy"
   ]
  },
  {
   "cell_type": "code",
   "execution_count": 5,
   "metadata": {},
   "outputs": [
    {
     "name": "stdout",
     "output_type": "stream",
     "text": [
      "[0.86808336 0.80623545 0.84004203 0.7754344  0.87503712]\n"
     ]
    }
   ],
   "source": [
    "#Regression with categorical features\n",
    "\n",
    "X = df_region.drop('life', axis=1).values\n",
    "y = df_region['life'].values\n",
    "\n",
    "#Having created the dummy variables from the 'Region' feature, you can build regression models as you did before. Here,\n",
    "#you'll use ridge regression to perform 5-fold cross-validation.\n",
    "\n",
    "#The feature array X and target variable array y have been pre-loaded.\n",
    "\n",
    "# Import necessary modules\n",
    "from sklearn.linear_model import Ridge\n",
    "from sklearn.model_selection import cross_val_score\n",
    "\n",
    "# Instantiate a ridge regressor: ridge\n",
    "ridge = Ridge(alpha=0.5, normalize=True)\n",
    "\n",
    "# Perform 5-fold cross-validation: ridge_cv\n",
    "ridge_cv = cross_val_score(ridge, X, y, cv=5)\n",
    "\n",
    "# Print the cross-validated scores\n",
    "print(ridge_cv)"
   ]
  },
  {
   "cell_type": "code",
   "execution_count": 6,
   "metadata": {},
   "outputs": [],
   "source": [
    "#NOTE: You now know how to build models using data that includes categorical features."
   ]
  },
  {
   "cell_type": "code",
   "execution_count": 7,
   "metadata": {},
   "outputs": [
    {
     "name": "stdout",
     "output_type": "stream",
     "text": [
      "party                  0\n",
      "infants               12\n",
      "water                 48\n",
      "budget                11\n",
      "physician             11\n",
      "salvador              15\n",
      "religious             11\n",
      "satellite             14\n",
      "aid                   15\n",
      "missile               22\n",
      "immigration            7\n",
      "synfuels              21\n",
      "education             31\n",
      "superfund             25\n",
      "crime                 17\n",
      "duty_free_exports     28\n",
      "eaa_rsa              104\n",
      "dtype: int64 \n",
      "\n",
      "Shape of Original DataFrame: (435, 17)\n",
      "Shape of DataFrame After Dropping All Rows with Missing Values: (232, 17)\n"
     ]
    }
   ],
   "source": [
    "#Dropping missing data\n",
    "\n",
    "import pandas as pd\n",
    "import numpy as np\n",
    "df = pd.read_csv('datasets/votes_us_house_representatives_congressmen_with_nan.csv')\n",
    "\n",
    "#The voting dataset from Chapter 1 contained a bunch of missing values that we dealt with for you behind the scenes. Now,\n",
    "#it's time for you to take care of these yourself!\n",
    "\n",
    "#The unprocessed dataset has been loaded into a DataFrame df. Explore it in the IPython Shell with the .head() method. You\n",
    "#will see that there are certain data points labeled with a '?'. These denote missing values. As you saw in the video,\n",
    "#different datasets encode missing values in different ways. Sometimes it may be a '9999', other times a 0 - real-world\n",
    "#data can be very messy! If you're lucky, the missing values will already be encoded as NaN. We use NaN because it is an\n",
    "#efficient and simplified way of internally representing missing data, and it lets us take advantage of pandas methods such\n",
    "#as .dropna() and .fillna(), as well as scikit-learn's Imputation transformer Imputer().\n",
    "\n",
    "#In this exercise, your job is to convert the '?'s to NaNs, and then drop the rows that contain them from the DataFrame.\n",
    "\n",
    "# Convert '?' to NaN\n",
    "df[df == '?'] = np.nan\n",
    "\n",
    "# Print the number of NaNs\n",
    "print(df.isnull().sum(), '\\n')\n",
    "\n",
    "# Print shape of original DataFrame\n",
    "print(\"Shape of Original DataFrame: {}\".format(df.shape))\n",
    "\n",
    "# Drop missing values and print shape of new DataFrame\n",
    "df = df.dropna()\n",
    "\n",
    "# Print shape of new DataFrame\n",
    "print(\"Shape of DataFrame After Dropping All Rows with Missing Values: {}\".format(df.shape))"
   ]
  },
  {
   "cell_type": "code",
   "execution_count": 8,
   "metadata": {},
   "outputs": [],
   "source": [
    "#NOTE: When many values in your dataset are missing, if you drop them, you may end up throwing away valuable information\n",
    "#along with the missing data. It's better instead to develop an imputation strategy. This is where domain knowledge is\n",
    "#useful, but in the absence of it, you can impute missing values with the mean or the median of the row or column that the\n",
    "#missing value is in."
   ]
  },
  {
   "cell_type": "code",
   "execution_count": 9,
   "metadata": {},
   "outputs": [],
   "source": [
    "#Imputing missing data in a ML Pipeline I\n",
    "\n",
    "#As you've come to appreciate, there are many steps to building a model, from creating training and test sets, to fitting a\n",
    "#classifier or regressor, to tuning its parameters, to evaluating its performance on new data. Imputation can be seen as\n",
    "#the first step of this machine learning process, the entirety of which can be viewed within the context of a pipeline.\n",
    "#Scikit-learn provides a pipeline constructor that allows you to piece together these steps into one process and thereby\n",
    "#simplify your workflow.\n",
    "\n",
    "#You'll now practice setting up a pipeline with two steps: the imputation step, followed by the instantiation of a\n",
    "#classifier. You've seen three classifiers in this course so far: k-NN, logistic regression, and the decision tree. You\n",
    "#will now be introduced to a fourth one - the Support Vector Machine, or SVM. For now, do not worry about how it works\n",
    "#under the hood. It works exactly as you would expect of the scikit-learn estimators that you have worked with previously,\n",
    "#in that it has the same .fit() and .predict() methods as before.\n",
    "\n",
    "# Import the Imputer module\n",
    "#from sklearn.preprocessing import Imputer #Deprecated\n",
    "from sklearn.impute import SimpleImputer\n",
    "from sklearn.svm import SVC\n",
    "\n",
    "# Setup the Imputation transformer: imp\n",
    "#imp = SimpleImputer(missing_values='NaN', strategy='most_frequent')\n",
    "imp = SimpleImputer(missing_values=np.nan, strategy='most_frequent')\n",
    "\n",
    "# Instantiate the SVC classifier: clf\n",
    "clf = SVC()\n",
    "\n",
    "# Setup the pipeline with the required steps: steps\n",
    "steps = [('imputation', imp), ('SVM', clf)]"
   ]
  },
  {
   "cell_type": "code",
   "execution_count": 10,
   "metadata": {},
   "outputs": [],
   "source": [
    "#NOTE: Having set up the pipeline steps, you can now use it for classification."
   ]
  },
  {
   "cell_type": "code",
   "execution_count": 11,
   "metadata": {},
   "outputs": [
    {
     "name": "stdout",
     "output_type": "stream",
     "text": [
      "              precision    recall  f1-score   support\n",
      "\n",
      "    democrat       0.98      0.96      0.97        85\n",
      "  republican       0.94      0.96      0.95        46\n",
      "\n",
      "    accuracy                           0.96       131\n",
      "   macro avg       0.96      0.96      0.96       131\n",
      "weighted avg       0.96      0.96      0.96       131\n",
      "\n"
     ]
    }
   ],
   "source": [
    "#Imputing missing data in a ML Pipeline II\n",
    "\n",
    "from sklearn.model_selection import train_test_split\n",
    "from sklearn.metrics import classification_report\n",
    "df = pd.read_csv('datasets/votes_us_house_representatives_congressmen_with_nan.csv')\n",
    "df[df == '?'] = np.nan\n",
    "X = df.drop('party', axis=1)\n",
    "y = df['party']\n",
    "\n",
    "#Having setup the steps of the pipeline in the previous exercise, you will now use it on the voting dataset to classify a\n",
    "#Congressman's party affiliation. What makes pipelines so incredibly useful is the simple interface that they provide. You\n",
    "#can use the .fit() and .predict() methods on pipelines just as you did with your classifiers and regressors!\n",
    "\n",
    "#Practice this for yourself now and generate a classification report of your predictions. The steps of the pipeline have\n",
    "#been set up for you, and the feature array X and target variable array y have been pre-loaded. Additionally,\n",
    "#train_test_split and classification_report have been imported from sklearn.model_selection and sklearn.metrics\n",
    "#respectively.\n",
    "\n",
    "# Import necessary modules\n",
    "#from sklearn.preprocessing import Imputer\n",
    "from sklearn.impute import SimpleImputer\n",
    "from sklearn.pipeline import Pipeline\n",
    "from sklearn.svm import SVC\n",
    "\n",
    "# Setup the pipeline steps: steps\n",
    "#steps = [('imputation', SimpleImputer(missing_values='NaN', strategy='most_frequent')),\n",
    "#         ('SVM', SVC())]\n",
    "steps = [('imputation', SimpleImputer(missing_values=np.nan, strategy='most_frequent')),\n",
    "         ('SVM', SVC())]\n",
    "\n",
    "# Create the pipeline: pipeline\n",
    "pipeline = Pipeline(steps)\n",
    "\n",
    "# Create training and test sets\n",
    "X_train, X_test, y_train, y_test = train_test_split(X, y, test_size=0.3, random_state=42)\n",
    "\n",
    "# Fit the pipeline to the train set\n",
    "pipeline.fit(X_train, y_train)\n",
    "\n",
    "# Predict the labels of the test set\n",
    "y_pred = pipeline.predict(X_test)\n",
    "\n",
    "# Compute metrics\n",
    "print(classification_report(y_test, y_pred))"
   ]
  },
  {
   "cell_type": "code",
   "execution_count": 12,
   "metadata": {},
   "outputs": [],
   "source": [
    "#NOTE: Your pipeline has performed imputation as well as classification!"
   ]
  },
  {
   "cell_type": "code",
   "execution_count": 13,
   "metadata": {},
   "outputs": [
    {
     "name": "stdout",
     "output_type": "stream",
     "text": [
      "Mean of Unscaled Features: 18.432687072460002\n",
      "Standard Deviation of Unscaled Features: 41.54494764094571 \n",
      "\n",
      "Mean of Scaled Features: 2.7452128118308485e-15\n",
      "Standard Deviation of Scaled Features: 0.9999999999999999\n"
     ]
    }
   ],
   "source": [
    "#Centering and scaling your data\n",
    "\n",
    "import pandas as pd\n",
    "import numpy as np\n",
    "df = pd.read_csv('datasets/white_wine_quality.csv')\n",
    "X = df.drop('quality', axis=1).values\n",
    "\n",
    "#In the video, Hugo demonstrated how significantly the performance of a model can improve if the features are scaled. Note\n",
    "#that this is not always the case: In the Congressional voting records dataset, for example, all of the features are\n",
    "#binary. In such a situation, scaling will have minimal impact.\n",
    "\n",
    "#You will now explore scaling for yourself on a new dataset - White Wine Quality! Hugo used the Red Wine Quality dataset in\n",
    "#the video. We have used the 'quality' feature of the wine to create a binary target variable: If 'quality' is less than 5,\n",
    "#the target variable is 1, and otherwise, it is 0.\n",
    "\n",
    "#The DataFrame has been pre-loaded as df, along with the feature and target variable arrays X and y. Explore it in the\n",
    "#IPython Shell. Notice how some features seem to have different units of measurement. 'density', for instance, takes values\n",
    "#between 0.98 and 1.04, while 'total sulfur dioxide' ranges from 9 to 440. As a result, it may be worth scaling the\n",
    "#features here. Your job in this exercise is to scale the features and compute the mean and standard deviation of the\n",
    "#unscaled features compared to the scaled features.\n",
    "\n",
    "# Import scale\n",
    "from sklearn.preprocessing import scale\n",
    "\n",
    "# Scale the features: X_scaled\n",
    "X_scaled = scale(X)\n",
    "\n",
    "# Print the mean and standard deviation of the unscaled features\n",
    "print(\"Mean of Unscaled Features: {}\".format(np.mean(X))) \n",
    "print(\"Standard Deviation of Unscaled Features: {}\".format(np.std(X)), '\\n')\n",
    "\n",
    "# Print the mean and standard deviation of the scaled features\n",
    "print(\"Mean of Scaled Features: {}\".format(np.mean(X_scaled))) \n",
    "print(\"Standard Deviation of Scaled Features: {}\".format(np.std(X_scaled)))"
   ]
  },
  {
   "cell_type": "code",
   "execution_count": 14,
   "metadata": {},
   "outputs": [],
   "source": [
    "#NOTE: Notice the difference in the mean and standard deviation of the scaled features compared to the unscaled features."
   ]
  },
  {
   "cell_type": "code",
   "execution_count": 15,
   "metadata": {},
   "outputs": [
    {
     "name": "stdout",
     "output_type": "stream",
     "text": [
      "Accuracy with Scaling: 0.7700680272108843\n",
      "Accuracy without Scaling: 0.6979591836734694\n"
     ]
    }
   ],
   "source": [
    "#Centering and scaling in a pipeline\n",
    "\n",
    "from sklearn.neighbors import KNeighborsClassifier\n",
    "from sklearn.model_selection import train_test_split\n",
    "import pandas as pd\n",
    "df = pd.read_csv('datasets/white_wine_quality.csv')\n",
    "X = df.drop('quality', axis=1).values\n",
    "y = df['quality'].values\n",
    "y[y <= 5] = True\n",
    "y[y > 5] = False\n",
    "\n",
    "#With regard to whether or not scaling is effective, the proof is in the pudding! See for yourself whether or not scaling\n",
    "#the features of the White Wine Quality dataset has any impact on its performance. You will use a k-NN classifier as part\n",
    "#of a pipeline that includes scaling, and for the purposes of comparison, a k-NN classifier trained on the unscaled data\n",
    "#has been provided.\n",
    "\n",
    "#The feature array and target variable array have been pre-loaded as X and y. Additionally, KNeighborsClassifier and\n",
    "#train_test_split have been imported from sklearn.neighbors and sklearn.model_selection, respectively.\n",
    "\n",
    "# Import the necessary modules\n",
    "from sklearn.preprocessing import StandardScaler\n",
    "from sklearn.pipeline import Pipeline\n",
    "\n",
    "# Setup the pipeline steps: steps\n",
    "steps = [('scaler', StandardScaler()),\n",
    "         ('knn', KNeighborsClassifier())]\n",
    "        \n",
    "# Create the pipeline: pipeline\n",
    "pipeline = Pipeline(steps)\n",
    "\n",
    "# Create train and test sets\n",
    "X_train, X_test, y_train, y_test = train_test_split(X, y, test_size=0.3, random_state=42)\n",
    "\n",
    "# Fit the pipeline to the training set: knn_scaled\n",
    "knn_scaled = pipeline.fit(X_train, y_train)\n",
    "knn_unscaled = KNeighborsClassifier().fit(X_train, y_train)\n",
    "\n",
    "# Instantiate and fit a k-NN classifier to the unscaled data\n",
    "knn_unscaled = KNeighborsClassifier().fit(X_train, y_train)\n",
    "\n",
    "# Compute and print metrics\n",
    "print('Accuracy with Scaling: {}'.format(knn_scaled.score(X_test, y_test)))\n",
    "print('Accuracy without Scaling: {}'.format(knn_unscaled.score(X_test, y_test)))"
   ]
  },
  {
   "cell_type": "code",
   "execution_count": 16,
   "metadata": {},
   "outputs": [],
   "source": [
    "#NOTE:  It looks like scaling has significantly improved model performance!"
   ]
  },
  {
   "cell_type": "code",
   "execution_count": 17,
   "metadata": {},
   "outputs": [
    {
     "name": "stdout",
     "output_type": "stream",
     "text": [
      "Accuracy: 0.7795918367346939 \n",
      "\n",
      "              precision    recall  f1-score   support\n",
      "\n",
      "           0       0.83      0.85      0.84       662\n",
      "           1       0.67      0.63      0.65       318\n",
      "\n",
      "    accuracy                           0.78       980\n",
      "   macro avg       0.75      0.74      0.74       980\n",
      "weighted avg       0.78      0.78      0.78       980\n",
      " \n",
      "\n",
      "Tuned Model Parameters: {'SVM__C': 10, 'SVM__gamma': 0.1}\n"
     ]
    }
   ],
   "source": [
    "#Bringing it all together I: Pipeline for classification\n",
    "\n",
    "from sklearn.preprocessing import StandardScaler\n",
    "from sklearn.svm import SVC\n",
    "from sklearn.pipeline import Pipeline\n",
    "from sklearn.model_selection import train_test_split\n",
    "from sklearn.model_selection import GridSearchCV\n",
    "from sklearn.metrics import classification_report\n",
    "df = pd.read_csv('datasets/white_wine_quality.csv')\n",
    "X = df.drop('quality', axis=1).values\n",
    "y = df['quality'].values\n",
    "y[y <= 5] = True\n",
    "y[y > 5] = False\n",
    "\n",
    "#It is time now to piece together everything you have learned so far into a pipeline for classification! Your job in this\n",
    "#exercise is to build a pipeline that includes scaling and hyperparameter tuning to classify wine quality.\n",
    "\n",
    "#You'll return to using the SVM classifier you were briefly introduced to earlier in this chapter. The hyperparameters you\n",
    "#will tune are C and gamma. C controls the regularization strength. It is analogous to the  you tuned for logistic\n",
    "#regression in Chapter 3, while gamma controls the kernel coefficient: Do not worry about this now as it is beyond the\n",
    "#scope of this course.\n",
    "\n",
    "#The following modules and functions have been pre-loaded: Pipeline, SVC, train_test_split, GridSearchCV,\n",
    "#classification_report, accuracy_score. The feature and target variable arrays X and y have also been pre-loaded.\n",
    "\n",
    "# Setup the pipeline\n",
    "steps = [('scaler', StandardScaler()),\n",
    "         ('SVM', SVC())]\n",
    "\n",
    "pipeline = Pipeline(steps)\n",
    "\n",
    "# Specify the hyperparameter space\n",
    "parameters = {'SVM__C':[1, 10, 100],\n",
    "              'SVM__gamma':[0.1, 0.01]}\n",
    "\n",
    "# Create train and test sets\n",
    "X_train, X_test, y_train, y_test = train_test_split(X, y, test_size=0.2, random_state=21)\n",
    "\n",
    "# Instantiate the GridSearchCV object: cv\n",
    "cv = GridSearchCV(pipeline, param_grid=parameters, cv=5)\n",
    "\n",
    "# Fit to the training set\n",
    "cv.fit(X_train, y_train)\n",
    "\n",
    "# Predict the labels of the test set: y_pred\n",
    "y_pred = cv.predict(X_test)\n",
    "\n",
    "# Compute and print metrics\n",
    "print(\"Accuracy: {}\".format(cv.score(X_test, y_test)), '\\n')\n",
    "print(classification_report(y_test, y_pred), '\\n')\n",
    "print(\"Tuned Model Parameters: {}\".format(cv.best_params_))"
   ]
  },
  {
   "cell_type": "code",
   "execution_count": 18,
   "metadata": {},
   "outputs": [
    {
     "name": "stdout",
     "output_type": "stream",
     "text": [
      "Tuned ElasticNet Alpha: {'elasticnet__l1_ratio': 1.0}\n",
      "Tuned ElasticNet R squared: 0.8862016570888216\n"
     ]
    }
   ],
   "source": [
    "#Bringing it all together II: Pipeline for regression\n",
    "\n",
    "from sklearn.impute import SimpleImputer\n",
    "from sklearn.preprocessing import StandardScaler\n",
    "from sklearn.linear_model import ElasticNet\n",
    "from sklearn.pipeline import Pipeline\n",
    "from sklearn.model_selection import train_test_split\n",
    "from sklearn.model_selection import GridSearchCV\n",
    "import pandas as pd\n",
    "df = pd.read_csv('datasets/gapminder_2008_region.csv')\n",
    "df = df.drop('Region', axis=1)\n",
    "X = df.drop('life', axis=1).values\n",
    "y = df['life'].values\n",
    "\n",
    "#For this final exercise, you will return to the Gapminder dataset. Guess what? Even this dataset has missing values that\n",
    "#we dealt with for you in earlier chapters! Now, you have all the tools to take care of them yourself!\n",
    "\n",
    "#Your job is to build a pipeline that imputes the missing data, scales the features, and fits an ElasticNet to the\n",
    "#Gapminder data. You will then tune the l1_ratio of your ElasticNet using GridSearchCV.\n",
    "\n",
    "#All the necessary modules have been imported, and the feature and target variable arrays have been pre-loaded as X and y.\n",
    "\n",
    "# Setup the pipeline steps: steps\n",
    "#steps = [('imputation', Imputer(missing_values='NaN', strategy='mean', axis=0)),\n",
    "#         ('scaler', StandardScaler()),\n",
    "#         ('elasticnet', ElasticNet())]\n",
    "#steps = [('imputation', SimpleImputer(missing_values=np.nan, strategy='mean')),\n",
    "#         ('scaler', StandardScaler()),\n",
    "#         ('elasticnet', ElasticNet(max_iter=1000, tol=0.0001))] #Default parameters\n",
    "steps = [('imputation', SimpleImputer(missing_values=np.nan, strategy='mean')),\n",
    "         ('scaler', StandardScaler()),\n",
    "         ('elasticnet', ElasticNet(max_iter=1000000, tol=0.0001))]\n",
    "\n",
    "# Create the pipeline: pipeline \n",
    "pipeline = Pipeline(steps)\n",
    "\n",
    "# Specify the hyperparameter space\n",
    "parameters = {'elasticnet__l1_ratio' : np.linspace(0, 1, 30)}\n",
    "\n",
    "# Create train and test sets\n",
    "X_train, X_test, y_train, y_test = train_test_split(X, y, test_size=0.4, random_state=42)\n",
    "\n",
    "# Create the GridSearchCV object: gm_cv\n",
    "gm_cv = GridSearchCV(pipeline, param_grid=parameters, cv=5)\n",
    "\n",
    "# Fit to the training set\n",
    "gm_cv.fit(X_train, y_train)\n",
    "\n",
    "# Compute and print the metrics\n",
    "r2 = gm_cv.score(X_test, y_test)\n",
    "print(\"Tuned ElasticNet Alpha: {}\".format(gm_cv.best_params_))\n",
    "print(\"Tuned ElasticNet R squared: {}\".format(r2))"
   ]
  },
  {
   "cell_type": "code",
   "execution_count": null,
   "metadata": {},
   "outputs": [],
   "source": []
  }
 ],
 "metadata": {
  "kernelspec": {
   "display_name": "Python 3",
   "language": "python",
   "name": "python3"
  },
  "language_info": {
   "codemirror_mode": {
    "name": "ipython",
    "version": 3
   },
   "file_extension": ".py",
   "mimetype": "text/x-python",
   "name": "python",
   "nbconvert_exporter": "python",
   "pygments_lexer": "ipython3",
   "version": "3.7.6"
  }
 },
 "nbformat": 4,
 "nbformat_minor": 4
}
