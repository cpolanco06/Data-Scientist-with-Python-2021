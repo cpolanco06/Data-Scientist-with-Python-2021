{
 "cells": [
  {
   "cell_type": "code",
   "execution_count": 1,
   "metadata": {},
   "outputs": [
    {
     "name": "stdout",
     "output_type": "stream",
     "text": [
      "      id                 title  popularity release_date\n",
      "0    257          Oliver Twist   20.415572   2005-09-23\n",
      "1  14290  Better Luck Tomorrow    3.877036   2002-01-12\n",
      "2  38365             Grown Ups   38.864027   2010-06-24\n",
      "3   9672              Infamous    3.680896   2006-11-16\n",
      "4  12819       Alpha and Omega   12.300789   2010-09-17\n",
      "(4803, 4)\n",
      "\n",
      "\n",
      "       id     budget       revenue\n",
      "0   19995  237000000  2.787965e+09\n",
      "1     285  300000000  9.610000e+08\n",
      "2  206647  245000000  8.806746e+08\n",
      "3   49026  250000000  1.084939e+09\n",
      "4   49529  260000000  2.841391e+08\n",
      "(3229, 3)\n",
      "\n",
      "\n",
      "1574\n"
     ]
    }
   ],
   "source": [
    "#Counting missing rows with left join\n",
    "\n",
    "import pandas as pd\n",
    "movies = pd.read_pickle('datasets/movies.p')\n",
    "financials = pd.read_pickle('datasets/movie_financial_data.p')\n",
    "\n",
    "#The Movie Database is supported by volunteers going out into the world, collecting data, and entering it into the database.\n",
    "#This includes financial data, such as movie budget and revenue. If you wanted to know which movies are still missing data, you\n",
    "#could use a left join to identify them. Practice using a left join by merging the movies table and the financials table.\n",
    "\n",
    "#The movies and financials tables have been loaded for you.\n",
    "\n",
    "#Question\n",
    "\n",
    "#What column is likely the best column to merge the two tables on?\n",
    "\n",
    "print(movies.head())\n",
    "print(movies.shape)\n",
    "print('\\n')\n",
    "print(financials.head())\n",
    "print(financials.shape)\n",
    "print('\\n')\n",
    "\n",
    "#Possible Answers\n",
    "\n",
    "#on='budget'\n",
    "\n",
    "#on='popularity'\n",
    "\n",
    "#on='id'*\n",
    "\n",
    "# Merge movies and financials with a left join\n",
    "movies_financials = movies.merge(financials, on='id', how='left')\n",
    "\n",
    "# Merge the movies table with the financials table with a left join\n",
    "movies_financials = movies.merge(financials, on='id', how='left')\n",
    "\n",
    "# Count the number of rows in the budget column that are missing\n",
    "number_of_missing_fin = movies_financials['budget'].isnull().sum()\n",
    "\n",
    "# Print the number of movies missing financials\n",
    "print(number_of_missing_fin)"
   ]
  },
  {
   "cell_type": "code",
   "execution_count": 2,
   "metadata": {},
   "outputs": [
    {
     "name": "stdout",
     "output_type": "stream",
     "text": [
      "      id        title  popularity release_date                   tagline\n",
      "0  10193  Toy Story 3   59.995418   2010-06-16  No toy gets left behind.\n",
      "1    863  Toy Story 2   73.575118   1999-10-30        The toys are back!\n",
      "2    862    Toy Story   73.640445   1995-10-30                       NaN\n",
      "(3, 5)\n",
      "\n",
      "\n",
      "      id        title  popularity release_date                   tagline\n",
      "0  10193  Toy Story 3   59.995418   2010-06-16  No toy gets left behind.\n",
      "1    863  Toy Story 2   73.575118   1999-10-30        The toys are back!\n",
      "(2, 5)\n"
     ]
    }
   ],
   "source": [
    "#Enriching a dataset\n",
    "\n",
    "import pandas as pd\n",
    "toy_story = movies[(movies['title'] == 'Toy Story') |\n",
    "                   (movies['title'] == 'Toy Story 2') |\n",
    "                   (movies['title'] == 'Toy Story 3')].reset_index(drop=True)\n",
    "taglines = pd.read_pickle('datasets/movie_tag_lines.p')\n",
    "\n",
    "#Setting how='left' with the .merge()method is a useful technique for enriching or enhancing a dataset with additional\n",
    "#information from a different table. In this exercise, you will start off with a sample of movie data from the movie series Toy\n",
    "#Story. Your goal is to enrich this data by adding the marketing tag line for each movie. You will compare the results of a left\n",
    "#join versus an inner join.\n",
    "\n",
    "#The toy_story DataFrame contains the Toy Story movies. The toy_story and taglines DataFrames have been loaded for you.\n",
    "\n",
    "# Merge the toy_story and taglines tables with a left join\n",
    "toystory_tag = toy_story.merge(taglines, on='id', how='left')\n",
    "\n",
    "# Print the rows and shape of toystory_tag\n",
    "print(toystory_tag)\n",
    "print(toystory_tag.shape)\n",
    "print('\\n')\n",
    "\n",
    "# Merge the toy_story and taglines tables with a inner join\n",
    "toystory_tag = toy_story.merge(taglines, on='id')\n",
    "\n",
    "# Print the rows and shape of toystory_tag\n",
    "print(toystory_tag)\n",
    "print(toystory_tag.shape)"
   ]
  },
  {
   "cell_type": "code",
   "execution_count": 3,
   "metadata": {},
   "outputs": [
    {
     "name": "stdout",
     "output_type": "stream",
     "text": [
      "(4, 5)\n",
      "(232, 6)\n"
     ]
    }
   ],
   "source": [
    "#How many rows with a left join?\n",
    "\n",
    "import pandas as pd\n",
    "left_table = movies[(movies['title'] == 'Jurassic Park') |\n",
    "                   (movies['title'] == 'The Lost World: Jurassic Park') |\n",
    "                   (movies['title'] == 'Jurassic World') |\n",
    "                   (movies['title'] == 'Jurassic Park III')].reset_index(drop=True)\n",
    "one_to_one = pd.read_pickle('datasets/movie_tag_lines.p')\n",
    "one_to_many = pd.read_pickle('datasets/movie_crews.p')[['id', 'job', 'name']]\n",
    "\n",
    "#Select the true statement about left joins.\n",
    "\n",
    "#Try running the following code statements in the console.\n",
    "\n",
    "    #left_table.merge(one_to_one, on='id', how='left').shape\n",
    "    #left_table.merge(one_to_many, on='id', how='left').shape\n",
    "\n",
    "#Note that the left_table starts out with 4 rows.\n",
    "\n",
    "print(left_table.merge(one_to_one, on='id', how='left').shape)\n",
    "print(left_table.merge(one_to_many, on='id', how='left').shape)\n",
    "\n",
    "\n",
    "#The output of a one-to-one merge with a left join will have more rows than the left table.\n",
    "\n",
    "#The output of a one-to-one merge with a left join will have fewer rows than the left table.\n",
    "\n",
    "#The output of a one-to-many merge with a left join will have greater than or equal rows than the left table.*"
   ]
  },
  {
   "cell_type": "code",
   "execution_count": 4,
   "metadata": {},
   "outputs": [
    {
     "name": "stdout",
     "output_type": "stream",
     "text": [
      "   movie_id genre_act        genre_sci\n",
      "0        11    Action  Science Fiction\n",
      "1        18    Action  Science Fiction\n",
      "2        95    Action  Science Fiction\n",
      "3       106    Action  Science Fiction\n",
      "4       154    Action  Science Fiction\n",
      "\n",
      "\n",
      "      id                         title  popularity release_date  movie_id  \\\n",
      "0  18841  The Lost Skeleton of Cadavra    1.680525   2001-09-12     18841   \n",
      "1  26672     The Thief and the Cobbler    2.439184   1993-09-23     26672   \n",
      "2  15301      Twilight Zone: The Movie   12.902975   1983-06-24     15301   \n",
      "3   8452                   The 6th Day   18.447479   2000-11-17      8452   \n",
      "4   1649    Bill & Ted's Bogus Journey   11.349664   1991-07-19      1649   \n",
      "\n",
      "  genre_act        genre_sci  \n",
      "0       NaN  Science Fiction  \n",
      "1       NaN  Science Fiction  \n",
      "2       NaN  Science Fiction  \n",
      "3       NaN  Science Fiction  \n",
      "4       NaN  Science Fiction  \n",
      "(258, 7)\n"
     ]
    }
   ],
   "source": [
    "#Right join to find unique movies\n",
    "\n",
    "import pandas as pd\n",
    "movie_genres = pd.read_pickle('datasets/movie_genres.p')\n",
    "action_movies = movie_genres[movie_genres['genre'] == 'Action']\n",
    "scifi_movies = movie_genres[movie_genres['genre'] == 'Science Fiction']\n",
    "\n",
    "#Most of the recent big-budget science fiction movies can also be classified as action movies. You are given a table of science\n",
    "#fiction movies called scifi_movies and another table of action movies called action_movies. Your goal is to find which movies\n",
    "#are considered only science fiction movies. Once you have this table, you can merge the movies table in to see the movie names.\n",
    "#Since this exercise is related to science fiction movies, use a right join as your superhero power to solve this problem.\n",
    "\n",
    "#The movies, scifi_movies, and action_movies tables have been loaded for you.\n",
    "\n",
    "# Merge action_movies to scifi_movies with right join\n",
    "action_scifi = action_movies.merge(scifi_movies, on='movie_id', how='right')\n",
    "\n",
    "# Merge action_movies to scifi_movies with right join\n",
    "action_scifi = action_movies.merge(scifi_movies, on='movie_id', how='right',\n",
    "                                   suffixes=('_act', '_sci'))\n",
    "\n",
    "# Print the first few rows of action_scifi to see the structure\n",
    "print(action_scifi.head())\n",
    "print('\\n')\n",
    "\n",
    "# Merge action_movies to the scifi_movies with right join\n",
    "action_scifi = action_movies.merge(scifi_movies, on='movie_id', how='right',\n",
    "                                   suffixes=('_act','_sci'))\n",
    "\n",
    "# From action_scifi, select only the rows where the genre_act column is null\n",
    "scifi_only = action_scifi[action_scifi['genre_act'].isnull()]\n",
    "\n",
    "# Merge action_movies to the scifi_movies with right join\n",
    "action_scifi = action_movies.merge(scifi_movies, on='movie_id', how='right',\n",
    "                                   suffixes=('_act','_sci'))\n",
    "\n",
    "# From action_scifi, select only the rows where the genre_act column is null\n",
    "scifi_only = action_scifi[action_scifi['genre_act'].isnull()]\n",
    "\n",
    "# Merge the movies and scifi_only tables with an inner join\n",
    "movies_and_scifi_only = movies.merge(scifi_only, left_on='id', right_on='movie_id')\n",
    "\n",
    "# Print the first few rows and shape of movies_and_scifi_only\n",
    "print(movies_and_scifi_only.head())\n",
    "print(movies_and_scifi_only.shape)"
   ]
  },
  {
   "cell_type": "code",
   "execution_count": 5,
   "metadata": {},
   "outputs": [
    {
     "data": {
      "image/png": "[encoded data removed]",
      "text/plain": [
       "<Figure size 432x288 with 1 Axes>"
      ]
     },
     "metadata": {
      "needs_background": "light"
     },
     "output_type": "display_data"
    }
   ],
   "source": [
    "#Popular genres with right join\n",
    "\n",
    "import pandas as pd\n",
    "movie_to_genres = pd.read_pickle('datasets/movie_genres.p')\n",
    "pop_movies = movies.sort_values(by='popularity', ascending=False)[:10]\n",
    "import matplotlib.pyplot as plt\n",
    "\n",
    "#What are the genres of the most popular movies? To answer this question, you need to merge data from the movies and\n",
    "#movie_to_genres tables. In a table called pop_movies, the top 10 most popular movies in the movies table have been selected.\n",
    "#To ensure that you are analyzing all of the popular movies, merge it with the movie_to_genres table using a right join. To\n",
    "#complete your analysis, count the number of different genres. Also, the two tables can be merged by the movie ID. However, in\n",
    "#pop_movies that column is called id, and in movies_to_genres it's called movie_id.\n",
    "\n",
    "#The pop_movies and movie_to_genres tables have been loaded for you.\n",
    "\n",
    "# Use right join to merge the movie_to_genres and pop_movies tables\n",
    "genres_movies = movie_to_genres.merge(pop_movies, how='right', \n",
    "                                      left_on='movie_id', \n",
    "                                      right_on='id')\n",
    "\n",
    "# Count the number of genres\n",
    "genre_count = genres_movies.groupby('genre').agg({'id':'count'})\n",
    "\n",
    "# Plot a bar chart of the genre_count\n",
    "genre_count.plot(kind='bar')\n",
    "plt.show()"
   ]
  },
  {
   "cell_type": "code",
   "execution_count": 6,
   "metadata": {},
   "outputs": [],
   "source": [
    "#Using outer join to select actors\n",
    "\n",
    "import pandas as pd\n",
    "movie_casts = pd.read_pickle('datasets/movie_casts.p')\n",
    "iron_1_actors = movie_casts[movie_casts['movie_id'] == 1726][['character', 'id', 'name']]\n",
    "iron_2_actors = movie_casts[movie_casts['movie_id'] == 10138][['character', 'id', 'name']]\n",
    "\n",
    "#One cool aspect of using an outer join is that, because it returns all rows from both merged tables and null where they do not\n",
    "#match, you can use it to find rows that do not have a match in the other table. To try for yourself, you have been given two\n",
    "#tables with a list of actors from two popular movies: Iron Man 1 and Iron Man 2. Most of the actors played in both movies. Use\n",
    "#an outer join to find actors who did not act in both movies.\n",
    "\n",
    "#The Iron Man 1 table is called iron_1_actors, and Iron Man 2 table is called iron_2_actors. Both tables have been loaded for\n",
    "#you and a few rows printed so you can see the structure.\n",
    "\n"
   ]
  },
  {
   "cell_type": "markdown",
   "metadata": {},
   "source": [
    "<img src = \"noJoin.png\">"
   ]
  },
  {
   "cell_type": "code",
   "execution_count": 7,
   "metadata": {},
   "outputs": [
    {
     "name": "stdout",
     "output_type": "stream",
     "text": [
      "                                    character_1      id           name_1  \\\n",
      "0                                        Yinsen   17857       Shaun Toub   \n",
      "2                   Obadiah Stane / Iron Monger    1229     Jeff Bridges   \n",
      "3  Lt. Col. James \"Rhodey\" Rhodes / War Machine   18288  Terrence Howard   \n",
      "5                                          Raza   57452      Faran Tahir   \n",
      "8                                    Abu Bakaar  173810    Sayed Badreya   \n",
      "\n",
      "  character_2 name_2  \n",
      "0         NaN    NaN  \n",
      "2         NaN    NaN  \n",
      "3         NaN    NaN  \n",
      "5         NaN    NaN  \n",
      "8         NaN    NaN  \n"
     ]
    }
   ],
   "source": [
    "# Merge iron_1_actors to iron_2_actors on id with outer join using suffixes\n",
    "iron_1_and_2 = iron_1_actors.merge(iron_2_actors,\n",
    "                                     on='id',\n",
    "                                     how='outer',\n",
    "                                     suffixes=('_1', '_2'))\n",
    "\n",
    "# Create an index that returns true if name_1 or name_2 are null\n",
    "m = ((iron_1_and_2['name_1'].isnull()) | \n",
    "     (iron_1_and_2['name_2'].isnull()))\n",
    "\n",
    "# Print the first few rows of iron_1_and_2\n",
    "print(iron_1_and_2[m].head())"
   ]
  },
  {
   "cell_type": "code",
   "execution_count": 8,
   "metadata": {},
   "outputs": [
    {
     "name": "stdout",
     "output_type": "stream",
     "text": [
      "        id   job_dir       name_dir        job_crew          name_crew\n",
      "156  19995  Director  James Cameron          Editor  Stephen E. Rivkin\n",
      "157  19995  Director  James Cameron  Sound Designer  Christopher Boyes\n",
      "158  19995  Director  James Cameron         Casting          Mali Finn\n",
      "160  19995  Director  James Cameron          Writer      James Cameron\n",
      "161  19995  Director  James Cameron    Set Designer    Richard F. Mays\n"
     ]
    }
   ],
   "source": [
    "#Self join\n",
    "\n",
    "import pandas as pd\n",
    "crews = pd.read_pickle('datasets/movie_crews.p')[['id', 'job', 'name']]\n",
    "\n",
    "#Merging a table to itself can be useful when you want to compare values in a column to other values in the same column. In this\n",
    "#exercise, you will practice this by creating a table that for each movie will list the movie director and a member of the crew\n",
    "#on one row. You have been given a table called crews, which has columns id, job, and name. First, merge the table to itself\n",
    "#using the movie ID. This merge will give you a larger table where for each movie, every job is matched against each other. Then\n",
    "#select only those rows with a director in the left table, and avoid having a row where the director's job is listed in both the\n",
    "#left and right tables. This filtering will remove job combinations that aren't with the director.\n",
    "\n",
    "#The crews table has been loaded for you.\n",
    "\n",
    "# Merge the crews table to itself\n",
    "crews_self_merged = crews.merge(crews, on='id', how='inner',\n",
    "                                suffixes=('_dir','_crew'))\n",
    "\n",
    "# Create a boolean index to select the appropriate rows\n",
    "boolean_filter = ((crews_self_merged['job_dir'] == 'Director') & \n",
    "                  (crews_self_merged['job_crew'] != 'Director'))\n",
    "direct_crews = crews_self_merged[boolean_filter]\n",
    "\n",
    "# Print the first few rows of direct_crews\n",
    "print(direct_crews.head())"
   ]
  },
  {
   "cell_type": "code",
   "execution_count": 9,
   "metadata": {},
   "outputs": [],
   "source": [
    "#How does pandas handle self joins?\n",
    "\n",
    "#Select the false statement about merging a table to itself.\n",
    "\n",
    "#You can merge a table to itself with a right join.\n",
    "\n",
    "#Merging a table to itself can allow you to compare values in a column to other values in the same column.\n",
    "\n",
    "#The Pandas module limits you to one merge where you merge a table to itself. You cannot repeat this process over and over.*\n",
    "\n",
    "#Merging a table to itself is like working with two separate tables."
   ]
  },
  {
   "cell_type": "code",
   "execution_count": 10,
   "metadata": {},
   "outputs": [
    {
     "name": "stdout",
     "output_type": "stream",
     "text": [
      "                      title  popularity release_date  vote_average  vote_count\n",
      "id                                                                            \n",
      "257            Oliver Twist   20.415572   2005-09-23           6.7       274.0\n",
      "14290  Better Luck Tomorrow    3.877036   2002-01-12           6.5        27.0\n",
      "38365             Grown Ups   38.864027   2010-06-24           6.0      1705.0\n",
      "9672               Infamous    3.680896   2006-11-16           6.4        60.0\n",
      "12819       Alpha and Omega   12.300789   2010-09-17           5.3       124.0\n"
     ]
    }
   ],
   "source": [
    "#Index merge for movie ratings\n",
    "\n",
    "import pandas as pd\n",
    "movies = pd.read_pickle('datasets/movies.p')\n",
    "movies.set_index('id', inplace=True)\n",
    "ratings = pd.read_pickle('datasets/movie_ratings.p')\n",
    "ratings.set_index('id', inplace=True)\n",
    "\n",
    "#To practice merging on indexes, you will merge movies and a table called ratings that holds info about movie ratings. Make sure\n",
    "#your merge returns all of the rows from the movies table and not all the rows of ratings table need to be included in the\n",
    "#result.\n",
    "\n",
    "#The movies and ratings tables have been loaded for you.\n",
    "\n",
    "# Merge to the movies table the ratings table on the index\n",
    "movies_ratings = movies.merge(ratings, on='id', how='left')\n",
    "\n",
    "# Print the first few rows of movies_ratings\n",
    "print(movies_ratings.head())"
   ]
  },
  {
   "cell_type": "code",
   "execution_count": 11,
   "metadata": {},
   "outputs": [
    {
     "name": "stdout",
     "output_type": "stream",
     "text": [
      "               title_org        title_seq          diff\n",
      "id                                                     \n",
      "331    Jurassic Park III   Jurassic World  1.144748e+09\n",
      "272        Batman Begins  The Dark Knight  6.303398e+08\n",
      "10138         Iron Man 2       Iron Man 3  5.915067e+08\n",
      "863          Toy Story 2      Toy Story 3  5.696028e+08\n",
      "10764  Quantum of Solace          Skyfall  5.224703e+08\n"
     ]
    }
   ],
   "source": [
    "#Do sequels earn more?\n",
    "\n",
    "import pandas as pd\n",
    "sequels = pd.read_pickle('datasets/movie_sequels.p')\n",
    "sequels.set_index('id', inplace=True)\n",
    "import numpy as np\n",
    "sequels['sequel'] = sequels['sequel'].fillna(0).astype(np.int64)\n",
    "financials = pd.read_pickle('datasets/movie_financial_data.p')\n",
    "financials.set_index('id', inplace=True)\n",
    "\n",
    "#It is time to put together many of the aspects that you have learned in this chapter. In this exercise, you'll find out which\n",
    "#movie sequels earned the most compared to the original movie. To answer this question, you will merge a modified version of the\n",
    "#sequels and financials tables where their index is the movie ID. You will need to choose a merge type that will return all of\n",
    "#the rows from the sequels table and not all the rows of financials table need to be included in the result. From there, you\n",
    "#will join the resulting table to itself so that you can compare the revenue values of the original movie to the sequel. Next,\n",
    "#you will calculate the difference between the two revenues and sort the resulting dataset.\n",
    "\n",
    "#The sequels and financials tables have been provided.\n",
    "\n",
    "# Merge sequels and financials on index id\n",
    "sequels_fin = sequels.merge(financials, on='id', how='left')\n",
    "\n",
    "# Self merge with suffixes as inner join with left on sequel and right on id\n",
    "orig_seq = sequels_fin.merge(sequels_fin, how='inner', left_on='sequel', \n",
    "                             right_on='id', right_index=True,\n",
    "                             suffixes=('_org','_seq'))\n",
    "\n",
    "# Add calculation to subtract revenue_org from revenue_seq \n",
    "orig_seq['diff'] = orig_seq['revenue_seq'] - orig_seq['revenue_org']\n",
    "\n",
    "# Select the title_org, title_seq, and diff \n",
    "titles_diff = orig_seq[['title_org','title_seq','diff']]\n",
    "\n",
    "# Print the first rows of the sorted titles_diff\n",
    "print(titles_diff.sort_values(by='diff', ascending=False).head())"
   ]
  },
  {
   "cell_type": "code",
   "execution_count": null,
   "metadata": {},
   "outputs": [],
   "source": []
  }
 ],
 "metadata": {
  "kernelspec": {
   "display_name": "Python 3",
   "language": "python",
   "name": "python3"
  },
  "language_info": {
   "codemirror_mode": {
    "name": "ipython",
    "version": 3
   },
   "file_extension": ".py",
   "mimetype": "text/x-python",
   "name": "python",
   "nbconvert_exporter": "python",
   "pygments_lexer": "ipython3",
   "version": "3.7.6"
  }
 },
 "nbformat": 4,
 "nbformat_minor": 4
}
