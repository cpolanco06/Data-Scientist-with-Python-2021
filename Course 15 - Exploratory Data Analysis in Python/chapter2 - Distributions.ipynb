{
 "cells": [
  {
   "cell_type": "code",
   "execution_count": 1,
   "metadata": {},
   "outputs": [
    {
     "name": "stdout",
     "output_type": "stream",
     "text": [
      "<class 'pandas.core.frame.DataFrame'>\n",
      "Int64Index: 62466 entries, 0 to 62465\n",
      "Data columns (total 10 columns):\n",
      " #   Column   Non-Null Count  Dtype  \n",
      "---  ------   --------------  -----  \n",
      " 0   year     62466 non-null  int64  \n",
      " 1   age      62281 non-null  float64\n",
      " 2   cohort   62282 non-null  float64\n",
      " 3   sex      62466 non-null  int64  \n",
      " 4   race     62466 non-null  int64  \n",
      " 5   educ     62304 non-null  float64\n",
      " 6   realinc  55499 non-null  float64\n",
      " 7   gunlaw   40550 non-null  float64\n",
      " 8   grass    36222 non-null  float64\n",
      " 9   wtssall  62466 non-null  float64\n",
      "dtypes: float64(7), int64(3)\n",
      "memory usage: 5.2 MB\n"
     ]
    },
    {
     "data": {
      "text/html": [
       "<div>\n",
       "<style scoped>\n",
       "    .dataframe tbody tr th:only-of-type {\n",
       "        vertical-align: middle;\n",
       "    }\n",
       "\n",
       "    .dataframe tbody tr th {\n",
       "        vertical-align: top;\n",
       "    }\n",
       "\n",
       "    .dataframe thead th {\n",
       "        text-align: right;\n",
       "    }\n",
       "</style>\n",
       "<table border=\"1\" class=\"dataframe\">\n",
       "  <thead>\n",
       "    <tr style=\"text-align: right;\">\n",
       "      <th></th>\n",
       "      <th>year</th>\n",
       "      <th>age</th>\n",
       "      <th>cohort</th>\n",
       "      <th>sex</th>\n",
       "      <th>race</th>\n",
       "      <th>educ</th>\n",
       "      <th>realinc</th>\n",
       "      <th>gunlaw</th>\n",
       "      <th>grass</th>\n",
       "      <th>wtssall</th>\n",
       "    </tr>\n",
       "  </thead>\n",
       "  <tbody>\n",
       "    <tr>\n",
       "      <th>0</th>\n",
       "      <td>1972</td>\n",
       "      <td>26.0</td>\n",
       "      <td>1946.0</td>\n",
       "      <td>1</td>\n",
       "      <td>1</td>\n",
       "      <td>18.0</td>\n",
       "      <td>13537.0</td>\n",
       "      <td>2.0</td>\n",
       "      <td>NaN</td>\n",
       "      <td>0.889300</td>\n",
       "    </tr>\n",
       "    <tr>\n",
       "      <th>1</th>\n",
       "      <td>1972</td>\n",
       "      <td>38.0</td>\n",
       "      <td>1934.0</td>\n",
       "      <td>2</td>\n",
       "      <td>1</td>\n",
       "      <td>12.0</td>\n",
       "      <td>18951.0</td>\n",
       "      <td>1.0</td>\n",
       "      <td>NaN</td>\n",
       "      <td>0.444600</td>\n",
       "    </tr>\n",
       "    <tr>\n",
       "      <th>2</th>\n",
       "      <td>1972</td>\n",
       "      <td>57.0</td>\n",
       "      <td>1915.0</td>\n",
       "      <td>1</td>\n",
       "      <td>1</td>\n",
       "      <td>12.0</td>\n",
       "      <td>30458.0</td>\n",
       "      <td>1.0</td>\n",
       "      <td>NaN</td>\n",
       "      <td>1.333900</td>\n",
       "    </tr>\n",
       "    <tr>\n",
       "      <th>3</th>\n",
       "      <td>1972</td>\n",
       "      <td>61.0</td>\n",
       "      <td>1911.0</td>\n",
       "      <td>2</td>\n",
       "      <td>1</td>\n",
       "      <td>14.0</td>\n",
       "      <td>37226.0</td>\n",
       "      <td>1.0</td>\n",
       "      <td>NaN</td>\n",
       "      <td>0.889300</td>\n",
       "    </tr>\n",
       "    <tr>\n",
       "      <th>4</th>\n",
       "      <td>1972</td>\n",
       "      <td>59.0</td>\n",
       "      <td>1913.0</td>\n",
       "      <td>1</td>\n",
       "      <td>1</td>\n",
       "      <td>12.0</td>\n",
       "      <td>30458.0</td>\n",
       "      <td>2.0</td>\n",
       "      <td>NaN</td>\n",
       "      <td>0.889300</td>\n",
       "    </tr>\n",
       "    <tr>\n",
       "      <th>...</th>\n",
       "      <td>...</td>\n",
       "      <td>...</td>\n",
       "      <td>...</td>\n",
       "      <td>...</td>\n",
       "      <td>...</td>\n",
       "      <td>...</td>\n",
       "      <td>...</td>\n",
       "      <td>...</td>\n",
       "      <td>...</td>\n",
       "      <td>...</td>\n",
       "    </tr>\n",
       "    <tr>\n",
       "      <th>62461</th>\n",
       "      <td>2016</td>\n",
       "      <td>32.0</td>\n",
       "      <td>1984.0</td>\n",
       "      <td>1</td>\n",
       "      <td>1</td>\n",
       "      <td>13.0</td>\n",
       "      <td>74880.0</td>\n",
       "      <td>1.0</td>\n",
       "      <td>NaN</td>\n",
       "      <td>0.956994</td>\n",
       "    </tr>\n",
       "    <tr>\n",
       "      <th>62462</th>\n",
       "      <td>2016</td>\n",
       "      <td>61.0</td>\n",
       "      <td>1955.0</td>\n",
       "      <td>2</td>\n",
       "      <td>1</td>\n",
       "      <td>16.0</td>\n",
       "      <td>65520.0</td>\n",
       "      <td>NaN</td>\n",
       "      <td>1.0</td>\n",
       "      <td>0.956994</td>\n",
       "    </tr>\n",
       "    <tr>\n",
       "      <th>62463</th>\n",
       "      <td>2016</td>\n",
       "      <td>67.0</td>\n",
       "      <td>1949.0</td>\n",
       "      <td>2</td>\n",
       "      <td>1</td>\n",
       "      <td>13.0</td>\n",
       "      <td>NaN</td>\n",
       "      <td>NaN</td>\n",
       "      <td>2.0</td>\n",
       "      <td>1.564363</td>\n",
       "    </tr>\n",
       "    <tr>\n",
       "      <th>62464</th>\n",
       "      <td>2016</td>\n",
       "      <td>57.0</td>\n",
       "      <td>1959.0</td>\n",
       "      <td>2</td>\n",
       "      <td>1</td>\n",
       "      <td>12.0</td>\n",
       "      <td>9945.0</td>\n",
       "      <td>2.0</td>\n",
       "      <td>NaN</td>\n",
       "      <td>0.956994</td>\n",
       "    </tr>\n",
       "    <tr>\n",
       "      <th>62465</th>\n",
       "      <td>2016</td>\n",
       "      <td>56.0</td>\n",
       "      <td>1960.0</td>\n",
       "      <td>2</td>\n",
       "      <td>1</td>\n",
       "      <td>12.0</td>\n",
       "      <td>38610.0</td>\n",
       "      <td>1.0</td>\n",
       "      <td>NaN</td>\n",
       "      <td>0.478497</td>\n",
       "    </tr>\n",
       "  </tbody>\n",
       "</table>\n",
       "<p>62466 rows × 10 columns</p>\n",
       "</div>"
      ],
      "text/plain": [
       "       year   age  cohort  sex  race  educ  realinc  gunlaw  grass   wtssall\n",
       "0      1972  26.0  1946.0    1     1  18.0  13537.0     2.0    NaN  0.889300\n",
       "1      1972  38.0  1934.0    2     1  12.0  18951.0     1.0    NaN  0.444600\n",
       "2      1972  57.0  1915.0    1     1  12.0  30458.0     1.0    NaN  1.333900\n",
       "3      1972  61.0  1911.0    2     1  14.0  37226.0     1.0    NaN  0.889300\n",
       "4      1972  59.0  1913.0    1     1  12.0  30458.0     2.0    NaN  0.889300\n",
       "...     ...   ...     ...  ...   ...   ...      ...     ...    ...       ...\n",
       "62461  2016  32.0  1984.0    1     1  13.0  74880.0     1.0    NaN  0.956994\n",
       "62462  2016  61.0  1955.0    2     1  16.0  65520.0     NaN    1.0  0.956994\n",
       "62463  2016  67.0  1949.0    2     1  13.0      NaN     NaN    2.0  1.564363\n",
       "62464  2016  57.0  1959.0    2     1  12.0   9945.0     2.0    NaN  0.956994\n",
       "62465  2016  56.0  1960.0    2     1  12.0  38610.0     1.0    NaN  0.478497\n",
       "\n",
       "[62466 rows x 10 columns]"
      ]
     },
     "execution_count": 1,
     "metadata": {},
     "output_type": "execute_result"
    }
   ],
   "source": [
    "import pandas as pd\n",
    "\n",
    "gss = pd.read_hdf('datasets/gss.hdf5', 'gss')\n",
    "gss.info()\n",
    "gss"
   ]
  },
  {
   "cell_type": "code",
   "execution_count": 2,
   "metadata": {},
   "outputs": [
    {
     "name": "stdout",
     "output_type": "stream",
     "text": [
      "1972    1613\n",
      "1973    1504\n",
      "1974    1484\n",
      "1975    1490\n",
      "1976    1499\n",
      "1977    1530\n",
      "1978    1532\n",
      "1980    1468\n",
      "1982    1860\n",
      "1983    1599\n",
      "1984    1473\n",
      "1985    1534\n",
      "1986    1470\n",
      "1987    1819\n",
      "1988    1481\n",
      "1989    1537\n",
      "1990    1372\n",
      "1991    1517\n",
      "1993    1606\n",
      "1994    2992\n",
      "1996    2904\n",
      "1998    2832\n",
      "2000    2817\n",
      "2002    2765\n",
      "2004    2812\n",
      "2006    4510\n",
      "2008    2023\n",
      "2010    2044\n",
      "2012    1974\n",
      "2014    2538\n",
      "2016    2867\n",
      "Name: , dtype: int64\n"
     ]
    }
   ],
   "source": [
    "from empiricaldist import Pmf\n",
    "\n",
    "#Make a PMF\n",
    "\n",
    "#The GSS dataset has been pre-loaded for you into a DataFrame called gss. You can explore it in the IPython Shell to get\n",
    "#familiar with it.\n",
    "\n",
    "#In this exercise, you'll focus on one variable in this dataset, 'year', which represents the year each respondent was\n",
    "#interviewed.\n",
    "\n",
    "#The Pmf class you saw in the video has already been created for you. You can access it outside of DataCamp via the\n",
    "#empiricaldist library.\n",
    "\n",
    "# Compute the PMF for year\n",
    "pmf_year = Pmf.from_seq(gss['year'], normalize=False) #Pmf -> Pmf.from_seq\n",
    "\n",
    "# Print the result\n",
    "print(pmf_year)"
   ]
  },
  {
   "cell_type": "code",
   "execution_count": 3,
   "metadata": {},
   "outputs": [],
   "source": [
    "#Question\n",
    "\n",
    "#How many respondents were interviewed in 2016?\n",
    "\n",
    "#Possible Answers\n",
    "\n",
    "#2867*\n",
    "\n",
    "#1613\n",
    "\n",
    "#2538\n",
    "\n",
    "#0.045897"
   ]
  },
  {
   "cell_type": "code",
   "execution_count": 4,
   "metadata": {},
   "outputs": [
    {
     "name": "stdout",
     "output_type": "stream",
     "text": [
      "18.0    0.005620\n",
      "19.0    0.019878\n",
      "20.0    0.018111\n",
      "21.0    0.019219\n",
      "22.0    0.020247\n",
      "          ...   \n",
      "85.0    0.002360\n",
      "86.0    0.001927\n",
      "87.0    0.001702\n",
      "88.0    0.001413\n",
      "89.0    0.003773\n",
      "Name: , Length: 72, dtype: float64\n"
     ]
    }
   ],
   "source": [
    "import matplotlib.pyplot as plt\n",
    "\n",
    "#Plot a PMF\n",
    "\n",
    "#Now let's plot a PMF for the age of the respondents in the GSS dataset. The variable 'age' contains respondents' age in\n",
    "#years.\n",
    "\n",
    "# Select the age column\n",
    "age = gss['age']\n",
    "\n",
    "# Make a PMF of age\n",
    "pmf_age = Pmf.from_seq(age)\n",
    "\n",
    "print(pmf_age)"
   ]
  },
  {
   "cell_type": "code",
   "execution_count": 5,
   "metadata": {},
   "outputs": [
    {
     "data": {
      "image/png": "[encoded data removed]",
      "text/plain": [
       "<Figure size 720x432 with 1 Axes>"
      ]
     },
     "metadata": {
      "needs_background": "light"
     },
     "output_type": "display_data"
    }
   ],
   "source": [
    "plt.figure(figsize=(10,6))\n",
    "\n",
    "# Select the age column\n",
    "age = gss['age']\n",
    "\n",
    "# Make a PMF of age\n",
    "pmf_age = Pmf.from_seq(age)\n",
    "\n",
    "# Plot the PMF\n",
    "pmf_age.bar()\n",
    "\n",
    "# Label the axes\n",
    "plt.xlabel('Age')\n",
    "plt.ylabel('PMF')\n",
    "plt.show()"
   ]
  },
  {
   "cell_type": "code",
   "execution_count": 6,
   "metadata": {},
   "outputs": [
    {
     "name": "stdout",
     "output_type": "stream",
     "text": [
      "0.2539137136526389\n"
     ]
    }
   ],
   "source": [
    "from empiricaldist import Cdf\n",
    "\n",
    "#Make a CDF\n",
    "\n",
    "#In this exercise, you'll make a CDF and use it to determine the fraction of respondents in the GSS dataset who are OLDER\n",
    "#than 30.\n",
    "\n",
    "#The GSS dataset has been preloaded for you into a DataFrame called gss.\n",
    "\n",
    "#As with the Pmf class from the previous lesson, the Cdf class you just saw in the video has been created for you, and you\n",
    "#can access it outside of DataCamp via the empiricaldist library.\n",
    "\n",
    "# Select the age column\n",
    "age = gss['age']\n",
    "\n",
    "# Compute the CDF of age\n",
    "cdf_age = Cdf.from_seq(age)\n",
    "\n",
    "# Calculate the CDF of 30\n",
    "print(cdf_age(30))"
   ]
  },
  {
   "cell_type": "code",
   "execution_count": 7,
   "metadata": {},
   "outputs": [],
   "source": [
    "#Question\n",
    "\n",
    "#What fraction of the respondents in the GSS dataset are OLDER than 30?\n",
    "\n",
    "#Possible Answers\n",
    "\n",
    "#Approximately 75%*\n",
    "\n",
    "#Approximately 65%\n",
    "\n",
    "#Approximately 45%\n",
    "\n",
    "#Approximately 25%"
   ]
  },
  {
   "cell_type": "code",
   "execution_count": 8,
   "metadata": {},
   "outputs": [
    {
     "name": "stdout",
     "output_type": "stream",
     "text": [
      "29676.0\n"
     ]
    }
   ],
   "source": [
    "cdf_income = Cdf.from_seq(gss['realinc'])\n",
    "\n",
    "#Compute IQR\n",
    "\n",
    "#Recall from the video that the interquartile range (IQR) is the difference between the 75th and 25th percentiles. It is a\n",
    "#measure of variability that is robust in the presence of errors or extreme values.\n",
    "\n",
    "#In this exercise, you'll compute the interquartile range of income in the GSS dataset. Income is stored in the 'realinc'\n",
    "#column, and the CDF of income has already been computed and stored in cdf_income.\n",
    "\n",
    "# Calculate the 75th percentile \n",
    "percentile_75th = cdf_income.inverse(0.75)\n",
    "\n",
    "# Calculate the 25th percentile\n",
    "percentile_25th = cdf_income.inverse(0.25)\n",
    "\n",
    "# Calculate the interquartile range\n",
    "iqr = percentile_75th - percentile_25th\n",
    "\n",
    "# Print the interquartile range\n",
    "print(iqr)"
   ]
  },
  {
   "cell_type": "code",
   "execution_count": 9,
   "metadata": {},
   "outputs": [],
   "source": [
    "#Question\n",
    "\n",
    "#What is the interquartile range (IQR) of income in the GSS datset?\n",
    "\n",
    "#Possible Answers\n",
    "\n",
    "#Approximately 29676*\n",
    "\n",
    "#Approximately 26015\n",
    "\n",
    "#Approximately 34702\n",
    "\n",
    "#Approximately 30655"
   ]
  },
  {
   "cell_type": "code",
   "execution_count": 10,
   "metadata": {},
   "outputs": [
    {
     "data": {
      "image/png": "[encoded data removed]",
      "text/plain": [
       "<Figure size 720x432 with 1 Axes>"
      ]
     },
     "metadata": {
      "needs_background": "light"
     },
     "output_type": "display_data"
    }
   ],
   "source": [
    "plt.figure(figsize=(10,6))\n",
    "\n",
    "#Plot a CDF\n",
    "\n",
    "#The distribution of income in almost every country is long-tailed; that is, there are a small number of people with very\n",
    "#high incomes.\n",
    "\n",
    "#In the GSS dataset, the variable 'realinc' represents total household income, converted to 1986 dollars. We can get a\n",
    "#sense of the shape of this distribution by plotting the CDF.\n",
    "\n",
    "# Select realinc\n",
    "income = gss['realinc']\n",
    "\n",
    "# Make the CDF\n",
    "cdf_income = Cdf.from_seq(income)\n",
    "\n",
    "# Plot it\n",
    "cdf_income.plot()\n",
    "\n",
    "# Label the axes\n",
    "plt.xlabel('Income (1986 USD)')\n",
    "plt.ylabel('CDF')\n",
    "plt.show()"
   ]
  },
  {
   "cell_type": "code",
   "execution_count": 11,
   "metadata": {},
   "outputs": [
    {
     "data": {
      "text/plain": [
       "array(0.53226117)"
      ]
     },
     "execution_count": 11,
     "metadata": {},
     "output_type": "execute_result"
    }
   ],
   "source": [
    "#Distribution of education\n",
    "\n",
    "#Let's begin comparing incomes for different levels of education in the GSS dataset, which has been pre-loaded for you into\n",
    "#a DataFrame called gss. The variable educ represents the respondent's years of education.\n",
    "\n",
    "#What fraction of respondents report that they have 12 years of education or fewer?\n",
    "\n",
    "cdf = Cdf.from_seq(gss['educ'])\n",
    "cdf(12)"
   ]
  },
  {
   "cell_type": "code",
   "execution_count": 12,
   "metadata": {},
   "outputs": [],
   "source": [
    "#Possible Answers\n",
    "\n",
    "#Approximately 22%\n",
    "\n",
    "#Approximately 31%\n",
    "\n",
    "#Approximately 47%\n",
    "\n",
    "#Approximately 53%*"
   ]
  },
  {
   "cell_type": "code",
   "execution_count": 13,
   "metadata": {},
   "outputs": [
    {
     "name": "stdout",
     "output_type": "stream",
     "text": [
      "0.5308807991547402\n"
     ]
    }
   ],
   "source": [
    "#Extract education levels\n",
    "\n",
    "#Let's create Boolean Series to identify respondents with different levels of education.\n",
    "\n",
    "#In the U.S, 12 years of education usually means the respondent has completed high school (secondary education). A\n",
    "#respondent with 14 years of education has probably completed an associate degree (two years of college); someone with 16\n",
    "#years has probably completed a bachelor's degree (four years of college).\n",
    "\n",
    "# Select educ\n",
    "educ = gss['educ']\n",
    "\n",
    "# Bachelor's degree\n",
    "bach = (educ >= 16)\n",
    "\n",
    "# Associate degree\n",
    "assc = (educ >= 14) & (educ < 16)\n",
    "\n",
    "# High school\n",
    "high = (educ <= 12)\n",
    "print(high.mean())"
   ]
  },
  {
   "cell_type": "code",
   "execution_count": 14,
   "metadata": {},
   "outputs": [
    {
     "data": {
      "image/png": "[encoded data removed]",
      "text/plain": [
       "<Figure size 720x432 with 1 Axes>"
      ]
     },
     "metadata": {
      "needs_background": "light"
     },
     "output_type": "display_data"
    }
   ],
   "source": [
    "plt.figure(figsize=(10,6))\n",
    "\n",
    "#Plot income CDFs\n",
    "\n",
    "#Let's now see what the distribution of income looks like for people with different education levels. You can do this by\n",
    "#plotting the CDFs. Recall how Allen plotted the income CDFs of respondents interviewed before and after 1995:\n",
    "\n",
    "#Cdf(income[pre95]).plot(label='Before 1995')\n",
    "#Cdf(income[~pre95]).plot(label='After 1995')\n",
    "\n",
    "#You can assume that Boolean Series have been defined, as in the previous exercise, to identify respondents with different\n",
    "#education levels: high, assc, and bach.\n",
    "\n",
    "income = gss['realinc']\n",
    "\n",
    "# Plot the CDFs\n",
    "Cdf.from_seq(income[high]).plot(label='High school')\n",
    "Cdf.from_seq(income[assc]).plot(label='Associate')\n",
    "Cdf.from_seq(income[bach]).plot(label='Bachelor')\n",
    "\n",
    "# Label the axes\n",
    "plt.xlabel('Income (1986 USD)')\n",
    "plt.ylabel('CDF')\n",
    "plt.legend()\n",
    "plt.show()"
   ]
  },
  {
   "cell_type": "code",
   "execution_count": 15,
   "metadata": {},
   "outputs": [
    {
     "name": "stdout",
     "output_type": "stream",
     "text": [
      "4.371148677933652 0.4290082383271419\n"
     ]
    }
   ],
   "source": [
    "import numpy as np\n",
    "\n",
    "#Distribution of income\n",
    "\n",
    "#In many datasets, the distribution of income is approximately lognormal, which means that the logarithms of the incomes\n",
    "#fit a normal distribution. We'll see whether that's true for the GSS data. As a first step, you'll compute the mean and\n",
    "#standard deviation of the log of incomes using NumPy's np.log10() function.\n",
    "\n",
    "#Then, you'll use the computed mean and standard deviation to make a norm object using the scipy.stats.norm() function.\n",
    "\n",
    "# Extract realinc and compute its log\n",
    "income = gss['realinc']\n",
    "log_income = np.log10(income)\n",
    "\n",
    "# Compute mean and standard deviation\n",
    "mean = log_income.mean()\n",
    "std = log_income.std()\n",
    "print(mean, std)\n",
    "\n",
    "# Make a norm object\n",
    "from scipy.stats import norm\n",
    "dist = norm(mean, std)"
   ]
  },
  {
   "cell_type": "code",
   "execution_count": 16,
   "metadata": {},
   "outputs": [
    {
     "data": {
      "image/png": "[encoded data removed]",
      "text/plain": [
       "<Figure size 720x432 with 1 Axes>"
      ]
     },
     "metadata": {
      "needs_background": "light"
     },
     "output_type": "display_data"
    }
   ],
   "source": [
    "plt.figure(figsize=(10,6))\n",
    "\n",
    "#Comparing CDFs\n",
    "\n",
    "#To see whether the distribution of income is well modeled by a lognormal distribution, we'll compare the CDF of the\n",
    "#logarithm of the data to a normal distribution with the same mean and standard deviation. These variables from the\n",
    "#previous exercise are available for use:\n",
    "\n",
    "# Extract realinc and compute its log\n",
    "log_income = np.log10(gss['realinc'])\n",
    "\n",
    "# Compute mean and standard deviation\n",
    "mean, std = log_income.mean(), log_income.std()\n",
    "\n",
    "# Make a norm object\n",
    "from scipy.stats import norm\n",
    "dist = norm(mean, std)\n",
    "\n",
    "#dist is a scipy.stats.norm object with the same mean and standard deviation as the data. It provides .cdf(), which\n",
    "#evaluates the normal cumulative distribution function.\n",
    "\n",
    "#Be careful with capitalization: Cdf(), with an uppercase C, creates Cdf objects. dist.cdf(), with a lowercase c, evaluates\n",
    "#the normal cumulative distribution function.\n",
    "\n",
    "# Evaluate the model CDF\n",
    "xs = np.linspace(2, 5.5)\n",
    "ys = dist.cdf(xs)\n",
    "\n",
    "# Plot the model CDF\n",
    "plt.clf()\n",
    "plt.plot(xs, ys, color='gray')\n",
    "\n",
    "# Create and plot the Cdf of log_income\n",
    "Cdf.from_seq(log_income).plot()\n",
    "    \n",
    "# Label the axes\n",
    "plt.xlabel('log10 of realinc')\n",
    "plt.ylabel('CDF')\n",
    "plt.show()"
   ]
  },
  {
   "cell_type": "code",
   "execution_count": 17,
   "metadata": {},
   "outputs": [
    {
     "data": {
      "image/png": "[encoded data removed]",
      "text/plain": [
       "<Figure size 720x432 with 1 Axes>"
      ]
     },
     "metadata": {
      "needs_background": "light"
     },
     "output_type": "display_data"
    }
   ],
   "source": [
    "import seaborn as sns\n",
    "plt.figure(figsize=(10,6))\n",
    "\n",
    "#Comparing PDFs\n",
    "\n",
    "#In the previous exercise, we used CDFs to see if the distribution of income is lognormal. We can make the same comparison\n",
    "#using a PDF and KDE. That's what you'll do in this exercise!\n",
    "\n",
    "#As before, the norm object dist is available in your workspace:\n",
    "\n",
    "from scipy.stats import norm\n",
    "dist = norm(mean, std)\n",
    "\n",
    "#Just as all norm objects have a .cdf() method, they also have a .pdf() method.\n",
    "\n",
    "#To create a KDE plot, you can use Seaborn's kdeplot() function. To learn more about this function and Seaborn, you can\n",
    "#check out DataCamp's Data Visualization with Seaborn course. Here, Seaborn has been imported for you as sns.\n",
    "\n",
    "# Evaluate the normal PDF\n",
    "xs = np.linspace(2, 5.5)\n",
    "ys = norm(mean, std).pdf(xs)\n",
    "\n",
    "# Plot the model PDF\n",
    "plt.clf()\n",
    "plt.plot(xs, ys, color='gray')\n",
    "\n",
    "# Plot the data KDE\n",
    "sns.kdeplot(log_income)\n",
    "\n",
    "# Label the axes\n",
    "plt.xlabel('log10 of realinc')\n",
    "plt.ylabel('PDF')\n",
    "plt.show()"
   ]
  },
  {
   "cell_type": "code",
   "execution_count": null,
   "metadata": {},
   "outputs": [],
   "source": []
  }
 ],
 "metadata": {
  "kernelspec": {
   "display_name": "Python 3",
   "language": "python",
   "name": "python3"
  },
  "language_info": {
   "codemirror_mode": {
    "name": "ipython",
    "version": 3
   },
   "file_extension": ".py",
   "mimetype": "text/x-python",
   "name": "python",
   "nbconvert_exporter": "python",
   "pygments_lexer": "ipython3",
   "version": "3.7.6"
  }
 },
 "nbformat": 4,
 "nbformat_minor": 4
}
