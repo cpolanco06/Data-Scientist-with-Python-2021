{
 "cells": [
  {
   "cell_type": "code",
   "execution_count": 1,
   "metadata": {},
   "outputs": [],
   "source": [
    "#Read the codebook\n",
    "\n",
    "#When you work with datasets like the NSFG, it is important to read the documentation carefully. If you interpret a\n",
    "#variable incorrectly, you can generate nonsense results and never realize it. So before you start coding, you'll need to\n",
    "#get familiar with the NSFG codebook, which describes every variable.\n",
    "\n",
    "#Here is the documentation from the NSFG codebook for \"BIRTHWGT_OZ1\":"
   ]
  },
  {
   "cell_type": "markdown",
   "metadata": {},
   "source": [
    "<img src='Screenshot 2019-03-31 19.16.14.png'>"
   ]
  },
  {
   "cell_type": "code",
   "execution_count": 2,
   "metadata": {},
   "outputs": [],
   "source": [
    "#How many respondents refused to answer this question?\n",
    "\n",
    "#Possible Answers\n",
    "\n",
    "#1*\n",
    "\n",
    "#35\n",
    "\n",
    "#48-49\n",
    "\n",
    "#2967"
   ]
  },
  {
   "cell_type": "code",
   "execution_count": 3,
   "metadata": {},
   "outputs": [
    {
     "name": "stdout",
     "output_type": "stream",
     "text": [
      "(9358, 10) \n",
      "\n",
      "Index(['caseid', 'outcome', 'birthwgt_lb1', 'birthwgt_oz1', 'prglngth',\n",
      "       'nbrnaliv', 'agecon', 'agepreg', 'hpagelb', 'wgt2013_2015'],\n",
      "      dtype='object') \n",
      "\n",
      "0     4.0\n",
      "1    12.0\n",
      "2     4.0\n",
      "3     NaN\n",
      "4    13.0\n",
      "Name: birthwgt_oz1, dtype: float64\n"
     ]
    }
   ],
   "source": [
    "import pandas as pd\n",
    "nsfg = pd.read_hdf('datasets/nsfg.hdf5', 'nsfg')\n",
    "\n",
    "#Exploring the NSFG data\n",
    "\n",
    "#To get the number of rows and columns in a DataFrame, you can read its shape attribute.\n",
    "\n",
    "#To get the column names, you can read the columns attribute. The result is an Index, which is a Pandas data structure that\n",
    "#is similar to a list. Let's begin exploring the NSFG data! It has been pre-loaded for you into a DataFrame called nsfg.\n",
    "\n",
    "# Display the number of rows and columns\n",
    "print(nsfg.shape, '\\n')\n",
    "\n",
    "# Display the names of the columns\n",
    "print(nsfg.columns, '\\n')\n",
    "\n",
    "# Select column birthwgt_oz1: ounces\n",
    "ounces = nsfg['birthwgt_oz1']\n",
    "\n",
    "# Print the first 5 elements of ounces\n",
    "print(ounces.head())"
   ]
  },
  {
   "cell_type": "code",
   "execution_count": 4,
   "metadata": {},
   "outputs": [
    {
     "data": {
      "text/plain": [
       "1    6489\n",
       "4    1469\n",
       "2     947\n",
       "6     249\n",
       "5     118\n",
       "3      86\n",
       "Name: outcome, dtype: int64"
      ]
     },
     "execution_count": 4,
     "metadata": {},
     "output_type": "execute_result"
    }
   ],
   "source": [
    "#Validate a variable\n",
    "\n",
    "#In the NSFG dataset, the variable 'outcome' encodes the outcome of each pregnancy as shown below:\n",
    "\n",
    "#value    label\n",
    "#1        Live birth\n",
    "#2        Induced abortion\n",
    "#3        Stillbirth\n",
    "#4        Miscarriage\n",
    "#5        Ectopic pregnancy\n",
    "#6        Current pregnancy\n",
    "\n",
    "#The nsfg DataFrame has been pre-loaded for you. Explore it in the IPython Shell and use the methods Allen showed you in\n",
    "#the video to answer the following question: How many pregnancies in this dataset ended with a live birth?\n",
    "\n",
    "nsfg['outcome'].value_counts()\n",
    "\n",
    "#Possible Answers\n",
    "\n",
    "#6489*\n",
    "\n",
    "#9538\n",
    "\n",
    "#1469\n",
    "\n",
    "#6"
   ]
  },
  {
   "cell_type": "code",
   "execution_count": 5,
   "metadata": {},
   "outputs": [
    {
     "name": "stdout",
     "output_type": "stream",
     "text": [
      "1.0    6379\n",
      "2.0     100\n",
      "3.0       5\n",
      "Name: nbrnaliv, dtype: int64\n"
     ]
    }
   ],
   "source": [
    "import numpy as np\n",
    "\n",
    "#Clean a variable\n",
    "\n",
    "#In the NSFG dataset, the variable 'nbrnaliv' records the number of babies born alive at the end of a pregnancy.\n",
    "\n",
    "#If you use .value_counts() to view the responses, you'll see that the value 8 appears once, and if you consult the\n",
    "#codebook, you'll see that this value indicates that the respondent refused to answer the question.\n",
    "\n",
    "#Your job in this exercise is to replace this value with np.nan. Recall from the video how Allen replaced the values 98 and\n",
    "#99 in the ounces column using the .replace() method:\n",
    "\n",
    "#ounces.replace([98, 99], np.nan, inplace=True)\n",
    "\n",
    "# Replace the value 8 with NaN\n",
    "nsfg['nbrnaliv'].replace(8, np.nan, inplace=True)\n",
    "\n",
    "# Print the values and their frequencies\n",
    "print(nsfg['nbrnaliv'].value_counts())"
   ]
  },
  {
   "cell_type": "code",
   "execution_count": 6,
   "metadata": {},
   "outputs": [
    {
     "name": "stdout",
     "output_type": "stream",
     "text": [
      "count    9109.000000\n",
      "mean        0.552069\n",
      "std         0.271479\n",
      "min         0.000000\n",
      "25%         0.250000\n",
      "50%         0.670000\n",
      "75%         0.750000\n",
      "max         0.920000\n",
      "dtype: float64\n"
     ]
    }
   ],
   "source": [
    "#Compute a variable\n",
    "\n",
    "#For each pregnancy in the NSFG dataset, the variable 'agecon' encodes the respondent's age at conception, and 'agepreg'\n",
    "#the respondent's age at the end of the pregnancy.\n",
    "\n",
    "#Both variables are recorded as integers with two implicit decimal places, so the value 2575 means that the respondent's\n",
    "#age was 25.75.\n",
    "\n",
    "# Select the columns and divide by 100\n",
    "agecon = nsfg['agecon'] / 100\n",
    "agepreg = nsfg['agepreg'] / 100\n",
    "\n",
    "# Compute the difference\n",
    "preg_length = agepreg - agecon\n",
    "\n",
    "# Compute summary statistics\n",
    "print(preg_length.describe())"
   ]
  },
  {
   "cell_type": "code",
   "execution_count": 7,
   "metadata": {},
   "outputs": [
    {
     "data": {
      "image/png": "[encoded data removed]",
      "text/plain": [
       "<Figure size 720x432 with 1 Axes>"
      ]
     },
     "metadata": {
      "needs_background": "light"
     },
     "output_type": "display_data"
    }
   ],
   "source": [
    "import matplotlib.pyplot as plt\n",
    "plt.figure(figsize=(10,6))\n",
    "\n",
    "#Make a histogram\n",
    "\n",
    "#Histograms are one of the most useful tools in exploratory data analysis. They quickly give you an overview of the\n",
    "#distribution of a variable, that is, what values the variable can have, and how many times each value appears.\n",
    "\n",
    "#As we saw in a previous exercise, the NSFG dataset includes a variable 'agecon' that records age at conception for each\n",
    "#pregnancy. Here, you're going to plot a histogram of this variable. You'll use the bins parameter that you saw in the\n",
    "#video, and also a new parameter - histtype - which you can read more about here in the matplotlib documentation. Learning\n",
    "#how to read documentation is an essential skill. If you want to learn more about matplotlib, you can check out DataCamp's\n",
    "#Introduction to Matplotlib course.\n",
    "\n",
    "# Plot the histogram\n",
    "plt.hist(agecon, bins=20)\n",
    "\n",
    "# Label the axes\n",
    "plt.xlabel('Age at conception')\n",
    "plt.ylabel('Number of pregnancies')\n",
    "\n",
    "# Show the figure\n",
    "plt.show()"
   ]
  },
  {
   "cell_type": "code",
   "execution_count": 8,
   "metadata": {},
   "outputs": [
    {
     "data": {
      "image/png": "[encoded data removed]",
      "text/plain": [
       "<Figure size 720x432 with 1 Axes>"
      ]
     },
     "metadata": {
      "needs_background": "light"
     },
     "output_type": "display_data"
    }
   ],
   "source": [
    "plt.figure(figsize=(10,6))\n",
    "\n",
    "# Plot the histogram\n",
    "plt.hist(agecon, bins=20, histtype='step')\n",
    "\n",
    "# Label the axes\n",
    "plt.xlabel('Age at conception')\n",
    "plt.ylabel('Number of pregnancies')\n",
    "\n",
    "# Show the figure\n",
    "plt.show()"
   ]
  },
  {
   "cell_type": "code",
   "execution_count": 9,
   "metadata": {},
   "outputs": [
    {
     "name": "stdout",
     "output_type": "stream",
     "text": [
      "7.392597951914515\n"
     ]
    }
   ],
   "source": [
    "def resample_rows_weighted(df, column='finalwgt', seed=17):\n",
    "    \"\"\"Resamples a DataFrame using probabilities proportional to given column.\n",
    "\n",
    "    df: DataFrame\n",
    "    column: string column name to use as weights\n",
    "\n",
    "    returns: DataFrame\n",
    "    \"\"\"\n",
    "    np.random.seed(seed)\n",
    "    weights = df[column] / sum(df[column])\n",
    "    indices = np.random.choice(df.index, len(df), replace=True, p=weights)\n",
    "    sample = df.loc[indices]\n",
    "    return sample\n",
    "\n",
    "#Compute birth weight\n",
    "\n",
    "#Now let's pull together the steps in this chapter to compute the average birth weight for full-term babies.\n",
    "\n",
    "#I've provided a function, resample_rows_weighted, that takes the NSFG data and resamples it using the sampling weights in\n",
    "#wgt2013_2015. The result is a sample that is representative of the U.S. population.\n",
    "\n",
    "#Then I extract birthwgt_lb1 and birthwgt_oz1, replace special codes with NaN, and compute total birth weight in pounds,\n",
    "#birth_weight.\n",
    "\n",
    "# Resample the data\n",
    "nsfg = resample_rows_weighted(nsfg, 'wgt2013_2015')\n",
    "\n",
    "# Clean the weight variables\n",
    "pounds = nsfg['birthwgt_lb1'].replace([98, 99], np.nan)\n",
    "ounces = nsfg['birthwgt_oz1'].replace([98, 99], np.nan)\n",
    "\n",
    "# Compute total birth weight\n",
    "birth_weight = pounds + ounces/16\n",
    "\n",
    "\n",
    "# Create a Boolean Series for full-term babies\n",
    "full_term = nsfg['prglngth'] >= 37\n",
    "\n",
    "# Select the weights of full-term babies\n",
    "full_term_weight = birth_weight[full_term]\n",
    "\n",
    "# Compute the mean weight of full-term babies\n",
    "print(full_term_weight.mean())"
   ]
  },
  {
   "cell_type": "code",
   "execution_count": 10,
   "metadata": {},
   "outputs": [
    {
     "name": "stdout",
     "output_type": "stream",
     "text": [
      "Single full-term mean: 7.40297320308299\n",
      "Multiple full-term mean: 5.784722222222222\n"
     ]
    }
   ],
   "source": [
    "#Filter\n",
    "\n",
    "#In the previous exercise, you computed the mean birth weight for full-term babies; you filtered out preterm babies because\n",
    "#their distribution of weight is different.\n",
    "\n",
    "#The distribution of weight is also different for multiple births, like twins and triplets. In this exercise, you'll filter\n",
    "#them out, too, and see what effect it has on the mean.\n",
    "\n",
    "# Filter full-term babies\n",
    "full_term = nsfg['prglngth'] >= 37\n",
    "\n",
    "# Filter single births\n",
    "single = nsfg['nbrnaliv'] == 1\n",
    "\n",
    "# Compute birth weight for single full-term babies\n",
    "single_full_term_weight = birth_weight[single & full_term]\n",
    "print('Single full-term mean:', single_full_term_weight.mean())\n",
    "\n",
    "# Compute birth weight for multiple full-term babies\n",
    "mult_full_term_weight = birth_weight[~single & full_term]\n",
    "print('Multiple full-term mean:', mult_full_term_weight.mean())"
   ]
  },
  {
   "cell_type": "code",
   "execution_count": null,
   "metadata": {},
   "outputs": [],
   "source": []
  }
 ],
 "metadata": {
  "kernelspec": {
   "display_name": "Python 3",
   "language": "python",
   "name": "python3"
  },
  "language_info": {
   "codemirror_mode": {
    "name": "ipython",
    "version": 3
   },
   "file_extension": ".py",
   "mimetype": "text/x-python",
   "name": "python",
   "nbconvert_exporter": "python",
   "pygments_lexer": "ipython3",
   "version": "3.7.6"
  }
 },
 "nbformat": 4,
 "nbformat_minor": 4
}
