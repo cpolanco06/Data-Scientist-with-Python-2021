{
 "cells": [
  {
   "cell_type": "code",
   "execution_count": 1,
   "metadata": {},
   "outputs": [],
   "source": [
    "#Complexity, bias and variance\n",
    "\n",
    "#In the video, you saw how the complexity of a model labeled f^ influences the bias and variance terms of its\n",
    "#generalization error.\n",
    "\n",
    "#Which of the following correctly describes the relationship between f^'s complexity and f^'s bias and variance terms?\n",
    "\n",
    "#Possible Answers\n",
    "\n",
    "#As the complexity of f^ decreases, the bias term decreases while the variance term increases.\n",
    "\n",
    "#As the complexity of f^ decreases, both the bias and the variance terms increase.\n",
    "\n",
    "#As the complexity of f^ increases, the bias term increases while the variance term decreases.\n",
    "\n",
    "#As the complexity of f^ increases, the bias term decreases while the variance term increases.*"
   ]
  },
  {
   "cell_type": "code",
   "execution_count": 2,
   "metadata": {},
   "outputs": [],
   "source": [
    "#NOTE: You're now able to relate model complexity to bias and variance!"
   ]
  },
  {
   "cell_type": "code",
   "execution_count": 3,
   "metadata": {},
   "outputs": [],
   "source": [
    "#Overfitting and underfitting\n",
    "\n",
    "#In this exercise, you'll visually diagnose whether a model is overfitting or underfitting the training set.\n",
    "\n",
    "#For this purpose, we have trained two different models A and B on the auto dataset to predict the mpg consumption of a car\n",
    "#using only the car's displacement (displ) as a feature.\n",
    "\n",
    "#The following figure shows you scatterplots of mpg versus displ along with lines corresponding to the training set\n",
    "#predictions of models A and B in red."
   ]
  },
  {
   "cell_type": "markdown",
   "metadata": {},
   "source": [
    "<img src='diagnose-problems.jpg'>"
   ]
  },
  {
   "cell_type": "code",
   "execution_count": 4,
   "metadata": {},
   "outputs": [],
   "source": [
    "#Which of the following statements is true?\n",
    "\n",
    "#Possible Answers\n",
    "\n",
    "#A suffers from high bias and overfits the training set.\n",
    "\n",
    "#A suffers from high variance and underfits the training set.\n",
    "\n",
    "#B suffers from high bias and underfits the training set.*\n",
    "\n",
    "#B suffers from high variance and underfits the training set."
   ]
  },
  {
   "cell_type": "code",
   "execution_count": 5,
   "metadata": {},
   "outputs": [],
   "source": [
    "#NOTE: Model B is not able to capture the nonlinear dependence of mpg on displ."
   ]
  },
  {
   "cell_type": "code",
   "execution_count": 6,
   "metadata": {},
   "outputs": [],
   "source": [
    "#Instantiate the model\n",
    "\n",
    "import pandas as pd\n",
    "from sklearn.tree import DecisionTreeRegressor\n",
    "df_mpg = pd.read_csv('datasets/auto-mpg.csv')\n",
    "df_mpg = pd.get_dummies(df_mpg)\n",
    "X = df_mpg.drop('mpg', axis=1)\n",
    "y = df_mpg['mpg']\n",
    "\n",
    "#In the following set of exercises, you'll diagnose the bias and variance problems of a regression tree. The regression\n",
    "#tree you'll define in this exercise will be used to predict the mpg consumption of cars from the auto dataset using all\n",
    "#available features.\n",
    "\n",
    "#We have already processed the data and loaded the features matrix X and the array y in your workspace. In addition, the\n",
    "#DecisionTreeRegressor class was imported from sklearn.tree.\n",
    "\n",
    "# Import train_test_split from sklearn.model_selection\n",
    "from sklearn.model_selection import train_test_split\n",
    "\n",
    "# Set SEED for reproducibility\n",
    "SEED = 1\n",
    "\n",
    "# Split the data into 70% train and 30% test\n",
    "X_train, X_test, y_train, y_test = train_test_split(X, y, test_size=0.3, random_state=SEED)\n",
    "\n",
    "# Instantiate a DecisionTreeRegressor dt\n",
    "dt = DecisionTreeRegressor(max_depth=4, min_samples_leaf=0.26, random_state=SEED)"
   ]
  },
  {
   "cell_type": "code",
   "execution_count": 7,
   "metadata": {},
   "outputs": [],
   "source": [
    "#NOTE: In the next exercise, you'll evaluate dt's CV error."
   ]
  },
  {
   "cell_type": "code",
   "execution_count": 8,
   "metadata": {},
   "outputs": [
    {
     "name": "stdout",
     "output_type": "stream",
     "text": [
      "CV RMSE: 5.14\n"
     ]
    }
   ],
   "source": [
    "#Evaluate the 10-fold CV error\n",
    "\n",
    "from sklearn.model_selection import cross_val_score\n",
    "\n",
    "#In this exercise, you'll evaluate the 10-fold CV Root Mean Squared Error (RMSE) achieved by the regression tree dt that\n",
    "#you instantiated in the previous exercise.\n",
    "\n",
    "#In addition to dt, the training data including X_train and y_train are available in your workspace. We also imported\n",
    "#cross_val_score from sklearn.model_selection.\n",
    "\n",
    "#Note that since cross_val_score has only the option of evaluating the negative MSEs, its output should be multiplied by\n",
    "#negative one to obtain the MSEs. The CV RMSE can then be obtained by computing the square root of the average MSE.\n",
    "\n",
    "# Compute the array containing the 10-folds CV MSEs\n",
    "MSE_CV_scores = - cross_val_score(dt, X_train, y_train, cv=10,\n",
    "                                  scoring='neg_mean_squared_error',\n",
    "                                  n_jobs=-1)\n",
    "\n",
    "# Compute the 10-folds CV RMSE\n",
    "RMSE_CV = (MSE_CV_scores.mean()) ** (1/2)\n",
    "\n",
    "# Print RMSE_CV\n",
    "print('CV RMSE: {:.2f}'.format(RMSE_CV))"
   ]
  },
  {
   "cell_type": "code",
   "execution_count": 9,
   "metadata": {},
   "outputs": [],
   "source": [
    "#NOTE: A very good practice is to keep the test set untouched until you are confident about your model's performance. CV is\n",
    "#a great technique to get an estimate of a model's performance without affecting the test set."
   ]
  },
  {
   "cell_type": "code",
   "execution_count": 10,
   "metadata": {},
   "outputs": [
    {
     "name": "stdout",
     "output_type": "stream",
     "text": [
      "Train RMSE: 5.15\n"
     ]
    }
   ],
   "source": [
    "#Evaluate the training error\n",
    "\n",
    "#You'll now evaluate the training set RMSE achieved by the regression tree dt that you instantiated in a previous exercise.\n",
    "\n",
    "#In addition to dt, X_train and y_train are available in your workspace.\n",
    "\n",
    "#Note that in scikit-learn, the MSE of a model can be computed as follows:\n",
    "\n",
    "#MSE_model = mean_squared_error(y_true, y_predicted)\n",
    "\n",
    "#where we use the function mean_squared_error from the metrics module and pass it the true labels y_true as a first\n",
    "#argument, and the predicted labels from the model y_predicted as a second argument.\n",
    "\n",
    "# Import mean_squared_error from sklearn.metrics as MSE\n",
    "from sklearn.metrics import mean_squared_error as MSE\n",
    "\n",
    "# Fit dt to the training set\n",
    "dt.fit(X_train, y_train)\n",
    "\n",
    "# Predict the labels of the training set\n",
    "y_pred_train = dt.predict(X_train)\n",
    "\n",
    "# Evaluate the training set RMSE of dt\n",
    "RMSE_train = (MSE(y_train, y_pred_train)) ** (1/2)\n",
    "\n",
    "# Print RMSE_train\n",
    "print('Train RMSE: {:.2f}'.format(RMSE_train))"
   ]
  },
  {
   "cell_type": "code",
   "execution_count": 11,
   "metadata": {},
   "outputs": [],
   "source": [
    "#NOTE: Notice how the training error is roughly equal to the 10-folds CV error you obtained in the previous exercise."
   ]
  },
  {
   "cell_type": "code",
   "execution_count": 12,
   "metadata": {},
   "outputs": [],
   "source": [
    "#High bias or high variance?\n",
    "\n",
    "baseline_RMSE = 5.1\n",
    "\n",
    "#In this exercise you'll diagnose whether the regression tree dt you trained in the previous exercise suffers from a bias\n",
    "#or a variance problem.\n",
    "\n",
    "#The training set RMSE (RMSE_train) and the CV RMSE (RMSE_CV) achieved by dt are available in your workspace. In addition,\n",
    "#we have also loaded a variable called baseline_RMSE which corresponds to the root mean-squared error achieved by the\n",
    "#regression-tree trained with the disp feature only (it is the RMSE achieved by the regression tree trained in chapter 1,\n",
    "#lesson 3). Here baseline_RMSE serves as the baseline RMSE above which a model is considered to be underfitting and below\n",
    "#which the model is considered 'good enough'.\n",
    "\n",
    "#Does dt suffer from a high bias or a high variance problem?\n",
    "\n",
    "#Possible Answers\n",
    "\n",
    "#dt suffers from high variance because RMSE_CV is far less than RMSE_train.\n",
    "\n",
    "#dt suffers from high bias because RMSE_CV ≈ RMSE_train and both scores are greater than baseline_RMSE.*\n",
    "\n",
    "#dt is a good fit because RMSE_CV ≈ RMSE_train and both scores are smaller than baseline_RMSE."
   ]
  },
  {
   "cell_type": "code",
   "execution_count": 13,
   "metadata": {},
   "outputs": [],
   "source": [
    "#NOTE: dt is indeed underfitting the training set as the model is too constrained to capture the nonlinear dependencies\n",
    "#between features and labels."
   ]
  },
  {
   "cell_type": "code",
   "execution_count": 14,
   "metadata": {},
   "outputs": [],
   "source": [
    "#Define the ensemble\n",
    "\n",
    "from sklearn.linear_model import LogisticRegression\n",
    "from sklearn.neighbors import KNeighborsClassifier as KNN\n",
    "from sklearn.tree import DecisionTreeClassifier\n",
    "\n",
    "#In the following set of exercises, you'll work with the Indian Liver Patient Dataset from the UCI Machine learning\n",
    "#repository.\n",
    "\n",
    "#In this exercise, you'll instantiate three classifiers to predict whether a patient suffers from a liver disease using all\n",
    "#the features present in the dataset.\n",
    "\n",
    "#The classes LogisticRegression, DecisionTreeClassifier, and KNeighborsClassifier under the alias KNN are available in your\n",
    "#workspace.\n",
    "\n",
    "# Set seed for reproducibility\n",
    "SEED=1\n",
    "\n",
    "# Instantiate lr\n",
    "lr = LogisticRegression(random_state=SEED)\n",
    "\n",
    "# Instantiate knn\n",
    "knn = KNN(n_neighbors=27)\n",
    "\n",
    "# Instantiate dt\n",
    "dt = DecisionTreeClassifier(min_samples_leaf=0.13, random_state=SEED)\n",
    "\n",
    "# Define the list classifiers\n",
    "classifiers = [('Logistic Regression', lr), ('K Nearest Neighbours', knn), ('Classification Tree', dt)]"
   ]
  },
  {
   "cell_type": "code",
   "execution_count": 15,
   "metadata": {},
   "outputs": [],
   "source": [
    "#NOTE: In the next exercise, you will train these classifiers and evaluate their test set accuracy."
   ]
  },
  {
   "cell_type": "code",
   "execution_count": 16,
   "metadata": {},
   "outputs": [
    {
     "name": "stdout",
     "output_type": "stream",
     "text": [
      "Logistic Regression : 0.759\n",
      "K Nearest Neighbours : 0.701\n",
      "Classification Tree : 0.730\n"
     ]
    }
   ],
   "source": [
    "#Evaluate individual classifiers\n",
    "\n",
    "import pandas as pd\n",
    "from sklearn.preprocessing import StandardScaler\n",
    "from sklearn.model_selection import train_test_split\n",
    "from sklearn.metrics import accuracy_score\n",
    "df_liver = pd.read_csv('datasets/indian_liver_patient/indian_liver_patient.csv')\n",
    "df_liver.dropna(inplace=True)\n",
    "df_liver = pd.get_dummies(df_liver, drop_first=True)\n",
    "df_liver['Dataset'] = df_liver['Dataset'].where(df_liver['Dataset'] != 2, 0)\n",
    "scaler = StandardScaler()\n",
    "df_liver_preprocessed = df_liver.copy()\n",
    "df_liver_preprocessed[df_liver.drop(['Dataset', 'Gender_Male'], axis=1).columns] = \\\n",
    "    scaler.fit_transform(df_liver.drop(['Dataset', 'Gender_Male'], axis=1))\n",
    "df_liver_preprocessed = df_liver_preprocessed[['Age','Total_Bilirubin','Direct_Bilirubin','Alkaline_Phosphotase',\n",
    "                                               'Alamine_Aminotransferase','Aspartate_Aminotransferase','Total_Protiens',\n",
    "                                               'Albumin','Albumin_and_Globulin_Ratio','Gender_Male','Dataset']]\n",
    "col_names = ['Age_std','Total_Bilirubin_std','Direct_Bilirubin_std','Alkaline_Phosphotase_std',\n",
    "             'Alamine_Aminotransferase_std','Aspartate_Aminotransferase_std','Total_Protiens_std','Albumin_std',\n",
    "             'Albumin_and_Globulin_Ratio_std','Is_male_std','Liver_disease']\n",
    "df_liver_preprocessed.set_axis(col_names, axis='columns', inplace=True)\n",
    "X = df_liver_preprocessed.drop('Liver_disease', axis=1)\n",
    "y = df_liver_preprocessed['Liver_disease']\n",
    "SEED = 1\n",
    "X_train, X_test, y_train, y_test = train_test_split(X, y, test_size=0.3, random_state=SEED)\n",
    "\n",
    "#In this exercise you'll evaluate the performance of the models in the list classifiers that we defined in the previous\n",
    "#exercise. You'll do so by fitting each classifier on the training set and evaluating its test set accuracy.\n",
    "\n",
    "#The dataset is already loaded and preprocessed for you (numerical features are standardized) and it is split into 70%\n",
    "#train and 30% test. The features matrices X_train and X_test, as well as the arrays of labels y_train and y_test are\n",
    "#available in your workspace. In addition, we have loaded the list classifiers from the previous exercise, as well as the\n",
    "#function accuracy_score() from sklearn.metrics.\n",
    "\n",
    "# Iterate over the pre-defined list of classifiers\n",
    "for clf_name, clf in classifiers:    \n",
    " \n",
    "    # Fit clf to the training set\n",
    "    clf.fit(X_train, y_train)\n",
    "   \n",
    "    # Predict y_pred\n",
    "    y_pred =  clf.predict(X_test)\n",
    "    \n",
    "    # Calculate accuracy\n",
    "    accuracy = accuracy_score(y_test, y_pred)\n",
    "   \n",
    "    # Evaluate clf's accuracy on the test set\n",
    "    print('{:s} : {:.3f}'.format(clf_name, accuracy))"
   ]
  },
  {
   "cell_type": "code",
   "execution_count": 17,
   "metadata": {},
   "outputs": [],
   "source": [
    "#NOTE: Notice how Logistic Regression achieved the highest accuracy of 74.7%."
   ]
  },
  {
   "cell_type": "code",
   "execution_count": 18,
   "metadata": {},
   "outputs": [
    {
     "name": "stdout",
     "output_type": "stream",
     "text": [
      "Voting Classifier: 0.770\n"
     ]
    }
   ],
   "source": [
    "#Better performance with a Voting Classifier\n",
    "\n",
    "#Finally, you'll evaluate the performance of a voting classifier that takes the outputs of the models defined in the list\n",
    "#classifiers and assigns labels by majority voting.\n",
    "\n",
    "#X_train, X_test,y_train, y_test, the list classifiers defined in a previous exercise, as well as the function\n",
    "#accuracy_score from sklearn.metrics are available in your workspace.\n",
    "\n",
    "# Import VotingClassifier from sklearn.ensemble\n",
    "from sklearn.ensemble import VotingClassifier\n",
    "\n",
    "# Instantiate a VotingClassifier vc\n",
    "vc = VotingClassifier(estimators=classifiers)\n",
    "\n",
    "# Fit vc to the training set\n",
    "vc.fit(X_train, y_train)\n",
    "\n",
    "# Evaluate the test set predictions\n",
    "y_pred = vc.predict(X_test)\n",
    "\n",
    "# Calculate accuracy score\n",
    "accuracy = accuracy_score(y_test, y_pred)\n",
    "print('Voting Classifier: {:.3f}'.format(accuracy))"
   ]
  },
  {
   "cell_type": "code",
   "execution_count": 19,
   "metadata": {},
   "outputs": [],
   "source": [
    "#NOTE: Notice how the voting classifier achieves a test set accuracy of 75.3%. This value is greater than that achieved by\n",
    "#LogisticRegression."
   ]
  },
  {
   "cell_type": "code",
   "execution_count": null,
   "metadata": {},
   "outputs": [],
   "source": []
  }
 ],
 "metadata": {
  "kernelspec": {
   "display_name": "Python 3",
   "language": "python",
   "name": "python3"
  },
  "language_info": {
   "codemirror_mode": {
    "name": "ipython",
    "version": 3
   },
   "file_extension": ".py",
   "mimetype": "text/x-python",
   "name": "python",
   "nbconvert_exporter": "python",
   "pygments_lexer": "ipython3",
   "version": "3.7.6"
  }
 },
 "nbformat": 4,
 "nbformat_minor": 4
}
