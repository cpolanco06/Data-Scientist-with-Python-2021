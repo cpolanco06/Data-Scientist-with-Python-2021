{
 "cells": [
  {
   "cell_type": "code",
   "execution_count": 1,
   "metadata": {},
   "outputs": [
    {
     "name": "stdout",
     "output_type": "stream",
     "text": [
      "[0 0 0 1 0]\n"
     ]
    },
    {
     "name": "stderr",
     "output_type": "stream",
     "text": [
      "D:\\Users\\ASUS\\anaconda3\\lib\\site-packages\\ipykernel_launcher.py:7: SettingWithCopyWarning: \n",
      "A value is trying to be set on a copy of a slice from a DataFrame.\n",
      "Try using .loc[row_indexer,col_indexer] = value instead\n",
      "\n",
      "See the caveats in the documentation: https://pandas.pydata.org/pandas-docs/stable/user_guide/indexing.html#returning-a-view-versus-a-copy\n",
      "  import sys\n",
      "D:\\Users\\ASUS\\anaconda3\\lib\\site-packages\\ipykernel_launcher.py:8: SettingWithCopyWarning: \n",
      "A value is trying to be set on a copy of a slice from a DataFrame.\n",
      "Try using .loc[row_indexer,col_indexer] = value instead\n",
      "\n",
      "See the caveats in the documentation: https://pandas.pydata.org/pandas-docs/stable/user_guide/indexing.html#returning-a-view-versus-a-copy\n",
      "  \n"
     ]
    }
   ],
   "source": [
    "#Train your first classification tree\n",
    "\n",
    "import pandas as pd\n",
    "from sklearn.model_selection import train_test_split\n",
    "df = pd.read_csv('datasets/wisconsin_breast_cancer.csv')\n",
    "df_cancer = df[['radius_mean', 'concave points_mean', 'diagnosis']]\n",
    "df_cancer['diagnosis'] = df_cancer['diagnosis'].replace('M', 1)\n",
    "df_cancer['diagnosis'] = df_cancer['diagnosis'].replace('B', 0)\n",
    "X = df_cancer.drop('diagnosis', axis=1)\n",
    "y = df_cancer['diagnosis']\n",
    "SEED = 1\n",
    "X_train, X_test, y_train, y_test = train_test_split(X, y,\n",
    "                                                    test_size=0.2,\n",
    "                                                    stratify=y,\n",
    "                                                    random_state=SEED)\n",
    "\n",
    "#In this exercise you'll work with the Wisconsin Breast Cancer Dataset from the UCI machine learning repository. You'll\n",
    "#predict whether a tumor is malignant or benign based on two features: the mean radius of the tumor (radius_mean) and its\n",
    "#mean number of concave points (concave points_mean).\n",
    "\n",
    "#The dataset is already loaded in your workspace and is split into 80% train and 20% test. The feature matrices are\n",
    "#assigned to X_train and X_test, while the arrays of labels are assigned to y_train and y_test where class 1 corresponds to\n",
    "#a malignant tumor and class 0 corresponds to a benign tumor. To obtain reproducible results, we also defined a variable\n",
    "#called SEED which is set to 1.\n",
    "\n",
    "# Import DecisionTreeClassifier from sklearn.tree\n",
    "from sklearn.tree import DecisionTreeClassifier\n",
    "\n",
    "# Instantiate a DecisionTreeClassifier 'dt' with a maximum depth of 6\n",
    "dt = DecisionTreeClassifier(max_depth=6, random_state=SEED)\n",
    "\n",
    "# Fit dt to the training set\n",
    "dt.fit(X_train, y_train)\n",
    "\n",
    "# Predict test set labels\n",
    "y_pred = dt.predict(X_test)\n",
    "print(y_pred[0:5])"
   ]
  },
  {
   "cell_type": "code",
   "execution_count": 2,
   "metadata": {},
   "outputs": [],
   "source": [
    "#NOTE: You've just trained your first classification tree! You can see the first five predictions made by the fitted tree\n",
    "#on the test set in the console. In the next exercise, you'll evaluate the tree's performance on the entire test set."
   ]
  },
  {
   "cell_type": "code",
   "execution_count": 3,
   "metadata": {},
   "outputs": [
    {
     "name": "stdout",
     "output_type": "stream",
     "text": [
      "Test set accuracy: 0.89\n"
     ]
    }
   ],
   "source": [
    "#Evaluate the classification tree\n",
    "\n",
    "#Now that you've fit your first classification tree, it's time to evaluate its performance on the test set. You'll do so\n",
    "#using the accuracy metric which corresponds to the fraction of correct predictions made on the test set.\n",
    "\n",
    "#The trained model dt from the previous exercise is loaded in your workspace along with the test set features matrix X_test\n",
    "#and the array of labels y_test.\n",
    "\n",
    "# Import accuracy_score\n",
    "from sklearn.metrics import accuracy_score\n",
    "\n",
    "# Predict test set labels\n",
    "y_pred = dt.predict(X_test)\n",
    "\n",
    "# Compute test set accuracy  \n",
    "acc = accuracy_score(y_test, y_pred)\n",
    "print(\"Test set accuracy: {:.2f}\".format(acc))"
   ]
  },
  {
   "cell_type": "code",
   "execution_count": 4,
   "metadata": {},
   "outputs": [],
   "source": [
    "#NOTE: Using only two features, your tree was able to achieve an accuracy of 89%!"
   ]
  },
  {
   "cell_type": "code",
   "execution_count": 5,
   "metadata": {},
   "outputs": [
    {
     "data": {
      "image/png": "[encoded data removed]",
      "text/plain": [
       "<Figure size 720x432 with 2 Axes>"
      ]
     },
     "metadata": {
      "needs_background": "light"
     },
     "output_type": "display_data"
    }
   ],
   "source": [
    "#Logistic regression vs classification tree\n",
    "\n",
    "import sys\n",
    "sys.path.append('datasets/')\n",
    "import functions as fcs\n",
    "\n",
    "#A classification tree divides the feature space into rectangular regions. In contrast, a linear model such as logistic\n",
    "#regression produces only a single linear decision boundary dividing the feature space into two decision regions.\n",
    "\n",
    "#We have written a custom function called plot_labeled_decision_regions() that you can use to plot the decision regions of\n",
    "#a list containing two trained classifiers. You can type help(plot_labeled_decision_regions) in the IPython shell to learn\n",
    "#more about this function.\n",
    "\n",
    "#X_train, X_test, y_train, y_test, the model dt that you've trained in an earlier exercise , as well as the function\n",
    "#plot_labeled_decision_regions() are available in your workspace.\n",
    "\n",
    "# Import LogisticRegression from sklearn.linear_model\n",
    "from sklearn.linear_model import  LogisticRegression\n",
    "\n",
    "# Instatiate logreg\n",
    "logreg = LogisticRegression(random_state=1)\n",
    "\n",
    "# Fit logreg to the training set\n",
    "logreg.fit(X_train, y_train)\n",
    "\n",
    "# Define a list called clfs containing the two classifiers logreg and dt\n",
    "clfs = [logreg, dt]\n",
    "\n",
    "# Review the decision regions of the two classifiers\n",
    "fcs.plot_labeled_decision_regions(X_test, y_test, clfs)"
   ]
  },
  {
   "cell_type": "code",
   "execution_count": 6,
   "metadata": {},
   "outputs": [],
   "source": [
    "#NOTE: Notice how the decision boundary produced by logistic regression is linear while the boundaries produced by the\n",
    "#classification tree divide the feature space into rectangular regions."
   ]
  },
  {
   "cell_type": "code",
   "execution_count": 7,
   "metadata": {},
   "outputs": [],
   "source": [
    "#Growing a classification tree\n",
    "\n",
    "#In the video, you saw that the growth of an unconstrained classification tree followed a few simple rules. Which of the\n",
    "#following is not one of these rules?\n",
    "\n",
    "#Possible Answers\n",
    "\n",
    "#The existence of a node depends on the state of its predecessors.\n",
    "\n",
    "#The impurity of a node can be determined using different criteria such as entropy and the gini-index.\n",
    "\n",
    "#When the information gain resulting from splitting a node is null, the node is declared as a leaf.\n",
    "\n",
    "#When an internal node is split, the split is performed in such a way so that information gain is minimized.*"
   ]
  },
  {
   "cell_type": "code",
   "execution_count": 8,
   "metadata": {},
   "outputs": [],
   "source": [
    "#NOTE: It's quite the contrary! Actually, splitting an internal node always involves maximizing information gain!"
   ]
  },
  {
   "cell_type": "code",
   "execution_count": 9,
   "metadata": {},
   "outputs": [
    {
     "data": {
      "text/plain": [
       "DecisionTreeClassifier(criterion='entropy', max_depth=8, random_state=1)"
      ]
     },
     "execution_count": 9,
     "metadata": {},
     "output_type": "execute_result"
    }
   ],
   "source": [
    "#Using entropy as a criterion\n",
    "\n",
    "#In this exercise, you'll train a classification tree on the Wisconsin Breast Cancer dataset using entropy as an\n",
    "#information criterion. You'll do so using all the 30 features in the dataset, which is split into 80% train and 20% test.\n",
    "\n",
    "#X_train as well as the array of labels y_train are available in your workspace.\n",
    "\n",
    "# Import DecisionTreeClassifier from sklearn.tree\n",
    "from sklearn.tree import DecisionTreeClassifier\n",
    "\n",
    "# Instantiate dt_entropy, set 'entropy' as the information criterion\n",
    "dt_entropy = DecisionTreeClassifier(max_depth=8, criterion='entropy', random_state=1)\n",
    "\n",
    "# Fit dt_entropy to the training set\n",
    "dt_entropy.fit(X_train, y_train)"
   ]
  },
  {
   "cell_type": "code",
   "execution_count": 10,
   "metadata": {},
   "outputs": [],
   "source": [
    "#NOTE: In the next exercise, you'll compare the accuracy of dt_entropy to the accuracy of a another tree trained using the\n",
    "#gini-index as the information criterion."
   ]
  },
  {
   "cell_type": "code",
   "execution_count": 11,
   "metadata": {},
   "outputs": [
    {
     "name": "stdout",
     "output_type": "stream",
     "text": [
      "Accuracy achieved by using entropy:  0.8859649122807017\n",
      "Accuracy achieved by using the gini index:  0.9210526315789473\n"
     ]
    }
   ],
   "source": [
    "#Entropy vs Gini index\n",
    "\n",
    "from sklearn.tree import DecisionTreeClassifier\n",
    "from sklearn.metrics import accuracy_score\n",
    "dt_gini = DecisionTreeClassifier(max_depth=8, criterion='gini', random_state=1)\n",
    "dt_gini.fit(X_train, y_train)\n",
    "y_pred_gini = dt_gini.predict(X_test)\n",
    "accuracy_gini = accuracy_score(y_test, y_pred_gini)\n",
    "\n",
    "#In this exercise you'll compare the test set accuracy of dt_entropy to the accuracy of another tree named dt_gini. The\n",
    "#tree dt_gini was trained on the same dataset using the same parameters except for the information criterion which was set\n",
    "#to the gini index using the keyword 'gini'.\n",
    "\n",
    "#X_test, y_test, dt_entropy, as well as accuracy_gini which corresponds to the test set accuracy achieved by dt_gini are\n",
    "#available in your workspace.\n",
    "\n",
    "# Import accuracy_score from sklearn.metrics\n",
    "#from sklearn.metrics import accuracy_score\n",
    "\n",
    "# Use dt_entropy to predict test set labels\n",
    "y_pred = dt_entropy.predict(X_test)\n",
    "\n",
    "# Evaluate accuracy_entropy\n",
    "accuracy_entropy = accuracy_score(y_test, y_pred)\n",
    "\n",
    "# Print accuracy_entropy\n",
    "print('Accuracy achieved by using entropy: ', accuracy_entropy)\n",
    "\n",
    "# Print accuracy_gini\n",
    "print('Accuracy achieved by using the gini index: ', accuracy_gini)"
   ]
  },
  {
   "cell_type": "code",
   "execution_count": 12,
   "metadata": {},
   "outputs": [],
   "source": [
    "#NOTE: Notice how the two models achieve exactly the same accuracy. Most of the time, the gini index and entropy lead to\n",
    "#the same results. The gini index is slightly faster to compute and is the default criterion used in the\n",
    "#DecisionTreeClassifier model of scikit-learn."
   ]
  },
  {
   "cell_type": "code",
   "execution_count": 13,
   "metadata": {},
   "outputs": [
    {
     "data": {
      "text/plain": [
       "DecisionTreeRegressor(max_depth=8, min_samples_leaf=0.13, random_state=3)"
      ]
     },
     "execution_count": 13,
     "metadata": {},
     "output_type": "execute_result"
    }
   ],
   "source": [
    "#Train your first regression tree\n",
    "\n",
    "import pandas as pd\n",
    "from sklearn.model_selection import train_test_split\n",
    "df_mpg = pd.read_csv('datasets/auto-mpg.csv')\n",
    "df_mpg = pd.get_dummies(df_mpg)\n",
    "X = df_mpg.drop('mpg', axis=1)\n",
    "y = df_mpg['mpg']\n",
    "SEED = 1\n",
    "X_train, X_test, y_train, y_test = train_test_split(X, y,\n",
    "                                                    test_size=0.2,\n",
    "                                                    random_state=SEED)\n",
    "\n",
    "#In this exercise, you'll train a regression tree to predict the mpg (miles per gallon) consumption of cars in the auto-mpg\n",
    "#dataset using all the six available features.\n",
    "\n",
    "#The dataset is processed for you and is split to 80% train and 20% test. The features matrix X_train and the array y_train\n",
    "#are available in your workspace.\n",
    "\n",
    "# Import DecisionTreeRegressor from sklearn.tree\n",
    "from sklearn.tree import DecisionTreeRegressor\n",
    "\n",
    "# Instantiate dt\n",
    "dt = DecisionTreeRegressor(max_depth=8,\n",
    "                           min_samples_leaf=0.13,\n",
    "                           random_state=3)\n",
    "\n",
    "# Fit dt to the training set\n",
    "dt.fit(X_train, y_train)"
   ]
  },
  {
   "cell_type": "code",
   "execution_count": 14,
   "metadata": {},
   "outputs": [],
   "source": [
    "#NOTE: In the next exercise, you'll evaluate dt's performance on the test set."
   ]
  },
  {
   "cell_type": "code",
   "execution_count": 15,
   "metadata": {},
   "outputs": [
    {
     "name": "stdout",
     "output_type": "stream",
     "text": [
      "Test set RMSE of dt: 4.27\n"
     ]
    }
   ],
   "source": [
    "#Evaluate the regression tree\n",
    "\n",
    "#In this exercise, you will evaluate the test set performance of dt using the Root Mean Squared Error (RMSE) metric. The\n",
    "#RMSE of a model measures, on average, how much the model's predictions differ from the actual labels. The RMSE of a model\n",
    "#can be obtained by computing the square root of the model's Mean Squared Error (MSE).\n",
    "\n",
    "#The features matrix X_test, the array y_test, as well as the decision tree regressor dt that you trained in the previous\n",
    "#exercise are available in your workspace.\n",
    "\n",
    "# Import mean_squared_error from sklearn.metrics as MSE\n",
    "from sklearn.metrics import mean_squared_error as MSE\n",
    "\n",
    "# Compute y_pred\n",
    "y_pred = dt.predict(X_test)\n",
    "\n",
    "# Compute mse_dt\n",
    "mse_dt = MSE(y_test, y_pred)\n",
    "\n",
    "# Compute rmse_dt\n",
    "rmse_dt = mse_dt ** (1/2)\n",
    "\n",
    "# Print rmse_dt\n",
    "print(\"Test set RMSE of dt: {:.2f}\".format(rmse_dt))"
   ]
  },
  {
   "cell_type": "code",
   "execution_count": 16,
   "metadata": {},
   "outputs": [],
   "source": [
    "#NOTE: In the next exercise, you'll compare the test-set RMSE of dt to that of a linear regression model trained on the\n",
    "#same dataset."
   ]
  },
  {
   "cell_type": "code",
   "execution_count": 17,
   "metadata": {},
   "outputs": [
    {
     "name": "stdout",
     "output_type": "stream",
     "text": [
      "Linear Regression test set RMSE: 3.98\n",
      "Regression Tree test set RMSE: 4.27\n"
     ]
    }
   ],
   "source": [
    "#Linear regression vs regression tree\n",
    "\n",
    "from sklearn.linear_model import LinearRegression\n",
    "lr = LinearRegression()\n",
    "lr.fit(X_train, y_train)\n",
    "\n",
    "#In this exercise, you'll compare the test set RMSE of dt to that achieved by a linear regression model. We have already\n",
    "#instantiated a linear regression model lr and trained it on the same dataset as dt.\n",
    "\n",
    "#The features matrix X_test, the array of labels y_test, the trained linear regression model lr, mean_squared_error\n",
    "#function which was imported under the alias MSE and rmse_dt from the previous exercise are available in your workspace.\n",
    "\n",
    "# Predict test set labels \n",
    "y_pred_lr = lr.predict(X_test)\n",
    "\n",
    "# Compute mse_lr\n",
    "mse_lr = MSE(y_test, y_pred_lr)\n",
    "\n",
    "# Compute rmse_lr\n",
    "rmse_lr = mse_lr ** (1/2)\n",
    "\n",
    "# Print rmse_lr\n",
    "print('Linear Regression test set RMSE: {:.2f}'.format(rmse_lr))\n",
    "\n",
    "# Print rmse_dt\n",
    "print('Regression Tree test set RMSE: {:.2f}'.format(rmse_dt))"
   ]
  },
  {
   "cell_type": "code",
   "execution_count": null,
   "metadata": {},
   "outputs": [],
   "source": []
  }
 ],
 "metadata": {
  "kernelspec": {
   "display_name": "Python 3",
   "language": "python",
   "name": "python3"
  },
  "language_info": {
   "codemirror_mode": {
    "name": "ipython",
    "version": 3
   },
   "file_extension": ".py",
   "mimetype": "text/x-python",
   "name": "python",
   "nbconvert_exporter": "python",
   "pygments_lexer": "ipython3",
   "version": "3.7.6"
  }
 },
 "nbformat": 4,
 "nbformat_minor": 4
}
