{
 "cells": [
  {
   "cell_type": "code",
   "execution_count": 1,
   "metadata": {},
   "outputs": [
    {
     "data": {
      "text/html": [
       "<div>\n",
       "<style scoped>\n",
       "    .dataframe tbody tr th:only-of-type {\n",
       "        vertical-align: middle;\n",
       "    }\n",
       "\n",
       "    .dataframe tbody tr th {\n",
       "        vertical-align: top;\n",
       "    }\n",
       "\n",
       "    .dataframe thead th {\n",
       "        text-align: right;\n",
       "    }\n",
       "</style>\n",
       "<table border=\"1\" class=\"dataframe\">\n",
       "  <thead>\n",
       "    <tr style=\"text-align: right;\">\n",
       "      <th></th>\n",
       "      <th>gh owner</th>\n",
       "      <th>language</th>\n",
       "      <th>repo</th>\n",
       "      <th>stars</th>\n",
       "    </tr>\n",
       "  </thead>\n",
       "  <tbody>\n",
       "    <tr>\n",
       "      <th>0</th>\n",
       "      <td>pandas-dev</td>\n",
       "      <td>python</td>\n",
       "      <td>pandas</td>\n",
       "      <td>17800</td>\n",
       "    </tr>\n",
       "    <tr>\n",
       "      <th>1</th>\n",
       "      <td>tidyverse</td>\n",
       "      <td>R</td>\n",
       "      <td>dplyr</td>\n",
       "      <td>2800</td>\n",
       "    </tr>\n",
       "    <tr>\n",
       "      <th>2</th>\n",
       "      <td>tidyverse</td>\n",
       "      <td>R</td>\n",
       "      <td>ggplot2</td>\n",
       "      <td>3500</td>\n",
       "    </tr>\n",
       "    <tr>\n",
       "      <th>3</th>\n",
       "      <td>has2k1</td>\n",
       "      <td>python</td>\n",
       "      <td>plotnine</td>\n",
       "      <td>1450</td>\n",
       "    </tr>\n",
       "  </tbody>\n",
       "</table>\n",
       "</div>"
      ],
      "text/plain": [
       "     gh owner language      repo  stars\n",
       "0  pandas-dev   python    pandas  17800\n",
       "1   tidyverse        R     dplyr   2800\n",
       "2   tidyverse        R   ggplot2   3500\n",
       "3      has2k1   python  plotnine   1450"
      ]
     },
     "execution_count": 1,
     "metadata": {},
     "output_type": "execute_result"
    }
   ],
   "source": [
    "import pandas as pd\n",
    "df = pd.read_csv('datasets/df.csv')\n",
    "df"
   ]
  },
  {
   "cell_type": "code",
   "execution_count": 2,
   "metadata": {},
   "outputs": [
    {
     "data": {
      "text/html": [
       "<div>\n",
       "<style scoped>\n",
       "    .dataframe tbody tr th:only-of-type {\n",
       "        vertical-align: middle;\n",
       "    }\n",
       "\n",
       "    .dataframe tbody tr th {\n",
       "        vertical-align: top;\n",
       "    }\n",
       "\n",
       "    .dataframe thead th {\n",
       "        text-align: right;\n",
       "    }\n",
       "</style>\n",
       "<table border=\"1\" class=\"dataframe\">\n",
       "  <thead>\n",
       "    <tr style=\"text-align: right;\">\n",
       "      <th></th>\n",
       "      <th>gh owner</th>\n",
       "      <th>language</th>\n",
       "      <th>stars</th>\n",
       "    </tr>\n",
       "  </thead>\n",
       "  <tbody>\n",
       "    <tr>\n",
       "      <th>0</th>\n",
       "      <td>pandas-dev</td>\n",
       "      <td>python</td>\n",
       "      <td>17800</td>\n",
       "    </tr>\n",
       "    <tr>\n",
       "      <th>1</th>\n",
       "      <td>tidyverse</td>\n",
       "      <td>R</td>\n",
       "      <td>2800</td>\n",
       "    </tr>\n",
       "    <tr>\n",
       "      <th>2</th>\n",
       "      <td>tidyverse</td>\n",
       "      <td>R</td>\n",
       "      <td>3500</td>\n",
       "    </tr>\n",
       "    <tr>\n",
       "      <th>3</th>\n",
       "      <td>has2k1</td>\n",
       "      <td>python</td>\n",
       "      <td>1450</td>\n",
       "    </tr>\n",
       "  </tbody>\n",
       "</table>\n",
       "</div>"
      ],
      "text/plain": [
       "     gh owner language  stars\n",
       "0  pandas-dev   python  17800\n",
       "1   tidyverse        R   2800\n",
       "2   tidyverse        R   3500\n",
       "3      has2k1   python   1450"
      ]
     },
     "execution_count": 2,
     "metadata": {},
     "output_type": "execute_result"
    }
   ],
   "source": [
    "#Consider the Pandas DataFrame df below. Remove the column named \"repo\".\n",
    "\n",
    "df.drop(columns='repo')"
   ]
  },
  {
   "cell_type": "code",
   "execution_count": 3,
   "metadata": {},
   "outputs": [
    {
     "data": {
      "text/html": [
       "<div>\n",
       "<style scoped>\n",
       "    .dataframe tbody tr th:only-of-type {\n",
       "        vertical-align: middle;\n",
       "    }\n",
       "\n",
       "    .dataframe tbody tr th {\n",
       "        vertical-align: top;\n",
       "    }\n",
       "\n",
       "    .dataframe thead th {\n",
       "        text-align: right;\n",
       "    }\n",
       "</style>\n",
       "<table border=\"1\" class=\"dataframe\">\n",
       "  <thead>\n",
       "    <tr style=\"text-align: right;\">\n",
       "      <th></th>\n",
       "      <th>gh owner</th>\n",
       "      <th>language</th>\n",
       "      <th>repo</th>\n",
       "      <th>stars</th>\n",
       "    </tr>\n",
       "  </thead>\n",
       "  <tbody>\n",
       "    <tr>\n",
       "      <th>3</th>\n",
       "      <td>has2k1</td>\n",
       "      <td>python</td>\n",
       "      <td>plotnine</td>\n",
       "      <td>1450</td>\n",
       "    </tr>\n",
       "  </tbody>\n",
       "</table>\n",
       "</div>"
      ],
      "text/plain": [
       "  gh owner language      repo  stars\n",
       "3   has2k1   python  plotnine   1450"
      ]
     },
     "execution_count": 3,
     "metadata": {},
     "output_type": "execute_result"
    }
   ],
   "source": [
    "#Consider the Pandas DataFrame df below. Filter it appropriately so that it outputs the shown results.\n",
    "\n",
    "df[df['stars'] == 1450]"
   ]
  },
  {
   "cell_type": "code",
   "execution_count": 4,
   "metadata": {},
   "outputs": [
    {
     "data": {
      "text/plain": [
       "0    python\n",
       "1         R\n",
       "2         R\n",
       "3    python\n",
       "Name: language, dtype: object"
      ]
     },
     "execution_count": 4,
     "metadata": {},
     "output_type": "execute_result"
    }
   ],
   "source": [
    "df.language"
   ]
  },
  {
   "cell_type": "code",
   "execution_count": 5,
   "metadata": {},
   "outputs": [
    {
     "data": {
      "text/html": [
       "<div>\n",
       "<style scoped>\n",
       "    .dataframe tbody tr th:only-of-type {\n",
       "        vertical-align: middle;\n",
       "    }\n",
       "\n",
       "    .dataframe tbody tr th {\n",
       "        vertical-align: top;\n",
       "    }\n",
       "\n",
       "    .dataframe thead th {\n",
       "        text-align: right;\n",
       "    }\n",
       "</style>\n",
       "<table border=\"1\" class=\"dataframe\">\n",
       "  <thead>\n",
       "    <tr style=\"text-align: right;\">\n",
       "      <th></th>\n",
       "      <th>repo</th>\n",
       "      <th>gh owner</th>\n",
       "    </tr>\n",
       "  </thead>\n",
       "  <tbody>\n",
       "    <tr>\n",
       "      <th>0</th>\n",
       "      <td>pandas</td>\n",
       "      <td>pandas-dev</td>\n",
       "    </tr>\n",
       "    <tr>\n",
       "      <th>1</th>\n",
       "      <td>dplyr</td>\n",
       "      <td>tidyverse</td>\n",
       "    </tr>\n",
       "    <tr>\n",
       "      <th>2</th>\n",
       "      <td>ggplot2</td>\n",
       "      <td>tidyverse</td>\n",
       "    </tr>\n",
       "    <tr>\n",
       "      <th>3</th>\n",
       "      <td>plotnine</td>\n",
       "      <td>has2k1</td>\n",
       "    </tr>\n",
       "  </tbody>\n",
       "</table>\n",
       "</div>"
      ],
      "text/plain": [
       "       repo    gh owner\n",
       "0    pandas  pandas-dev\n",
       "1     dplyr   tidyverse\n",
       "2   ggplot2   tidyverse\n",
       "3  plotnine      has2k1"
      ]
     },
     "execution_count": 5,
     "metadata": {},
     "output_type": "execute_result"
    }
   ],
   "source": [
    "df[['repo', 'gh owner']]"
   ]
  },
  {
   "cell_type": "code",
   "execution_count": 6,
   "metadata": {},
   "outputs": [
    {
     "name": "stdout",
     "output_type": "stream",
     "text": [
      "     country  price\n",
      "0  argentina  19.04\n",
      "1  argentina  18.49\n",
      "2   portugal  18.99\n",
      "3    germany  16.95\n",
      "4      italy  17.99\n"
     ]
    }
   ],
   "source": [
    "import pandas as pd\n",
    "wine = pd.read_csv('datasets/wine.csv')\n",
    "\n",
    "#From the wine DataFrame, select the columns country and price.\n",
    "\n",
    "subset_wine = wine[['country', 'price']]\n",
    "\n",
    "print(subset_wine.head())"
   ]
  },
  {
   "cell_type": "code",
   "execution_count": 7,
   "metadata": {},
   "outputs": [
    {
     "data": {
      "text/html": [
       "<div>\n",
       "<style scoped>\n",
       "    .dataframe tbody tr th:only-of-type {\n",
       "        vertical-align: middle;\n",
       "    }\n",
       "\n",
       "    .dataframe tbody tr th {\n",
       "        vertical-align: top;\n",
       "    }\n",
       "\n",
       "    .dataframe thead th {\n",
       "        text-align: right;\n",
       "    }\n",
       "</style>\n",
       "<table border=\"1\" class=\"dataframe\">\n",
       "  <thead>\n",
       "    <tr style=\"text-align: right;\">\n",
       "      <th></th>\n",
       "      <th>title</th>\n",
       "      <th>seasons</th>\n",
       "    </tr>\n",
       "  </thead>\n",
       "  <tbody>\n",
       "    <tr>\n",
       "      <th>0</th>\n",
       "      <td>Queen Sono</td>\n",
       "      <td>1</td>\n",
       "    </tr>\n",
       "    <tr>\n",
       "      <th>1</th>\n",
       "      <td>Elite</td>\n",
       "      <td>3</td>\n",
       "    </tr>\n",
       "    <tr>\n",
       "      <th>2</th>\n",
       "      <td>Black Mirror</td>\n",
       "      <td>5</td>\n",
       "    </tr>\n",
       "    <tr>\n",
       "      <th>3</th>\n",
       "      <td>Sex Education</td>\n",
       "      <td>2</td>\n",
       "    </tr>\n",
       "    <tr>\n",
       "      <th>4</th>\n",
       "      <td>Girl Boss</td>\n",
       "      <td>1</td>\n",
       "    </tr>\n",
       "  </tbody>\n",
       "</table>\n",
       "</div>"
      ],
      "text/plain": [
       "           title  seasons\n",
       "0     Queen Sono        1\n",
       "1          Elite        3\n",
       "2   Black Mirror        5\n",
       "3  Sex Education        2\n",
       "4      Girl Boss        1"
      ]
     },
     "execution_count": 7,
     "metadata": {},
     "output_type": "execute_result"
    }
   ],
   "source": [
    "tv_show = pd.read_csv('datasets/tv_show.csv')\n",
    "tv_show"
   ]
  },
  {
   "cell_type": "code",
   "execution_count": 8,
   "metadata": {},
   "outputs": [
    {
     "data": {
      "text/html": [
       "<div>\n",
       "<style scoped>\n",
       "    .dataframe tbody tr th:only-of-type {\n",
       "        vertical-align: middle;\n",
       "    }\n",
       "\n",
       "    .dataframe tbody tr th {\n",
       "        vertical-align: top;\n",
       "    }\n",
       "\n",
       "    .dataframe thead th {\n",
       "        text-align: right;\n",
       "    }\n",
       "</style>\n",
       "<table border=\"1\" class=\"dataframe\">\n",
       "  <thead>\n",
       "    <tr style=\"text-align: right;\">\n",
       "      <th></th>\n",
       "      <th>title</th>\n",
       "      <th>country_of_origin</th>\n",
       "      <th>language</th>\n",
       "    </tr>\n",
       "  </thead>\n",
       "  <tbody>\n",
       "    <tr>\n",
       "      <th>0</th>\n",
       "      <td>Queen Sono</td>\n",
       "      <td>South Africa</td>\n",
       "      <td>English</td>\n",
       "    </tr>\n",
       "    <tr>\n",
       "      <th>1</th>\n",
       "      <td>Elite</td>\n",
       "      <td>Spain</td>\n",
       "      <td>Spanish</td>\n",
       "    </tr>\n",
       "    <tr>\n",
       "      <th>2</th>\n",
       "      <td>Black Mirror</td>\n",
       "      <td>United Kingdom</td>\n",
       "      <td>English</td>\n",
       "    </tr>\n",
       "    <tr>\n",
       "      <th>3</th>\n",
       "      <td>The House of Flowers</td>\n",
       "      <td>Mexico</td>\n",
       "      <td>Spanish</td>\n",
       "    </tr>\n",
       "    <tr>\n",
       "      <th>4</th>\n",
       "      <td>Girl Boss</td>\n",
       "      <td>United States</td>\n",
       "      <td>English</td>\n",
       "    </tr>\n",
       "  </tbody>\n",
       "</table>\n",
       "</div>"
      ],
      "text/plain": [
       "                  title country_of_origin language\n",
       "0            Queen Sono      South Africa  English\n",
       "1                 Elite             Spain  Spanish\n",
       "2          Black Mirror    United Kingdom  English\n",
       "3  The House of Flowers            Mexico  Spanish\n",
       "4             Girl Boss     United States  English"
      ]
     },
     "execution_count": 8,
     "metadata": {},
     "output_type": "execute_result"
    }
   ],
   "source": [
    "country = pd.read_csv('datasets/country.csv')\n",
    "country"
   ]
  },
  {
   "cell_type": "code",
   "execution_count": 9,
   "metadata": {},
   "outputs": [
    {
     "name": "stdout",
     "output_type": "stream",
     "text": [
      "           title  seasons country_of_origin language\n",
      "0     Queen Sono        1      South Africa  English\n",
      "1          Elite        3             Spain  Spanish\n",
      "2   Black Mirror        5    United Kingdom  English\n",
      "3  Sex Education        2               NaN      NaN\n",
      "4      Girl Boss        1     United States  English\n"
     ]
    }
   ],
   "source": [
    "#Merge the tv_show and country DataFrames while keeping all rows of the tv_show DataFrame.\n",
    "\n",
    "print(pd.merge(tv_show, country, on = 'title', how = 'left'))"
   ]
  },
  {
   "cell_type": "code",
   "execution_count": 10,
   "metadata": {},
   "outputs": [
    {
     "name": "stdout",
     "output_type": "stream",
     "text": [
      "          style   type    country  price  rating  year\n",
      "0        malbec    red  argentina  19.04     4.2  2018\n",
      "1        malbec    red  argentina  18.49     4.2  2018\n",
      "2     alvarinho  white   portugal  18.99     4.2  2017\n",
      "3      riesling  white    germany  16.95     4.0  2016\n",
      "4  valpolicella    red      italy  17.99     4.2  2017\n"
     ]
    }
   ],
   "source": [
    "#The wine DataFrame, whose first few rows are shown below, provides information on wine stocked by an online retailer, but is\n",
    "#missing the year of the vintage. Add the year column to the data. The list of years has been created for you.\n",
    "\n",
    "year = [2018, 2018, 2017, 2016, 2017, 2016, 2018, 2016, 2016]\n",
    "\n",
    "wine['year'] = year \n",
    "\n",
    "print(wine.head())"
   ]
  },
  {
   "cell_type": "code",
   "execution_count": 11,
   "metadata": {},
   "outputs": [
    {
     "data": {
      "text/plain": [
       "0     red\n",
       "1    blue\n",
       "2     red\n",
       "dtype: object"
      ]
     },
     "execution_count": 11,
     "metadata": {},
     "output_type": "execute_result"
    }
   ],
   "source": [
    "s = pd.Series(['red', 'blue', 'red'])\n",
    "s"
   ]
  },
  {
   "cell_type": "code",
   "execution_count": 12,
   "metadata": {},
   "outputs": [
    {
     "data": {
      "text/plain": [
       "0     True\n",
       "1    False\n",
       "2     True\n",
       "dtype: bool"
      ]
     },
     "execution_count": 12,
     "metadata": {},
     "output_type": "execute_result"
    }
   ],
   "source": [
    "s.str.startswith('re')"
   ]
  },
  {
   "cell_type": "code",
   "execution_count": 13,
   "metadata": {},
   "outputs": [
    {
     "data": {
      "text/html": [
       "<div>\n",
       "<style scoped>\n",
       "    .dataframe tbody tr th:only-of-type {\n",
       "        vertical-align: middle;\n",
       "    }\n",
       "\n",
       "    .dataframe tbody tr th {\n",
       "        vertical-align: top;\n",
       "    }\n",
       "\n",
       "    .dataframe thead th {\n",
       "        text-align: right;\n",
       "    }\n",
       "</style>\n",
       "<table border=\"1\" class=\"dataframe\">\n",
       "  <thead>\n",
       "    <tr style=\"text-align: right;\">\n",
       "      <th></th>\n",
       "      <th>repo_id</th>\n",
       "      <th>language</th>\n",
       "      <th>stars</th>\n",
       "    </tr>\n",
       "  </thead>\n",
       "  <tbody>\n",
       "    <tr>\n",
       "      <th>0</th>\n",
       "      <td>1</td>\n",
       "      <td>python</td>\n",
       "      <td>1450</td>\n",
       "    </tr>\n",
       "    <tr>\n",
       "      <th>1</th>\n",
       "      <td>2</td>\n",
       "      <td>R</td>\n",
       "      <td>2800</td>\n",
       "    </tr>\n",
       "  </tbody>\n",
       "</table>\n",
       "</div>"
      ],
      "text/plain": [
       "   repo_id language  stars\n",
       "0        1   python   1450\n",
       "1        2        R   2800"
      ]
     },
     "execution_count": 13,
     "metadata": {},
     "output_type": "execute_result"
    }
   ],
   "source": [
    "df_1 = pd.read_csv('datasets/df_1.csv')\n",
    "df_1"
   ]
  },
  {
   "cell_type": "code",
   "execution_count": 14,
   "metadata": {},
   "outputs": [
    {
     "data": {
      "text/html": [
       "<div>\n",
       "<style scoped>\n",
       "    .dataframe tbody tr th:only-of-type {\n",
       "        vertical-align: middle;\n",
       "    }\n",
       "\n",
       "    .dataframe tbody tr th {\n",
       "        vertical-align: top;\n",
       "    }\n",
       "\n",
       "    .dataframe thead th {\n",
       "        text-align: right;\n",
       "    }\n",
       "</style>\n",
       "<table border=\"1\" class=\"dataframe\">\n",
       "  <thead>\n",
       "    <tr style=\"text-align: right;\">\n",
       "      <th></th>\n",
       "      <th>repo_id</th>\n",
       "      <th>repo</th>\n",
       "      <th>gh owner</th>\n",
       "    </tr>\n",
       "  </thead>\n",
       "  <tbody>\n",
       "    <tr>\n",
       "      <th>0</th>\n",
       "      <td>1</td>\n",
       "      <td>plotnine</td>\n",
       "      <td>has2k1</td>\n",
       "    </tr>\n",
       "    <tr>\n",
       "      <th>1</th>\n",
       "      <td>3</td>\n",
       "      <td>pandas</td>\n",
       "      <td>pandas-dev</td>\n",
       "    </tr>\n",
       "  </tbody>\n",
       "</table>\n",
       "</div>"
      ],
      "text/plain": [
       "   repo_id      repo    gh owner\n",
       "0        1  plotnine      has2k1\n",
       "1        3    pandas  pandas-dev"
      ]
     },
     "execution_count": 14,
     "metadata": {},
     "output_type": "execute_result"
    }
   ],
   "source": [
    "df_2 = pd.read_csv('datasets/df_2.csv')\n",
    "df_2"
   ]
  },
  {
   "cell_type": "code",
   "execution_count": 15,
   "metadata": {},
   "outputs": [
    {
     "data": {
      "text/html": [
       "<div>\n",
       "<style scoped>\n",
       "    .dataframe tbody tr th:only-of-type {\n",
       "        vertical-align: middle;\n",
       "    }\n",
       "\n",
       "    .dataframe tbody tr th {\n",
       "        vertical-align: top;\n",
       "    }\n",
       "\n",
       "    .dataframe thead th {\n",
       "        text-align: right;\n",
       "    }\n",
       "</style>\n",
       "<table border=\"1\" class=\"dataframe\">\n",
       "  <thead>\n",
       "    <tr style=\"text-align: right;\">\n",
       "      <th></th>\n",
       "      <th>repo_id</th>\n",
       "      <th>language</th>\n",
       "      <th>stars</th>\n",
       "      <th>repo</th>\n",
       "      <th>gh owner</th>\n",
       "    </tr>\n",
       "  </thead>\n",
       "  <tbody>\n",
       "    <tr>\n",
       "      <th>0</th>\n",
       "      <td>1</td>\n",
       "      <td>python</td>\n",
       "      <td>1450.0</td>\n",
       "      <td>plotnine</td>\n",
       "      <td>has2k1</td>\n",
       "    </tr>\n",
       "    <tr>\n",
       "      <th>1</th>\n",
       "      <td>2</td>\n",
       "      <td>R</td>\n",
       "      <td>2800.0</td>\n",
       "      <td>NaN</td>\n",
       "      <td>NaN</td>\n",
       "    </tr>\n",
       "    <tr>\n",
       "      <th>2</th>\n",
       "      <td>3</td>\n",
       "      <td>NaN</td>\n",
       "      <td>NaN</td>\n",
       "      <td>pandas</td>\n",
       "      <td>pandas-dev</td>\n",
       "    </tr>\n",
       "  </tbody>\n",
       "</table>\n",
       "</div>"
      ],
      "text/plain": [
       "   repo_id language   stars      repo    gh owner\n",
       "0        1   python  1450.0  plotnine      has2k1\n",
       "1        2        R  2800.0       NaN         NaN\n",
       "2        3      NaN     NaN    pandas  pandas-dev"
      ]
     },
     "execution_count": 15,
     "metadata": {},
     "output_type": "execute_result"
    }
   ],
   "source": [
    "import numpy as np\n",
    "df_3 = pd.merge(df_1, df_2, on = \"repo_id\", how = 'outer')\n",
    "df_3"
   ]
  },
  {
   "cell_type": "code",
   "execution_count": 16,
   "metadata": {},
   "outputs": [
    {
     "data": {
      "text/html": [
       "<div>\n",
       "<style scoped>\n",
       "    .dataframe tbody tr th:only-of-type {\n",
       "        vertical-align: middle;\n",
       "    }\n",
       "\n",
       "    .dataframe tbody tr th {\n",
       "        vertical-align: top;\n",
       "    }\n",
       "\n",
       "    .dataframe thead th {\n",
       "        text-align: right;\n",
       "    }\n",
       "</style>\n",
       "<table border=\"1\" class=\"dataframe\">\n",
       "  <thead>\n",
       "    <tr style=\"text-align: right;\">\n",
       "      <th></th>\n",
       "      <th>x</th>\n",
       "      <th>y</th>\n",
       "    </tr>\n",
       "  </thead>\n",
       "  <tbody>\n",
       "    <tr>\n",
       "      <th>0</th>\n",
       "      <td>4</td>\n",
       "      <td>16</td>\n",
       "    </tr>\n",
       "    <tr>\n",
       "      <th>1</th>\n",
       "      <td>9</td>\n",
       "      <td>25</td>\n",
       "    </tr>\n",
       "  </tbody>\n",
       "</table>\n",
       "</div>"
      ],
      "text/plain": [
       "   x   y\n",
       "0  4  16\n",
       "1  9  25"
      ]
     },
     "execution_count": 16,
     "metadata": {},
     "output_type": "execute_result"
    }
   ],
   "source": [
    "df_3 = pd.read_csv('datasets/df_3.csv')\n",
    "df_3"
   ]
  },
  {
   "cell_type": "code",
   "execution_count": 17,
   "metadata": {},
   "outputs": [
    {
     "data": {
      "text/html": [
       "<div>\n",
       "<style scoped>\n",
       "    .dataframe tbody tr th:only-of-type {\n",
       "        vertical-align: middle;\n",
       "    }\n",
       "\n",
       "    .dataframe tbody tr th {\n",
       "        vertical-align: top;\n",
       "    }\n",
       "\n",
       "    .dataframe thead th {\n",
       "        text-align: right;\n",
       "    }\n",
       "</style>\n",
       "<table border=\"1\" class=\"dataframe\">\n",
       "  <thead>\n",
       "    <tr style=\"text-align: right;\">\n",
       "      <th></th>\n",
       "      <th>x</th>\n",
       "      <th>y</th>\n",
       "    </tr>\n",
       "  </thead>\n",
       "  <tbody>\n",
       "    <tr>\n",
       "      <th>0</th>\n",
       "      <td>40</td>\n",
       "      <td>160</td>\n",
       "    </tr>\n",
       "    <tr>\n",
       "      <th>1</th>\n",
       "      <td>90</td>\n",
       "      <td>250</td>\n",
       "    </tr>\n",
       "  </tbody>\n",
       "</table>\n",
       "</div>"
      ],
      "text/plain": [
       "    x    y\n",
       "0  40  160\n",
       "1  90  250"
      ]
     },
     "execution_count": 17,
     "metadata": {},
     "output_type": "execute_result"
    }
   ],
   "source": [
    "df_3.apply(lambda col: col * 10)"
   ]
  },
  {
   "cell_type": "code",
   "execution_count": 18,
   "metadata": {},
   "outputs": [
    {
     "data": {
      "text/plain": [
       "0    1.0\n",
       "1    2.0\n",
       "2    0.0\n",
       "3    4.0\n",
       "4    5.0\n",
       "dtype: float64"
      ]
     },
     "execution_count": 18,
     "metadata": {},
     "output_type": "execute_result"
    }
   ],
   "source": [
    "data = pd.Series([1, 2, np.nan, 4, 5])\n",
    "data.fillna(0)"
   ]
  },
  {
   "cell_type": "code",
   "execution_count": 19,
   "metadata": {},
   "outputs": [
    {
     "data": {
      "text/html": [
       "<div>\n",
       "<style scoped>\n",
       "    .dataframe tbody tr th:only-of-type {\n",
       "        vertical-align: middle;\n",
       "    }\n",
       "\n",
       "    .dataframe tbody tr th {\n",
       "        vertical-align: top;\n",
       "    }\n",
       "\n",
       "    .dataframe thead th {\n",
       "        text-align: right;\n",
       "    }\n",
       "</style>\n",
       "<table border=\"1\" class=\"dataframe\">\n",
       "  <thead>\n",
       "    <tr style=\"text-align: right;\">\n",
       "      <th></th>\n",
       "      <th>customer_id</th>\n",
       "      <th>order_id</th>\n",
       "    </tr>\n",
       "  </thead>\n",
       "  <tbody>\n",
       "    <tr>\n",
       "      <th>0</th>\n",
       "      <td>20</td>\n",
       "      <td>5</td>\n",
       "    </tr>\n",
       "    <tr>\n",
       "      <th>1</th>\n",
       "      <td>21</td>\n",
       "      <td>6</td>\n",
       "    </tr>\n",
       "    <tr>\n",
       "      <th>2</th>\n",
       "      <td>22</td>\n",
       "      <td>7</td>\n",
       "    </tr>\n",
       "  </tbody>\n",
       "</table>\n",
       "</div>"
      ],
      "text/plain": [
       "   customer_id  order_id\n",
       "0           20         5\n",
       "1           21         6\n",
       "2           22         7"
      ]
     },
     "execution_count": 19,
     "metadata": {},
     "output_type": "execute_result"
    }
   ],
   "source": [
    "df_4 = pd.read_csv('datasets/df_4.csv')\n",
    "df_4"
   ]
  },
  {
   "cell_type": "code",
   "execution_count": 20,
   "metadata": {},
   "outputs": [
    {
     "data": {
      "text/html": [
       "<div>\n",
       "<style scoped>\n",
       "    .dataframe tbody tr th:only-of-type {\n",
       "        vertical-align: middle;\n",
       "    }\n",
       "\n",
       "    .dataframe tbody tr th {\n",
       "        vertical-align: top;\n",
       "    }\n",
       "\n",
       "    .dataframe thead th {\n",
       "        text-align: right;\n",
       "    }\n",
       "</style>\n",
       "<table border=\"1\" class=\"dataframe\">\n",
       "  <thead>\n",
       "    <tr style=\"text-align: right;\">\n",
       "      <th></th>\n",
       "      <th>customer_id</th>\n",
       "      <th>customer_firstname</th>\n",
       "      <th>customer_lastname</th>\n",
       "      <th>customer_email</th>\n",
       "    </tr>\n",
       "  </thead>\n",
       "  <tbody>\n",
       "    <tr>\n",
       "      <th>0</th>\n",
       "      <td>20</td>\n",
       "      <td>Jane</td>\n",
       "      <td>Yellow</td>\n",
       "      <td>jane@datacamp.com</td>\n",
       "    </tr>\n",
       "    <tr>\n",
       "      <th>1</th>\n",
       "      <td>21</td>\n",
       "      <td>John</td>\n",
       "      <td>Blue</td>\n",
       "      <td>john@datacamp.com</td>\n",
       "    </tr>\n",
       "    <tr>\n",
       "      <th>2</th>\n",
       "      <td>23</td>\n",
       "      <td>Joe</td>\n",
       "      <td>Green</td>\n",
       "      <td>joe@datacamp.com</td>\n",
       "    </tr>\n",
       "  </tbody>\n",
       "</table>\n",
       "</div>"
      ],
      "text/plain": [
       "   customer_id customer_firstname customer_lastname     customer_email\n",
       "0           20               Jane            Yellow  jane@datacamp.com\n",
       "1           21               John              Blue  john@datacamp.com\n",
       "2           23                Joe             Green   joe@datacamp.com"
      ]
     },
     "execution_count": 20,
     "metadata": {},
     "output_type": "execute_result"
    }
   ],
   "source": [
    "df_5 = pd.read_csv('datasets/df_5.csv')\n",
    "df_5"
   ]
  },
  {
   "cell_type": "code",
   "execution_count": 21,
   "metadata": {},
   "outputs": [
    {
     "data": {
      "text/html": [
       "<div>\n",
       "<style scoped>\n",
       "    .dataframe tbody tr th:only-of-type {\n",
       "        vertical-align: middle;\n",
       "    }\n",
       "\n",
       "    .dataframe tbody tr th {\n",
       "        vertical-align: top;\n",
       "    }\n",
       "\n",
       "    .dataframe thead th {\n",
       "        text-align: right;\n",
       "    }\n",
       "</style>\n",
       "<table border=\"1\" class=\"dataframe\">\n",
       "  <thead>\n",
       "    <tr style=\"text-align: right;\">\n",
       "      <th></th>\n",
       "      <th>customer_id</th>\n",
       "      <th>order_id</th>\n",
       "      <th>customer_firstname</th>\n",
       "      <th>customer_lastname</th>\n",
       "      <th>customer_email</th>\n",
       "    </tr>\n",
       "  </thead>\n",
       "  <tbody>\n",
       "    <tr>\n",
       "      <th>0</th>\n",
       "      <td>20</td>\n",
       "      <td>5</td>\n",
       "      <td>Jane</td>\n",
       "      <td>Yellow</td>\n",
       "      <td>jane@datacamp.com</td>\n",
       "    </tr>\n",
       "    <tr>\n",
       "      <th>1</th>\n",
       "      <td>21</td>\n",
       "      <td>6</td>\n",
       "      <td>John</td>\n",
       "      <td>Blue</td>\n",
       "      <td>john@datacamp.com</td>\n",
       "    </tr>\n",
       "  </tbody>\n",
       "</table>\n",
       "</div>"
      ],
      "text/plain": [
       "   customer_id  order_id customer_firstname customer_lastname  \\\n",
       "0           20         5               Jane            Yellow   \n",
       "1           21         6               John              Blue   \n",
       "\n",
       "      customer_email  \n",
       "0  jane@datacamp.com  \n",
       "1  john@datacamp.com  "
      ]
     },
     "execution_count": 21,
     "metadata": {},
     "output_type": "execute_result"
    }
   ],
   "source": [
    "#Consider the Pandas DataFrames df_1 and df_2, below. Complete the code so that you join df_2 to df_1, retaining the rows that\n",
    "#are in both DataFrames.\n",
    "\n",
    "pd.merge(df_4, df_5, on = \"customer_id\", how = 'inner')"
   ]
  },
  {
   "cell_type": "code",
   "execution_count": 22,
   "metadata": {},
   "outputs": [
    {
     "data": {
      "text/html": [
       "<div>\n",
       "<style scoped>\n",
       "    .dataframe tbody tr th:only-of-type {\n",
       "        vertical-align: middle;\n",
       "    }\n",
       "\n",
       "    .dataframe tbody tr th {\n",
       "        vertical-align: top;\n",
       "    }\n",
       "\n",
       "    .dataframe thead th {\n",
       "        text-align: right;\n",
       "    }\n",
       "</style>\n",
       "<table border=\"1\" class=\"dataframe\">\n",
       "  <thead>\n",
       "    <tr style=\"text-align: right;\">\n",
       "      <th></th>\n",
       "      <th>gh owner</th>\n",
       "      <th>language</th>\n",
       "      <th>repo</th>\n",
       "      <th>stars</th>\n",
       "    </tr>\n",
       "  </thead>\n",
       "  <tbody>\n",
       "    <tr>\n",
       "      <th>0</th>\n",
       "      <td>pandas-dev</td>\n",
       "      <td>python</td>\n",
       "      <td>pandas</td>\n",
       "      <td>17800</td>\n",
       "    </tr>\n",
       "    <tr>\n",
       "      <th>1</th>\n",
       "      <td>tidyverse</td>\n",
       "      <td>R</td>\n",
       "      <td>dplyr</td>\n",
       "      <td>2800</td>\n",
       "    </tr>\n",
       "    <tr>\n",
       "      <th>2</th>\n",
       "      <td>tidyverse</td>\n",
       "      <td>R</td>\n",
       "      <td>ggplot2</td>\n",
       "      <td>3500</td>\n",
       "    </tr>\n",
       "    <tr>\n",
       "      <th>3</th>\n",
       "      <td>has2k1</td>\n",
       "      <td>python</td>\n",
       "      <td>plotnine</td>\n",
       "      <td>1450</td>\n",
       "    </tr>\n",
       "  </tbody>\n",
       "</table>\n",
       "</div>"
      ],
      "text/plain": [
       "     gh owner language      repo  stars\n",
       "0  pandas-dev   python    pandas  17800\n",
       "1   tidyverse        R     dplyr   2800\n",
       "2   tidyverse        R   ggplot2   3500\n",
       "3      has2k1   python  plotnine   1450"
      ]
     },
     "execution_count": 22,
     "metadata": {},
     "output_type": "execute_result"
    }
   ],
   "source": [
    "df = pd.read_csv('datasets/df.csv')\n",
    "df"
   ]
  },
  {
   "cell_type": "code",
   "execution_count": 23,
   "metadata": {},
   "outputs": [
    {
     "data": {
      "text/html": [
       "<div>\n",
       "<style scoped>\n",
       "    .dataframe tbody tr th:only-of-type {\n",
       "        vertical-align: middle;\n",
       "    }\n",
       "\n",
       "    .dataframe tbody tr th {\n",
       "        vertical-align: top;\n",
       "    }\n",
       "\n",
       "    .dataframe thead th {\n",
       "        text-align: right;\n",
       "    }\n",
       "</style>\n",
       "<table border=\"1\" class=\"dataframe\">\n",
       "  <thead>\n",
       "    <tr style=\"text-align: right;\">\n",
       "      <th></th>\n",
       "      <th>stars</th>\n",
       "    </tr>\n",
       "    <tr>\n",
       "      <th>language</th>\n",
       "      <th></th>\n",
       "    </tr>\n",
       "  </thead>\n",
       "  <tbody>\n",
       "    <tr>\n",
       "      <th>R</th>\n",
       "      <td>6300</td>\n",
       "    </tr>\n",
       "    <tr>\n",
       "      <th>python</th>\n",
       "      <td>19250</td>\n",
       "    </tr>\n",
       "  </tbody>\n",
       "</table>\n",
       "</div>"
      ],
      "text/plain": [
       "          stars\n",
       "language       \n",
       "R          6300\n",
       "python    19250"
      ]
     },
     "execution_count": 23,
     "metadata": {},
     "output_type": "execute_result"
    }
   ],
   "source": [
    "df.pivot_table(values = 'stars', index = 'language', aggfunc = np.sum)"
   ]
  },
  {
   "cell_type": "code",
   "execution_count": 24,
   "metadata": {},
   "outputs": [
    {
     "data": {
      "text/html": [
       "<div>\n",
       "<style scoped>\n",
       "    .dataframe tbody tr th:only-of-type {\n",
       "        vertical-align: middle;\n",
       "    }\n",
       "\n",
       "    .dataframe tbody tr th {\n",
       "        vertical-align: top;\n",
       "    }\n",
       "\n",
       "    .dataframe thead th {\n",
       "        text-align: right;\n",
       "    }\n",
       "</style>\n",
       "<table border=\"1\" class=\"dataframe\">\n",
       "  <thead>\n",
       "    <tr style=\"text-align: right;\">\n",
       "      <th></th>\n",
       "      <th>gh owner</th>\n",
       "      <th>language</th>\n",
       "      <th>repo</th>\n",
       "      <th>stars</th>\n",
       "    </tr>\n",
       "  </thead>\n",
       "  <tbody>\n",
       "    <tr>\n",
       "      <th>0</th>\n",
       "      <td>pandas-dev</td>\n",
       "      <td>python</td>\n",
       "      <td>pandas</td>\n",
       "      <td>17800</td>\n",
       "    </tr>\n",
       "  </tbody>\n",
       "</table>\n",
       "</div>"
      ],
      "text/plain": [
       "     gh owner language    repo  stars\n",
       "0  pandas-dev   python  pandas  17800"
      ]
     },
     "execution_count": 24,
     "metadata": {},
     "output_type": "execute_result"
    }
   ],
   "source": [
    "df[(df[\"language\"] == \"python\") & (df[\"stars\"] > 5000)]"
   ]
  },
  {
   "cell_type": "code",
   "execution_count": 25,
   "metadata": {},
   "outputs": [
    {
     "data": {
      "text/plain": [
       "1       red\n",
       "2      blue\n",
       "3    yellow\n",
       "dtype: object"
      ]
     },
     "execution_count": 25,
     "metadata": {},
     "output_type": "execute_result"
    }
   ],
   "source": [
    "s1 = pd.Series(['red', 'blue', 'yellow'], index = [1, 2, 3])\n",
    "s1"
   ]
  },
  {
   "cell_type": "code",
   "execution_count": 26,
   "metadata": {},
   "outputs": [
    {
     "data": {
      "text/plain": [
       "4    purple\n",
       "5     green\n",
       "6    orange\n",
       "dtype: object"
      ]
     },
     "execution_count": 26,
     "metadata": {},
     "output_type": "execute_result"
    }
   ],
   "source": [
    "s2 = pd.Series(['purple', 'green', 'orange'], index = [4, 5, 6])\n",
    "s2"
   ]
  },
  {
   "cell_type": "code",
   "execution_count": 27,
   "metadata": {},
   "outputs": [
    {
     "data": {
      "text/plain": [
       "1       red\n",
       "2      blue\n",
       "3    yellow\n",
       "4    purple\n",
       "5     green\n",
       "6    orange\n",
       "dtype: object"
      ]
     },
     "execution_count": 27,
     "metadata": {},
     "output_type": "execute_result"
    }
   ],
   "source": [
    "pd.concat([s1, s2])"
   ]
  },
  {
   "cell_type": "code",
   "execution_count": 28,
   "metadata": {},
   "outputs": [
    {
     "data": {
      "text/html": [
       "<div>\n",
       "<style scoped>\n",
       "    .dataframe tbody tr th:only-of-type {\n",
       "        vertical-align: middle;\n",
       "    }\n",
       "\n",
       "    .dataframe tbody tr th {\n",
       "        vertical-align: top;\n",
       "    }\n",
       "\n",
       "    .dataframe thead th {\n",
       "        text-align: right;\n",
       "    }\n",
       "</style>\n",
       "<table border=\"1\" class=\"dataframe\">\n",
       "  <thead>\n",
       "    <tr style=\"text-align: right;\">\n",
       "      <th></th>\n",
       "      <th>bmi</th>\n",
       "      <th>country</th>\n",
       "      <th>year</th>\n",
       "    </tr>\n",
       "  </thead>\n",
       "  <tbody>\n",
       "    <tr>\n",
       "      <th>0</th>\n",
       "      <td>21.48678</td>\n",
       "      <td>Afghanistan</td>\n",
       "      <td>Y1980</td>\n",
       "    </tr>\n",
       "    <tr>\n",
       "      <th>1</th>\n",
       "      <td>NaN</td>\n",
       "      <td>Albania</td>\n",
       "      <td>Y1980</td>\n",
       "    </tr>\n",
       "    <tr>\n",
       "      <th>2</th>\n",
       "      <td>21.46552</td>\n",
       "      <td>Afghanistan</td>\n",
       "      <td>Y1981</td>\n",
       "    </tr>\n",
       "    <tr>\n",
       "      <th>3</th>\n",
       "      <td>NaN</td>\n",
       "      <td>Albania</td>\n",
       "      <td>Y1981</td>\n",
       "    </tr>\n",
       "  </tbody>\n",
       "</table>\n",
       "</div>"
      ],
      "text/plain": [
       "        bmi      country   year\n",
       "0  21.48678  Afghanistan  Y1980\n",
       "1       NaN      Albania  Y1980\n",
       "2  21.46552  Afghanistan  Y1981\n",
       "3       NaN      Albania  Y1981"
      ]
     },
     "execution_count": 28,
     "metadata": {},
     "output_type": "execute_result"
    }
   ],
   "source": [
    "data = pd.read_csv('datasets/data.csv')\n",
    "data"
   ]
  },
  {
   "cell_type": "code",
   "execution_count": 29,
   "metadata": {},
   "outputs": [
    {
     "data": {
      "text/html": [
       "<div>\n",
       "<style scoped>\n",
       "    .dataframe tbody tr th:only-of-type {\n",
       "        vertical-align: middle;\n",
       "    }\n",
       "\n",
       "    .dataframe tbody tr th {\n",
       "        vertical-align: top;\n",
       "    }\n",
       "\n",
       "    .dataframe thead th {\n",
       "        text-align: right;\n",
       "    }\n",
       "</style>\n",
       "<table border=\"1\" class=\"dataframe\">\n",
       "  <thead>\n",
       "    <tr style=\"text-align: right;\">\n",
       "      <th></th>\n",
       "      <th>bmi</th>\n",
       "      <th>country</th>\n",
       "      <th>year</th>\n",
       "    </tr>\n",
       "  </thead>\n",
       "  <tbody>\n",
       "    <tr>\n",
       "      <th>0</th>\n",
       "      <td>False</td>\n",
       "      <td>False</td>\n",
       "      <td>False</td>\n",
       "    </tr>\n",
       "    <tr>\n",
       "      <th>1</th>\n",
       "      <td>True</td>\n",
       "      <td>False</td>\n",
       "      <td>False</td>\n",
       "    </tr>\n",
       "    <tr>\n",
       "      <th>2</th>\n",
       "      <td>False</td>\n",
       "      <td>False</td>\n",
       "      <td>False</td>\n",
       "    </tr>\n",
       "    <tr>\n",
       "      <th>3</th>\n",
       "      <td>True</td>\n",
       "      <td>False</td>\n",
       "      <td>False</td>\n",
       "    </tr>\n",
       "  </tbody>\n",
       "</table>\n",
       "</div>"
      ],
      "text/plain": [
       "     bmi  country   year\n",
       "0  False    False  False\n",
       "1   True    False  False\n",
       "2  False    False  False\n",
       "3   True    False  False"
      ]
     },
     "execution_count": 29,
     "metadata": {},
     "output_type": "execute_result"
    }
   ],
   "source": [
    "data.isna()\n",
    "#data.isnull()"
   ]
  },
  {
   "cell_type": "code",
   "execution_count": 30,
   "metadata": {},
   "outputs": [
    {
     "data": {
      "text/html": [
       "<div>\n",
       "<style scoped>\n",
       "    .dataframe tbody tr th:only-of-type {\n",
       "        vertical-align: middle;\n",
       "    }\n",
       "\n",
       "    .dataframe tbody tr th {\n",
       "        vertical-align: top;\n",
       "    }\n",
       "\n",
       "    .dataframe thead th {\n",
       "        text-align: right;\n",
       "    }\n",
       "</style>\n",
       "<table border=\"1\" class=\"dataframe\">\n",
       "  <thead>\n",
       "    <tr style=\"text-align: right;\">\n",
       "      <th></th>\n",
       "      <th>Fide id</th>\n",
       "      <th>Name</th>\n",
       "      <th>Federation</th>\n",
       "      <th>Year_of_birth</th>\n",
       "      <th>Title</th>\n",
       "      <th>Gender</th>\n",
       "    </tr>\n",
       "  </thead>\n",
       "  <tbody>\n",
       "    <tr>\n",
       "      <th>0</th>\n",
       "      <td>700070</td>\n",
       "      <td>Polgar, Judit</td>\n",
       "      <td>HUN</td>\n",
       "      <td>1976</td>\n",
       "      <td>GM</td>\n",
       "      <td>female</td>\n",
       "    </tr>\n",
       "    <tr>\n",
       "      <th>1</th>\n",
       "      <td>8602980</td>\n",
       "      <td>Hou, Yifan</td>\n",
       "      <td>CHN</td>\n",
       "      <td>1994</td>\n",
       "      <td>GM</td>\n",
       "      <td>female</td>\n",
       "    </tr>\n",
       "    <tr>\n",
       "      <th>2</th>\n",
       "      <td>5008123</td>\n",
       "      <td>Koneru, Humpy</td>\n",
       "      <td>IND</td>\n",
       "      <td>1987</td>\n",
       "      <td>GM</td>\n",
       "      <td>female</td>\n",
       "    </tr>\n",
       "    <tr>\n",
       "      <th>3</th>\n",
       "      <td>4147103</td>\n",
       "      <td>Goryachkina, Aleksandra</td>\n",
       "      <td>RUS</td>\n",
       "      <td>1998</td>\n",
       "      <td>GM</td>\n",
       "      <td>female</td>\n",
       "    </tr>\n",
       "    <tr>\n",
       "      <th>4</th>\n",
       "      <td>700088</td>\n",
       "      <td>Polgar, Susan</td>\n",
       "      <td>HUN</td>\n",
       "      <td>1969</td>\n",
       "      <td>GM</td>\n",
       "      <td>female</td>\n",
       "    </tr>\n",
       "  </tbody>\n",
       "</table>\n",
       "</div>"
      ],
      "text/plain": [
       "   Fide id                     Name Federation  Year_of_birth Title  Gender\n",
       "0   700070            Polgar, Judit        HUN           1976    GM  female\n",
       "1  8602980               Hou, Yifan        CHN           1994    GM  female\n",
       "2  5008123            Koneru, Humpy        IND           1987    GM  female\n",
       "3  4147103  Goryachkina, Aleksandra        RUS           1998    GM  female\n",
       "4   700088            Polgar, Susan        HUN           1969    GM  female"
      ]
     },
     "execution_count": 30,
     "metadata": {},
     "output_type": "execute_result"
    }
   ],
   "source": [
    "chess = pd.read_csv('datasets/chess.csv', sep=';')\n",
    "chess"
   ]
  },
  {
   "cell_type": "code",
   "execution_count": 31,
   "metadata": {},
   "outputs": [
    {
     "data": {
      "text/plain": [
       "Fide id           int64\n",
       "Name             object\n",
       "Federation       object\n",
       "Year_of_birth     int64\n",
       "Title            object\n",
       "dtype: object"
      ]
     },
     "execution_count": 31,
     "metadata": {},
     "output_type": "execute_result"
    }
   ],
   "source": [
    "#The chess dataset contains information about the top female chess players around the world. Remove the redundant Gender column\n",
    "#from the dataset.\n",
    "\n",
    "chess.drop(columns=\"Gender\", inplace=True)\n",
    "\n",
    "chess.dtypes"
   ]
  },
  {
   "cell_type": "code",
   "execution_count": 32,
   "metadata": {},
   "outputs": [
    {
     "data": {
      "text/html": [
       "<div>\n",
       "<style scoped>\n",
       "    .dataframe tbody tr th:only-of-type {\n",
       "        vertical-align: middle;\n",
       "    }\n",
       "\n",
       "    .dataframe tbody tr th {\n",
       "        vertical-align: top;\n",
       "    }\n",
       "\n",
       "    .dataframe thead th {\n",
       "        text-align: right;\n",
       "    }\n",
       "</style>\n",
       "<table border=\"1\" class=\"dataframe\">\n",
       "  <thead>\n",
       "    <tr style=\"text-align: right;\">\n",
       "      <th></th>\n",
       "      <th>Name</th>\n",
       "      <th>Federation</th>\n",
       "      <th>Year_of_birth</th>\n",
       "      <th>Title</th>\n",
       "    </tr>\n",
       "    <tr>\n",
       "      <th>Fide id</th>\n",
       "      <th></th>\n",
       "      <th></th>\n",
       "      <th></th>\n",
       "      <th></th>\n",
       "    </tr>\n",
       "  </thead>\n",
       "  <tbody>\n",
       "    <tr>\n",
       "      <th>700070</th>\n",
       "      <td>Polgar, Judit</td>\n",
       "      <td>HUN</td>\n",
       "      <td>1976</td>\n",
       "      <td>GM</td>\n",
       "    </tr>\n",
       "    <tr>\n",
       "      <th>8602980</th>\n",
       "      <td>Hou, Yifan</td>\n",
       "      <td>CHN</td>\n",
       "      <td>1994</td>\n",
       "      <td>GM</td>\n",
       "    </tr>\n",
       "    <tr>\n",
       "      <th>5008123</th>\n",
       "      <td>Koneru, Humpy</td>\n",
       "      <td>IND</td>\n",
       "      <td>1987</td>\n",
       "      <td>GM</td>\n",
       "    </tr>\n",
       "    <tr>\n",
       "      <th>4147103</th>\n",
       "      <td>Goryachkina, Aleksandra</td>\n",
       "      <td>RUS</td>\n",
       "      <td>1998</td>\n",
       "      <td>GM</td>\n",
       "    </tr>\n",
       "    <tr>\n",
       "      <th>700088</th>\n",
       "      <td>Polgar, Susan</td>\n",
       "      <td>HUN</td>\n",
       "      <td>1969</td>\n",
       "      <td>GM</td>\n",
       "    </tr>\n",
       "  </tbody>\n",
       "</table>\n",
       "</div>"
      ],
      "text/plain": [
       "                            Name Federation  Year_of_birth Title\n",
       "Fide id                                                         \n",
       "700070             Polgar, Judit        HUN           1976    GM\n",
       "8602980               Hou, Yifan        CHN           1994    GM\n",
       "5008123            Koneru, Humpy        IND           1987    GM\n",
       "4147103  Goryachkina, Aleksandra        RUS           1998    GM\n",
       "700088             Polgar, Susan        HUN           1969    GM"
      ]
     },
     "execution_count": 32,
     "metadata": {},
     "output_type": "execute_result"
    }
   ],
   "source": [
    "chess = chess.set_index('Fide id')\n",
    "\n",
    "chess.head()"
   ]
  },
  {
   "cell_type": "code",
   "execution_count": 33,
   "metadata": {},
   "outputs": [
    {
     "name": "stdout",
     "output_type": "stream",
     "text": [
      "Int64Index([0, 1, 2, 3], dtype='int64')\n"
     ]
    }
   ],
   "source": [
    "food = df\n",
    "\n",
    "#The food DataFrame contains nutritional information about six menu items from a restaurant. Print the row index of the data.\n",
    "\n",
    "print(food.index)"
   ]
  },
  {
   "cell_type": "code",
   "execution_count": 34,
   "metadata": {},
   "outputs": [
    {
     "data": {
      "text/html": [
       "<div>\n",
       "<style scoped>\n",
       "    .dataframe tbody tr th:only-of-type {\n",
       "        vertical-align: middle;\n",
       "    }\n",
       "\n",
       "    .dataframe tbody tr th {\n",
       "        vertical-align: top;\n",
       "    }\n",
       "\n",
       "    .dataframe thead th {\n",
       "        text-align: right;\n",
       "    }\n",
       "</style>\n",
       "<table border=\"1\" class=\"dataframe\">\n",
       "  <thead>\n",
       "    <tr style=\"text-align: right;\">\n",
       "      <th></th>\n",
       "      <th>bmi</th>\n",
       "      <th>country</th>\n",
       "      <th>year</th>\n",
       "    </tr>\n",
       "  </thead>\n",
       "  <tbody>\n",
       "    <tr>\n",
       "      <th>0</th>\n",
       "      <td>21.48678</td>\n",
       "      <td>Afghanistan</td>\n",
       "      <td>Y1980</td>\n",
       "    </tr>\n",
       "    <tr>\n",
       "      <th>1</th>\n",
       "      <td>25.22533</td>\n",
       "      <td>Albania</td>\n",
       "      <td>Y1980</td>\n",
       "    </tr>\n",
       "    <tr>\n",
       "      <th>2</th>\n",
       "      <td>21.46552</td>\n",
       "      <td>Afghanistan</td>\n",
       "      <td>Y1981</td>\n",
       "    </tr>\n",
       "    <tr>\n",
       "      <th>3</th>\n",
       "      <td>25.23981</td>\n",
       "      <td>Albania</td>\n",
       "      <td>Y1981</td>\n",
       "    </tr>\n",
       "  </tbody>\n",
       "</table>\n",
       "</div>"
      ],
      "text/plain": [
       "        bmi      country   year\n",
       "0  21.48678  Afghanistan  Y1980\n",
       "1  25.22533      Albania  Y1980\n",
       "2  21.46552  Afghanistan  Y1981\n",
       "3  25.23981      Albania  Y1981"
      ]
     },
     "execution_count": 34,
     "metadata": {},
     "output_type": "execute_result"
    }
   ],
   "source": [
    "df_6 = pd.read_csv('datasets/df_6.csv')\n",
    "df_6"
   ]
  },
  {
   "cell_type": "code",
   "execution_count": 35,
   "metadata": {},
   "outputs": [
    {
     "data": {
      "text/html": [
       "<div>\n",
       "<style scoped>\n",
       "    .dataframe tbody tr th:only-of-type {\n",
       "        vertical-align: middle;\n",
       "    }\n",
       "\n",
       "    .dataframe tbody tr th {\n",
       "        vertical-align: top;\n",
       "    }\n",
       "\n",
       "    .dataframe thead th {\n",
       "        text-align: right;\n",
       "    }\n",
       "</style>\n",
       "<table border=\"1\" class=\"dataframe\">\n",
       "  <thead>\n",
       "    <tr style=\"text-align: right;\">\n",
       "      <th>year</th>\n",
       "      <th>Y1980</th>\n",
       "      <th>Y1981</th>\n",
       "    </tr>\n",
       "    <tr>\n",
       "      <th>country</th>\n",
       "      <th></th>\n",
       "      <th></th>\n",
       "    </tr>\n",
       "  </thead>\n",
       "  <tbody>\n",
       "    <tr>\n",
       "      <th>Afghanistan</th>\n",
       "      <td>21.48678</td>\n",
       "      <td>21.46552</td>\n",
       "    </tr>\n",
       "    <tr>\n",
       "      <th>Albania</th>\n",
       "      <td>25.22533</td>\n",
       "      <td>25.23981</td>\n",
       "    </tr>\n",
       "  </tbody>\n",
       "</table>\n",
       "</div>"
      ],
      "text/plain": [
       "year            Y1980     Y1981\n",
       "country                        \n",
       "Afghanistan  21.48678  21.46552\n",
       "Albania      25.22533  25.23981"
      ]
     },
     "execution_count": 35,
     "metadata": {},
     "output_type": "execute_result"
    }
   ],
   "source": [
    "df_6.pivot_table(index = \"country\", columns = \"year\", values = \"bmi\")"
   ]
  },
  {
   "cell_type": "code",
   "execution_count": 36,
   "metadata": {},
   "outputs": [
    {
     "data": {
      "text/html": [
       "<div>\n",
       "<style scoped>\n",
       "    .dataframe tbody tr th:only-of-type {\n",
       "        vertical-align: middle;\n",
       "    }\n",
       "\n",
       "    .dataframe tbody tr th {\n",
       "        vertical-align: top;\n",
       "    }\n",
       "\n",
       "    .dataframe thead th {\n",
       "        text-align: right;\n",
       "    }\n",
       "</style>\n",
       "<table border=\"1\" class=\"dataframe\">\n",
       "  <thead>\n",
       "    <tr style=\"text-align: right;\">\n",
       "      <th></th>\n",
       "      <th>x</th>\n",
       "      <th>y</th>\n",
       "    </tr>\n",
       "  </thead>\n",
       "  <tbody>\n",
       "    <tr>\n",
       "      <th>0</th>\n",
       "      <td>4</td>\n",
       "      <td>16</td>\n",
       "    </tr>\n",
       "    <tr>\n",
       "      <th>1</th>\n",
       "      <td>9</td>\n",
       "      <td>25</td>\n",
       "    </tr>\n",
       "  </tbody>\n",
       "</table>\n",
       "</div>"
      ],
      "text/plain": [
       "   x   y\n",
       "0  4  16\n",
       "1  9  25"
      ]
     },
     "execution_count": 36,
     "metadata": {},
     "output_type": "execute_result"
    }
   ],
   "source": [
    "df_7 = pd.read_csv('datasets/df_7.csv')\n",
    "df_7"
   ]
  },
  {
   "cell_type": "code",
   "execution_count": 37,
   "metadata": {},
   "outputs": [
    {
     "data": {
      "text/html": [
       "<div>\n",
       "<style scoped>\n",
       "    .dataframe tbody tr th:only-of-type {\n",
       "        vertical-align: middle;\n",
       "    }\n",
       "\n",
       "    .dataframe tbody tr th {\n",
       "        vertical-align: top;\n",
       "    }\n",
       "\n",
       "    .dataframe thead th {\n",
       "        text-align: right;\n",
       "    }\n",
       "</style>\n",
       "<table border=\"1\" class=\"dataframe\">\n",
       "  <thead>\n",
       "    <tr style=\"text-align: right;\">\n",
       "      <th></th>\n",
       "      <th>x</th>\n",
       "      <th>y</th>\n",
       "    </tr>\n",
       "  </thead>\n",
       "  <tbody>\n",
       "    <tr>\n",
       "      <th>0</th>\n",
       "      <td>2.0</td>\n",
       "      <td>4.0</td>\n",
       "    </tr>\n",
       "    <tr>\n",
       "      <th>1</th>\n",
       "      <td>3.0</td>\n",
       "      <td>5.0</td>\n",
       "    </tr>\n",
       "  </tbody>\n",
       "</table>\n",
       "</div>"
      ],
      "text/plain": [
       "     x    y\n",
       "0  2.0  4.0\n",
       "1  3.0  5.0"
      ]
     },
     "execution_count": 37,
     "metadata": {},
     "output_type": "execute_result"
    }
   ],
   "source": [
    "df_7.apply(np.sqrt)"
   ]
  },
  {
   "cell_type": "code",
   "execution_count": 38,
   "metadata": {},
   "outputs": [
    {
     "data": {
      "text/plain": [
       "HUN    2\n",
       "RUS    1\n",
       "IND    1\n",
       "CHN    1\n",
       "Name: Federation, dtype: int64"
      ]
     },
     "execution_count": 38,
     "metadata": {},
     "output_type": "execute_result"
    }
   ],
   "source": [
    "#The chess dataset contains information about the top female chess players around the world. The Federation column indicates\n",
    "#which country the player represents. How many players are from each country?\n",
    "\n",
    "players_per_country = chess['Federation'].value_counts()\n",
    "\n",
    "players_per_country.head()"
   ]
  },
  {
   "cell_type": "code",
   "execution_count": 39,
   "metadata": {},
   "outputs": [
    {
     "data": {
      "text/html": [
       "<div>\n",
       "<style scoped>\n",
       "    .dataframe tbody tr th:only-of-type {\n",
       "        vertical-align: middle;\n",
       "    }\n",
       "\n",
       "    .dataframe tbody tr th {\n",
       "        vertical-align: top;\n",
       "    }\n",
       "\n",
       "    .dataframe thead th {\n",
       "        text-align: right;\n",
       "    }\n",
       "</style>\n",
       "<table border=\"1\" class=\"dataframe\">\n",
       "  <thead>\n",
       "    <tr style=\"text-align: right;\">\n",
       "      <th></th>\n",
       "      <th>id</th>\n",
       "      <th>treatment</th>\n",
       "      <th>response</th>\n",
       "    </tr>\n",
       "  </thead>\n",
       "  <tbody>\n",
       "    <tr>\n",
       "      <th>0</th>\n",
       "      <td>1</td>\n",
       "      <td>a</td>\n",
       "      <td>12</td>\n",
       "    </tr>\n",
       "    <tr>\n",
       "      <th>1</th>\n",
       "      <td>2</td>\n",
       "      <td>a</td>\n",
       "      <td>52</td>\n",
       "    </tr>\n",
       "    <tr>\n",
       "      <th>2</th>\n",
       "      <td>3</td>\n",
       "      <td>b</td>\n",
       "      <td>45</td>\n",
       "    </tr>\n",
       "  </tbody>\n",
       "</table>\n",
       "</div>"
      ],
      "text/plain": [
       "   id treatment  response\n",
       "0   1         a        12\n",
       "1   2         a        52\n",
       "2   3         b        45"
      ]
     },
     "execution_count": 39,
     "metadata": {},
     "output_type": "execute_result"
    }
   ],
   "source": [
    "df_8 = pd.read_csv('datasets/df_8.csv')\n",
    "df_8"
   ]
  },
  {
   "cell_type": "code",
   "execution_count": 40,
   "metadata": {},
   "outputs": [
    {
     "data": {
      "text/html": [
       "<div>\n",
       "<style scoped>\n",
       "    .dataframe tbody tr th:only-of-type {\n",
       "        vertical-align: middle;\n",
       "    }\n",
       "\n",
       "    .dataframe tbody tr th {\n",
       "        vertical-align: top;\n",
       "    }\n",
       "\n",
       "    .dataframe thead th {\n",
       "        text-align: right;\n",
       "    }\n",
       "</style>\n",
       "<table border=\"1\" class=\"dataframe\">\n",
       "  <thead>\n",
       "    <tr style=\"text-align: right;\">\n",
       "      <th>treatment</th>\n",
       "      <th>a</th>\n",
       "      <th>b</th>\n",
       "    </tr>\n",
       "    <tr>\n",
       "      <th>id</th>\n",
       "      <th></th>\n",
       "      <th></th>\n",
       "    </tr>\n",
       "  </thead>\n",
       "  <tbody>\n",
       "    <tr>\n",
       "      <th>1</th>\n",
       "      <td>12.0</td>\n",
       "      <td>NaN</td>\n",
       "    </tr>\n",
       "    <tr>\n",
       "      <th>2</th>\n",
       "      <td>52.0</td>\n",
       "      <td>NaN</td>\n",
       "    </tr>\n",
       "    <tr>\n",
       "      <th>3</th>\n",
       "      <td>NaN</td>\n",
       "      <td>45.0</td>\n",
       "    </tr>\n",
       "  </tbody>\n",
       "</table>\n",
       "</div>"
      ],
      "text/plain": [
       "treatment     a     b\n",
       "id                   \n",
       "1          12.0   NaN\n",
       "2          52.0   NaN\n",
       "3           NaN  45.0"
      ]
     },
     "execution_count": 40,
     "metadata": {},
     "output_type": "execute_result"
    }
   ],
   "source": [
    "df_8.pivot_table(index = \"id\", values = \"response\", columns = \"treatment\")"
   ]
  },
  {
   "cell_type": "code",
   "execution_count": 41,
   "metadata": {},
   "outputs": [
    {
     "data": {
      "text/html": [
       "<div>\n",
       "<style scoped>\n",
       "    .dataframe tbody tr th:only-of-type {\n",
       "        vertical-align: middle;\n",
       "    }\n",
       "\n",
       "    .dataframe tbody tr th {\n",
       "        vertical-align: top;\n",
       "    }\n",
       "\n",
       "    .dataframe thead th {\n",
       "        text-align: right;\n",
       "    }\n",
       "</style>\n",
       "<table border=\"1\" class=\"dataframe\">\n",
       "  <thead>\n",
       "    <tr style=\"text-align: right;\">\n",
       "      <th></th>\n",
       "      <th>repo</th>\n",
       "      <th>gh owner</th>\n",
       "      <th>language</th>\n",
       "      <th>stars</th>\n",
       "      <th>commits</th>\n",
       "    </tr>\n",
       "  </thead>\n",
       "  <tbody>\n",
       "    <tr>\n",
       "      <th>0</th>\n",
       "      <td>pandas</td>\n",
       "      <td>pandas-dev</td>\n",
       "      <td>python</td>\n",
       "      <td>17800</td>\n",
       "      <td>133</td>\n",
       "    </tr>\n",
       "    <tr>\n",
       "      <th>1</th>\n",
       "      <td>dplyr</td>\n",
       "      <td>tidyverse</td>\n",
       "      <td>R</td>\n",
       "      <td>2800</td>\n",
       "      <td>52</td>\n",
       "    </tr>\n",
       "    <tr>\n",
       "      <th>2</th>\n",
       "      <td>ggplot2</td>\n",
       "      <td>tidyverse</td>\n",
       "      <td>R</td>\n",
       "      <td>3500</td>\n",
       "      <td>59</td>\n",
       "    </tr>\n",
       "    <tr>\n",
       "      <th>3</th>\n",
       "      <td>plotnine</td>\n",
       "      <td>has2k1</td>\n",
       "      <td>python</td>\n",
       "      <td>1450</td>\n",
       "      <td>38</td>\n",
       "    </tr>\n",
       "  </tbody>\n",
       "</table>\n",
       "</div>"
      ],
      "text/plain": [
       "       repo    gh owner language  stars  commits\n",
       "0    pandas  pandas-dev   python  17800      133\n",
       "1     dplyr   tidyverse        R   2800       52\n",
       "2   ggplot2   tidyverse        R   3500       59\n",
       "3  plotnine      has2k1   python   1450       38"
      ]
     },
     "execution_count": 41,
     "metadata": {},
     "output_type": "execute_result"
    }
   ],
   "source": [
    "df_9 = pd.read_csv('datasets/df_9.csv')\n",
    "df_9"
   ]
  },
  {
   "cell_type": "code",
   "execution_count": 42,
   "metadata": {},
   "outputs": [
    {
     "data": {
      "text/html": [
       "<div>\n",
       "<style scoped>\n",
       "    .dataframe tbody tr th:only-of-type {\n",
       "        vertical-align: middle;\n",
       "    }\n",
       "\n",
       "    .dataframe tbody tr th {\n",
       "        vertical-align: top;\n",
       "    }\n",
       "\n",
       "    .dataframe thead tr th {\n",
       "        text-align: left;\n",
       "    }\n",
       "\n",
       "    .dataframe thead tr:last-of-type th {\n",
       "        text-align: right;\n",
       "    }\n",
       "</style>\n",
       "<table border=\"1\" class=\"dataframe\">\n",
       "  <thead>\n",
       "    <tr>\n",
       "      <th></th>\n",
       "      <th colspan=\"3\" halign=\"left\">stars</th>\n",
       "      <th colspan=\"3\" halign=\"left\">commits</th>\n",
       "    </tr>\n",
       "    <tr>\n",
       "      <th></th>\n",
       "      <th>min</th>\n",
       "      <th>max</th>\n",
       "      <th>sum</th>\n",
       "      <th>min</th>\n",
       "      <th>max</th>\n",
       "      <th>sum</th>\n",
       "    </tr>\n",
       "    <tr>\n",
       "      <th>language</th>\n",
       "      <th></th>\n",
       "      <th></th>\n",
       "      <th></th>\n",
       "      <th></th>\n",
       "      <th></th>\n",
       "      <th></th>\n",
       "    </tr>\n",
       "  </thead>\n",
       "  <tbody>\n",
       "    <tr>\n",
       "      <th>R</th>\n",
       "      <td>2800</td>\n",
       "      <td>3500</td>\n",
       "      <td>6300</td>\n",
       "      <td>52</td>\n",
       "      <td>59</td>\n",
       "      <td>111</td>\n",
       "    </tr>\n",
       "    <tr>\n",
       "      <th>python</th>\n",
       "      <td>1450</td>\n",
       "      <td>17800</td>\n",
       "      <td>19250</td>\n",
       "      <td>38</td>\n",
       "      <td>133</td>\n",
       "      <td>171</td>\n",
       "    </tr>\n",
       "  </tbody>\n",
       "</table>\n",
       "</div>"
      ],
      "text/plain": [
       "         stars               commits          \n",
       "           min    max    sum     min  max  sum\n",
       "language                                      \n",
       "R         2800   3500   6300      52   59  111\n",
       "python    1450  17800  19250      38  133  171"
      ]
     },
     "execution_count": 42,
     "metadata": {},
     "output_type": "execute_result"
    }
   ],
   "source": [
    "df_9.groupby(\"language\")[['stars', 'commits']].agg(['min', 'max', 'sum'])"
   ]
  },
  {
   "cell_type": "code",
   "execution_count": 43,
   "metadata": {},
   "outputs": [
    {
     "name": "stdout",
     "output_type": "stream",
     "text": [
      "2010-10-05 13:30:04\n"
     ]
    }
   ],
   "source": [
    "import datetime as dt\n",
    "\n",
    "start = dt.datetime(2010, 10, 5, 13, 30, 2)\n",
    "delta = dt.timedelta(seconds = 2)\n",
    "\n",
    "print(start + delta)"
   ]
  },
  {
   "cell_type": "code",
   "execution_count": 44,
   "metadata": {},
   "outputs": [
    {
     "data": {
      "text/html": [
       "<div>\n",
       "<style scoped>\n",
       "    .dataframe tbody tr th:only-of-type {\n",
       "        vertical-align: middle;\n",
       "    }\n",
       "\n",
       "    .dataframe tbody tr th {\n",
       "        vertical-align: top;\n",
       "    }\n",
       "\n",
       "    .dataframe thead th {\n",
       "        text-align: right;\n",
       "    }\n",
       "</style>\n",
       "<table border=\"1\" class=\"dataframe\">\n",
       "  <thead>\n",
       "    <tr style=\"text-align: right;\">\n",
       "      <th></th>\n",
       "      <th>Name</th>\n",
       "      <th>Federation</th>\n",
       "      <th>Year_of_birth</th>\n",
       "      <th>Title</th>\n",
       "    </tr>\n",
       "    <tr>\n",
       "      <th>Fide id</th>\n",
       "      <th></th>\n",
       "      <th></th>\n",
       "      <th></th>\n",
       "      <th></th>\n",
       "    </tr>\n",
       "  </thead>\n",
       "  <tbody>\n",
       "    <tr>\n",
       "      <th>8602980</th>\n",
       "      <td>Hou, Yifan</td>\n",
       "      <td>CHN</td>\n",
       "      <td>1994</td>\n",
       "      <td>GM</td>\n",
       "    </tr>\n",
       "    <tr>\n",
       "      <th>700088</th>\n",
       "      <td>Polgar, Susan</td>\n",
       "      <td>HUN</td>\n",
       "      <td>1969</td>\n",
       "      <td>GM</td>\n",
       "    </tr>\n",
       "    <tr>\n",
       "      <th>5008123</th>\n",
       "      <td>Koneru, Humpy</td>\n",
       "      <td>IND</td>\n",
       "      <td>1987</td>\n",
       "      <td>GM</td>\n",
       "    </tr>\n",
       "    <tr>\n",
       "      <th>700070</th>\n",
       "      <td>Polgar, Judit</td>\n",
       "      <td>HUN</td>\n",
       "      <td>1976</td>\n",
       "      <td>GM</td>\n",
       "    </tr>\n",
       "    <tr>\n",
       "      <th>4147103</th>\n",
       "      <td>Goryachkina, Aleksandra</td>\n",
       "      <td>RUS</td>\n",
       "      <td>1998</td>\n",
       "      <td>GM</td>\n",
       "    </tr>\n",
       "  </tbody>\n",
       "</table>\n",
       "</div>"
      ],
      "text/plain": [
       "                            Name Federation  Year_of_birth Title\n",
       "Fide id                                                         \n",
       "8602980               Hou, Yifan        CHN           1994    GM\n",
       "700088             Polgar, Susan        HUN           1969    GM\n",
       "5008123            Koneru, Humpy        IND           1987    GM\n",
       "700070             Polgar, Judit        HUN           1976    GM\n",
       "4147103  Goryachkina, Aleksandra        RUS           1998    GM"
      ]
     },
     "execution_count": 44,
     "metadata": {},
     "output_type": "execute_result"
    }
   ],
   "source": [
    "#The chess dataset contains information about the top female chess players around the world. You have viewed the first rows of\n",
    "#the dataset but you suspect some of the subsequent rows might very different. Preview a random sample of 5 rows. Ensure that\n",
    "#you have reproducible results by using a random_state=42.\n",
    "\n",
    "chess.sample(n=5, random_state=42)"
   ]
  },
  {
   "cell_type": "code",
   "execution_count": 45,
   "metadata": {},
   "outputs": [
    {
     "data": {
      "text/plain": [
       "0    1.0\n",
       "1    2.0\n",
       "2    2.0\n",
       "3    4.0\n",
       "4    4.0\n",
       "dtype: float64"
      ]
     },
     "execution_count": 45,
     "metadata": {},
     "output_type": "execute_result"
    }
   ],
   "source": [
    "import numpy as np\n",
    "import pandas as pd\n",
    "\n",
    "data = pd.Series([1, 2, np.nan, 4, np.nan])\n",
    "data.fillna(method = \"ffill\")"
   ]
  },
  {
   "cell_type": "code",
   "execution_count": 46,
   "metadata": {},
   "outputs": [
    {
     "data": {
      "text/html": [
       "<div>\n",
       "<style scoped>\n",
       "    .dataframe tbody tr th:only-of-type {\n",
       "        vertical-align: middle;\n",
       "    }\n",
       "\n",
       "    .dataframe tbody tr th {\n",
       "        vertical-align: top;\n",
       "    }\n",
       "\n",
       "    .dataframe thead th {\n",
       "        text-align: right;\n",
       "    }\n",
       "</style>\n",
       "<table border=\"1\" class=\"dataframe\">\n",
       "  <thead>\n",
       "    <tr style=\"text-align: right;\">\n",
       "      <th></th>\n",
       "      <th>customer_id</th>\n",
       "      <th>order_id</th>\n",
       "      <th>customer_firstname</th>\n",
       "      <th>customer_lastname</th>\n",
       "      <th>customer_email</th>\n",
       "    </tr>\n",
       "  </thead>\n",
       "  <tbody>\n",
       "    <tr>\n",
       "      <th>0</th>\n",
       "      <td>20</td>\n",
       "      <td>5.0</td>\n",
       "      <td>Jane</td>\n",
       "      <td>Yellow</td>\n",
       "      <td>jane@datacamp.com</td>\n",
       "    </tr>\n",
       "    <tr>\n",
       "      <th>1</th>\n",
       "      <td>21</td>\n",
       "      <td>6.0</td>\n",
       "      <td>John</td>\n",
       "      <td>Blue</td>\n",
       "      <td>john@datacamp.com</td>\n",
       "    </tr>\n",
       "    <tr>\n",
       "      <th>2</th>\n",
       "      <td>22</td>\n",
       "      <td>7.0</td>\n",
       "      <td>NaN</td>\n",
       "      <td>NaN</td>\n",
       "      <td>NaN</td>\n",
       "    </tr>\n",
       "    <tr>\n",
       "      <th>3</th>\n",
       "      <td>23</td>\n",
       "      <td>NaN</td>\n",
       "      <td>Joe</td>\n",
       "      <td>Green</td>\n",
       "      <td>joe@datacamp.com</td>\n",
       "    </tr>\n",
       "  </tbody>\n",
       "</table>\n",
       "</div>"
      ],
      "text/plain": [
       "   customer_id  order_id customer_firstname customer_lastname  \\\n",
       "0           20       5.0               Jane            Yellow   \n",
       "1           21       6.0               John              Blue   \n",
       "2           22       7.0                NaN               NaN   \n",
       "3           23       NaN                Joe             Green   \n",
       "\n",
       "      customer_email  \n",
       "0  jane@datacamp.com  \n",
       "1  john@datacamp.com  \n",
       "2                NaN  \n",
       "3   joe@datacamp.com  "
      ]
     },
     "execution_count": 46,
     "metadata": {},
     "output_type": "execute_result"
    }
   ],
   "source": [
    "#Consider the Pandas DataFrames df_1 and df_2, below. Complete the code so that you join df_2 to df_1, and retain all of the\n",
    "#rows in both DataFrames.\n",
    "\n",
    "pd.merge(df_4, df_5, on = \"customer_id\", how = 'outer')"
   ]
  },
  {
   "cell_type": "code",
   "execution_count": 47,
   "metadata": {},
   "outputs": [
    {
     "data": {
      "text/plain": [
       "'2020/02/10'"
      ]
     },
     "execution_count": 47,
     "metadata": {},
     "output_type": "execute_result"
    }
   ],
   "source": [
    "from datetime import date\n",
    "\n",
    "d = date(2020, 2, 10)\n",
    "\n",
    "d.strftime(\"%Y/%m/%d\")"
   ]
  },
  {
   "cell_type": "code",
   "execution_count": 48,
   "metadata": {},
   "outputs": [
    {
     "data": {
      "text/plain": [
       "0     True\n",
       "1    False\n",
       "2     True\n",
       "dtype: bool"
      ]
     },
     "execution_count": 48,
     "metadata": {},
     "output_type": "execute_result"
    }
   ],
   "source": [
    "import pandas as pd\n",
    "\n",
    "s.str.endswith(\"d\")"
   ]
  },
  {
   "cell_type": "code",
   "execution_count": 49,
   "metadata": {},
   "outputs": [
    {
     "name": "stdout",
     "output_type": "stream",
     "text": [
      "     gh owner language      repo  stars  id\n",
      "0  pandas-dev   python    pandas  17800   1\n",
      "1   tidyverse        R     dplyr   2800   2\n",
      "2   tidyverse        R   ggplot2   3500   3\n",
      "3      has2k1   python  plotnine   1450   4\n"
     ]
    }
   ],
   "source": [
    "import pandas as pd\n",
    "df = pd.read_csv('datasets/df.csv')\n",
    "\n",
    "df.loc[:,'id'] = [1,2,3,4]\n",
    "print(df)"
   ]
  },
  {
   "cell_type": "code",
   "execution_count": 50,
   "metadata": {},
   "outputs": [
    {
     "data": {
      "text/html": [
       "<div>\n",
       "<style scoped>\n",
       "    .dataframe tbody tr th:only-of-type {\n",
       "        vertical-align: middle;\n",
       "    }\n",
       "\n",
       "    .dataframe tbody tr th {\n",
       "        vertical-align: top;\n",
       "    }\n",
       "\n",
       "    .dataframe thead th {\n",
       "        text-align: right;\n",
       "    }\n",
       "</style>\n",
       "<table border=\"1\" class=\"dataframe\">\n",
       "  <thead>\n",
       "    <tr style=\"text-align: right;\">\n",
       "      <th></th>\n",
       "      <th>ingredient</th>\n",
       "      <th>quantity</th>\n",
       "    </tr>\n",
       "  </thead>\n",
       "  <tbody>\n",
       "    <tr>\n",
       "      <th>0</th>\n",
       "      <td>butter</td>\n",
       "      <td>125 g</td>\n",
       "    </tr>\n",
       "    <tr>\n",
       "      <th>1</th>\n",
       "      <td>cream</td>\n",
       "      <td>1 cup</td>\n",
       "    </tr>\n",
       "    <tr>\n",
       "      <th>2</th>\n",
       "      <td>caramel treat</td>\n",
       "      <td>360 g</td>\n",
       "    </tr>\n",
       "  </tbody>\n",
       "</table>\n",
       "</div>"
      ],
      "text/plain": [
       "      ingredient quantity\n",
       "0         butter    125 g\n",
       "1          cream    1 cup\n",
       "2  caramel treat    360 g"
      ]
     },
     "execution_count": 50,
     "metadata": {},
     "output_type": "execute_result"
    }
   ],
   "source": [
    "df_10 = pd.read_csv('datasets/df_10.csv')\n",
    "df_10"
   ]
  },
  {
   "cell_type": "code",
   "execution_count": 51,
   "metadata": {},
   "outputs": [
    {
     "data": {
      "text/html": [
       "<div>\n",
       "<style scoped>\n",
       "    .dataframe tbody tr th:only-of-type {\n",
       "        vertical-align: middle;\n",
       "    }\n",
       "\n",
       "    .dataframe tbody tr th {\n",
       "        vertical-align: top;\n",
       "    }\n",
       "\n",
       "    .dataframe thead th {\n",
       "        text-align: right;\n",
       "    }\n",
       "</style>\n",
       "<table border=\"1\" class=\"dataframe\">\n",
       "  <thead>\n",
       "    <tr style=\"text-align: right;\">\n",
       "      <th></th>\n",
       "      <th>ingredient</th>\n",
       "      <th>quantity</th>\n",
       "    </tr>\n",
       "  </thead>\n",
       "  <tbody>\n",
       "    <tr>\n",
       "      <th>0</th>\n",
       "      <td>tennis biscuits</td>\n",
       "      <td>125 g</td>\n",
       "    </tr>\n",
       "    <tr>\n",
       "      <th>1</th>\n",
       "      <td>peppermint crisp chocolate</td>\n",
       "      <td>1 cup</td>\n",
       "    </tr>\n",
       "  </tbody>\n",
       "</table>\n",
       "</div>"
      ],
      "text/plain": [
       "                   ingredient quantity\n",
       "0             tennis biscuits    125 g\n",
       "1  peppermint crisp chocolate    1 cup"
      ]
     },
     "execution_count": 51,
     "metadata": {},
     "output_type": "execute_result"
    }
   ],
   "source": [
    "df_11 = pd.read_csv('datasets/df_11.csv')\n",
    "df_11"
   ]
  },
  {
   "cell_type": "code",
   "execution_count": 52,
   "metadata": {},
   "outputs": [
    {
     "name": "stdout",
     "output_type": "stream",
     "text": [
      "                   ingredient quantity\n",
      "0                      butter    125 g\n",
      "1                       cream    1 cup\n",
      "2               caramel treat    360 g\n",
      "0             tennis biscuits    125 g\n",
      "1  peppermint crisp chocolate    1 cup\n"
     ]
    }
   ],
   "source": [
    "print(pd.concat([df_10, df_11], axis=0))"
   ]
  },
  {
   "cell_type": "code",
   "execution_count": 53,
   "metadata": {},
   "outputs": [
    {
     "name": "stdout",
     "output_type": "stream",
     "text": [
      "2010-10-05 13:30:04\n"
     ]
    }
   ],
   "source": [
    "#Complete the code to return the output\n",
    "\n",
    "import datetime as dt\n",
    "\n",
    "start = dt.datetime(2010, 10, 5, 13, 30, 2)\n",
    "delta = dt.timedelta(seconds = 2)\n",
    "\n",
    "print(start + delta)"
   ]
  },
  {
   "cell_type": "code",
   "execution_count": 2,
   "metadata": {},
   "outputs": [
    {
     "name": "stdout",
     "output_type": "stream",
     "text": [
      "2.87\n"
     ]
    }
   ],
   "source": [
    "age = [1,2,3,4,5,6,7,8,9,10]\n",
    "\n",
    "#You have collected data on the age for each of 100 shoppers in your store. Calculate the standard deviation for the age of the\n",
    "#shoppers.\n",
    "\n",
    "#Complete the code to return the output\n",
    "\n",
    "import numpy as np\n",
    "\n",
    "sd_age = np.std(age)\n",
    "\n",
    "print(sd_age.round(2))"
   ]
  },
  {
   "cell_type": "code",
   "execution_count": 4,
   "metadata": {},
   "outputs": [
    {
     "name": "stdout",
     "output_type": "stream",
     "text": [
      "      Month  Count\n",
      "zero    Jan     52\n",
      "one     Apr     29\n",
      "two     Mar     46\n",
      "three   Feb      3 \n",
      "\n",
      "      Month  Count\n",
      "two     Mar     46\n",
      "three   Feb      3\n"
     ]
    }
   ],
   "source": [
    "import pandas as pd\n",
    "df_12 = pd.read_csv('datasets/df_12.csv')\n",
    "\n",
    "#Consider the Pandas DataFrame df below.\n",
    "\n",
    "print(df_12, '\\n')\n",
    "\n",
    "#Complete the code to return the output\n",
    "\n",
    "print(df_12.loc['two':])"
   ]
  },
  {
   "cell_type": "code",
   "execution_count": 6,
   "metadata": {},
   "outputs": [
    {
     "name": "stdout",
     "output_type": "stream",
     "text": [
      "  alignment     character  height    location\n",
      "0      Good        Batman    1.88      Gotham\n",
      "1      Good  Wonder Woman    1.78  Themyscira\n",
      "2      Evil    Lex Luthor    1.88  Metropolis\n",
      "3      Evil     The Joker    1.85      Gotham \n",
      "\n",
      "  alignment     character\n",
      "0      Good        Batman\n",
      "1      Good  Wonder Woman\n",
      "2      Evil    Lex Luthor\n",
      "3      Evil     The Joker\n"
     ]
    }
   ],
   "source": [
    "import pandas as pd\n",
    "df_13 = pd.read_csv('datasets/df_13.csv')\n",
    "\n",
    "#Subset the DataFrame df to select the alignment and character columns.\n",
    "\n",
    "print(df_13, '\\n')\n",
    "\n",
    "#Complete the code to return the output\n",
    "\n",
    "import pandas as pd\n",
    "\n",
    "print(df_13[['alignment', 'character']])"
   ]
  },
  {
   "cell_type": "code",
   "execution_count": null,
   "metadata": {},
   "outputs": [],
   "source": [
    "#Subset the Pandas DataFrame df shown below to return all rows with a weight greater than 175.\n",
    "\n",
    "     species   name  weight\n",
    "0       lion  Sally     121\n",
    "1      tiger  Henry     228\n",
    "2       lion   Tony     177\n",
    "3      tiger   Lucy     165\n",
    "\n",
    "#Select the code to return the output\n",
    "\n",
    "print(df[df.weight > 175])"
   ]
  },
  {
   "cell_type": "code",
   "execution_count": null,
   "metadata": {},
   "outputs": [],
   "source": [
    "#Return the Pandas DataFrame df shown below with the smallest salary value appearing first in the data frame.\n",
    "\n",
    "     first name   gender     salary  \n",
    "0         Linda   female       3400  \n",
    "1         Steve     male       5000 \n",
    "2         Henry     male      12400\n",
    "3          Sara   female       7600  \n",
    "\n",
    "#Complete the code to return the output\n",
    "\n",
    "result = df.sort_values('salary', ascending = True)\n",
    "print(result)"
   ]
  },
  {
   "cell_type": "code",
   "execution_count": null,
   "metadata": {},
   "outputs": [],
   "source": [
    "#Consider the Pandas DataFrame df below. Filter it appropriately so that it outputs the shown results.\n",
    "\n",
    "     gh owner language      repo  stars\n",
    "0  pandas-dev   python    pandas  17800\n",
    "1   tidyverse        R     dplyr   2800\n",
    "2   tidyverse        R   ggplot2   3500\n",
    "3      has2k1   python  plotnine   1450\n",
    "\n",
    "#Complete the code to return the output\n",
    "\n",
    "print(df[df[\"stars\"]==1450])"
   ]
  },
  {
   "cell_type": "code",
   "execution_count": null,
   "metadata": {},
   "outputs": [],
   "source": [
    "#Consider the Pandas DataFrame df below:\n",
    "\n",
    "     gh owner language      repo  stars\n",
    "0  pandas-dev   python    pandas  17800\n",
    "1   tidyverse        R     dplyr   2800\n",
    "2   tidyverse        R   ggplot2   3500\n",
    "3      has2k1   python  plotnine   1450\n",
    "\n",
    "#Complete the code to return the output\n",
    "\n",
    "import pandas as pd\n",
    "\n",
    "print(df.stars.transform(lambda x: x / 1000))"
   ]
  },
  {
   "cell_type": "code",
   "execution_count": null,
   "metadata": {},
   "outputs": [],
   "source": [
    "#Consider the Pandas DataFrame df below.\n",
    "\n",
    "     gh owner language      repo  stars\n",
    "0  pandas-dev   python    pandas  17800\n",
    "1   tidyverse        R     dplyr   2800\n",
    "2   tidyverse        R   ggplot2   3500\n",
    "3      has2k1   python  plotnine   1450\n",
    "\n",
    "#Complete the code to return the output\n",
    "\n",
    "print(df.loc[:,[\"gh owner\"]])"
   ]
  },
  {
   "cell_type": "code",
   "execution_count": null,
   "metadata": {},
   "outputs": [],
   "source": [
    "#Calculate the variance and standard deviation of the array x.\n",
    "\n",
    "#Complete the code to return the output\n",
    "\n",
    "x = np.array([2.2, 0.9, 4.4, 6.7, 2.8, 3.2, 1.1, 3.5])\n",
    "x_var = np.var(x)\n",
    "x_stdev = np.std(x)\n",
    "print('Variance: {:4.2f}'.format(x_var))\n",
    "print('Std Deviation: {:4.2f}'.format(x_stdev))"
   ]
  },
  {
   "cell_type": "code",
   "execution_count": null,
   "metadata": {},
   "outputs": [],
   "source": [
    "#The wine DataFrame provides information on wines stocked by an online retailer, but some information is missing. Print the\n",
    "#total number of missing values in each column of the data.\n",
    "\n",
    "                     type    country  price  rating\n",
    "style                                               \n",
    "alvarinho           white   portugal  18.99     4.2\n",
    "blanc de blanc  sparkling     france    NaN     3.8\n",
    "cabernet              red  argentina  14.90     4.0\n",
    "gavi                white      italy  13.56     NaN\n",
    "malbec                red  argentina  19.04     4.2\n",
    "\n",
    "#Complete the code to return the output\n",
    "\n",
    "missing_total_by_column = wine.isna().sum()\n",
    "\n",
    "print(missing_total_by_column)"
   ]
  },
  {
   "cell_type": "code",
   "execution_count": null,
   "metadata": {},
   "outputs": [],
   "source": [
    "#Which of the following DataFrame methods will generate various summary statistics, excluding NaN values?\n",
    "\n",
    "#.summarize()\n",
    "\n",
    "#.info()\n",
    "\n",
    "#.summary()\n",
    "\n",
    "#.describe()*"
   ]
  },
  {
   "cell_type": "code",
   "execution_count": null,
   "metadata": {},
   "outputs": [],
   "source": [
    "#You work for a second hand car sales company, and they want to know the relationship between the age and the value so that they\n",
    "#can estimate the best price to sell their cars at. Create a plot to show the relationship, identifying the emissions level by\n",
    "#changing the color of each point. The valuation data is previewed below.\n",
    "\n",
    "    age emissions   mpg  value\n",
    "0    15       low  23.1   3047\n",
    "1     8       low  10.4  15428\n",
    "2     4      high  15.4  24973\n",
    "3    10      high  31.0   4638\n",
    "4     1       low  30.2  19303\n",
    "\n",
    "#Complete the code to return the output\n",
    "\n",
    "import matplotlib.pyplot as plt\n",
    "import seaborn as sns\n",
    "\n",
    "sns.scatterplot(x = \"age\", y = \"value\", hue = \"emissions\", data = valuation)\n",
    "\n",
    "plt.show()"
   ]
  },
  {
   "cell_type": "code",
   "execution_count": null,
   "metadata": {},
   "outputs": [],
   "source": [
    "#The steam data represents the average temperature (temp) and the average steam usage (usage) of a steam driven turbine per\n",
    "#month. Create a scatterplot of usage vs temp.\n",
    "\n",
    "#Complete the code to return the output\n",
    "\n",
    "import matplotlib.pyplot as plt\n",
    "import seaborn as sns\n",
    "\n",
    "\n",
    "ax = sns.scatterplot(data=steam, \n",
    "                    x=\"temp\", \n",
    "                    y=\"usage\")\n",
    "\n",
    "plt.show()"
   ]
  },
  {
   "cell_type": "code",
   "execution_count": null,
   "metadata": {},
   "outputs": [],
   "source": [
    "#The chess DataFrame contains information about the top female chess players around the world. A preview of the DataFrame is\n",
    "#shown. Set the index of the DataFrame to be the column containing the Fide id of the players.\n",
    "\n",
    "    Fide id Name.               Federation Year_of_birth     Title\n",
    "0   700070  Polgar, Judit              HUN          1976        GM\n",
    "1   8602980 Hou, Yifan                 CHN          1994        GM\n",
    "2   5008123 Koneru, Humpy              IND          1987        GM\n",
    "3   4147103 Goryachkina, Aleksandra    RUS          1998        GM\n",
    "4   700088  Polgar, Susan              HUN          1969        GM\n",
    "\n",
    "#Complete the code to return the output\n",
    "\n",
    "chess = chess.set_index('Fide id')\n",
    "\n",
    "print(chess.head())"
   ]
  },
  {
   "cell_type": "code",
   "execution_count": 1,
   "metadata": {},
   "outputs": [],
   "source": [
    "#Create a swarm plot of value as a function of measurement. Use the color to indicate the species. The data is contained in the\n",
    "#iris DataFrame.\n",
    "\n",
    "--iris\n",
    "      species    measurement   value\n",
    "0     setosa     sepal_length  5.1\n",
    "1     setosa     sepal_length  4.9\n",
    "...\n",
    "598   virginica  petal_width   4.6\n",
    "599   virginica  petal_width   5.0\n",
    "\n",
    "#Complete the code to return the output\n",
    "\n",
    "import matplotlib.pyplot as plt\n",
    "import seaborn as sns\n",
    "\n",
    "ax = sns.swarmplot(x=\"measurement\", \n",
    "                   y=\"value\", \n",
    "                   hue=\"species\", \n",
    "                   data=iris)\n",
    "\n",
    "plt.show()"
   ]
  },
  {
   "cell_type": "code",
   "execution_count": null,
   "metadata": {},
   "outputs": [],
   "source": [
    "#Following a trial of a new treatment, you wish to create a plot of the change over the time of the trial (week) of the patient\n",
    "#response (resp). The patient data is shown below.\n",
    "\n",
    "   week  resp\n",
    "0     0    91\n",
    "1     1    89\n",
    "2     2    82\n",
    "3     3    75\n",
    "4     4    59\n",
    "5     5    53\n",
    "\n",
    "#Complete the code to return the output\n",
    "\n",
    "import matplotlib.pyplot as plt\n",
    "import seaborn as sns\n",
    "\n",
    "sns.lineplot(x = \"week\", y = \"resp\", data = patient)\n",
    "\n",
    "plt.show()"
   ]
  },
  {
   "cell_type": "code",
   "execution_count": null,
   "metadata": {},
   "outputs": [],
   "source": [
    "#Consider the Pandas DataFrame df below.\n",
    "\n",
    "     gh owner language      repo  stars\n",
    "0  pandas-dev   python    pandas  17800\n",
    "1   tidyverse        R     dplyr   2800\n",
    "2   tidyverse        R   ggplot2   3500\n",
    "3      has2k1   python  plotnine   1450\n",
    "\n",
    "#Complete the code to return the output\n",
    "\n",
    "print(df.iloc[0:2])"
   ]
  },
  {
   "cell_type": "code",
   "execution_count": null,
   "metadata": {},
   "outputs": [],
   "source": [
    "#Below is a sample of closing prices for Amazon stock during February of 2013, contained in the DataFrame amazon. Within the\n",
    "#DataFrame are two columns: date, which gives the day in date format, and the corresponding close price for each day. Create a\n",
    "#line plot of this data.\n",
    "\n",
    "      date      close\n",
    "2013-02-08    261.950\n",
    "2013-02-11    257.210\n",
    "2013-02-12    258.700\n",
    "2013-02-13    269.470\n",
    "2013-02-14    269.240\n",
    "\n",
    "#Complete the code to return the output\n",
    "\n",
    "import matplotlib.pyplot as plt\n",
    "import seaborn as sns\n",
    "\n",
    "sns.lineplot(\n",
    "    x='date', \n",
    "    y='close', \n",
    "    data=amazon)\n",
    "\n",
    "plt.xticks(rotation = 45)\n",
    "plt.show()"
   ]
  },
  {
   "cell_type": "code",
   "execution_count": null,
   "metadata": {},
   "outputs": [],
   "source": [
    "#Calculate the inter-quartile range of the age of 100 customers who have recently bought products from your website.\n",
    "\n",
    "#Complete the code to return the output\n",
    "\n",
    "from scipy import stats\n",
    "\n",
    "iqr_age = stats.iqr(age)\n",
    "\n",
    "print(iqr_age)"
   ]
  },
  {
   "cell_type": "code",
   "execution_count": null,
   "metadata": {},
   "outputs": [],
   "source": [
    "#Two of the columns in the heart DataFrame have very long names. Rename the columns using the provided dictionary.\n",
    "\n",
    "#Complete the code to return the output\n",
    "\n",
    "import pandas as pd\n",
    "\n",
    "column_names = {\n",
    "    'slope_of_peak_exercise_st_segment': 'slope',\n",
    "    'fasting_blood_sugar_gt_120_mg_per_dl': 'fbs' \n",
    "}\n",
    "\n",
    "heart_clean = heart.rename(columns=column_names)\n",
    "print(heart_clean.head())"
   ]
  },
  {
   "cell_type": "code",
   "execution_count": null,
   "metadata": {},
   "outputs": [],
   "source": [
    "#From the Pandas DataFrame df shown below return all females whose salary is greater than 5000.\n",
    "\n",
    "     first name   gender     salary  \n",
    "0         Linda   female       3400  \n",
    "1         Steve     male       5000 \n",
    "2         Henry     male      12400\n",
    "3          Sara   female       7600  \n",
    "\n",
    "#Complete the code to return the output\n",
    "\n",
    "result = df[(df['salary'] > 5000) & (df[\"gender\"] == \"female\")]\n",
    "print(result)"
   ]
  },
  {
   "cell_type": "code",
   "execution_count": null,
   "metadata": {},
   "outputs": [],
   "source": [
    "#Using the food DataFrame, previewed below, print the row for the item with the largest amount of energy per 100g.\n",
    "\n",
    "               energy  protein  carbohydrate\n",
    "item                                        \n",
    "waffles           200     4.29         35.71\n",
    "tacos             180    10.94         23.44\n",
    "lasagne           188    11.76         10.59\n",
    "croissant         343     5.71         58.57\n",
    "chicken salad     110     5.00          8.00\n",
    "thai curry        106     3.18         11.66\n",
    "\n",
    "#Complete the code to return the output\n",
    "\n",
    "largest = food[food['energy'] == food['energy'].max()]\n",
    "\n",
    "print(largest)"
   ]
  },
  {
   "cell_type": "code",
   "execution_count": null,
   "metadata": {},
   "outputs": [],
   "source": [
    "#Initialize a 2x2 grid of facets using the tips dataset. The time variable should determine the number of columns and the smoker\n",
    "#variable should determine the number of rows.\n",
    "\n",
    "#Complete the code to return the output\n",
    "\n",
    "import matplotlib.pyplot as plt\n",
    "import seaborn as sns\n",
    "\n",
    "g = sns.FacetGrid(\n",
    "            tips, \n",
    "            col=\"time\", \n",
    "            row=\"smoker\"\n",
    "            )\n",
    "\n",
    "plt.show()"
   ]
  },
  {
   "cell_type": "code",
   "execution_count": null,
   "metadata": {},
   "outputs": [],
   "source": [
    "#Calculate the inter-quartile Range for the pH numpy array.\n",
    "\n",
    "#Complete the code to return the output\n",
    "\n",
    "from scipy import stats\n",
    "IQR = stats.iqr(pH)\n",
    "print(IQR)"
   ]
  },
  {
   "cell_type": "code",
   "execution_count": null,
   "metadata": {},
   "outputs": [],
   "source": [
    "#The wine DataFrame, whose first few rows are shown below, contains ratings information for a number of wines on offer from an\n",
    "#online retailer. Create a pivot table to show the maximum rating, for each type and country.\n",
    "\n",
    "                     type    country  price  rating\n",
    "style                                               \n",
    "alvarinho           white   portugal  18.99     4.2\n",
    "blanc de blanc  sparkling     france    NaN     3.8\n",
    "cabernet              red  argentina  14.90     4.0\n",
    "\n",
    "#Complete the code to return the output\n",
    "\n",
    "import numpy as np\n",
    "\n",
    "max_ratings = wine.pivot_table(values='rating', \n",
    "                              index='country', \n",
    "                              columns='type', \n",
    "                              aggfunc=np.max, \n",
    "                              fill_value=0, \n",
    "                              margins=True)\n",
    "\n",
    "print(max_ratings)"
   ]
  },
  {
   "cell_type": "code",
   "execution_count": null,
   "metadata": {},
   "outputs": [],
   "source": [
    "#You work for a second hand car sales company, and they want to know the relationship between the age and the value so that they\n",
    "#can estimate the best price to sell their cars at. The valuation data is previewed below. Update the plot to use an x\n",
    "#(lowercase), as the points.\n",
    "\n",
    "    age emissions   mpg  value\n",
    "0    15       low  23.1   3047\n",
    "1     8       low  10.4  15428\n",
    "2     4      high  15.4  24973\n",
    "3    10      high  31.0   4638\n",
    "4     1       low  30.2  19303\n",
    "\n",
    "#Complete the code to return the output\n",
    "\n",
    "import matplotlib.pyplot as plt\n",
    "import seaborn as sns\n",
    "\n",
    "sns.scatterplot(x = \"age\", y = \"value\", marker = \"x\", data = valuation)\n",
    "\n",
    "plt.show()"
   ]
  },
  {
   "cell_type": "code",
   "execution_count": null,
   "metadata": {},
   "outputs": [],
   "source": [
    "#Select the three rows having the smallest values in the population column.\n",
    "\n",
    "                population  GDP\n",
    "Brics           210354000   186818\n",
    "Russia          146780720   1657290\n",
    "India           1387297452  2718732\n",
    "China           1433783686  13368073\n",
    "South Africa    58558270    368135\n",
    "\n",
    "#Complete the code to return the output\n",
    "\n",
    "print(df.nsmallest(3, 'population'))"
   ]
  },
  {
   "cell_type": "code",
   "execution_count": null,
   "metadata": {},
   "outputs": [],
   "source": [
    "#For each color of star in the DataFrame df, calculate the minimum, maximum, and mean of the temp and radius columns.\n",
    "\n",
    "     color              temp         radius\n",
    "0     Blue             23092        0.01040\n",
    "1      Red              3042         0.1542\n",
    "2      Red              2600         0.1020\n",
    "3     Blue             10930       25.00000\n",
    "4      Red              1939         0.1030\n",
    "\n",
    "Complete the code to return the output\n",
    "\n",
    "import pandas as pd\n",
    "\n",
    "print(stars.groupby(\"color\")[['temp', 'radius']].\n",
    "      agg(['min', 'max', 'mean']))"
   ]
  },
  {
   "cell_type": "code",
   "execution_count": null,
   "metadata": {},
   "outputs": [],
   "source": [
    "#Using the food DataFrame, previewed below, print the rows where protein per 100g is between, but not including, 4 and 10.\n",
    "\n",
    "               energy  protein  carbohydrate\n",
    "item                                        \n",
    "waffles           200     4.29         35.71\n",
    "tacos             180    10.94         23.44\n",
    "lasagne           188    11.76         10.59\n",
    "croissant         343     5.71         58.57\n",
    "chicken salad     110     5.00          8.00\n",
    "thai curry        106     3.18         11.66\n",
    "\n",
    "#Complete the code to return the output\n",
    "\n",
    "protein = food[(food['protein'] > 4) & (food['protein'] < 10)]\n",
    "\n",
    "print(protein)"
   ]
  },
  {
   "cell_type": "code",
   "execution_count": null,
   "metadata": {},
   "outputs": [],
   "source": [
    "#Calculate the inter-quartile range of the age of 100 customers who have recently bought products from your website.\n",
    "\n",
    "#Complete the code to return the output\n",
    "\n",
    "import pandas as pd \n",
    "\n",
    "Q1 = df['age'].quantile(0.25)\n",
    "Q3 = df['age'].quantile(0.75)\n",
    "\n",
    "print(Q3 - Q1)"
   ]
  },
  {
   "cell_type": "code",
   "execution_count": null,
   "metadata": {},
   "outputs": [],
   "source": [
    "#Create a scatterplot of Score as a function of GDP per capita. Use the color to indicate the level of Generosity. The data is\n",
    "#contained in the happiness DataFrame.\n",
    "\n",
    "#Complete the code to return the output\n",
    "\n",
    "import matplotlib.pyplot as plt\n",
    "import seaborn as sns\n",
    "\n",
    "ax = sns.scatterplot(x=\"GDP per capita\", y=\"Score\", hue=\"Generosity\", data=happiness)\n",
    "\n",
    "plt.show()"
   ]
  },
  {
   "cell_type": "code",
   "execution_count": null,
   "metadata": {},
   "outputs": [],
   "source": [
    "#Plot the monthly dam level height contained in the dam_level DataFrame.\n",
    "\n",
    "--dam_level\n",
    "date        level\n",
    "2019-01-01    48.6\n",
    "2019-02-01    46.7\n",
    "2019-03-01    44.8\n",
    "\n",
    "#Complete the code to return the output\n",
    "\n",
    "import matplotlib.pyplot as plt\n",
    "import seaborn as sns\n",
    "\n",
    "sns.lineplot(x='date', y='level', data=dam_level)\n",
    "\n",
    "plt.xticks(rotation=45)\n",
    "plt.show()"
   ]
  },
  {
   "cell_type": "code",
   "execution_count": null,
   "metadata": {},
   "outputs": [],
   "source": [
    "#Create a scatterplot of mpg vs age and color it based on the emissions categorical variable.\n",
    "\n",
    "    age emissions   mpg  value\n",
    "0    15       low  23.1   3047\n",
    "1     8       low  10.4  15428\n",
    "2     4      high  15.4  24973\n",
    "3    10      high  31.0   4638\n",
    "4     1       low  30.2  19303\n",
    "\n",
    "#Complete the code to return the output\n",
    "\n",
    "import matplotlib.pyplot as plt\n",
    "import seaborn as sns\n",
    "\n",
    "ax = sns.scatterplot(x = 'age', \n",
    "               y = 'mpg', \n",
    "               hue = 'emissions',\n",
    "               data=valuation)\n",
    "\n",
    "plt.show()"
   ]
  },
  {
   "cell_type": "code",
   "execution_count": null,
   "metadata": {},
   "outputs": [],
   "source": [
    "#You have conducted an A/B test to see whether more users will buy more items from your online shop. Create a plot to show the\n",
    "#number of users who bought/didn't buy items based on whether they were in the control or treatment groups. A sample of the\n",
    "#experiment data is shown below.\n",
    "\n",
    "    user      group  buy  items\n",
    "0    830    Control  yes     10\n",
    "1    252    Control   no      0\n",
    "2    218    Control  yes      7\n",
    "3    313  Treatment   no      0\n",
    "4    804  Treatment  yes      4\n",
    "\n",
    "#Complete the code to return the output\n",
    "\n",
    "import matplotlib.pyplot as plt\n",
    "import seaborn as sns\n",
    "\n",
    "sns.countplot(x = \"buy\", hue = \"group\", data = experiment)\n",
    "\n",
    "plt.show()"
   ]
  },
  {
   "cell_type": "code",
   "execution_count": null,
   "metadata": {},
   "outputs": [],
   "source": [
    "#You have conducted an A/B test to see whether more users will buy more items from your online shop. Create a horizontal bar\n",
    "#plot to show the overall number of users who bought/didn't buy items. A sample of the experiment data is shown below.\n",
    "\n",
    "    user      group  buy  items\n",
    "0    830    Control  yes     10\n",
    "1    252    Control   no      0\n",
    "2    218    Control  yes      7\n",
    "3    313  Treatment   no      0\n",
    "4    804  Treatment  yes      4\n",
    "\n",
    "#Complete the code to return the output\n",
    "\n",
    "import matplotlib.pyplot as plt\n",
    "import seaborn as sns\n",
    "\n",
    "sns.countplot(y = \"buy\", data = experiment)\n",
    "\n",
    "plt.show()"
   ]
  },
  {
   "cell_type": "code",
   "execution_count": null,
   "metadata": {},
   "outputs": [],
   "source": [
    "#Calculate the inter-quartile Range for the pH numpy array.\n",
    "\n",
    "#Complete the code to return the output\n",
    "\n",
    "import numpy as np\n",
    "IQR = np.percentile(pH, 75) - np.percentile(pH, 25)\n",
    "print(IQR)"
   ]
  },
  {
   "cell_type": "code",
   "execution_count": null,
   "metadata": {},
   "outputs": [],
   "source": [
    "#The chess dataset contains information about the top female chess players around the world. A preview of the dataset is shown\n",
    "#below. Retrieve the data of the player with Fide id equal to 5008123\n",
    "\n",
    "                           Name    Federation\n",
    "Fide id\n",
    "4402421    Chirivi C, Angie Lizeth        COL\n",
    "3511170      Perez Sanchez, Gretel        CUB\n",
    "5038049             Kulkarni Juily        IND\n",
    "5202744        Secopito, Catherine        PHI\n",
    "5700701           Marmono, Roslina        MAS\n",
    "\n",
    "#Complete the code to return the output\n",
    "\n",
    "fide_id = 5008123\n",
    "\n",
    "print(chess.loc[fide_id])"
   ]
  },
  {
   "cell_type": "code",
   "execution_count": null,
   "metadata": {},
   "outputs": [],
   "source": [
    "#Subset the Pandas DataFrame df using loc to return the second, third and fourth rows.\n",
    "\n",
    "      Month  Count\n",
    "one    Jan     52\n",
    "two    Feb     29\n",
    "three  Mar     46\n",
    "four   Apr     31\n",
    "five   May     42\n",
    "\n",
    "#Complete the code to return the output\n",
    "\n",
    "print(df.loc[['two', 'three', 'four']])"
   ]
  },
  {
   "cell_type": "code",
   "execution_count": null,
   "metadata": {},
   "outputs": [],
   "source": [
    "#You have sales data for the years 2018 and 2019. Create a new DataFrame, sales_2019, that contains data from 2019 only.\n",
    "\n",
    ">>>sales['Year'].value_counts()\n",
    "2019    36\n",
    "2018    36\n",
    "Name: Year, dtype: int64\n",
    "\n",
    "#Complete the code to return the output\n",
    "\n",
    "sales_2019 = sales[sales['Year'] == 2019]\n",
    "\n",
    "print(sales_2019.head())"
   ]
  },
  {
   "cell_type": "code",
   "execution_count": null,
   "metadata": {},
   "outputs": [],
   "source": []
  }
 ],
 "metadata": {
  "kernelspec": {
   "display_name": "Python 3",
   "language": "python",
   "name": "python3"
  },
  "language_info": {
   "codemirror_mode": {
    "name": "ipython",
    "version": 3
   },
   "file_extension": ".py",
   "mimetype": "text/x-python",
   "name": "python",
   "nbconvert_exporter": "python",
   "pygments_lexer": "ipython3",
   "version": "3.7.6"
  }
 },
 "nbformat": 4,
 "nbformat_minor": 4
}
