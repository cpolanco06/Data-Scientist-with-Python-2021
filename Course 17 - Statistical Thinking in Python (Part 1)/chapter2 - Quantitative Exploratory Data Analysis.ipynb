{
 "cells": [
  {
   "cell_type": "code",
   "execution_count": 1,
   "metadata": {},
   "outputs": [],
   "source": [
    "import numpy as np\n",
    "from sklearn.datasets import load_iris\n",
    "iris = load_iris()\n",
    "versicolor_petal_length = iris.data[:, 2]\n",
    "versicolor_petal_length = versicolor_petal_length[50:100]\n",
    "versicolor_petal_width = iris.data[:, 3]\n",
    "versicolor_petal_width = versicolor_petal_width[50:100]\n",
    "\n",
    "#setosa_petal_length = iris.data[:, 2]\n",
    "#setosa_petal_length = setosa_petal_length[0:50]\n",
    "#virginica_petal_length = iris.data[:, 2]\n",
    "#virginica_petal_length = virginica_petal_length[100:150]"
   ]
  },
  {
   "cell_type": "code",
   "execution_count": 2,
   "metadata": {},
   "outputs": [],
   "source": [
    "#Means and medians\n",
    "\n",
    "#Which one of the following statements is true about means and medians?\n",
    "\n",
    "#Possible Answers\n",
    "\n",
    "#An outlier can significantly affect the value of both the mean and the median.\n",
    "\n",
    "#An outlier can significantly affect the value of the mean, but not the median.*\n",
    "\n",
    "#Means and medians are in general both robust to single outliers.\n",
    "\n",
    "#The mean and median are equal if there is an odd number of data points."
   ]
  },
  {
   "cell_type": "code",
   "execution_count": 3,
   "metadata": {},
   "outputs": [
    {
     "name": "stdout",
     "output_type": "stream",
     "text": [
      "I. versicolor: 4.26 cm\n"
     ]
    }
   ],
   "source": [
    "#Computing means\n",
    "\n",
    "#The mean of all measurements gives an indication of the typical magnitude of a measurement. It is computed using\n",
    "#np.mean().\n",
    "\n",
    "# Compute the mean: mean_length_vers\n",
    "mean_length_vers = np.mean(versicolor_petal_length)\n",
    "\n",
    "# Print the result with some nice formatting\n",
    "print('I. versicolor:', mean_length_vers, 'cm')"
   ]
  },
  {
   "cell_type": "code",
   "execution_count": 4,
   "metadata": {},
   "outputs": [
    {
     "name": "stdout",
     "output_type": "stream",
     "text": [
      "[3.3    4.     4.35   4.6    4.9775]\n"
     ]
    }
   ],
   "source": [
    "#Computing percentiles\n",
    "\n",
    "#In this exercise, you will compute the percentiles of petal length of Iris versicolor.\n",
    "\n",
    "# Specify array of percentiles: percentiles\n",
    "percentiles = np.array([2.5, 25, 50, 75, 97.5])\n",
    "\n",
    "# Compute percentiles: ptiles_vers\n",
    "ptiles_vers = np.percentile(versicolor_petal_length, percentiles)\n",
    "\n",
    "# Print the result\n",
    "print(ptiles_vers)"
   ]
  },
  {
   "cell_type": "code",
   "execution_count": 5,
   "metadata": {},
   "outputs": [
    {
     "data": {
      "image/png": "[encoded data removed]",
      "text/plain": [
       "<Figure size 720x432 with 1 Axes>"
      ]
     },
     "metadata": {},
     "output_type": "display_data"
    }
   ],
   "source": [
    "import matplotlib.pyplot as plt\n",
    "import seaborn as sns\n",
    "sns.set()\n",
    "def ecdf(data):\n",
    "    \"\"\"Compute ECDF for a one-dimensional array of measurements.\"\"\"\n",
    "    # Number of data points: n\n",
    "    n = len(data)\n",
    "    # x-data for the ECDF: x\n",
    "    x = np.sort(data)\n",
    "    # y-data for the ECDF: y\n",
    "    y = np.arange(1, n+1) / n\n",
    "    return x, y\n",
    "x_vers, y_vers = ecdf(versicolor_petal_length)\n",
    "plt.figure(figsize=(10,6))\n",
    "\n",
    "#Comparing percentiles to ECDF\n",
    "\n",
    "#To see how the percentiles relate to the ECDF, you will plot the percentiles of Iris versicolor petal lengths you\n",
    "#calculated in the last exercise on the ECDF plot you generated in chapter 1. The percentile variables from the previous\n",
    "#exercise are available in the workspace as ptiles_vers and percentiles.\n",
    "\n",
    "#Note that to ensure the Y-axis of the ECDF plot remains between 0 and 1, you will need to rescale the percentiles array\n",
    "#accordingly - in this case, dividing it by 100.\n",
    "\n",
    "# Plot the ECDF\n",
    "_ = plt.plot(x_vers, y_vers, '.')\n",
    "_ = plt.xlabel('petal length (cm)')\n",
    "_ = plt.ylabel('ECDF')\n",
    "\n",
    "# Overlay percentiles as red diamonds.\n",
    "_ = plt.plot(ptiles_vers, percentiles/100, marker='D', color='red',\n",
    "             linestyle='none')\n",
    "\n",
    "# Show the plot\n",
    "plt.show()"
   ]
  },
  {
   "cell_type": "code",
   "execution_count": 6,
   "metadata": {},
   "outputs": [
    {
     "data": {
      "image/png": "[encoded data removed]",
      "text/plain": [
       "<Figure size 720x576 with 1 Axes>"
      ]
     },
     "metadata": {},
     "output_type": "display_data"
    }
   ],
   "source": [
    "import pandas as pd\n",
    "df = pd.read_csv('datasets/iris.csv')\n",
    "plt.figure(figsize=(10,8))\n",
    "\n",
    "#Box-and-whisker plot\n",
    "\n",
    "#Making a box plot for the petal lengths is unnecessary because the iris data set is not too large and the bee swarm plot\n",
    "#works fine. However, it is always good to get some practice. Make a box plot of the iris petal lengths. You have a pandas\n",
    "#DataFrame, df, which contains the petal length data, in your namespace. Inspect the data frame df in the IPython shell\n",
    "#using df.head() to make sure you know what the pertinent columns are.\n",
    "\n",
    "#For your reference, the code used to produce the box plot in the video is provided below:\n",
    "\n",
    "#_ = sns.boxplot(x='east_west', y='dem_share', data=df_all_states)\n",
    "\n",
    "#_ = plt.xlabel('region')\n",
    "\n",
    "#_ = plt.ylabel('percent of vote for Obama')\n",
    "\n",
    "#In the IPython Shell, you can use sns.boxplot? or help(sns.boxplot) for more details on how to make box plots using\n",
    "#seaborn.\n",
    "\n",
    "# Create box plot with Seaborn's default settings\n",
    "_ = sns.boxplot(x='species', y='petal length (cm)', data=df)\n",
    "\n",
    "# Label the axes\n",
    "_ = plt.xlabel('species')\n",
    "_ = plt.ylabel('petal length (cm)')\n",
    "\n",
    "# Show the plot\n",
    "plt.show()"
   ]
  },
  {
   "cell_type": "code",
   "execution_count": 7,
   "metadata": {},
   "outputs": [
    {
     "name": "stdout",
     "output_type": "stream",
     "text": [
      "0.21640000000000004 0.21640000000000004\n"
     ]
    }
   ],
   "source": [
    "#Computing the variance\n",
    "\n",
    "#It is important to have some understanding of what commonly-used functions are doing under the hood. Though you may\n",
    "#already know how to compute variances, this is a beginner course that does not assume so. In this exercise, we will\n",
    "#explicitly compute the variance of the petal length of Iris veriscolor using the equations discussed in the videos. We\n",
    "#will then use np.var() to compute it.\n",
    "\n",
    "# Array of differences to mean: differences\n",
    "differences = versicolor_petal_length - np.mean(versicolor_petal_length)\n",
    "\n",
    "# Square the differences: diff_sq\n",
    "diff_sq = differences ** 2\n",
    "\n",
    "# Compute the mean square difference: variance_explicit\n",
    "variance_explicit = np.mean(diff_sq)\n",
    "\n",
    "# Compute the variance using NumPy: variance_np\n",
    "variance_np = np.var(versicolor_petal_length)\n",
    "\n",
    "# Print the results\n",
    "print(variance_explicit, variance_np)"
   ]
  },
  {
   "cell_type": "code",
   "execution_count": 8,
   "metadata": {},
   "outputs": [
    {
     "name": "stdout",
     "output_type": "stream",
     "text": [
      "0.4651881339845203\n",
      "0.4651881339845203\n"
     ]
    }
   ],
   "source": [
    "#The standard deviation and the variance\n",
    "\n",
    "#As mentioned in the video, the standard deviation is the square root of the variance. You will see this for yourself by\n",
    "#computing the standard deviation using np.std() and comparing it to what you get by computing the variance with np.var()\n",
    "#and then computing the square root.\n",
    "\n",
    "# Compute the variance: variance\n",
    "variance = np.var(versicolor_petal_length)\n",
    "\n",
    "# Print the square root of the variance\n",
    "print(np.sqrt(variance))\n",
    "\n",
    "# Print the standard deviation\n",
    "print(np.std(versicolor_petal_length))"
   ]
  },
  {
   "cell_type": "code",
   "execution_count": 9,
   "metadata": {},
   "outputs": [
    {
     "data": {
      "image/png": "[encoded data removed]",
      "text/plain": [
       "<Figure size 720x432 with 1 Axes>"
      ]
     },
     "metadata": {},
     "output_type": "display_data"
    }
   ],
   "source": [
    "plt.figure(figsize=(10,6))\n",
    "\n",
    "#Scatter plots\n",
    "\n",
    "#When you made bee swarm plots, box plots, and ECDF plots in previous exercises, you compared the petal lengths of\n",
    "#different species of iris. But what if you want to compare two properties of a single species? This is exactly what we\n",
    "#will do in this exercise. We will make a scatter plot of the petal length and width measurements of Anderson's Iris\n",
    "#versicolor flowers. If the flower scales (that is, it preserves its proportion as it grows), we would expect the length\n",
    "#and width to be correlated.\n",
    "\n",
    "#For your reference, the code used to produce the scatter plot in the video is provided below:\n",
    "\n",
    "#_ = plt.plot(total_votes/1000, dem_share, marker='.', linestyle='none')\n",
    "\n",
    "#_ = plt.xlabel('total votes (thousands)')\n",
    "\n",
    "#_ = plt.ylabel('percent of vote for Obama')\n",
    "\n",
    "# Make a scatter plot\n",
    "_ = plt.plot(versicolor_petal_length, versicolor_petal_width, marker='.', linestyle='none')\n",
    "\n",
    "# Label the axes\n",
    "_ = plt.xlabel('petal length (cm)')\n",
    "_ = plt.ylabel('petal width (cm)')\n",
    "\n",
    "# Show the result\n",
    "plt.show()"
   ]
  },
  {
   "cell_type": "code",
   "execution_count": 10,
   "metadata": {},
   "outputs": [],
   "source": [
    "#Variance and covariance by looking\n",
    "\n",
    "#Consider four scatter plots of x-y data, appearing to the right. Which has, respectively,\n",
    "\n",
    "#- the highest variance in the variable x,\n",
    "#- the highest covariance,\n",
    "#- negative covariance?"
   ]
  },
  {
   "cell_type": "markdown",
   "metadata": {},
   "source": [
    "<img src='Variance and covariance.svg'>"
   ]
  },
  {
   "cell_type": "code",
   "execution_count": 11,
   "metadata": {},
   "outputs": [],
   "source": [
    "#Possible Answers\n",
    "\n",
    "#a, c, b\n",
    "\n",
    "#d, c, a\n",
    "\n",
    "#d, c, b*\n",
    "\n",
    "#d, d, b"
   ]
  },
  {
   "cell_type": "code",
   "execution_count": 12,
   "metadata": {},
   "outputs": [
    {
     "name": "stdout",
     "output_type": "stream",
     "text": [
      "[[0.22081633 0.07310204]\n",
      " [0.07310204 0.03910612]] \n",
      "\n",
      "0.07310204081632653\n"
     ]
    }
   ],
   "source": [
    "#Computing the covariance\n",
    "\n",
    "#The covariance may be computed using the Numpy function np.cov(). For example, we have two sets of data x and y,\n",
    "#np.cov(x, y) returns a 2D array where entries [0,1] and [1,0] are the covariances. Entry [0,0] is the variance of the data\n",
    "#in x, and entry [1,1] is the variance of the data in y. This 2D output array is called the covariance matrix, since it\n",
    "#organizes the self- and covariance.\n",
    "\n",
    "#To remind you how the I. versicolor petal length and width are related, we include the scatter plot you generated in a\n",
    "#previous exercise.\n",
    "\n",
    "# Compute the covariance matrix: covariance_matrix\n",
    "covariance_matrix = np.cov(versicolor_petal_length, versicolor_petal_width)\n",
    "\n",
    "# Print covariance matrix\n",
    "print(covariance_matrix, '\\n')\n",
    "\n",
    "# Extract covariance of length and width of petals: petal_cov\n",
    "petal_cov = covariance_matrix[0,1]\n",
    "\n",
    "# Print the length/width covariance\n",
    "print(petal_cov)"
   ]
  },
  {
   "cell_type": "code",
   "execution_count": 13,
   "metadata": {},
   "outputs": [],
   "source": [
    "#Entry [0,0] is the variance of the data in x, and entry [1,1] is the variance of the data in y.\n",
    "#Extract the covariance from entry [0,1] of the covariance matrix. Note that by symmetry, entry [1,0] is the same as entry\n",
    "#[0,1].\n",
    "\n",
    "#Cov( X, X )    Cov( X, Y )\n",
    "#Cov( Y, X )    Cov( Y, Y )"
   ]
  },
  {
   "cell_type": "code",
   "execution_count": 14,
   "metadata": {},
   "outputs": [
    {
     "name": "stdout",
     "output_type": "stream",
     "text": [
      "[[1.         0.78666809]\n",
      " [0.78666809 1.        ]] \n",
      "\n",
      "0.7866680885228169\n"
     ]
    }
   ],
   "source": [
    "#Computing the Pearson correlation coefficient\n",
    "\n",
    "#As mentioned in the video, the Pearson correlation coefficient, also called the Pearson r, is often easier to interpret\n",
    "#than the covariance. It is computed using the np.corrcoef() function. Like np.cov(), it takes two arrays as arguments and\n",
    "#returns a 2D array. Entries [0,0] and [1,1] are necessarily equal to 1 (can you think about why?), and the value we are\n",
    "#after is entry [0,1].\n",
    "\n",
    "#In this exercise, you will write a function, pearson_r(x, y) that takes in two arrays and returns the Pearson correlation\n",
    "#coefficient. You will then use this function to compute it for the petal lengths and widths of I. versicolor.\n",
    "\n",
    "#Again, we include the scatter plot you generated in a previous exercise to remind you how the petal width and length are\n",
    "#related.\n",
    "\n",
    "def pearson_r(x, y):\n",
    "    \"\"\"Compute Pearson correlation coefficient between two arrays.\"\"\"\n",
    "    # Compute correlation matrix: corr_mat\n",
    "    corr_mat = np.corrcoef(x, y)\n",
    "    print(corr_mat, '\\n')\n",
    "    \n",
    "    # Return entry [0,1]\n",
    "    return corr_mat[0,1]\n",
    "\n",
    "# Compute Pearson correlation coefficient for I. versicolor: r\n",
    "r = pearson_r(versicolor_petal_length, versicolor_petal_width)\n",
    "\n",
    "# Print the result\n",
    "print(r)"
   ]
  },
  {
   "cell_type": "code",
   "execution_count": 15,
   "metadata": {},
   "outputs": [],
   "source": [
    "#Entry [0,0], [1,1] is the correlation of the data in x and itself, and entry [1,1] is the correlation of the data in y and\n",
    "#itself.\n",
    "#Entry [0,1], [1,0] is the correlation of the data in x and the data in y.\n",
    "\n",
    "#Corr( X, X )    Corr( X, Y )\n",
    "#Corr( Y, X )    Corr( Y, Y )"
   ]
  },
  {
   "cell_type": "code",
   "execution_count": null,
   "metadata": {},
   "outputs": [],
   "source": []
  }
 ],
 "metadata": {
  "kernelspec": {
   "display_name": "Python 3",
   "language": "python",
   "name": "python3"
  },
  "language_info": {
   "codemirror_mode": {
    "name": "ipython",
    "version": 3
   },
   "file_extension": ".py",
   "mimetype": "text/x-python",
   "name": "python",
   "nbconvert_exporter": "python",
   "pygments_lexer": "ipython3",
   "version": "3.7.6"
  }
 },
 "nbformat": 4,
 "nbformat_minor": 4
}
