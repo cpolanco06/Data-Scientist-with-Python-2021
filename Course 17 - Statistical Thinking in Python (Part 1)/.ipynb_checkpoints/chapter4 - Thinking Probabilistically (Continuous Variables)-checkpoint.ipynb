{
 "cells": [
  {
   "cell_type": "code",
   "execution_count": 1,
   "metadata": {},
   "outputs": [],
   "source": [
    "#Interpreting PDFs\n",
    "\n",
    "#Consider the PDF shown to the right (it may take a second to load!). Which of the following is true?"
   ]
  },
  {
   "cell_type": "markdown",
   "metadata": {},
   "source": [
    "<img src='Interpreting PDFs.svg'>"
   ]
  },
  {
   "cell_type": "code",
   "execution_count": 2,
   "metadata": {},
   "outputs": [],
   "source": [
    "#Possible Answers\n",
    "\n",
    "#x is more likely to be less than 10 than to be greater than 10.*\n",
    "\n",
    "#x is more likely to be greater than 10 than to be less than 10.\n",
    "\n",
    "#We cannot tell from the PDF if x is more likely to be greater than or less than 10.\n",
    "\n",
    "#This is not a valid PDF because it has two peaks."
   ]
  },
  {
   "cell_type": "code",
   "execution_count": 3,
   "metadata": {},
   "outputs": [],
   "source": [
    "#NOTE: The probability is given by the area under the PDF."
   ]
  },
  {
   "cell_type": "code",
   "execution_count": 4,
   "metadata": {},
   "outputs": [],
   "source": [
    "#Interpreting CDFs\n",
    "\n",
    "#At right is the CDF corresponding to the PDF you considered in the last exercise. Using the CDF, what is the probability\n",
    "#that  is greater than 10?"
   ]
  },
  {
   "cell_type": "markdown",
   "metadata": {},
   "source": [
    "<img src='Interpreting CDFs.svg'>"
   ]
  },
  {
   "cell_type": "code",
   "execution_count": 5,
   "metadata": {},
   "outputs": [],
   "source": [
    "#Possible Answers\n",
    "\n",
    "#0.25*\n",
    "\n",
    "#0.75\n",
    "\n",
    "#3.75\n",
    "\n",
    "#15"
   ]
  },
  {
   "cell_type": "code",
   "execution_count": 6,
   "metadata": {},
   "outputs": [],
   "source": [
    "#The value of the CDF at x = 10 is 0.75, so the probability that x < 10 is 0.75.\n",
    "#Thus, the probability that x > 10 is 0.25."
   ]
  },
  {
   "cell_type": "code",
   "execution_count": 7,
   "metadata": {},
   "outputs": [
    {
     "data": {
      "image/png": "[encoded data removed]",
      "text/plain": [
       "<Figure size 720x432 with 1 Axes>"
      ]
     },
     "metadata": {},
     "output_type": "display_data"
    }
   ],
   "source": [
    "import numpy as np\n",
    "import matplotlib.pyplot as plt\n",
    "import seaborn as sns\n",
    "sns.set()\n",
    "plt.figure(figsize=(10,6))\n",
    "np.random.seed(42)\n",
    "\n",
    "#The Normal PDF\n",
    "\n",
    "#In this exercise, you will explore the Normal PDF and also learn a way to plot a PDF of a known distribution using hacker\n",
    "#statistics. Specifically, you will plot a Normal PDF for various values of the variance.\n",
    "\n",
    "# Draw 100000 samples from Normal distribution with stds of interest: samples_std1, samples_std3, samples_std10\n",
    "samples_std1 = np.random.normal(20, 1, size=100000)\n",
    "samples_std3 = np.random.normal(20, 3, size=100000)\n",
    "samples_std10 = np.random.normal(20, 10, size=100000)\n",
    "\n",
    "# Make histograms\n",
    "_ = plt.hist(samples_std1, bins=100, density=True, histtype='step') #normed=True -> density=True\n",
    "_ = plt.hist(samples_std3, bins=100, density=True, histtype='step')\n",
    "_ = plt.hist(samples_std10, bins=100, density=True, histtype='step')\n",
    "\n",
    "# Make a legend, set limits and show plot\n",
    "_ = plt.legend(('std = 1', 'std = 3', 'std = 10'))\n",
    "plt.ylim(-0.01, 0.42)\n",
    "plt.show()"
   ]
  },
  {
   "cell_type": "code",
   "execution_count": 8,
   "metadata": {},
   "outputs": [],
   "source": [
    "#Different standard deviations result in PDFs of different widths.\n",
    "#The peaks are all centered at the mean of 20."
   ]
  },
  {
   "cell_type": "code",
   "execution_count": 9,
   "metadata": {},
   "outputs": [
    {
     "data": {
      "image/png": "[encoded data removed]",
      "text/plain": [
       "<Figure size 720x432 with 1 Axes>"
      ]
     },
     "metadata": {},
     "output_type": "display_data"
    }
   ],
   "source": [
    "def ecdf(data):\n",
    "    \"\"\"Compute ECDF for a one-dimensional array of measurements.\"\"\"\n",
    "    # Number of data points: n\n",
    "    n = len(data)\n",
    "    # x-data for the ECDF: x\n",
    "    x = np.sort(data)\n",
    "    # y-data for the ECDF: y\n",
    "    y = np.arange(1, n+1) / n\n",
    "    return x, y\n",
    "plt.figure(figsize=(10,6))\n",
    "\n",
    "#The Normal CDF\n",
    "\n",
    "#Now that you have a feel for how the Normal PDF looks, let's consider its CDF. Using the samples you generated in the last\n",
    "#exercise (in your namespace as samples_std1, samples_std3, and samples_std10), generate and plot the CDFs.\n",
    "\n",
    "# Generate CDFs\n",
    "x_std1, y_std1 = ecdf(samples_std1)\n",
    "x_std3, y_std3 = ecdf(samples_std3)\n",
    "x_std10, y_std10 = ecdf(samples_std10)\n",
    "\n",
    "# Plot CDFs\n",
    "_ = plt.plot(x_std1, y_std1, marker='.', linestyle='none')\n",
    "_ = plt.plot(x_std3, y_std3, marker='.', linestyle='none')\n",
    "_ = plt.plot(x_std10, y_std10, marker='.', linestyle='none')\n",
    "\n",
    "# Make a legend and show the plot\n",
    "_ = plt.legend(('std = 1', 'std = 3', 'std = 10'), loc='lower right')\n",
    "plt.show()"
   ]
  },
  {
   "cell_type": "code",
   "execution_count": 10,
   "metadata": {},
   "outputs": [],
   "source": [
    "#The mean and median of a Normal distribution are equal.\n",
    "#The width of the CDF varies with the standard deviation."
   ]
  },
  {
   "cell_type": "code",
   "execution_count": 11,
   "metadata": {},
   "outputs": [],
   "source": [
    "#Gauss and the 10 Deutschmark banknote\n",
    "\n",
    "#What are the mean and standard deviation, respectively, of the Normal distribution that was on the 10 Deutschmark\n",
    "#banknote, shown to the right?"
   ]
  },
  {
   "cell_type": "markdown",
   "metadata": {},
   "source": [
    "<img src='10 Deutschmark banknote.svg'>"
   ]
  },
  {
   "cell_type": "code",
   "execution_count": 12,
   "metadata": {},
   "outputs": [],
   "source": [
    "#Possible Answers\n",
    "\n",
    "#mean = 3, std = 1*\n",
    "\n",
    "#mean = 3, std = 2\n",
    "\n",
    "#mean = 0.4, std = 1\n",
    "\n",
    "#mean = 0.6, std = 6"
   ]
  },
  {
   "cell_type": "code",
   "execution_count": 13,
   "metadata": {},
   "outputs": [
    {
     "data": {
      "image/png": "[encoded data removed]",
      "text/plain": [
       "<Figure size 720x432 with 1 Axes>"
      ]
     },
     "metadata": {},
     "output_type": "display_data"
    }
   ],
   "source": [
    "import pandas as pd\n",
    "belmont = pd.read_csv('datasets/belmont.csv')\n",
    "belmont['Time'] = pd.to_datetime(belmont['Time'], format=\"%M:%S.%f\")\n",
    "belmont['Time_seconds'] = belmont['Time'].dt.minute*60 + belmont['Time'].dt.second + \\\n",
    "                          belmont['Time'].dt.microsecond*0.000001\n",
    "belmont_seconds = belmont['Time_seconds'].values\n",
    "belmont_no_outliers = belmont_seconds.copy()\n",
    "belmont_no_outliers = np.delete(belmont_no_outliers, np.argmax(belmont_no_outliers))\n",
    "belmont_no_outliers = np.delete(belmont_no_outliers, np.argmin(belmont_no_outliers))\n",
    "plt.figure(figsize=(10,6))\n",
    "np.random.seed(42)\n",
    "\n",
    "#Are the Belmont Stakes results Normally distributed?\n",
    "\n",
    "#Since 1926, the Belmont Stakes is a 1.5 mile-long race of 3-year old thoroughbred horses. Secretariat ran the fastest\n",
    "#Belmont Stakes in history in 1973. While that was the fastest year, 1970 was the slowest because of unusually wet and\n",
    "#sloppy conditions. With these two outliers removed from the data set, compute the mean and standard deviation of the\n",
    "#Belmont winners' times. Sample out of a Normal distribution with this mean and standard deviation using the\n",
    "#np.random.normal() function and plot a CDF. Overlay the ECDF from the winning Belmont times. Are these close to Normally\n",
    "#distributed?\n",
    "\n",
    "#Note: Justin scraped the data concerning the Belmont Stakes from the Belmont Wikipedia page.\n",
    "\n",
    "# Compute mean and standard deviation: mu, sigma\n",
    "mu = np.mean(belmont_no_outliers)\n",
    "sigma = np.std(belmont_no_outliers)\n",
    "\n",
    "# Sample out of a normal distribution with this mu and sigma: samples\n",
    "samples = np.random.normal(mu, sigma, size=10000)\n",
    "\n",
    "# Get the CDF of the samples and of the data\n",
    "x_theor, y_theor = ecdf(samples)\n",
    "x, y = ecdf(belmont_no_outliers)\n",
    "\n",
    "# Plot the CDFs and show the plot\n",
    "_ = plt.plot(x_theor, y_theor)\n",
    "_ = plt.plot(x, y, marker='.', linestyle='none')\n",
    "_ = plt.xlabel('Belmont winning time (sec.)')\n",
    "_ = plt.ylabel('CDF')\n",
    "plt.show()"
   ]
  },
  {
   "cell_type": "code",
   "execution_count": 14,
   "metadata": {},
   "outputs": [
    {
     "name": "stdout",
     "output_type": "stream",
     "text": [
      "Probability of besting Secretariat: 0.000593\n"
     ]
    }
   ],
   "source": [
    "np.random.seed(42)\n",
    "\n",
    "#What are the chances of a horse matching or beating Secretariat's record?\n",
    "\n",
    "#Assume that the Belmont winners' times are Normally distributed (with the 1970 and 1973 years removed), what is the\n",
    "#probability that the winner of a given Belmont Stakes will run it as fast or faster than Secretariat?\n",
    "\n",
    "# Take a million samples out of the Normal distribution: samples\n",
    "samples = np.random.normal(mu, sigma, size=1000000)\n",
    "\n",
    "# Compute the fraction that are faster than 144 seconds: prob\n",
    "prob = (samples <= 144).sum() / len(samples)\n",
    "\n",
    "# Print the result\n",
    "print('Probability of besting Secretariat:', prob)"
   ]
  },
  {
   "cell_type": "code",
   "execution_count": 15,
   "metadata": {},
   "outputs": [],
   "source": [
    "#Matching a story and a distribution\n",
    "\n",
    "#How might we expect the time between Major League no-hitters to be distributed? Be careful here: a few exercises ago, we\n",
    "#considered the probability distribution for the number of no-hitters in a season. Now, we are looking at the probability\n",
    "#distribution of the time between no hitters.\n",
    "\n",
    "#Possible Answers\n",
    "\n",
    "#Normal\n",
    "\n",
    "#Exponential*\n",
    "\n",
    "#Poisson\n",
    "\n",
    "#Uniform"
   ]
  },
  {
   "cell_type": "code",
   "execution_count": 16,
   "metadata": {},
   "outputs": [],
   "source": [
    "#Waiting for the next Secretariat\n",
    "\n",
    "#Unfortunately, Justin was not alive when Secretariat ran the Belmont in 1973. Do you think he will get to see a\n",
    "#performance like that? To answer this, you are interested in how many years you would expect to wait until you see another\n",
    "#performance like Secretariat's. How is the waiting time until the next performance as good or better than Secretariat's\n",
    "#distributed? Choose the best answer.\n",
    "\n",
    "#Possible Answers\n",
    "\n",
    "#Normal, because the distribution of Belmont winning times are Normally distributed.\n",
    "\n",
    "#Normal, because there is a most-expected waiting time, so there should be a single peak to the distribution.\n",
    "\n",
    "#Exponential: It is very unlikely for a horse to be faster than Secretariat, so the distribution should decay away to zero\n",
    "#for high waiting time.\n",
    "\n",
    "#Exponential: A horse as fast as Secretariat is a rare event, which can be modeled as a Poisson process, and the waiting\n",
    "#time between arrivals of a Poisson process is Exponentially distributed.*"
   ]
  },
  {
   "cell_type": "code",
   "execution_count": 17,
   "metadata": {},
   "outputs": [],
   "source": [
    "#If you have a story, you can simulate it!\n",
    "\n",
    "#Sometimes, the story describing our probability distribution does not have a named distribution to go along with it. In\n",
    "#these cases, fear not! You can always simulate it. We'll do that in this and the next exercise.\n",
    "\n",
    "#In earlier exercises, we looked at the rare event of no-hitters in Major League Baseball. Hitting the cycle, when a batter\n",
    "#gets all four kinds of hits in a single game, is another rare baseball event. Like no-hitters, this can be modeled as a\n",
    "#Poisson process, so the time between hits of the cycle are also Exponentially distributed.\n",
    "\n",
    "#How long must we wait to see a no-hitter and then a batter hit the cycle? The idea is that we have to wait some time for\n",
    "#the no-hitter, and then after the no-hitter, we have to wait for hitting the cycle. Stated another way, what is the total\n",
    "#waiting time for the arrival of two different Poisson processes in succession? The total waiting time is the time waited\n",
    "#for the no-hitter, plus the time waited for the hitting the cycle.\n",
    "\n",
    "#Now, you will write a function to sample out of the distribution described by this story.\n",
    "\n",
    "def successive_poisson(tau1, tau2, size=1):\n",
    "    \"\"\"Compute time for arrival of 2 successive Poisson processes.\"\"\"\n",
    "    # Draw samples out of first exponential distribution: t1\n",
    "    t1 = np.random.exponential(tau1, size=size)\n",
    "\n",
    "    # Draw samples out of second exponential distribution: t2\n",
    "    t2 = np.random.exponential(tau2, size=size)\n",
    "\n",
    "    return t1 + t2"
   ]
  },
  {
   "cell_type": "code",
   "execution_count": 18,
   "metadata": {},
   "outputs": [
    {
     "data": {
      "image/png": "[encoded data removed]",
      "text/plain": [
       "<Figure size 720x432 with 1 Axes>"
      ]
     },
     "metadata": {},
     "output_type": "display_data"
    }
   ],
   "source": [
    "plt.figure(figsize=(10,6))\n",
    "np.random.seed(42)\n",
    "\n",
    "#Distribution of no-hitters and cycles\n",
    "\n",
    "#Now, you'll use your sampling function to compute the waiting time to observe a no-hitter and hitting of the cycle. The\n",
    "#mean waiting time for a no-hitter is 764 games, and the mean waiting time for hitting the cycle is 715 games.\n",
    "\n",
    "# Draw samples of waiting times: waiting_times\n",
    "waiting_times = successive_poisson(764, 715, size=100000)\n",
    "\n",
    "# Make the histogram\n",
    "_ = plt.hist(waiting_times, bins=100, density=True, histtype='step')\n",
    "\n",
    "# Label axes\n",
    "_ = plt.xlabel('total waiting time (games)')\n",
    "_ = plt.ylabel('PDF')\n",
    "\n",
    "# Show the plot\n",
    "plt.show()"
   ]
  },
  {
   "cell_type": "code",
   "execution_count": 19,
   "metadata": {},
   "outputs": [],
   "source": [
    "#Notice that the PDF is peaked, unlike the waiting time for a single Poisson process."
   ]
  },
  {
   "cell_type": "code",
   "execution_count": null,
   "metadata": {},
   "outputs": [],
   "source": []
  }
 ],
 "metadata": {
  "kernelspec": {
   "display_name": "Python 3",
   "language": "python",
   "name": "python3"
  },
  "language_info": {
   "codemirror_mode": {
    "name": "ipython",
    "version": 3
   },
   "file_extension": ".py",
   "mimetype": "text/x-python",
   "name": "python",
   "nbconvert_exporter": "python",
   "pygments_lexer": "ipython3",
   "version": "3.7.6"
  }
 },
 "nbformat": 4,
 "nbformat_minor": 4
}
