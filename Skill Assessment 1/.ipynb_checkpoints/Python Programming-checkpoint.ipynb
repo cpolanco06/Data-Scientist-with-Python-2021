{
 "cells": [
  {
   "cell_type": "code",
   "execution_count": 1,
   "metadata": {},
   "outputs": [
    {
     "name": "stdout",
     "output_type": "stream",
     "text": [
      "6600\n"
     ]
    }
   ],
   "source": [
    "def time_to_seconds(hours, minutes) :\n",
    "    print(hours * 60 * 60 + minutes * 60)\n",
    "    \n",
    "time_to_seconds(1, 50)"
   ]
  },
  {
   "cell_type": "code",
   "execution_count": 2,
   "metadata": {},
   "outputs": [
    {
     "data": {
      "text/plain": [
       "8"
      ]
     },
     "execution_count": 2,
     "metadata": {},
     "output_type": "execute_result"
    }
   ],
   "source": [
    "def double_number(n) :\n",
    "    return n * 2\n",
    "\n",
    "double_number(4)"
   ]
  },
  {
   "cell_type": "code",
   "execution_count": 3,
   "metadata": {},
   "outputs": [
    {
     "data": {
      "text/plain": [
       "tuple"
      ]
     },
     "execution_count": 3,
     "metadata": {},
     "output_type": "execute_result"
    }
   ],
   "source": [
    "x = (1, 2, 3)\n",
    "\n",
    "type(x)"
   ]
  },
  {
   "cell_type": "code",
   "execution_count": 4,
   "metadata": {},
   "outputs": [
    {
     "data": {
      "text/plain": [
       "3"
      ]
     },
     "execution_count": 4,
     "metadata": {},
     "output_type": "execute_result"
    }
   ],
   "source": [
    "def add(a, b) :\n",
    "    return a + b\n",
    "\n",
    "x = add(1, 2)\n",
    "\n",
    "x"
   ]
  },
  {
   "cell_type": "code",
   "execution_count": 5,
   "metadata": {},
   "outputs": [
    {
     "data": {
      "text/plain": [
       "2"
      ]
     },
     "execution_count": 5,
     "metadata": {},
     "output_type": "execute_result"
    }
   ],
   "source": [
    "d = {\n",
    "    'one': 1,\n",
    "    'two': 2,\n",
    "    'three': 3,\n",
    "    'four': 4\n",
    "}\n",
    "\n",
    "d['two']"
   ]
  },
  {
   "cell_type": "code",
   "execution_count": 6,
   "metadata": {},
   "outputs": [
    {
     "data": {
      "text/plain": [
       "4.6"
      ]
     },
     "execution_count": 6,
     "metadata": {},
     "output_type": "execute_result"
    }
   ],
   "source": [
    "book = {\n",
    "    'title': 'The Giver',\n",
    "    'author': 'Lois Lowry',\n",
    "    'rating': 4.13\n",
    "}\n",
    "\n",
    "book['rating'] = 4.6\n",
    "\n",
    "book['rating']"
   ]
  },
  {
   "cell_type": "code",
   "execution_count": 7,
   "metadata": {},
   "outputs": [
    {
     "name": "stdout",
     "output_type": "stream",
     "text": [
      "0 :  a\n",
      "1 :  b\n",
      "2 :  c\n"
     ]
    }
   ],
   "source": [
    "letters = ['a', 'b', 'c']\n",
    "for ii, x in enumerate(letters):\n",
    "    print(ii, \": \", x)"
   ]
  },
  {
   "cell_type": "code",
   "execution_count": 8,
   "metadata": {},
   "outputs": [
    {
     "data": {
      "text/plain": [
       "12"
      ]
     },
     "execution_count": 8,
     "metadata": {},
     "output_type": "execute_result"
    }
   ],
   "source": [
    "def multiply(a, b):\n",
    "    return a * b\n",
    "\n",
    "x = multiply(3, 4)\n",
    "\n",
    "x"
   ]
  },
  {
   "cell_type": "code",
   "execution_count": 9,
   "metadata": {},
   "outputs": [
    {
     "data": {
      "text/plain": [
       "['animal', 'horse']"
      ]
     },
     "execution_count": 9,
     "metadata": {},
     "output_type": "execute_result"
    }
   ],
   "source": [
    "s = \"animal-horse\"\n",
    "\n",
    "s.split(\"-\")"
   ]
  },
  {
   "cell_type": "code",
   "execution_count": 10,
   "metadata": {},
   "outputs": [
    {
     "data": {
      "text/plain": [
       "28800"
      ]
     },
     "execution_count": 10,
     "metadata": {},
     "output_type": "execute_result"
    }
   ],
   "source": [
    "def hours_to_seconds(hours):\n",
    "    return hours * 60 * 60\n",
    "\n",
    "hours_to_seconds(8)"
   ]
  },
  {
   "cell_type": "code",
   "execution_count": 11,
   "metadata": {},
   "outputs": [
    {
     "name": "stdout",
     "output_type": "stream",
     "text": [
      "4\n"
     ]
    }
   ],
   "source": [
    "ints = set([1,1,2,3,3,3,4])\n",
    "print(len(ints))"
   ]
  },
  {
   "cell_type": "code",
   "execution_count": 12,
   "metadata": {},
   "outputs": [
    {
     "data": {
      "text/plain": [
       "[0, 2, 4, 6, 8]"
      ]
     },
     "execution_count": 12,
     "metadata": {},
     "output_type": "execute_result"
    }
   ],
   "source": [
    "[i * 2 for i in range(5)]"
   ]
  },
  {
   "cell_type": "code",
   "execution_count": 13,
   "metadata": {},
   "outputs": [
    {
     "data": {
      "text/plain": [
       "1"
      ]
     },
     "execution_count": 13,
     "metadata": {},
     "output_type": "execute_result"
    }
   ],
   "source": [
    "lst = [1, 2, 3, 4]\n",
    "\n",
    "lst_iterator = iter(lst)\n",
    "\n",
    "next(lst_iterator)"
   ]
  },
  {
   "cell_type": "code",
   "execution_count": 14,
   "metadata": {},
   "outputs": [
    {
     "name": "stdout",
     "output_type": "stream",
     "text": [
      "that value can't be turned into an integer\n"
     ]
    }
   ],
   "source": [
    "def to_int(x):\n",
    "    try:\n",
    "        return int(x)\n",
    "    except ValueError:\n",
    "        print(\"that value can't be turned into an integer\")\n",
    "\n",
    "to_int(\"\")"
   ]
  },
  {
   "cell_type": "code",
   "execution_count": 15,
   "metadata": {},
   "outputs": [],
   "source": [
    "#You are creating a package with useful functions for loan calculations called loan_calc. The file structure for the package\n",
    "#is shown below. Where would you need to define a global variable that can be used in any of the modules that form part of\n",
    "#the package?\n",
    "\n",
    "#loan_calc\n",
    "#├── __init__.py\n",
    "#├── irr.py\n",
    "#└── loan.py\n",
    "\n",
    "#It is not possible to have global variables\n",
    "\n",
    "#In the loan.py or irr.py file as a class attribute\n",
    "\n",
    "#In a new script named global.py in the loan_calc folder\n",
    "\n",
    "#In the __init__.py file in the loan_calc folder *"
   ]
  },
  {
   "cell_type": "code",
   "execution_count": 16,
   "metadata": {},
   "outputs": [
    {
     "data": {
      "text/plain": [
       "{'apple': 1, 'banana': 2, 'coconut': 3, 'durian': 4}"
      ]
     },
     "execution_count": 16,
     "metadata": {},
     "output_type": "execute_result"
    }
   ],
   "source": [
    "d = {\n",
    "    'apple': 1,\n",
    "    'banana': 2,\n",
    "    'coconut': 3\n",
    "}\n",
    "\n",
    "d['durian'] = 4\n",
    "\n",
    "d"
   ]
  },
  {
   "cell_type": "code",
   "execution_count": 17,
   "metadata": {},
   "outputs": [
    {
     "data": {
      "text/plain": [
       "'Natural entity in the observable universe.'"
      ]
     },
     "execution_count": 17,
     "metadata": {},
     "output_type": "execute_result"
    }
   ],
   "source": [
    "class AstroBody:\n",
    "    description = 'Natural entity in the observable universe.'    \n",
    "\n",
    "class Star(AstroBody):\n",
    "    pass\n",
    "\n",
    "sun = Star()\n",
    "\n",
    "sun.description"
   ]
  },
  {
   "cell_type": "code",
   "execution_count": 18,
   "metadata": {},
   "outputs": [
    {
     "data": {
      "text/plain": [
       "'bark bark bark bark bark bark...'"
      ]
     },
     "execution_count": 18,
     "metadata": {},
     "output_type": "execute_result"
    }
   ],
   "source": [
    "class Dog:\n",
    "    def __init__(self):\n",
    "        pass\n",
    "    \n",
    "    def bark(self):\n",
    "        return \"bark bark bark bark bark bark...\"\n",
    "\n",
    "d = Dog()\n",
    "d.bark()"
   ]
  },
  {
   "cell_type": "code",
   "execution_count": 19,
   "metadata": {},
   "outputs": [
    {
     "data": {
      "text/plain": [
       "'mercury'"
      ]
     },
     "execution_count": 19,
     "metadata": {},
     "output_type": "execute_result"
    }
   ],
   "source": [
    "class Planet:\n",
    "    def __init__(self, name):\n",
    "        self.name = name\n",
    "\n",
    "m = Planet('mercury')\n",
    "m.name"
   ]
  },
  {
   "cell_type": "code",
   "execution_count": 20,
   "metadata": {},
   "outputs": [
    {
     "data": {
      "text/plain": [
       "'Michael'"
      ]
     },
     "execution_count": 20,
     "metadata": {},
     "output_type": "execute_result"
    }
   ],
   "source": [
    "class Person:\n",
    "    def __init__(self, name):\n",
    "        self.name = name\n",
    "\n",
    "m = Person('Michael')\n",
    "m.name"
   ]
  },
  {
   "cell_type": "code",
   "execution_count": 21,
   "metadata": {},
   "outputs": [
    {
     "data": {
      "text/plain": [
       "['animal', 'horse']"
      ]
     },
     "execution_count": 21,
     "metadata": {},
     "output_type": "execute_result"
    }
   ],
   "source": [
    "s = 'animal-horse'\n",
    "s.split('-')"
   ]
  },
  {
   "cell_type": "code",
   "execution_count": 22,
   "metadata": {},
   "outputs": [
    {
     "data": {
      "text/plain": [
       "['HELLO', 'WORLD']"
      ]
     },
     "execution_count": 22,
     "metadata": {},
     "output_type": "execute_result"
    }
   ],
   "source": [
    "[x.upper() for x in ['hello', 'world']]\n",
    "\n",
    "#ls = ['hola', 'mundo']\n",
    "#may = map(lambda x: x.upper(), ls)\n",
    "#list(may)"
   ]
  },
  {
   "cell_type": "code",
   "execution_count": 23,
   "metadata": {},
   "outputs": [
    {
     "data": {
      "text/plain": [
       "'paperback'"
      ]
     },
     "execution_count": 23,
     "metadata": {},
     "output_type": "execute_result"
    }
   ],
   "source": [
    "book = {\n",
    "    'title': 'The Giver',\n",
    "    'author': 'Lois Lowry',\n",
    "    'rating': 4.13\n",
    "}\n",
    "\n",
    "book['format'] = 'paperback'\n",
    "\n",
    "book['format']"
   ]
  },
  {
   "cell_type": "code",
   "execution_count": 24,
   "metadata": {},
   "outputs": [
    {
     "name": "stdout",
     "output_type": "stream",
     "text": [
      "['Rivals for Catan', '7 Wonders Duel', 'Carcassone', 'Hive', 'Patchwork']\n"
     ]
    }
   ],
   "source": [
    "boardgames = [\n",
    "    'Rivals for Catan',\n",
    "    '7 Wonders Duel',\n",
    "    'Carcassone',\n",
    "    'Hive',\n",
    "]\n",
    "\n",
    "boardgames.append('Patchwork')\n",
    "\n",
    "print(boardgames)"
   ]
  },
  {
   "cell_type": "code",
   "execution_count": 25,
   "metadata": {},
   "outputs": [
    {
     "data": {
      "text/plain": [
       "'p'"
      ]
     },
     "execution_count": 25,
     "metadata": {},
     "output_type": "execute_result"
    }
   ],
   "source": [
    "w = 'pyhton'\n",
    "\n",
    "w_iterator = iter(w)\n",
    "\n",
    "next(w_iterator)"
   ]
  },
  {
   "cell_type": "code",
   "execution_count": 26,
   "metadata": {},
   "outputs": [
    {
     "data": {
      "text/plain": [
       "245"
      ]
     },
     "execution_count": 26,
     "metadata": {},
     "output_type": "execute_result"
    }
   ],
   "source": [
    "class Building:\n",
    "    def __init__(self, number):\n",
    "        self.number = number\n",
    "\n",
    "m = Building(245)\n",
    "m.number"
   ]
  },
  {
   "cell_type": "code",
   "execution_count": 27,
   "metadata": {},
   "outputs": [
    {
     "data": {
      "text/plain": [
       "{3, 4}"
      ]
     },
     "execution_count": 27,
     "metadata": {},
     "output_type": "execute_result"
    }
   ],
   "source": [
    "a = {1, 2, 3, 4}\n",
    "b = {3, 4, 5, 6}\n",
    "a.intersection(b)"
   ]
  },
  {
   "cell_type": "code",
   "execution_count": 28,
   "metadata": {},
   "outputs": [
    {
     "data": {
      "text/plain": [
       "'I know how to interact with the docstrings of a function.'"
      ]
     },
     "execution_count": 28,
     "metadata": {},
     "output_type": "execute_result"
    }
   ],
   "source": [
    "def fun_docs():\n",
    "    '''I know how to interact with the docstrings of a function.'''\n",
    "    return None\n",
    "\n",
    "fun_docs.__doc__"
   ]
  },
  {
   "cell_type": "code",
   "execution_count": 29,
   "metadata": {},
   "outputs": [
    {
     "data": {
      "text/plain": [
       "'I know how to call this function.'"
      ]
     },
     "execution_count": 29,
     "metadata": {},
     "output_type": "execute_result"
    }
   ],
   "source": [
    "x = lambda : 'I know how to call this function.'\n",
    "x()"
   ]
  },
  {
   "cell_type": "code",
   "execution_count": 30,
   "metadata": {},
   "outputs": [
    {
     "name": "stdout",
     "output_type": "stream",
     "text": [
      "30\n",
      "20\n",
      "20\n"
     ]
    }
   ],
   "source": [
    "this_var = 30\n",
    "\n",
    "def func():\n",
    "    global this_var\n",
    "    this_var = 20\n",
    "    print(this_var)\n",
    "\n",
    "print(this_var)\n",
    "func()\n",
    "print(this_var)"
   ]
  },
  {
   "cell_type": "code",
   "execution_count": 31,
   "metadata": {},
   "outputs": [
    {
     "data": {
      "text/plain": [
       "0"
      ]
     },
     "execution_count": 31,
     "metadata": {},
     "output_type": "execute_result"
    }
   ],
   "source": [
    "x = (i for i in range(5))\n",
    "next(x)"
   ]
  },
  {
   "cell_type": "code",
   "execution_count": 32,
   "metadata": {},
   "outputs": [
    {
     "data": {
      "text/plain": [
       "' a '"
      ]
     },
     "execution_count": 32,
     "metadata": {},
     "output_type": "execute_result"
    }
   ],
   "source": [
    "s = 'a'\n",
    "s.center(3)"
   ]
  },
  {
   "cell_type": "code",
   "execution_count": 33,
   "metadata": {},
   "outputs": [
    {
     "name": "stdout",
     "output_type": "stream",
     "text": [
      "h\n",
      "e\n",
      "o\n"
     ]
    }
   ],
   "source": [
    "for i in 'hello':\n",
    "    if i == 'l':\n",
    "        continue\n",
    "    print(i)"
   ]
  },
  {
   "cell_type": "code",
   "execution_count": 34,
   "metadata": {},
   "outputs": [
    {
     "name": "stdout",
     "output_type": "stream",
     "text": [
      "153\n"
     ]
    }
   ],
   "source": [
    "def add_many(*args):\n",
    "    s = 0\n",
    "    for n in args:\n",
    "        s += n\n",
    "    print(s)\n",
    "\n",
    "add_many(100, 50, 3)"
   ]
  },
  {
   "cell_type": "code",
   "execution_count": 35,
   "metadata": {},
   "outputs": [
    {
     "data": {
      "text/plain": [
       "[0.6709313964859867,\n",
       " 0.9738115340563225,\n",
       " 0.6064264401595373,\n",
       " 0.4066259803173813,\n",
       " 0.241007454546324,\n",
       " 0.9570332484250537,\n",
       " 0.2349020347673353,\n",
       " 0.8876755137054037,\n",
       " 0.9720131163571095,\n",
       " 0.1492980772443857,\n",
       " 0.9414046155591562,\n",
       " 0.5597323750561738,\n",
       " 0.7608989127589141,\n",
       " 0.5249642801198838,\n",
       " 0.1344891272249087,\n",
       " 0.9796560039964438,\n",
       " 0.06863221669260322,\n",
       " 0.8766064411366202,\n",
       " 0.5504489926930571,\n",
       " 0.4880661379761838]"
      ]
     },
     "execution_count": 35,
     "metadata": {},
     "output_type": "execute_result"
    }
   ],
   "source": [
    "import random\n",
    "random.seed(2427)\n",
    "\n",
    "def sample(n):\n",
    "    x = []\n",
    "    for i in range(n):\n",
    "        x.append(random.random())\n",
    "    return x\n",
    "\n",
    "sample(20)"
   ]
  },
  {
   "cell_type": "code",
   "execution_count": 36,
   "metadata": {},
   "outputs": [
    {
     "data": {
      "text/plain": [
       "[0.6709313964859867,\n",
       " 0.9738115340563225,\n",
       " 0.6064264401595373,\n",
       " 0.4066259803173813,\n",
       " 0.241007454546324,\n",
       " 0.9570332484250537,\n",
       " 0.2349020347673353,\n",
       " 0.8876755137054037,\n",
       " 0.9720131163571095,\n",
       " 0.1492980772443857,\n",
       " 0.9414046155591562,\n",
       " 0.5597323750561738,\n",
       " 0.7608989127589141,\n",
       " 0.5249642801198838,\n",
       " 0.1344891272249087,\n",
       " 0.9796560039964438,\n",
       " 0.06863221669260322,\n",
       " 0.8766064411366202,\n",
       " 0.5504489926930571,\n",
       " 0.4880661379761838]"
      ]
     },
     "execution_count": 36,
     "metadata": {},
     "output_type": "execute_result"
    }
   ],
   "source": [
    "import random\n",
    "random.seed(2427)\n",
    "\n",
    "def efficient_sample(n):\n",
    "    x = [random.random() for i in range(n)]\n",
    "    return x\n",
    "\n",
    "efficient_sample(20)"
   ]
  },
  {
   "cell_type": "code",
   "execution_count": 37,
   "metadata": {},
   "outputs": [
    {
     "data": {
      "text/plain": [
       "{0: 0, 1: 2, 2: 4, 3: 6, 4: 8}"
      ]
     },
     "execution_count": 37,
     "metadata": {},
     "output_type": "execute_result"
    }
   ],
   "source": [
    "dict_gen = {num: num * 2 for num in range(5)}\n",
    "dict_gen"
   ]
  },
  {
   "cell_type": "code",
   "execution_count": 38,
   "metadata": {},
   "outputs": [
    {
     "data": {
      "text/plain": [
       "'Returns the square of the argument x'"
      ]
     },
     "execution_count": 38,
     "metadata": {},
     "output_type": "execute_result"
    }
   ],
   "source": [
    "#Define a function that squares a single input argument. Complete the docstring for the function.\n",
    "\n",
    "#Complete the code to return the output\n",
    "\n",
    "def square():\n",
    "    '''Returns the square of the argument x'''\n",
    "    return x*x\n",
    "\n",
    "square.__doc__"
   ]
  },
  {
   "cell_type": "code",
   "execution_count": 39,
   "metadata": {},
   "outputs": [
    {
     "data": {
      "text/plain": [
       "' fox'"
      ]
     },
     "execution_count": 39,
     "metadata": {},
     "output_type": "execute_result"
    }
   ],
   "source": [
    "s = \"fox\"\n",
    "\n",
    "s.rjust(4)"
   ]
  },
  {
   "cell_type": "code",
   "execution_count": 40,
   "metadata": {},
   "outputs": [
    {
     "data": {
      "text/plain": [
       "'numpy'"
      ]
     },
     "execution_count": 40,
     "metadata": {},
     "output_type": "execute_result"
    }
   ],
   "source": [
    "lst = ['numpy', 'pandas', 'requests']\n",
    "\n",
    "lst_gen = (pkg for pkg in lst)\n",
    "\n",
    "next(lst_gen)"
   ]
  },
  {
   "cell_type": "code",
   "execution_count": 41,
   "metadata": {},
   "outputs": [
    {
     "data": {
      "text/plain": [
       "['D:\\\\Users\\\\ASUS\\\\Data Challenge 365 Fem - DataCamp\\\\Data Scientist with Python\\\\Skill Assessment 1',\n",
       " 'D:\\\\Users\\\\ASUS\\\\anaconda3\\\\python37.zip',\n",
       " 'D:\\\\Users\\\\ASUS\\\\anaconda3\\\\DLLs',\n",
       " 'D:\\\\Users\\\\ASUS\\\\anaconda3\\\\lib',\n",
       " 'D:\\\\Users\\\\ASUS\\\\anaconda3',\n",
       " '',\n",
       " 'D:\\\\Users\\\\ASUS\\\\anaconda3\\\\lib\\\\site-packages',\n",
       " 'D:\\\\Users\\\\ASUS\\\\anaconda3\\\\lib\\\\site-packages\\\\win32',\n",
       " 'D:\\\\Users\\\\ASUS\\\\anaconda3\\\\lib\\\\site-packages\\\\win32\\\\lib',\n",
       " 'D:\\\\Users\\\\ASUS\\\\anaconda3\\\\lib\\\\site-packages\\\\Pythonwin',\n",
       " 'D:\\\\Users\\\\ASUS\\\\anaconda3\\\\lib\\\\site-packages\\\\IPython\\\\extensions',\n",
       " 'C:\\\\Users\\\\ASUS\\\\.ipython']"
      ]
     },
     "execution_count": 41,
     "metadata": {},
     "output_type": "execute_result"
    }
   ],
   "source": [
    "#You have installed a third party package called loan_calculator. You proceed to import loan_calculator as follows:\n",
    "\n",
    "#import loan_calculator\n",
    "\n",
    "#List the directories that Python will search if it cannot find the name loan_calculator in sys.modules or in the list of\n",
    "#built-in modules.\n",
    "\n",
    "#Complete the code to return the output\n",
    "\n",
    "from os import system #import system -> from os import system\n",
    "import sys\n",
    "\n",
    "\n",
    "sys.path"
   ]
  },
  {
   "cell_type": "code",
   "execution_count": 42,
   "metadata": {},
   "outputs": [
    {
     "data": {
      "text/plain": [
       "{0: 0, 2: 4, 4: 16, 6: 36, 8: 64}"
      ]
     },
     "execution_count": 42,
     "metadata": {},
     "output_type": "execute_result"
    }
   ],
   "source": [
    "#Create a Python dictionary my_dict where the keys should be divisible by 2 and in a range 0 - 10. The value for each key\n",
    "#should be equal to the square of the key.\n",
    "\n",
    "#Complete the code to return the output\n",
    "\n",
    "my_dict = { num: num ** 2 for num in range(10) if num%2 == 0 }\n",
    "\n",
    "my_dict"
   ]
  },
  {
   "cell_type": "code",
   "execution_count": 43,
   "metadata": {},
   "outputs": [
    {
     "data": {
      "text/plain": [
       "3"
      ]
     },
     "execution_count": 43,
     "metadata": {},
     "output_type": "execute_result"
    }
   ],
   "source": [
    "#Get the value of the \"three\" key using a dictionary method.\n",
    "\n",
    "#Complete the code to return the output\n",
    "\n",
    "d = {\n",
    "    'one': 1,\n",
    "    'two': 2,\n",
    "    'three': 3,\n",
    "    'four': 4\n",
    "}\n",
    "\n",
    "d.get('three')"
   ]
  },
  {
   "cell_type": "code",
   "execution_count": 44,
   "metadata": {},
   "outputs": [
    {
     "data": {
      "text/plain": [
       "{1, 2, 3, 4, 5, 6}"
      ]
     },
     "execution_count": 44,
     "metadata": {},
     "output_type": "execute_result"
    }
   ],
   "source": [
    "#Complete the code to return the output\n",
    "\n",
    "a = {1, 2, 3}\n",
    "b = {4, 5, 6}\n",
    "\n",
    "a.union(b)"
   ]
  },
  {
   "cell_type": "code",
   "execution_count": 45,
   "metadata": {},
   "outputs": [
    {
     "data": {
      "text/plain": [
       "729"
      ]
     },
     "execution_count": 45,
     "metadata": {},
     "output_type": "execute_result"
    }
   ],
   "source": [
    "#Two functions have been defined for you. Use the square_args() function to square the arguments passed to multiply().\n",
    "\n",
    "#Complete the code to return the output\n",
    "\n",
    "def square_args(func):\n",
    "    def inner(a, b):\n",
    "        return func(a ** 2, b ** 2)\n",
    "    return inner\n",
    "\n",
    "@square_args\n",
    "def multiply(a, b):\n",
    "    return a * b\n",
    "\n",
    "multiply(3, 9)"
   ]
  },
  {
   "cell_type": "code",
   "execution_count": 46,
   "metadata": {},
   "outputs": [
    {
     "data": {
      "text/plain": [
       "'Returns a Hello World string'"
      ]
     },
     "execution_count": 46,
     "metadata": {},
     "output_type": "execute_result"
    }
   ],
   "source": [
    "#The docstring of the decorated hello() function is not displayed when it is accessed using hello.__doc__. Add the necessary\n",
    "#code so that docstring of hello() can be accessed.\n",
    "\n",
    "#Select the code to return the output\n",
    "\n",
    "from functools import wraps\n",
    "\n",
    "def lowercase_decorator(function):\n",
    "    \"\"\"Changes the case of result of the decorated func\"\"\"\n",
    "    @wraps(function)\n",
    "    def wrapper():\n",
    "        func = function()\n",
    "        string_lowercase = func.lower()\n",
    "        return string_lowercase\n",
    "    return wrapper\n",
    "\n",
    "@lowercase_decorator\n",
    "def hello():\n",
    "    \"\"\"Returns a Hello World string\"\"\"\n",
    "    return 'Hello World'\n",
    "  \n",
    "hello.__doc__"
   ]
  },
  {
   "cell_type": "code",
   "execution_count": 47,
   "metadata": {},
   "outputs": [
    {
     "data": {
      "text/plain": [
       "[3, 4]"
      ]
     },
     "execution_count": 47,
     "metadata": {},
     "output_type": "execute_result"
    }
   ],
   "source": [
    "#Complete the statement using a list comprehension such that it matches the output.\n",
    "\n",
    "#Complete the code to return the output\n",
    "\n",
    "[i for i in range(5) if i > 2]"
   ]
  },
  {
   "cell_type": "code",
   "execution_count": 48,
   "metadata": {},
   "outputs": [
    {
     "name": "stdout",
     "output_type": "stream",
     "text": [
      "9\n"
     ]
    }
   ],
   "source": [
    "#Complete the code to return the output\n",
    "\n",
    "def number_squared(x):\n",
    "    print(x ** 2)\n",
    "\n",
    "number_squared(3)"
   ]
  },
  {
   "cell_type": "code",
   "execution_count": 49,
   "metadata": {},
   "outputs": [
    {
     "data": {
      "text/plain": [
       "{3}"
      ]
     },
     "execution_count": 49,
     "metadata": {},
     "output_type": "execute_result"
    }
   ],
   "source": [
    "#Complete the code to return the output\n",
    "\n",
    "a = {1, 2, 3}\n",
    "b = {3, 4, 5, 6}\n",
    "\n",
    "a & b"
   ]
  },
  {
   "cell_type": "code",
   "execution_count": 50,
   "metadata": {},
   "outputs": [
    {
     "data": {
      "text/plain": [
       "'fox '"
      ]
     },
     "execution_count": 50,
     "metadata": {},
     "output_type": "execute_result"
    }
   ],
   "source": [
    "#Complete the code to return the output\n",
    "\n",
    "s = \"fox\"\n",
    "\n",
    "s.ljust(4)"
   ]
  },
  {
   "cell_type": "code",
   "execution_count": 51,
   "metadata": {},
   "outputs": [
    {
     "name": "stdout",
     "output_type": "stream",
     "text": [
      "['3' '4' 'True' 'False' '5.2']\n"
     ]
    }
   ],
   "source": [
    "#Which output does the following piece of code generate?\n",
    "\n",
    "import numpy as np\n",
    "x = np.array([3, 4, True, False, '5.2'])\n",
    "print(x)"
   ]
  },
  {
   "cell_type": "code",
   "execution_count": 52,
   "metadata": {},
   "outputs": [
    {
     "data": {
      "text/plain": [
       "729"
      ]
     },
     "execution_count": 52,
     "metadata": {},
     "output_type": "execute_result"
    }
   ],
   "source": [
    "#Two functions have been defined for you. Use the square_args() function to square the arguments passed to multiply().\n",
    "\n",
    "#Complete the code to return the output\n",
    "\n",
    "def square_args(func):\n",
    "    def inner(a, b):\n",
    "        return func(a ** 2, b ** 2)\n",
    "    return inner\n",
    "\n",
    "def multiply(a, b):\n",
    "    return a * b\n",
    "\n",
    "multiply = square_args(multiply)\n",
    "  \n",
    "multiply(3, 9)"
   ]
  },
  {
   "cell_type": "code",
   "execution_count": 53,
   "metadata": {},
   "outputs": [
    {
     "data": {
      "text/plain": [
       "'meow!'"
      ]
     },
     "execution_count": 53,
     "metadata": {},
     "output_type": "execute_result"
    }
   ],
   "source": [
    "#Complete the code to return the output\n",
    "\n",
    "class Cat:\n",
    "    def meow(self):\n",
    "        return 'meow!'\n",
    "\n",
    "s = Cat()\n",
    "\n",
    "s.meow()"
   ]
  },
  {
   "cell_type": "code",
   "execution_count": 54,
   "metadata": {},
   "outputs": [
    {
     "name": "stdout",
     "output_type": "stream",
     "text": [
      "<class '__main__.BankAccount'>\n"
     ]
    }
   ],
   "source": [
    "#Declare an empty class named BankAccount\n",
    "\n",
    "#Complete the code to return the output\n",
    "\n",
    "class BankAccount: #class BankAccount():\n",
    "    pass\n",
    "  \n",
    "account = BankAccount()\n",
    "print(type(account))"
   ]
  },
  {
   "cell_type": "code",
   "execution_count": 55,
   "metadata": {},
   "outputs": [
    {
     "name": "stdout",
     "output_type": "stream",
     "text": [
      "[57, 62, 65, 67, 72, 212]\n",
      "[57, 62, 65, 67, 72, 212]\n"
     ]
    }
   ],
   "source": [
    "#The code below takes a list of numbers and adds 32 to each number. The code makes use of a for loop but a list comprehension\n",
    "#would be more efficient. Change this code to use a list comprehension.\n",
    "\n",
    "vals = [25, 30, 33, 35, 40, 180]\n",
    "new_vals = []\n",
    "for val in vals:\n",
    "    new_vals.append(val + 32)\n",
    "print(new_vals)\n",
    "\n",
    "#Complete the code to return the output\n",
    "\n",
    "vals = [25, 30, 33, 35, 40, 180]\n",
    "new_vals = [val + 32 for val in vals]\n",
    "\n",
    "print(new_vals)"
   ]
  },
  {
   "cell_type": "code",
   "execution_count": 56,
   "metadata": {},
   "outputs": [
    {
     "data": {
      "text/plain": [
       "'returns n!'"
      ]
     },
     "execution_count": 56,
     "metadata": {},
     "output_type": "execute_result"
    }
   ],
   "source": [
    "#Access the docstrings of the factorial() function.\n",
    "\n",
    "#Complete the code to return the output\n",
    "\n",
    "def factorial(n):\n",
    "    \"\"\"returns n!\"\"\"\n",
    "    return 1 if n < 2 else n * factorial(n-1)\n",
    "\n",
    "factorial.__doc__"
   ]
  },
  {
   "cell_type": "code",
   "execution_count": 57,
   "metadata": {},
   "outputs": [
    {
     "name": "stdout",
     "output_type": "stream",
     "text": [
      "The file peter_rabbit.txt has about 35 words.\n"
     ]
    }
   ],
   "source": [
    "#The count_words() function takes a text file as input and prints the number of words contained in the text. The function\n",
    "#should print an error message when the file cannot be found. The number of words in the file should be printed if the file can\n",
    "#be found.\n",
    "\n",
    "#Complete the code to return the output\n",
    "\n",
    "def count_words(filename):\n",
    "    \"\"\"Count the number of words in a file\"\"\"\n",
    "    try:\n",
    "        with open(filename, encoding='utf-8') as f:\n",
    "            contents = f.read()\n",
    "    except FileNotFoundError:\n",
    "        print(\"The file {} cannot be found\".format(filename))\n",
    "    else:\n",
    "        words = contents.split()\n",
    "        num_words = len(words)\n",
    "        print(\"The file {} has about {} words.\".format(filename, num_words))\n",
    "\n",
    "filename = \"peter_rabbit.txt\"\n",
    "count_words(filename)"
   ]
  },
  {
   "cell_type": "code",
   "execution_count": null,
   "metadata": {},
   "outputs": [],
   "source": []
  }
 ],
 "metadata": {
  "kernelspec": {
   "display_name": "Python 3",
   "language": "python",
   "name": "python3"
  },
  "language_info": {
   "codemirror_mode": {
    "name": "ipython",
    "version": 3
   },
   "file_extension": ".py",
   "mimetype": "text/x-python",
   "name": "python",
   "nbconvert_exporter": "python",
   "pygments_lexer": "ipython3",
   "version": "3.7.6"
  }
 },
 "nbformat": 4,
 "nbformat_minor": 4
}
