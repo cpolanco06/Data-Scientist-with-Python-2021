{
 "cells": [
  {
   "cell_type": "code",
   "execution_count": 1,
   "metadata": {},
   "outputs": [],
   "source": [
    "#API Authentication\n",
    "\n",
    "#conda install -c conda-forge tweepy\n",
    "\n",
    "#The package tweepy is great at handling all the Twitter API OAuth Authentication details for you. All you need to do is pass it\n",
    "#your authentication credentials. In this interactive exercise, we have created some mock authentication credentials (if you\n",
    "#wanted to replicate this at home, you would need to create a Twitter App as Hugo detailed in the video). Your task is to pass\n",
    "#these credentials to tweepy's OAuth handler.\n",
    "\n",
    "# Import package\n",
    "import tweepy, json\n",
    "\n",
    "# Store OAuth authentication credentials in relevant variables\n",
    "access_token = \"2675308394-nLfNe1XIQqdrw2ty4PYNEhlrkOCO9v2uJFKqekp\"\n",
    "access_token_secret = \"FzruQdOdPri10jmvUEzDUfS9CvfqLEHzo81vEfwbd8R7b\"\n",
    "consumer_key = \"B7H4opN2GeVNvBF7nhQVgVgeg\"\n",
    "consumer_secret = \"GTlqAbVLJbTSHZp2GJb56yOjJCmvzNeoPYtPXjxSC7wRsBa5p3\"\n",
    "\n",
    "# Pass OAuth details to tweepy's OAuth handler\n",
    "auth = tweepy.OAuthHandler(consumer_key, consumer_secret)\n",
    "auth.set_access_token(access_token, access_token_secret)"
   ]
  },
  {
   "cell_type": "code",
   "execution_count": 2,
   "metadata": {},
   "outputs": [],
   "source": [
    "#Streaming tweets\n",
    "\n",
    "class MyStreamListener(tweepy.StreamListener):\n",
    "    def __init__(self, api=None):\n",
    "        super(MyStreamListener, self).__init__()\n",
    "        self.num_tweets = 0\n",
    "        self.file = open(\"datasets/tweets.txt\", \"w\")\n",
    "\n",
    "    def on_status(self, status):\n",
    "        tweet = status._json\n",
    "        self.file.write( json.dumps(tweet) + '\\n' )\n",
    "        self.num_tweets += 1\n",
    "        if self.num_tweets < 100:\n",
    "            return True\n",
    "        else:\n",
    "            return False\n",
    "        self.file.close()\n",
    "\n",
    "    def on_error(self, status):\n",
    "        print(status)\n",
    "\n",
    "#Now that you have set up your authentication credentials, it is time to stream some tweets! We have already defined the tweet\n",
    "#stream listener class, MyStreamListener, just as Hugo did in the introductory video. You can find the code for the tweet stream\n",
    "#listener class here.\n",
    "\n",
    "#Your task is to create the Streamobject and to filter tweets according to particular keywords.\n",
    "\n",
    "# Initialize Stream listener\n",
    "l = MyStreamListener()\n",
    "\n",
    "# Create your Stream object with authentication\n",
    "stream = tweepy.Stream(auth, l)\n",
    "\n",
    "# Filter Twitter Streams to capture data by the keywords:\n",
    "stream.filter(track=['clinton', 'trump', 'sanders', 'cruz'])"
   ]
  },
  {
   "cell_type": "code",
   "execution_count": 3,
   "metadata": {},
   "outputs": [
    {
     "name": "stdout",
     "output_type": "stream",
     "text": [
      "dict_keys(['created_at', 'id', 'id_str', 'text', 'source', 'truncated', 'in_reply_to_status_id', 'in_reply_to_status_id_str', 'in_reply_to_user_id', 'in_reply_to_user_id_str', 'in_reply_to_screen_name', 'user', 'geo', 'coordinates', 'place', 'contributors', 'retweeted_status', 'is_quote_status', 'quote_count', 'reply_count', 'retweet_count', 'favorite_count', 'entities', 'favorited', 'retweeted', 'filter_level', 'lang', 'timestamp_ms'])\n"
     ]
    }
   ],
   "source": [
    "#Load and explore your Twitter data\n",
    "\n",
    "#Now that you've got your Twitter data sitting locally in a text file, it's time to explore it! This is what you'll do in the\n",
    "#next few interactive exercises. In this exercise, you'll read the Twitter data into a list: tweets_data.\n",
    "\n",
    "#Be aware that this is real data from Twitter and as such there is always a risk that it may contain profanity or other\n",
    "#offensive content (in this exercise, and any following exercises that also use real Twitter data).\n",
    "\n",
    "# Import package\n",
    "import json\n",
    "\n",
    "# String of path to file: tweets_data_path\n",
    "tweets_data_path = 'datasets/tweets.txt'\n",
    "\n",
    "# Initialize empty list to store tweets: tweets_data\n",
    "tweets_data = []\n",
    "\n",
    "# Open connection to file\n",
    "tweets_file = open(tweets_data_path, \"r\")\n",
    "\n",
    "# Read in tweets and store in list: tweets_data\n",
    "for line in tweets_file:\n",
    "    tweet = json.loads(line)\n",
    "    tweets_data.append(tweet)\n",
    "\n",
    "# Close connection to file\n",
    "tweets_file.close()\n",
    "\n",
    "# Print the keys of the first tweet dict\n",
    "print(tweets_data[0].keys())"
   ]
  },
  {
   "cell_type": "code",
   "execution_count": 4,
   "metadata": {},
   "outputs": [
    {
     "name": "stdout",
     "output_type": "stream",
     "text": [
      "                                                text lang\n",
      "0  RT @MattGertz: Donald Trump has published seve...   en\n",
      "1                             @MebFaber Donald Trump   en\n",
      "2  RT @NourHadidi: If you and Ted Cruz have the s...   en\n",
      "3  RT @ACTforAmerica: Trump and Kushner created P...   en\n",
      "4  RT @ruthbenghiat: We were likely closer to the...   en\n"
     ]
    }
   ],
   "source": [
    "#Twitter data to DataFrame\n",
    "\n",
    "#Now you have the Twitter data in a list of dictionaries, tweets_data, where each dictionary corresponds to a single tweet.\n",
    "#Next, you're going to extract the text and language of each tweet. The text in a tweet, t1, is stored as the value t1['text'];\n",
    "#similarly, the language is stored in t1['lang']. Your task is to build a DataFrame in which each row is a tweet and the columns\n",
    "#are 'text' and 'lang'.\n",
    "\n",
    "# Import package\n",
    "import pandas as pd\n",
    "\n",
    "# Build DataFrame of tweet texts and languages\n",
    "df = pd.DataFrame(tweets_data, columns=['text', 'lang'])\n",
    "\n",
    "# Print head of DataFrame\n",
    "print(df.head())"
   ]
  },
  {
   "cell_type": "code",
   "execution_count": 5,
   "metadata": {},
   "outputs": [],
   "source": [
    "#A little bit of Twitter text analysis\n",
    "\n",
    "#Now that you have your DataFrame of tweets set up, you're going to do a bit of text analysis to count how many tweets contain\n",
    "#the words 'clinton', 'trump', 'sanders' and 'cruz'. In the pre-exercise code, we have defined the following function\n",
    "#word_in_text(), which will tell you whether the first argument (a word) occurs within the 2nd argument (a tweet).\n",
    "\n",
    "import re\n",
    "\n",
    "def word_in_text(word, text):\n",
    "    word = word.lower()\n",
    "    text = text.lower()\n",
    "    match = re.search(word, text)\n",
    "\n",
    "    if match:\n",
    "        return True\n",
    "    return False\n",
    "\n",
    "#You're going to iterate over the rows of the DataFrame and calculate how many tweets contain each of our keywords! The list of\n",
    "#objects for each candidate has been initialized to 0.\n",
    "\n",
    "# Initialize list to store tweet counts\n",
    "[clinton, trump, sanders, cruz] = [0, 0, 0, 0]\n",
    "\n",
    "# Iterate through df, counting the number of tweets in which\n",
    "# each candidate is mentioned\n",
    "for index, row in df.iterrows():\n",
    "    clinton += word_in_text('clinton', row['text'])\n",
    "    trump += word_in_text('trump', row['text'])\n",
    "    sanders += word_in_text('sanders', row['text'])\n",
    "    cruz += word_in_text('cruz', row['text'])"
   ]
  },
  {
   "cell_type": "code",
   "execution_count": 6,
   "metadata": {},
   "outputs": [
    {
     "data": {
      "image/png": "[encoded data removed]",
      "text/plain": [
       "<Figure size 864x576 with 1 Axes>"
      ]
     },
     "metadata": {
      "needs_background": "light"
     },
     "output_type": "display_data"
    }
   ],
   "source": [
    "#Plotting your Twitter data\n",
    "\n",
    "#Now that you have the number of tweets that each candidate was mentioned in, you can plot a bar chart of this data. You'll use\n",
    "#the statistical data visualization library seaborn, which you may not have seen before, but we'll guide you through. You'll\n",
    "#first import seaborn as sns. You'll then construct a barplot of the data using sns.barplot, passing it two arguments:\n",
    "\n",
    "#1. a list of labels and\n",
    "#2. a list containing the variables you wish to plot (clinton, trump and so on.)\n",
    "\n",
    "#Hopefully, you'll see that Trump was unreasonably represented! We have already run the previous exercise solutions in your\n",
    "#environment.\n",
    "\n",
    "# Import packages\n",
    "import matplotlib.pyplot as plt\n",
    "import seaborn as sns\n",
    "\n",
    "plt.figure(figsize=(12,8))\n",
    "\n",
    "# Set seaborn style\n",
    "sns.set(color_codes=True)\n",
    "\n",
    "# Create a list of labels:cd\n",
    "cd = ['clinton', 'trump', 'sanders', 'cruz']\n",
    "\n",
    "# Plot histogram\n",
    "ax = sns.barplot(cd, [clinton, trump, sanders, cruz])\n",
    "ax.set(ylabel=\"count\")\n",
    "plt.show()"
   ]
  },
  {
   "cell_type": "code",
   "execution_count": null,
   "metadata": {},
   "outputs": [],
   "source": []
  }
 ],
 "metadata": {
  "kernelspec": {
   "display_name": "Python 3",
   "language": "python",
   "name": "python3"
  },
  "language_info": {
   "codemirror_mode": {
    "name": "ipython",
    "version": 3
   },
   "file_extension": ".py",
   "mimetype": "text/x-python",
   "name": "python",
   "nbconvert_exporter": "python",
   "pygments_lexer": "ipython3",
   "version": "3.7.6"
  }
 },
 "nbformat": 4,
 "nbformat_minor": 4
}
