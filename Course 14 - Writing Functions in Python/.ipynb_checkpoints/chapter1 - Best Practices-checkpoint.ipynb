{
 "cells": [
  {
   "cell_type": "code",
   "execution_count": 1,
   "metadata": {},
   "outputs": [],
   "source": [
    "#Crafting a docstring\n",
    "\n",
    "#You've decided to write the world's greatest open-source natural language processing Python package. It will revolutionize\n",
    "#working with free-form text, the way numpy did for arrays, pandas did for tabular data, and scikit-learn did for machine\n",
    "#learning.\n",
    "\n",
    "#The first function you write is count_letter(). It takes a string and a single letter and returns the number of times the\n",
    "#letter appears in the string. You want the users of your open-source package to be able to understand how this function works\n",
    "#easily, so you will need to give it a docstring. Build up a Google Style docstring for this function by following these steps.\n",
    "\n",
    "def count_letter(content, letter):\n",
    "    \"\"\"Count the number of times `letter` appears in `content`.\n",
    "    \n",
    "    Args:\n",
    "        content (str): The string to search.\n",
    "        letter (str): The letter to search for.\n",
    "    \n",
    "    Returns:\n",
    "        int\n",
    "    \n",
    "    # Add a section detailing what errors might be raised\n",
    "    Raises:\n",
    "        ValueError: If `letter` is not a one-character string.\n",
    "    \"\"\"\n",
    "    if (not isinstance(letter, str)) or len(letter) != 1:\n",
    "        raise ValueError('`letter` must be a single character string.')\n",
    "    return len([char for char in content if char == letter])"
   ]
  },
  {
   "cell_type": "code",
   "execution_count": 2,
   "metadata": {},
   "outputs": [
    {
     "data": {
      "text/plain": [
       "2"
      ]
     },
     "execution_count": 2,
     "metadata": {},
     "output_type": "execute_result"
    }
   ],
   "source": [
    "count_letter('holaa', 'a')"
   ]
  },
  {
   "cell_type": "code",
   "execution_count": 3,
   "metadata": {},
   "outputs": [
    {
     "name": "stdout",
     "output_type": "stream",
     "text": [
      "############################\n",
      "Count the number of times `letter` appears in `content`.\n",
      "    \n",
      "    Args:\n",
      "        content (str): The string to search.\n",
      "        letter (str): The letter to search for.\n",
      "    \n",
      "    Returns:\n",
      "        int\n",
      "    \n",
      "    # Add a section detailing what errors might be raised\n",
      "    Raises:\n",
      "        ValueError: If `letter` is not a one-character string.\n",
      "    \n",
      "############################\n"
     ]
    }
   ],
   "source": [
    "#Retrieving docstrings\n",
    "\n",
    "#You and a group of friends are working on building an amazing new Python IDE (integrated development environment -- like\n",
    "#PyCharm, Spyder, Eclipse, Visual Studio, etc.). The team wants to add a feature that displays a tooltip with a function's\n",
    "#docstring whenever the user starts typing the function name. That way, the user doesn't have to go elsewhere to look up the\n",
    "#documentation for the function they are trying to use. You've been asked to complete the build_tooltip() function that\n",
    "#retrieves a docstring from an arbitrary function.\n",
    "\n",
    "#You will be reusing the count_letter() function that you developed in the last exercise to show that we can properly extract\n",
    "#its docstring.\n",
    "\n",
    "# Get the \"count_letter\" docstring by using an attribute of the function\n",
    "docstring = count_letter.__doc__\n",
    "\n",
    "border = '#' * 28\n",
    "print('{}\\n{}\\n{}'.format(border, docstring, border))"
   ]
  },
  {
   "cell_type": "code",
   "execution_count": 4,
   "metadata": {},
   "outputs": [
    {
     "name": "stdout",
     "output_type": "stream",
     "text": [
      "############################\n",
      "Count the number of times `letter` appears in `content`.\n",
      "\n",
      "Args:\n",
      "    content (str): The string to search.\n",
      "    letter (str): The letter to search for.\n",
      "\n",
      "Returns:\n",
      "    int\n",
      "\n",
      "# Add a section detailing what errors might be raised\n",
      "Raises:\n",
      "    ValueError: If `letter` is not a one-character string.\n",
      "############################\n"
     ]
    }
   ],
   "source": [
    "import inspect\n",
    "\n",
    "# Inspect the count_letter() function to get its docstring\n",
    "docstring = inspect.getdoc(count_letter)\n",
    "\n",
    "border = '#' * 28\n",
    "print('{}\\n{}\\n{}'.format(border, docstring, border))"
   ]
  },
  {
   "cell_type": "code",
   "execution_count": 5,
   "metadata": {},
   "outputs": [
    {
     "name": "stdout",
     "output_type": "stream",
     "text": [
      "############################\n",
      "Count the number of times `letter` appears in `content`.\n",
      "\n",
      "Args:\n",
      "    content (str): The string to search.\n",
      "    letter (str): The letter to search for.\n",
      "\n",
      "Returns:\n",
      "    int\n",
      "\n",
      "# Add a section detailing what errors might be raised\n",
      "Raises:\n",
      "    ValueError: If `letter` is not a one-character string.\n",
      "############################\n",
      "############################\n",
      "range(stop) -> range object\n",
      "range(start, stop[, step]) -> range object\n",
      "\n",
      "Return an object that produces a sequence of integers from start (inclusive)\n",
      "to stop (exclusive) by step.  range(i, j) produces i, i+1, i+2, ..., j-1.\n",
      "start defaults to 0, and stop is omitted!  range(4) produces 0, 1, 2, 3.\n",
      "These are exactly the valid indices for a list of 4 elements.\n",
      "When step is given, it specifies the increment (or decrement).\n",
      "############################\n",
      "############################\n",
      "print(value, ..., sep=' ', end='\\n', file=sys.stdout, flush=False)\n",
      "\n",
      "Prints the values to a stream, or to sys.stdout by default.\n",
      "Optional keyword arguments:\n",
      "file:  a file-like object (stream); defaults to the current sys.stdout.\n",
      "sep:   string inserted between values, default a space.\n",
      "end:   string appended after the last value, default a newline.\n",
      "flush: whether to forcibly flush the stream.\n",
      "############################\n"
     ]
    }
   ],
   "source": [
    "import inspect\n",
    "\n",
    "def build_tooltip(function):\n",
    "    \"\"\"Create a tooltip for any function that shows the\n",
    "    function's docstring.\n",
    "\n",
    "    Args:\n",
    "        function (callable): The function we want a tooltip for.\n",
    "\n",
    "    Returns:\n",
    "        str\n",
    "    \"\"\"\n",
    "    # Get the docstring for the \"function\" argument by using inspect\n",
    "    docstring = inspect.getdoc(function)\n",
    "    border = '#' * 28\n",
    "    return '{}\\n{}\\n{}'.format(border, docstring, border)\n",
    "\n",
    "print(build_tooltip(count_letter))\n",
    "print(build_tooltip(range))\n",
    "print(build_tooltip(print))"
   ]
  },
  {
   "cell_type": "code",
   "execution_count": 6,
   "metadata": {},
   "outputs": [],
   "source": [
    "#Docstrings to the rescue!\n",
    "\n",
    "#Some maniac has corrupted your installation of numpy! All of the functions still exist, but they've been given random names.\n",
    "#You desperately need to call the numpy.histogram() function and you don't have time to reinstall the package. Fortunately for\n",
    "#you, the maniac didn't think to alter the docstrings, and you know how to access them. numpy has a lot of functions in it, so\n",
    "#we've narrowed it down to four possible functions that could be numpy.histogram() in disguise: numpy.leyud(), numpy.uqka(),\n",
    "#numpy.fywdkxa() or numpy.jinzyxq().\n",
    "\n",
    "#Examine each of these functions' docstrings in the IPython shell to determine which of them is actually numpy.histogram().\n",
    "\n",
    "#numpy.leyud.__doc__\n",
    "#\"\\n    Gives a new shape to an array without changing its data.\\n\\n    Parameters\\n    ----------\\n    a : array_like\\n        Array to be reshaped.\\n    newshape : int or tuple of ints\\n        The new shape should be compatible with the original shape. If\\n        an integer, then the result will be a 1-D array of that length.\\n        One shape dimension can be -1. In this case, the value is\\n        inferred from the length of the array and remaining dimensions.\\n    order : {'C', 'F', 'A'}, optional\\n        Read the elements of `a` using this index order, and place the\\n        elements into the reshaped array using this index order.  'C'\\n        means to read / write the elements using C-like index order,\\n        with the last axis index changing fastest, back to the first\\n        axis index changing slowest. 'F' means to read / write the\\n        elements using Fortran-like index order, with the first index\\n        changing fastest, and the last index changing slowest. Note that\\n        the 'C' and 'F' options take no account of the memory layout of\\n        the underlying array, and only refer to the order of indexing.\\n        'A' means to read / write the elements in Fortran-like index\\n        order if `a` is Fortran *contiguous* in memory, C-like order\\n        otherwise.\\n\\n    Returns\\n    -------\\n    reshaped_array : ndarray\\n        This will be a new view object if possible; otherwise, it will\\n        be a copy.  Note there is no guarantee of the *memory layout* (C- or\\n        Fortran- contiguous) of the returned array.\\n\\n    See Also\\n    --------\\n    ndarray.reshape : Equivalent method.\\n\\n    Notes\\n    -----\\n    It is not always possible to change the shape of an array without\\n    copying the data. If you want an error to be raised when the data is copied,\\n    you should assign the new shape to the shape attribute of the array::\\n\\n     >>> a = np.zeros((10, 2))\\n     # A transpose makes the array non-contiguous\\n     >>> b = a.T\\n     # Taking a view makes it possible to modify the shape without modifying\\n     # the initial object.\\n     >>> c = b.view()\\n     >>> c.shape = (20)\\n     AttributeError: incompatible shape for a non-contiguous array\\n\\n    The `order` keyword gives the index ordering both for *fetching* the values\\n    from `a`, and then *placing* the values into the output array.\\n    For example, let's say you have an array:\\n\\n    >>> a = np.arange(6).reshape((3, 2))\\n    >>> a\\n    array([[0, 1],\\n           [2, 3],\\n           [4, 5]])\\n\\n    You can think of reshaping as first raveling the array (using the given\\n    index order), then inserting the elements from the raveled array into the\\n    new array using the same kind of index ordering as was used for the\\n    raveling.\\n\\n    >>> np.reshape(a, (2, 3)) # C-like index ordering\\n    array([[0, 1, 2],\\n           [3, 4, 5]])\\n    >>> np.reshape(np.ravel(a), (2, 3)) # equivalent to C ravel then C reshape\\n    array([[0, 1, 2],\\n           [3, 4, 5]])\\n    >>> np.reshape(a, (2, 3), order='F') # Fortran-like index ordering\\n    array([[0, 4, 3],\\n           [2, 1, 5]])\\n    >>> np.reshape(np.ravel(a, order='F'), (2, 3), order='F')\\n    array([[0, 4, 3],\\n           [2, 1, 5]])\\n\\n    Examples\\n    --------\\n    >>> a = np.array([[1,2,3], [4,5,6]])\\n    >>> np.reshape(a, 6)\\n    array([1, 2, 3, 4, 5, 6])\\n    >>> np.reshape(a, 6, order='F')\\n    array([1, 4, 2, 5, 3, 6])\\n\\n    >>> np.reshape(a, (3,-1))       # the unspecified value is inferred to be 2\\n    array([[1, 2],\\n           [3, 4],\\n           [5, 6]])\\n    \"\n",
    "\n",
    "#numpy.uqka.__doc__\n",
    "#\"\\n    Returns the indices that would sort an array.\\n\\n    Perform an indirect sort along the given axis using the algorithm specified\\n    by the `kind` keyword. It returns an array of indices of the same shape as\\n    `a` that index data along the given axis in sorted order.\\n\\n    Parameters\\n    ----------\\n    a : array_like\\n        Array to sort.\\n    axis : int or None, optional\\n        Axis along which to sort.  The default is -1 (the last axis). If None,\\n        the flattened array is used.\\n    kind : {'quicksort', 'mergesort', 'heapsort', 'stable'}, optional\\n        Sorting algorithm.\\n    order : str or list of str, optional\\n        When `a` is an array with fields defined, this argument specifies\\n        which fields to compare first, second, etc.  A single field can\\n        be specified as a string, and not all fields need be specified,\\n        but unspecified fields will still be used, in the order in which\\n        they come up in the dtype, to break ties.\\n\\n    Returns\\n    -------\\n    index_array : ndarray, int\\n        Array of indices that sort `a` along the specified axis.\\n        If `a` is one-dimensional, ``a[index_array]`` yields a sorted `a`.\\n        More generally, ``np.take_along_axis(a, index_array, axis=a)`` always\\n        yields the sorted `a`, irrespective of dimensionality.\\n\\n    See Also\\n    --------\\n    sort : Describes sorting algorithms used.\\n    lexsort : Indirect stable sort with multiple keys.\\n    ndarray.sort : Inplace sort.\\n    argpartition : Indirect partial sort.\\n\\n    Notes\\n    -----\\n    See `sort` for notes on the different sorting algorithms.\\n\\n    As of NumPy 1.4.0 `argsort` works with real/complex arrays containing\\n    nan values. The enhanced sort order is documented in `sort`.\\n\\n    Examples\\n    --------\\n    One dimensional array:\\n\\n    >>> x = np.array([3, 1, 2])\\n    >>> np.argsort(x)\\n    array([1, 2, 0])\\n\\n    Two-dimensional array:\\n\\n    >>> x = np.array([[0, 3], [2, 2]])\\n    >>> x\\n    array([[0, 3],\\n           [2, 2]])\\n\\n    >>> np.argsort(x, axis=0)  # sorts along first axis (down)\\n    array([[0, 1],\\n           [1, 0]])\\n\\n    >>> np.argsort(x, axis=1)  # sorts along last axis (across)\\n    array([[0, 1],\\n           [0, 1]])\\n\\n    Indices of the sorted elements of a N-dimensional array:\\n\\n    >>> ind = np.unravel_index(np.argsort(x, axis=None), x.shape)\\n    >>> ind\\n    (array([0, 1, 1, 0]), array([0, 0, 1, 1]))\\n    >>> x[ind]  # same as np.sort(x, axis=None)\\n    array([0, 2, 2, 3])\\n\\n    Sorting with keys:\\n\\n    >>> x = np.array([(1, 0), (0, 1)], dtype=[('x', '<i4'), ('y', '<i4')])\\n    >>> x\\n    array([(1, 0), (0, 1)],\\n          dtype=[('x', '<i4'), ('y', '<i4')])\\n\\n    >>> np.argsort(x, order=('x','y'))\\n    array([1, 0])\\n\\n    >>> np.argsort(x, order=('y','x'))\\n    array([0, 1])\\n\\n    \"\n",
    "\n",
    "#numpy.fywdkxa.__doc__\n",
    "#'\\n    Compute the histogram of a set of data.\\n\\n    Parameters\\n    ----------\\n    a : array_like\\n        Input data. The histogram is computed over the flattened array.\\n    bins : int or sequence of scalars or str, optional\\n        If `bins` is an int, it defines the number of equal-width\\n        bins in the given range (10, by default). If `bins` is a\\n        sequence, it defines the bin edges, including the rightmost\\n        edge, allowing for non-uniform bin widths.\\n\\n        .. versionadded:: 1.11.0\\n\\n        If `bins` is a string, it defines the method used to calculate the\\n        optimal bin width, as defined by `histogram_bin_edges`.\\n\\n    range : (float, float), optional\\n        The lower and upper range of the bins.  If not provided, range\\n        is simply ``(a.min(), a.max())``.  Values outside the range are\\n        ignored. The first element of the range must be less than or\\n        equal to the second. `range` affects the automatic bin\\n        computation as well. While bin width is computed to be optimal\\n        based on the actual data within `range`, the bin count will fill\\n        the entire range including portions containing no data.\\n    normed : bool, optional\\n\\n        .. deprecated:: 1.6.0\\n\\n        This is equivalent to the `density` argument, but produces incorrect\\n        results for unequal bin widths. It should not be used.\\n\\n        .. versionchanged:: 1.15.0\\n            DeprecationWarnings are actually emitted.\\n\\n    weights : array_like, optional\\n        An array of weights, of the same shape as `a`.  Each value in\\n        `a` only contributes its associated weight towards the bin count\\n        (instead of 1). If `density` is True, the weights are\\n        normalized, so that the integral of the density over the range\\n        remains 1.\\n    density : bool, optional\\n        If ``False``, the result will contain the number of samples in\\n        each bin. If ``True``, the result is the value of the\\n        probability *density* function at the bin, normalized such that\\n        the *integral* over the range is 1. Note that the sum of the\\n        histogram values will not be equal to 1 unless bins of unity\\n        width are chosen; it is not a probability *mass* function.\\n\\n        Overrides the ``normed`` keyword if given.\\n\\n    Returns\\n    -------\\n    hist : array\\n        The values of the histogram. See `density` and `weights` for a\\n        description of the possible semantics.\\n    bin_edges : array of dtype float\\n        Return the bin edges ``(length(hist)+1)``.\\n\\n\\n    See Also\\n    --------\\n    histogramdd, bincount, searchsorted, digitize, histogram_bin_edges\\n\\n    Notes\\n    -----\\n    All but the last (righthand-most) bin is half-open.  In other words,\\n    if `bins` is::\\n\\n      [1, 2, 3, 4]\\n\\n    then the first bin is ``[1, 2)`` (including 1, but excluding 2) and\\n    the second ``[2, 3)``.  The last bin, however, is ``[3, 4]``, which\\n    *includes* 4.\\n\\n\\n    Examples\\n    --------\\n    >>> np.histogram([1, 2, 1], bins=[0, 1, 2, 3])\\n    (array([0, 2, 1]), array([0, 1, 2, 3]))\\n    >>> np.histogram(np.arange(4), bins=np.arange(5), density=True)\\n    (array([ 0.25,  0.25,  0.25,  0.25]), array([0, 1, 2, 3, 4]))\\n    >>> np.histogram([[1, 2, 1], [1, 0, 1]], bins=[0,1,2,3])\\n    (array([1, 4, 1]), array([0, 1, 2, 3]))\\n\\n    >>> a = np.arange(5)\\n    >>> hist, bin_edges = np.histogram(a, density=True)\\n    >>> hist\\n    array([ 0.5,  0. ,  0.5,  0. ,  0. ,  0.5,  0. ,  0.5,  0. ,  0.5])\\n    >>> hist.sum()\\n    2.4999999999999996\\n    >>> np.sum(hist * np.diff(bin_edges))\\n    1.0\\n\\n    .. versionadded:: 1.11.0\\n\\n    Automated Bin Selection Methods example, using 2 peak random data\\n    with 2000 points:\\n\\n    >>> import matplotlib.pyplot as plt\\n    >>> rng = np.random.RandomState(10)  # deterministic random data\\n    >>> a = np.hstack((rng.normal(size=1000),\\n    ...                rng.normal(loc=5, scale=2, size=1000)))\\n    >>> plt.hist(a, bins=\\'auto\\')  # arguments are passed to np.histogram\\n    >>> plt.title(\"Histogram with \\'auto\\' bins\")\\n    >>> plt.show()\\n\\n    '\n",
    "\n",
    "#numpy.jinzyxq.__doc__\n",
    "#\"\\n    Return an array of zeros with the same shape and type as a given array.\\n\\n    Parameters\\n    ----------\\n    a : array_like\\n        The shape and data-type of `a` define these same attributes of\\n        the returned array.\\n    dtype : data-type, optional\\n        Overrides the data type of the result.\\n\\n        .. versionadded:: 1.6.0\\n    order : {'C', 'F', 'A', or 'K'}, optional\\n        Overrides the memory layout of the result. 'C' means C-order,\\n        'F' means F-order, 'A' means 'F' if `a` is Fortran contiguous,\\n        'C' otherwise. 'K' means match the layout of `a` as closely\\n        as possible.\\n\\n        .. versionadded:: 1.6.0\\n    subok : bool, optional.\\n        If True, then the newly created array will use the sub-class\\n        type of 'a', otherwise it will be a base-class array. Defaults\\n        to True.\\n\\n    Returns\\n    -------\\n    out : ndarray\\n        Array of zeros with the same shape and type as `a`.\\n\\n    See Also\\n    --------\\n    empty_like : Return an empty array with shape and type of input.\\n    ones_like : Return an array of ones with shape and type of input.\\n    full_like : Return a new array with shape of input filled with value.\\n    zeros : Return a new array setting values to zero.\\n\\n    Examples\\n    --------\\n    >>> x = np.arange(6)\\n    >>> x = x.reshape((2, 3))\\n    >>> x\\n    array([[0, 1, 2],\\n           [3, 4, 5]])\\n    >>> np.zeros_like(x)\\n    array([[0, 0, 0],\\n           [0, 0, 0]])\\n\\n    >>> y = np.arange(3, dtype=float)\\n    >>> y\\n    array([ 0.,  1.,  2.])\\n    >>> np.zeros_like(y)\\n    array([ 0.,  0.,  0.])\\n\\n    \"\n",
    "\n",
    "#Possible Answers\n",
    "\n",
    "#numpy.leyud()\n",
    "\n",
    "#numpy.uqka()\n",
    "\n",
    "#numpy.fywdkxa()*\n",
    "\n",
    "#numpy.jinzyxq()"
   ]
  },
  {
   "cell_type": "code",
   "execution_count": 7,
   "metadata": {},
   "outputs": [],
   "source": [
    "#Extract a function\n",
    "\n",
    "import pandas as pd\n",
    "df = pd.read_csv('datasets/GPAs.csv')\n",
    "\n",
    "#While you were developing a model to predict the likelihood of a student graduating from college, you wrote this bit of code to\n",
    "#get the z-scores of students' yearly GPAs. Now you're ready to turn it into a production-quality system, so you need to do\n",
    "#something about the repetition. Writing a function to calculate the z-scores would improve this code.\n",
    "\n",
    "# Standardize the GPAs for each year\n",
    "#df['y1_z'] = (df.y1_gpa - df.y1_gpa.mean()) / df.y1_gpa.std()\n",
    "#df['y2_z'] = (df.y2_gpa - df.y2_gpa.mean()) / df.y2_gpa.std()\n",
    "#df['y3_z'] = (df.y3_gpa - df.y3_gpa.mean()) / df.y3_gpa.std()\n",
    "#df['y4_z'] = (df.y4_gpa - df.y4_gpa.mean()) / df.y4_gpa.std()\n",
    "\n",
    "#Note: df is a pandas DataFrame where each row is a student with 4 columns of yearly student GPAs: y1_gpa, y2_gpa, y3_gpa,\n",
    "#y4_gpa\n",
    "\n",
    "def standardize(column):\n",
    "    \"\"\"Standardize the values in a column.\n",
    "\n",
    "    Args:\n",
    "        column (pandas Series): The data to standardize.\n",
    "\n",
    "    Returns:\n",
    "        pandas Series: the values as z-scores\n",
    "    \"\"\"\n",
    "    # Finish the function so that it returns the z-scores\n",
    "    z_score = (column - column.mean()) / column.std()\n",
    "    return z_score\n",
    "\n",
    "# Use the standardize() function to calculate the z-scores\n",
    "df['y1_z'] = standardize(df.y1_gpa)\n",
    "df['y2_z'] = standardize(df.y2_gpa)\n",
    "df['y3_z'] = standardize(df.y3_gpa)\n",
    "df['y4_z'] = standardize(df.y4_gpa)"
   ]
  },
  {
   "cell_type": "code",
   "execution_count": 8,
   "metadata": {},
   "outputs": [
    {
     "data": {
      "text/html": [
       "<div>\n",
       "<style scoped>\n",
       "    .dataframe tbody tr th:only-of-type {\n",
       "        vertical-align: middle;\n",
       "    }\n",
       "\n",
       "    .dataframe tbody tr th {\n",
       "        vertical-align: top;\n",
       "    }\n",
       "\n",
       "    .dataframe thead th {\n",
       "        text-align: right;\n",
       "    }\n",
       "</style>\n",
       "<table border=\"1\" class=\"dataframe\">\n",
       "  <thead>\n",
       "    <tr style=\"text-align: right;\">\n",
       "      <th></th>\n",
       "      <th>y1_gpa</th>\n",
       "      <th>y2_gpa</th>\n",
       "      <th>y3_gpa</th>\n",
       "      <th>y4_gpa</th>\n",
       "      <th>y1_z</th>\n",
       "      <th>y2_z</th>\n",
       "      <th>y3_z</th>\n",
       "      <th>y4_z</th>\n",
       "    </tr>\n",
       "  </thead>\n",
       "  <tbody>\n",
       "    <tr>\n",
       "      <th>0</th>\n",
       "      <td>2.785877</td>\n",
       "      <td>2.052513</td>\n",
       "      <td>2.170544</td>\n",
       "      <td>0.065570</td>\n",
       "      <td>0.790863</td>\n",
       "      <td>0.028021</td>\n",
       "      <td>0.172322</td>\n",
       "      <td>-1.711179</td>\n",
       "    </tr>\n",
       "    <tr>\n",
       "      <th>1</th>\n",
       "      <td>1.144557</td>\n",
       "      <td>2.666498</td>\n",
       "      <td>0.267098</td>\n",
       "      <td>2.884737</td>\n",
       "      <td>-0.872971</td>\n",
       "      <td>0.564636</td>\n",
       "      <td>-1.347122</td>\n",
       "      <td>0.824431</td>\n",
       "    </tr>\n",
       "    <tr>\n",
       "      <th>2</th>\n",
       "      <td>0.907406</td>\n",
       "      <td>0.423634</td>\n",
       "      <td>2.613459</td>\n",
       "      <td>0.030950</td>\n",
       "      <td>-1.113376</td>\n",
       "      <td>-1.395595</td>\n",
       "      <td>0.525883</td>\n",
       "      <td>-1.742317</td>\n",
       "    </tr>\n",
       "    <tr>\n",
       "      <th>3</th>\n",
       "      <td>2.205259</td>\n",
       "      <td>0.523580</td>\n",
       "      <td>3.984345</td>\n",
       "      <td>0.339289</td>\n",
       "      <td>0.202281</td>\n",
       "      <td>-1.308243</td>\n",
       "      <td>1.620206</td>\n",
       "      <td>-1.464991</td>\n",
       "    </tr>\n",
       "    <tr>\n",
       "      <th>4</th>\n",
       "      <td>2.877876</td>\n",
       "      <td>1.287922</td>\n",
       "      <td>3.077589</td>\n",
       "      <td>0.901994</td>\n",
       "      <td>0.884124</td>\n",
       "      <td>-0.640219</td>\n",
       "      <td>0.896379</td>\n",
       "      <td>-0.958885</td>\n",
       "    </tr>\n",
       "    <tr>\n",
       "      <th>...</th>\n",
       "      <td>...</td>\n",
       "      <td>...</td>\n",
       "      <td>...</td>\n",
       "      <td>...</td>\n",
       "      <td>...</td>\n",
       "      <td>...</td>\n",
       "      <td>...</td>\n",
       "      <td>...</td>\n",
       "    </tr>\n",
       "    <tr>\n",
       "      <th>95</th>\n",
       "      <td>2.766807</td>\n",
       "      <td>2.543601</td>\n",
       "      <td>3.760116</td>\n",
       "      <td>1.441695</td>\n",
       "      <td>0.771532</td>\n",
       "      <td>0.457226</td>\n",
       "      <td>1.441213</td>\n",
       "      <td>-0.473468</td>\n",
       "    </tr>\n",
       "    <tr>\n",
       "      <th>96</th>\n",
       "      <td>0.604510</td>\n",
       "      <td>0.128792</td>\n",
       "      <td>3.330865</td>\n",
       "      <td>0.842611</td>\n",
       "      <td>-1.420427</td>\n",
       "      <td>-1.653282</td>\n",
       "      <td>1.098559</td>\n",
       "      <td>-1.012295</td>\n",
       "    </tr>\n",
       "    <tr>\n",
       "      <th>97</th>\n",
       "      <td>1.595505</td>\n",
       "      <td>2.979123</td>\n",
       "      <td>3.384219</td>\n",
       "      <td>1.684800</td>\n",
       "      <td>-0.415837</td>\n",
       "      <td>0.837865</td>\n",
       "      <td>1.141150</td>\n",
       "      <td>-0.254814</td>\n",
       "    </tr>\n",
       "    <tr>\n",
       "      <th>98</th>\n",
       "      <td>0.963424</td>\n",
       "      <td>1.891652</td>\n",
       "      <td>0.495692</td>\n",
       "      <td>0.872142</td>\n",
       "      <td>-1.056589</td>\n",
       "      <td>-0.112568</td>\n",
       "      <td>-1.164644</td>\n",
       "      <td>-0.985734</td>\n",
       "    </tr>\n",
       "    <tr>\n",
       "      <th>99</th>\n",
       "      <td>1.373824</td>\n",
       "      <td>0.487017</td>\n",
       "      <td>2.385948</td>\n",
       "      <td>3.383010</td>\n",
       "      <td>-0.640559</td>\n",
       "      <td>-1.340198</td>\n",
       "      <td>0.344270</td>\n",
       "      <td>1.272586</td>\n",
       "    </tr>\n",
       "  </tbody>\n",
       "</table>\n",
       "<p>100 rows × 8 columns</p>\n",
       "</div>"
      ],
      "text/plain": [
       "      y1_gpa    y2_gpa    y3_gpa    y4_gpa      y1_z      y2_z      y3_z  \\\n",
       "0   2.785877  2.052513  2.170544  0.065570  0.790863  0.028021  0.172322   \n",
       "1   1.144557  2.666498  0.267098  2.884737 -0.872971  0.564636 -1.347122   \n",
       "2   0.907406  0.423634  2.613459  0.030950 -1.113376 -1.395595  0.525883   \n",
       "3   2.205259  0.523580  3.984345  0.339289  0.202281 -1.308243  1.620206   \n",
       "4   2.877876  1.287922  3.077589  0.901994  0.884124 -0.640219  0.896379   \n",
       "..       ...       ...       ...       ...       ...       ...       ...   \n",
       "95  2.766807  2.543601  3.760116  1.441695  0.771532  0.457226  1.441213   \n",
       "96  0.604510  0.128792  3.330865  0.842611 -1.420427 -1.653282  1.098559   \n",
       "97  1.595505  2.979123  3.384219  1.684800 -0.415837  0.837865  1.141150   \n",
       "98  0.963424  1.891652  0.495692  0.872142 -1.056589 -0.112568 -1.164644   \n",
       "99  1.373824  0.487017  2.385948  3.383010 -0.640559 -1.340198  0.344270   \n",
       "\n",
       "        y4_z  \n",
       "0  -1.711179  \n",
       "1   0.824431  \n",
       "2  -1.742317  \n",
       "3  -1.464991  \n",
       "4  -0.958885  \n",
       "..       ...  \n",
       "95 -0.473468  \n",
       "96 -1.012295  \n",
       "97 -0.254814  \n",
       "98 -0.985734  \n",
       "99  1.272586  \n",
       "\n",
       "[100 rows x 8 columns]"
      ]
     },
     "execution_count": 8,
     "metadata": {},
     "output_type": "execute_result"
    }
   ],
   "source": [
    "df"
   ]
  },
  {
   "cell_type": "code",
   "execution_count": 9,
   "metadata": {},
   "outputs": [],
   "source": [
    "#Split up a function\n",
    "\n",
    "#Another engineer on your team has written this function to calculate the mean and median of a sorted list. You want to show\n",
    "#them how to split it into two simpler functions: mean() and median()\n",
    "\n",
    "def mean_and_median(values):\n",
    "    \"\"\"Get the mean and median of a sorted list of `values`\n",
    "\n",
    "    Args:\n",
    "        values (iterable of float): A list of numbers\n",
    "\n",
    "    Returns:\n",
    "        tuple (float, float): The mean and median\n",
    "    \"\"\"\n",
    "    mean = sum(values) / len(values)\n",
    "    midpoint = int(len(values) / 2)\n",
    "    if len(values) % 2 == 0:\n",
    "        median = (values[midpoint - 1] + values[midpoint]) / 2\n",
    "    else:\n",
    "        median = values[midpoint]\n",
    "\n",
    "    return mean, median"
   ]
  },
  {
   "cell_type": "code",
   "execution_count": 10,
   "metadata": {},
   "outputs": [
    {
     "data": {
      "text/plain": [
       "[17, 43, 58, 74, 91, 94]"
      ]
     },
     "execution_count": 10,
     "metadata": {},
     "output_type": "execute_result"
    }
   ],
   "source": [
    "import random\n",
    "lista_ord = sorted([random.randint(0, 100) for num in range(6)])\n",
    "lista_ord"
   ]
  },
  {
   "cell_type": "code",
   "execution_count": 11,
   "metadata": {},
   "outputs": [
    {
     "data": {
      "text/plain": [
       "(62.833333333333336, 66.0)"
      ]
     },
     "execution_count": 11,
     "metadata": {},
     "output_type": "execute_result"
    }
   ],
   "source": [
    "mean_and_median(lista_ord)"
   ]
  },
  {
   "cell_type": "code",
   "execution_count": 12,
   "metadata": {},
   "outputs": [],
   "source": [
    "def mean(values):\n",
    "    \"\"\"Get the mean of a sorted list of values\n",
    "\n",
    "    Args:\n",
    "        values (iterable of float): A list of numbers\n",
    "\n",
    "    Returns:\n",
    "        float\n",
    "    \"\"\"\n",
    "    # Write the mean() function\n",
    "    mean = sum(values) / len(values)\n",
    "    return mean"
   ]
  },
  {
   "cell_type": "code",
   "execution_count": 13,
   "metadata": {},
   "outputs": [
    {
     "data": {
      "text/plain": [
       "62.833333333333336"
      ]
     },
     "execution_count": 13,
     "metadata": {},
     "output_type": "execute_result"
    }
   ],
   "source": [
    "mean(lista_ord)"
   ]
  },
  {
   "cell_type": "code",
   "execution_count": 14,
   "metadata": {},
   "outputs": [],
   "source": [
    "def median(values):\n",
    "    \"\"\"Get the median of a sorted list of values\n",
    "\n",
    "    Args:\n",
    "        values (iterable of float): A list of numbers\n",
    "\n",
    "    Returns:\n",
    "        float\n",
    "    \"\"\"\n",
    "    # Write the median() function\n",
    "    midpoint = int(len(values) / 2)\n",
    "    if len(values) % 2 == 0:\n",
    "        median = (values[midpoint - 1] + values[midpoint]) / 2\n",
    "    else:\n",
    "        median = values[midpoint]\n",
    "    return median"
   ]
  },
  {
   "cell_type": "code",
   "execution_count": 15,
   "metadata": {},
   "outputs": [
    {
     "data": {
      "text/plain": [
       "66.0"
      ]
     },
     "execution_count": 15,
     "metadata": {},
     "output_type": "execute_result"
    }
   ],
   "source": [
    "median(lista_ord)"
   ]
  },
  {
   "cell_type": "code",
   "execution_count": 16,
   "metadata": {},
   "outputs": [
    {
     "data": {
      "text/plain": [
       "({'Hello': 'hello'}, 'Hello')"
      ]
     },
     "execution_count": 16,
     "metadata": {},
     "output_type": "execute_result"
    }
   ],
   "source": [
    "#Mutable or immutable?\n",
    "\n",
    "#The following function adds a mapping between a string and the lowercase version of that string to a dictionary. What do you\n",
    "#expect the values of d and s to be after the function is called?\n",
    "\n",
    "def store_lower(_dict, _string):\n",
    "    \"\"\"Add a mapping between `_string` and a lowercased version of `_string` to `_dict`\n",
    "\n",
    "    Args:\n",
    "        _dict (dict): The dictionary to update.\n",
    "        _string (str): The string to add.\n",
    "    \"\"\"\n",
    "    orig_string = _string\n",
    "    _string = _string.lower()\n",
    "    _dict[orig_string] = _string\n",
    "\n",
    "d = {}\n",
    "s = 'Hello'\n",
    "\n",
    "store_lower(d, s)\n",
    "d, s"
   ]
  },
  {
   "cell_type": "code",
   "execution_count": 17,
   "metadata": {},
   "outputs": [],
   "source": [
    "#Possible Answers\n",
    "\n",
    "#d = {}, s = 'Hello'\n",
    "\n",
    "#d = {}, s = 'hello'\n",
    "\n",
    "#d = {'Hello': 'hello'}, s = 'Hello'*\n",
    "\n",
    "#d = {'Hello': 'hello'}, s = 'hello'\n",
    "\n",
    "#d = {'hello': 'hello'}, s = 'hello'"
   ]
  },
  {
   "cell_type": "code",
   "execution_count": 18,
   "metadata": {},
   "outputs": [],
   "source": [
    "#Best practice for default arguments\n",
    "\n",
    "import pandas\n",
    "\n",
    "#One of your co-workers (who obviously didn't take this course) has written this function for adding a column to a pandas\n",
    "#DataFrame. Unfortunately, they used a mutable variable as a default argument value! Please show them a better way to do this so\n",
    "#that they don't get unexpected behavior.\n",
    "\n",
    "def add_column(values, df=pandas.DataFrame()):\n",
    "    \"\"\"Add a column of `values` to a DataFrame `df`.\n",
    "    The column will be named \"col_<n>\" where \"n\" is\n",
    "    the numerical index of the column.\n",
    "\n",
    "    Args:\n",
    "        values (iterable): The values of the new column\n",
    "        df (DataFrame, optional): The DataFrame to update.\n",
    "            If no DataFrame is passed, one is created by default.\n",
    "\n",
    "    Returns:\n",
    "        DataFrame\n",
    "    \"\"\"\n",
    "    df['col_{}'.format(len(df.columns))] = values\n",
    "    return df"
   ]
  },
  {
   "cell_type": "code",
   "execution_count": 22,
   "metadata": {},
   "outputs": [
    {
     "data": {
      "text/html": [
       "<div>\n",
       "<style scoped>\n",
       "    .dataframe tbody tr th:only-of-type {\n",
       "        vertical-align: middle;\n",
       "    }\n",
       "\n",
       "    .dataframe tbody tr th {\n",
       "        vertical-align: top;\n",
       "    }\n",
       "\n",
       "    .dataframe thead th {\n",
       "        text-align: right;\n",
       "    }\n",
       "</style>\n",
       "<table border=\"1\" class=\"dataframe\">\n",
       "  <thead>\n",
       "    <tr style=\"text-align: right;\">\n",
       "      <th></th>\n",
       "      <th>col_0</th>\n",
       "      <th>col_1</th>\n",
       "    </tr>\n",
       "  </thead>\n",
       "  <tbody>\n",
       "    <tr>\n",
       "      <th>0</th>\n",
       "      <td>1</td>\n",
       "      <td>1</td>\n",
       "    </tr>\n",
       "    <tr>\n",
       "      <th>1</th>\n",
       "      <td>2</td>\n",
       "      <td>2</td>\n",
       "    </tr>\n",
       "    <tr>\n",
       "      <th>2</th>\n",
       "      <td>3</td>\n",
       "      <td>3</td>\n",
       "    </tr>\n",
       "  </tbody>\n",
       "</table>\n",
       "</div>"
      ],
      "text/plain": [
       "   col_0  col_1\n",
       "0      1      1\n",
       "1      2      2\n",
       "2      3      3"
      ]
     },
     "execution_count": 22,
     "metadata": {},
     "output_type": "execute_result"
    }
   ],
   "source": [
    "add_column([1, 2, 3])"
   ]
  },
  {
   "cell_type": "code",
   "execution_count": 20,
   "metadata": {},
   "outputs": [],
   "source": [
    "# Use an immutable variable for the default argument\n",
    "def better_add_column(values, df=None):\n",
    "    \"\"\"Add a column of `values` to a DataFrame `df`.\n",
    "    The column will be named \"col_<n>\" where \"n\" is\n",
    "    the numerical index of the column.\n",
    "\n",
    "    Args:\n",
    "        values (iterable): The values of the new column\n",
    "        df (DataFrame, optional): The DataFrame to update.\n",
    "            If no DataFrame is passed, one is created by default.\n",
    "\n",
    "    Returns:\n",
    "        DataFrame\n",
    "    \"\"\"\n",
    "    # Update the function to create a default DataFrame\n",
    "    if df is None:\n",
    "        df = pandas.DataFrame()\n",
    "    df['col_{}'.format(len(df.columns))] = values\n",
    "    return df"
   ]
  },
  {
   "cell_type": "code",
   "execution_count": 23,
   "metadata": {},
   "outputs": [
    {
     "data": {
      "text/html": [
       "<div>\n",
       "<style scoped>\n",
       "    .dataframe tbody tr th:only-of-type {\n",
       "        vertical-align: middle;\n",
       "    }\n",
       "\n",
       "    .dataframe tbody tr th {\n",
       "        vertical-align: top;\n",
       "    }\n",
       "\n",
       "    .dataframe thead th {\n",
       "        text-align: right;\n",
       "    }\n",
       "</style>\n",
       "<table border=\"1\" class=\"dataframe\">\n",
       "  <thead>\n",
       "    <tr style=\"text-align: right;\">\n",
       "      <th></th>\n",
       "      <th>col_0</th>\n",
       "    </tr>\n",
       "  </thead>\n",
       "  <tbody>\n",
       "    <tr>\n",
       "      <th>0</th>\n",
       "      <td>1</td>\n",
       "    </tr>\n",
       "    <tr>\n",
       "      <th>1</th>\n",
       "      <td>2</td>\n",
       "    </tr>\n",
       "    <tr>\n",
       "      <th>2</th>\n",
       "      <td>3</td>\n",
       "    </tr>\n",
       "  </tbody>\n",
       "</table>\n",
       "</div>"
      ],
      "text/plain": [
       "   col_0\n",
       "0      1\n",
       "1      2\n",
       "2      3"
      ]
     },
     "execution_count": 23,
     "metadata": {},
     "output_type": "execute_result"
    }
   ],
   "source": [
    "better_add_column([1, 2, 3])"
   ]
  },
  {
   "cell_type": "code",
   "execution_count": null,
   "metadata": {},
   "outputs": [],
   "source": []
  }
 ],
 "metadata": {
  "kernelspec": {
   "display_name": "Python 3",
   "language": "python",
   "name": "python3"
  },
  "language_info": {
   "codemirror_mode": {
    "name": "ipython",
    "version": 3
   },
   "file_extension": ".py",
   "mimetype": "text/x-python",
   "name": "python",
   "nbconvert_exporter": "python",
   "pygments_lexer": "ipython3",
   "version": "3.7.6"
  }
 },
 "nbformat": 4,
 "nbformat_minor": 4
}
