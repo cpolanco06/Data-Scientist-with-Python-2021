{
 "cells": [
  {
   "cell_type": "code",
   "execution_count": 1,
   "metadata": {},
   "outputs": [
    {
     "name": "stdout",
     "output_type": "stream",
     "text": [
      "Lewis Carroll uses the word \"cat\" 24 times\n"
     ]
    }
   ],
   "source": [
    "#The number of cats\n",
    "\n",
    "#You are working on a natural language processing project to determine what makes great writers so great. Your current\n",
    "#hypothesis is that great writers talk about cats a lot. To prove it, you want to count the number of times the word \"cat\"\n",
    "#appears in \"Alice's Adventures in Wonderland\" by Lewis Carroll. You have already downloaded a text file, alice.txt, with the\n",
    "#entire contents of this great book.\n",
    "\n",
    "# Open \"alice.txt\" and assign the file to \"file\"\n",
    "#with open('datasets/alice.txt') as file:\n",
    "with open('datasets/alice.txt', encoding='utf-8') as file:\n",
    "    text = file.read()\n",
    "\n",
    "n = 0\n",
    "for word in text.split():\n",
    "    if word.lower() in ['cat', 'cats']:\n",
    "        n += 1\n",
    "\n",
    "print('Lewis Carroll uses the word \"cat\" {} times'.format(n))"
   ]
  },
  {
   "cell_type": "code",
   "execution_count": 2,
   "metadata": {},
   "outputs": [
    {
     "name": "stdout",
     "output_type": "stream",
     "text": [
      "Numpy version\n",
      "Processing..........done!\n",
      "Elapsed: 1.59 seconds\n",
      "Pytorch version\n",
      "Processing..........done!\n",
      "Elapsed: 0.46 seconds\n"
     ]
    }
   ],
   "source": [
    "#The speed of cats\n",
    "\n",
    "import numpy as np\n",
    "import contextlib\n",
    "import time\n",
    "\n",
    "def get_image_from_instagram():\n",
    "    return np.random.rand(84, 84)\n",
    "\n",
    "@contextlib.contextmanager\n",
    "def timer():\n",
    "    \"\"\"Time how long code in the context block takes to run.\"\"\"\n",
    "    t0 = time.time()\n",
    "    try:\n",
    "        yield\n",
    "    except:\n",
    "        raise\n",
    "    finally:\n",
    "        t1 = time.time()\n",
    "        print('Elapsed: {:.2f} seconds'.format(t1 - t0))\n",
    "\n",
    "def _process_pic(n_sec):\n",
    "    print('Processing', end='', flush=True) #flush=True -> No guarda la salida en el buffer\n",
    "    for i in range(10):\n",
    "        print('.', end='' if i < 9 else 'done!\\n', flush=True)\n",
    "        time.sleep(n_sec)\n",
    "\n",
    "def process_with_numpy(p):\n",
    "    _process_pic(0.1521)\n",
    "\n",
    "def process_with_pytorch(p):\n",
    "    _process_pic(0.0328)\n",
    "\n",
    "#You're working on a new web service that processes Instagram feeds to identify which pictures contain cats (don't ask why -- \n",
    "#it's the internet). The code that processes the data is slower than you would like it to be, so you are working on tuning it up\n",
    "#to run faster. Given an image, image, you have two functions that can process it:\n",
    "\n",
    "#process_with_numpy(image)\n",
    "#process_with_pytorch(image)\n",
    "\n",
    "#Your colleague wrote a context manager, timer(), that will print out how long the code inside the context block takes to run.\n",
    "#She is suggesting you use it to see which of the two options is faster. Time each function to determine which one to use in\n",
    "#your web service.\n",
    "\n",
    "image = get_image_from_instagram()\n",
    "\n",
    "# Time how long process_with_numpy(image) takes to run\n",
    "with timer():\n",
    "    print('Numpy version')\n",
    "    process_with_numpy(image)\n",
    "\n",
    "# Time how long process_with_pytorch(image) takes to run\n",
    "with timer():\n",
    "    print('Pytorch version')\n",
    "    process_with_pytorch(image)"
   ]
  },
  {
   "cell_type": "code",
   "execution_count": 3,
   "metadata": {},
   "outputs": [
    {
     "name": "stdout",
     "output_type": "stream",
     "text": [
      "This should take approximately 0.25 seconds\n",
      "Elapsed: 0.26s\n"
     ]
    }
   ],
   "source": [
    "#The timer() context manager\n",
    "\n",
    "import contextlib\n",
    "import time\n",
    "\n",
    "#A colleague of yours is working on a web service that processes Instagram photos. Customers are complaining that the service\n",
    "#takes too long to identify whether or not an image has a cat in it, so your colleague has come to you for help. You decide to\n",
    "#write a context manager that they can use to time how long their functions take to run.\n",
    "\n",
    "# Add a decorator that will make timer() a context manager\n",
    "@contextlib.contextmanager\n",
    "def timer():\n",
    "    \"\"\"Time the execution of a context block.\n",
    "\n",
    "    Yields:\n",
    "        None\n",
    "    \"\"\"\n",
    "    start = time.time()\n",
    "    # Send control back to the context block\n",
    "    yield\n",
    "    end = time.time()\n",
    "    print('Elapsed: {:.2f}s'.format(end - start))\n",
    "\n",
    "with timer():\n",
    "    print('This should take approximately 0.25 seconds')\n",
    "    time.sleep(0.25)"
   ]
  },
  {
   "cell_type": "code",
   "execution_count": 4,
   "metadata": {},
   "outputs": [
    {
     "name": "stdout",
     "output_type": "stream",
     "text": [
      "Congratulations! You wrote a context manager that acts like \"open()\" but operates in read-only mode!\n"
     ]
    }
   ],
   "source": [
    "#A read-only open() context manager\n",
    "\n",
    "import contextlib\n",
    "\n",
    "#You have a bunch of data files for your next deep learning project that took you months to collect and clean. It would be\n",
    "#terrible if you accidentally overwrote one of those files when trying to read it in for training, so you decide to create a\n",
    "#read-only version of the open() context manager to use in your project.\n",
    "\n",
    "#The regular open() context manager:\n",
    "\n",
    "#- takes a filename and a mode ('r' for read, 'w' for write, or 'a' for append)\n",
    "#- opens the file for reading, writing, or appending\n",
    "#- yields control back to the context, along with a reference to the file\n",
    "#- waits for the context to finish\n",
    "#- and then closes the file before exiting\n",
    "\n",
    "#Your context manager will do the same thing, except it will only take the filename as an argument and it will only open the\n",
    "#file for reading.\n",
    "\n",
    "@contextlib.contextmanager\n",
    "def open_read_only(filename):\n",
    "    \"\"\"Open a file in read-only mode.\n",
    "\n",
    "    Args:\n",
    "        filename (str): The location of the file to read\n",
    "\n",
    "    Yields:\n",
    "        file object\n",
    "    \"\"\"\n",
    "    read_only_file = open(filename, mode='r')\n",
    "    # Yield read_only_file so it can be assigned to my_file\n",
    "    yield read_only_file\n",
    "    # Close read_only_file\n",
    "    read_only_file.close()\n",
    "\n",
    "with open_read_only('datasets/my_file.txt') as my_file:\n",
    "    print(my_file.read())"
   ]
  },
  {
   "cell_type": "code",
   "execution_count": 5,
   "metadata": {},
   "outputs": [],
   "source": [
    "#Context manager use cases\n",
    "\n",
    "#Which of the following would NOT be a good opportunity to use a context manager?\n",
    "\n",
    "#Possible Answers\n",
    "\n",
    "#A function that starts a timer that keeps track of how long some block of code takes to run.\n",
    "\n",
    "#A function that prints all of the prime numbers between 2 and some value n.\n",
    "\n",
    "#A function that connects to a smart thermostat so that it can be programmed remotely.\n",
    "\n",
    "#A function that prevents multiple users from updating an online spreadsheet at the same time by locking access to the\n",
    "#spreadsheet before every operation."
   ]
  },
  {
   "cell_type": "code",
   "execution_count": 6,
   "metadata": {},
   "outputs": [
    {
     "name": "stdout",
     "output_type": "stream",
     "text": [
      "Opening stock ticker for NVDA\n",
      "Logging $140.26 for NVDA\n",
      "Logging $140.24 for NVDA\n",
      "Logging $140.21 for NVDA\n",
      "Logging $140.26 for NVDA\n",
      "Logging $140.28 for NVDA\n",
      "Logging $140.29 for NVDA\n",
      "Logging $140.21 for NVDA\n",
      "Logging $140.28 for NVDA\n",
      "Logging $140.21 for NVDA\n",
      "Logging $140.18 for NVDA\n",
      "Closing stock ticker\n"
     ]
    }
   ],
   "source": [
    "#Scraping the NASDAQ\n",
    "\n",
    "import numpy as np\n",
    "import contextlib\n",
    "\n",
    "class MockStock:\n",
    "    def __init__(self, loc, scale):\n",
    "        self.loc = loc\n",
    "        self.scale = scale\n",
    "        self.recent = list(np.random.laplace(loc, scale, 2))\n",
    "    \n",
    "    def price(self):\n",
    "        sign = np.sign(self.recent[1] - self.recent[0])\n",
    "        # 70% chance of going same direction\n",
    "        sign = 1 if sign == 0 else (sign if np.random.rand() > 0.3 else -1 * sign)\n",
    "        new = self.recent[1] + sign * np.random.rand() / 10.0\n",
    "        self.recent = [self.recent[1], new]\n",
    "        return new\n",
    "\n",
    "@contextlib.contextmanager\n",
    "def stock(symbol):\n",
    "    base = 140.00\n",
    "    scale = 1.0\n",
    "    mock = MockStock(base, scale)\n",
    "    print('Opening stock ticker for {}'.format(symbol))\n",
    "    yield mock\n",
    "    print('Closing stock ticker')\n",
    "\n",
    "\n",
    "#Training deep neural nets is expensive! You might as well invest in NVIDIA stock since you're spending so much on GPUs. To pick\n",
    "#the best time to invest, you are going to collect and analyze some data on how their stock is doing. The context manager\n",
    "#stock('NVDA') will connect to the NASDAQ and return an object that you can use to get the latest price by calling its .price()\n",
    "#method.\n",
    "\n",
    "#You want to connect to stock('NVDA') and record 10 timesteps of price data by writing it to the file NVDA.txt.\n",
    "\n",
    "#You will notice the use of an underscore when iterating over the for loop. If this is confusing to you, don't worry. It could\n",
    "#easily be replaced with i, if we planned to do something with it, like use it as an index. Since we won't be using it, we can\n",
    "#use a dummy operator, _, which doesn't use any additional memory.\n",
    "\n",
    "# Use the \"stock('NVDA')\" context manager\n",
    "# and assign the result to the variable \"nvda\"\n",
    "with stock('NVDA') as nvda:\n",
    "    # Open \"NVDA.txt\" for writing as f_out\n",
    "    with open('datasets/NVDA.txt', 'w') as f_out:\n",
    "        for _ in range(10):\n",
    "            value = nvda.price()\n",
    "            print('Logging ${:.2f} for NVDA'.format(value))\n",
    "            f_out.write('{:.2f}\\n'.format(value))"
   ]
  },
  {
   "cell_type": "code",
   "execution_count": 7,
   "metadata": {},
   "outputs": [],
   "source": [
    "#Changing the working directory\n",
    "\n",
    "import contextlib\n",
    "import os\n",
    "\n",
    "#You are using an open-source library that lets you train deep neural networks on your data. Unfortunately, during training,\n",
    "#this library writes out checkpoint models (i.e., models that have been trained on a portion of the data) to the current working\n",
    "#directory. You find that behavior frustrating because you don't want to have to launch the script from the directory where the\n",
    "#models will be saved.\n",
    "\n",
    "#You decide that one way to fix this is to write a context manager that changes the current working directory, lets you build\n",
    "#your models, and then resets the working directory to its original location. You'll want to be sure that any errors that occur\n",
    "#during model training don't prevent you from resetting the working directory to its original location.\n",
    "\n",
    "@contextlib.contextmanager\n",
    "def in_dir(directory):\n",
    "    \"\"\"Change current working directory to `directory`,\n",
    "    allow the user to run some code, and change back.\n",
    "\n",
    "    Args:\n",
    "        directory (str): The path to a directory to work in.\n",
    "    \"\"\"\n",
    "    current_dir = os.getcwd()\n",
    "    os.chdir(directory)\n",
    "\n",
    "    # Add code that lets you handle errors\n",
    "    try:\n",
    "        yield\n",
    "    # Ensure the directory is reset,\n",
    "    # whether there was an error or not\n",
    "    finally:\n",
    "        os.chdir(current_dir)"
   ]
  },
  {
   "cell_type": "code",
   "execution_count": 8,
   "metadata": {},
   "outputs": [
    {
     "data": {
      "text/plain": [
       "'D:\\\\Users\\\\ASUS\\\\Data Challenge 365 Fem - DataCamp\\\\Data Scientist with Python\\\\Course 14 - Writing Functions in Python'"
      ]
     },
     "execution_count": 8,
     "metadata": {},
     "output_type": "execute_result"
    }
   ],
   "source": [
    "os.getcwd()"
   ]
  },
  {
   "cell_type": "code",
   "execution_count": 9,
   "metadata": {},
   "outputs": [
    {
     "name": "stdout",
     "output_type": "stream",
     "text": [
      "D:\\Users\\ASUS\\Data Challenge 365 Fem - DataCamp\\Data Scientist with Python\\Course 14 - Writing Functions in Python\\datasets\n"
     ]
    }
   ],
   "source": [
    "with in_dir('datasets'):\n",
    "    print(os.getcwd())"
   ]
  },
  {
   "cell_type": "code",
   "execution_count": 10,
   "metadata": {},
   "outputs": [
    {
     "data": {
      "text/plain": [
       "'D:\\\\Users\\\\ASUS\\\\Data Challenge 365 Fem - DataCamp\\\\Data Scientist with Python\\\\Course 14 - Writing Functions in Python'"
      ]
     },
     "execution_count": 10,
     "metadata": {},
     "output_type": "execute_result"
    }
   ],
   "source": [
    "os.getcwd()"
   ]
  },
  {
   "cell_type": "code",
   "execution_count": null,
   "metadata": {},
   "outputs": [],
   "source": []
  }
 ],
 "metadata": {
  "kernelspec": {
   "display_name": "Python 3",
   "language": "python",
   "name": "python3"
  },
  "language_info": {
   "codemirror_mode": {
    "name": "ipython",
    "version": 3
   },
   "file_extension": ".py",
   "mimetype": "text/x-python",
   "name": "python",
   "nbconvert_exporter": "python",
   "pygments_lexer": "ipython3",
   "version": "3.7.6"
  }
 },
 "nbformat": 4,
 "nbformat_minor": 4
}
