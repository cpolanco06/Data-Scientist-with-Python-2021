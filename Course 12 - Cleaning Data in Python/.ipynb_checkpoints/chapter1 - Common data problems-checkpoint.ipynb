{
 "cells": [
  {
   "cell_type": "code",
   "execution_count": 1,
   "metadata": {},
   "outputs": [],
   "source": [
    "#Common data types\n",
    "\n",
    "#Manipulating and analyzing data with incorrect data types could lead to compromised analysis as you go along the data science\n",
    "#workflow.\n",
    "\n",
    "#When working with new data, you should always check the data types of your columns using the .dtypes attribute or the .info()\n",
    "#method which you'll see in the next exercise. Often times, you'll run into columns that should be converted to different data\n",
    "#types before starting any analysis.\n",
    "\n",
    "#In this exercise, you'll first identify different types of data and correctly map them to their respective types.\n",
    "\n",
    "#Drag the items into the correct bucket\n",
    "\n",
    "#    Numeric data types                          Text                          Dates\n",
    "\n",
    "#Number of points on customer          City of residence                 Birthdates of clients\n",
    "#loyalty card\n",
    "\n",
    "#Salary earned monthly                 Shipping address of a customer    Order date of a product\n",
    "\n",
    "#Number of items bought in a basket    First name"
   ]
  },
  {
   "cell_type": "code",
   "execution_count": 2,
   "metadata": {},
   "outputs": [
    {
     "name": "stdout",
     "output_type": "stream",
     "text": [
      "<class 'pandas.core.frame.DataFrame'>\n",
      "Int64Index: 25760 entries, 0 to 25759\n",
      "Data columns (total 9 columns):\n",
      " #   Column           Non-Null Count  Dtype \n",
      "---  ------           --------------  ----- \n",
      " 0   duration         25760 non-null  object\n",
      " 1   station_A_id     25760 non-null  int64 \n",
      " 2   station_A_name   25760 non-null  object\n",
      " 3   station_B_id     25760 non-null  int64 \n",
      " 4   station_B_name   25760 non-null  object\n",
      " 5   bike_id          25760 non-null  int64 \n",
      " 6   user_type        25760 non-null  int64 \n",
      " 7   user_birth_year  25760 non-null  int64 \n",
      " 8   user_gender      25760 non-null  object\n",
      "dtypes: int64(5), object(4)\n",
      "memory usage: 2.0+ MB\n",
      "None \n",
      "\n",
      "count    25760.000000\n",
      "mean         2.008385\n",
      "std          0.704541\n",
      "min          1.000000\n",
      "25%          2.000000\n",
      "50%          2.000000\n",
      "75%          3.000000\n",
      "max          3.000000\n",
      "Name: user_type, dtype: float64\n"
     ]
    }
   ],
   "source": [
    "#Numeric data or ... ?\n",
    "\n",
    "import pandas as pd\n",
    "ride_sharing = pd.read_csv('datasets/ride_sharing_new.csv', index_col=0)\n",
    "\n",
    "#In this exercise, and throughout this chapter, you'll be working with bicycle ride sharing data in San Francisco called\n",
    "#ride_sharing. It contains information on the start and end stations, the trip duration, and some user information for a bike\n",
    "#sharing service.\n",
    "\n",
    "#The user_type column contains information on whether a user is taking a free ride and takes on the following values:\n",
    "\n",
    "#1 for free riders.\n",
    "#2 for pay per ride.\n",
    "#3 for monthly subscribers.\n",
    "\n",
    "#In this instance, you will print the information of ride_sharing using .info() and see a firsthand example of how an incorrect\n",
    "#data type can flaw your analysis of the dataset. The pandas package is imported as pd.\n",
    "\n",
    "# Print the information of ride_sharing\n",
    "print(ride_sharing.info(), '\\n')\n",
    "\n",
    "# Print summary statistics of user_type column\n",
    "print(ride_sharing['user_type'].describe())"
   ]
  },
  {
   "cell_type": "code",
   "execution_count": 3,
   "metadata": {},
   "outputs": [],
   "source": [
    "#Question\n",
    "\n",
    "#By looking at the summary statistics - they don't really seem to offer much description on how users are distributed along\n",
    "#their purchase type, why do you think that is?\n",
    "\n",
    "#Possible Answers\n",
    "\n",
    "#The user_type column is not of the correct type, it should be converted to str.\n",
    "\n",
    "#The user_type column has an infinite set of possible values, it should be converted to category.\n",
    "\n",
    "#The user_type column has an finite set of possible values that represent groupings of data, it should be converted to\n",
    "#category.*"
   ]
  },
  {
   "cell_type": "code",
   "execution_count": 4,
   "metadata": {},
   "outputs": [
    {
     "name": "stdout",
     "output_type": "stream",
     "text": [
      "count     25760\n",
      "unique        3\n",
      "top           2\n",
      "freq      12972\n",
      "Name: user_type_cat, dtype: int64\n"
     ]
    }
   ],
   "source": [
    "# Convert user_type from integer to category\n",
    "ride_sharing['user_type_cat'] = ride_sharing['user_type'].astype('category')\n",
    "\n",
    "# Write an assert statement confirming the change\n",
    "assert ride_sharing['user_type_cat'].dtype == 'category'\n",
    "\n",
    "# Print new summary statistics \n",
    "print(ride_sharing['user_type_cat'].describe())"
   ]
  },
  {
   "cell_type": "code",
   "execution_count": 5,
   "metadata": {},
   "outputs": [
    {
     "name": "stdout",
     "output_type": "stream",
     "text": [
      "         duration duration_trim  duration_time\n",
      "0      12 minutes           12              12\n",
      "1      24 minutes           24              24\n",
      "2       8 minutes            8               8\n",
      "3       4 minutes            4               4\n",
      "4      11 minutes           11              11\n",
      "...           ...           ...            ...\n",
      "25755  11 minutes           11              11\n",
      "25756  10 minutes           10              10\n",
      "25757  14 minutes           14              14\n",
      "25758  14 minutes           14              14\n",
      "25759  29 minutes           29              29\n",
      "\n",
      "[25760 rows x 3 columns] \n",
      "\n",
      "11.389052795031056\n"
     ]
    }
   ],
   "source": [
    "#Summing strings and concatenating numbers\n",
    "\n",
    "#In the previous exercise, you were able to identify that category is the correct data type for user_type and convert it in\n",
    "#order to extract relevant statistical summaries that shed light on the distribution of user_type.\n",
    "\n",
    "#Another common data type problem is importing what should be numerical values as strings, as mathematical operations such as\n",
    "#summing and multiplication lead to string concatenation, not numerical outputs.\n",
    "\n",
    "#In this exercise, you'll be converting the string column duration to the type int. Before that however, you will need to make\n",
    "#sure to strip \"minutes\" from the column in order to make sure pandas reads it as numerical. The pandas package has been\n",
    "#imported as pd.\n",
    "\n",
    "# Strip duration of minutes\n",
    "ride_sharing['duration_trim'] = ride_sharing['duration'].str.strip('minutes')\n",
    "\n",
    "# Convert duration to integer\n",
    "ride_sharing['duration_time'] = ride_sharing['duration_trim'].astype('int')\n",
    "\n",
    "# Write an assert statement making sure of conversion\n",
    "assert ride_sharing['duration_time'].dtype == 'int'\n",
    "\n",
    "# Print formed columns and calculate average ride duration \n",
    "print(ride_sharing[['duration','duration_trim','duration_time']], '\\n')\n",
    "print(ride_sharing['duration_time'].mean())"
   ]
  },
  {
   "cell_type": "code",
   "execution_count": 6,
   "metadata": {},
   "outputs": [
    {
     "name": "stdout",
     "output_type": "stream",
     "text": [
      "count     25760\n",
      "unique        2\n",
      "top          27\n",
      "freq      13274\n",
      "Name: tire_sizes, dtype: int64\n"
     ]
    }
   ],
   "source": [
    "#Tire size constraints\n",
    "\n",
    "import pandas as pd\n",
    "ride_sharing = pd.read_csv('datasets/ride_sharing_tire.csv')\n",
    "\n",
    "#In this lesson, you're going to build on top of the work you've been doing with the ride_sharing DataFrame. You'll be working\n",
    "#with the tire_sizes column which contains data on each bike's tire size.\n",
    "\n",
    "#Bicycle tire sizes could be either 26″, 27″ or 29″ and are here correctly stored as a categorical value. In an effort to cut\n",
    "#maintenance costs, the ride sharing provider decided to set the maximum tire size to be 27″.\n",
    "\n",
    "#In this exercise, you will make sure the tire_sizes column has the correct range by first converting it to an integer, then\n",
    "#setting and testing the new upper limit of 27″ for tire sizes.\n",
    "\n",
    "# Convert tire_sizes to integer\n",
    "ride_sharing['tire_sizes'] = ride_sharing['tire_sizes'].astype('int')\n",
    "\n",
    "# Set all values above 27 to 27\n",
    "ride_sharing.loc[ride_sharing['tire_sizes'] > 27, 'tire_sizes'] = 27\n",
    "\n",
    "# Reconvert tire_sizes back to categorical\n",
    "ride_sharing['tire_sizes'] = ride_sharing['tire_sizes'].astype('category')\n",
    "\n",
    "# Print tire size description\n",
    "print(ride_sharing['tire_sizes'].describe())"
   ]
  },
  {
   "cell_type": "code",
   "execution_count": 7,
   "metadata": {},
   "outputs": [
    {
     "name": "stdout",
     "output_type": "stream",
     "text": [
      "2021-06-08 00:00:00\n"
     ]
    }
   ],
   "source": [
    "#Back to the future\n",
    "\n",
    "import pandas as pd\n",
    "ride_sharing = pd.read_csv('datasets/ride_sharing_date.csv')\n",
    "ride_sharing['tire_sizes'] = ride_sharing['tire_sizes'].astype('category')\n",
    "import datetime as dt\n",
    "\n",
    "#A new update to the data pipeline feeding into the ride_sharing DataFrame has been updated to register each ride's date. This\n",
    "#information is stored in the ride_date column of the type object, which represents strings in pandas.\n",
    "\n",
    "#A bug was discovered which was relaying rides taken today as taken next year. To fix this, you will find all instances of the\n",
    "#ride_date column that occur anytime in the future, and set the maximum possible value of this column to today's date. Before\n",
    "#doing so, you would need to convert ride_date to a datetime object.\n",
    "\n",
    "#The datetime package has been imported as dt, alongside all the packages you've been using till now.\n",
    "\n",
    "# Convert ride_date to datetime\n",
    "ride_sharing['ride_dt'] = pd.to_datetime(ride_sharing['ride_date'])\n",
    "\n",
    "# Save today's date\n",
    "#today = dt.date.today()\n",
    "today = pd.Timestamp('today').floor('D')\n",
    "\n",
    "# Set all in the future to today's date\n",
    "ride_sharing.loc[ride_sharing['ride_dt'] > today, 'ride_dt'] = today\n",
    "#ride_sharing.loc[ride_sharing['ride_dt'].dt.date > today, 'ride_dt'] = today\n",
    "\n",
    "# Print maximum of ride_dt column\n",
    "print(ride_sharing['ride_dt'].max())"
   ]
  },
  {
   "cell_type": "code",
   "execution_count": 8,
   "metadata": {},
   "outputs": [],
   "source": [
    "#How big is your subset?\n",
    "\n",
    "#You have the following loans DataFrame which contains loan and credit score data for consumers, and some metadata such as their\n",
    "#first and last names. You want to find both complete and incomplete duplicates using .duplicated().\n",
    "\n",
    "#first_name    last_name      credit_score    has_loan\n",
    "#Justin        Saddlemeyer    600             1\n",
    "#Hadrien       Lacroix        450             0\n",
    "\n",
    "#Choose the correct usage of .duplicated() below:\n",
    "\n",
    "#Possible Answers\n",
    "\n",
    "#loans.duplicated()\n",
    "#  Because the default method returns both complete and incomplete duplicates.\n",
    "\n",
    "#loans.duplicated(subset = 'first_name')\n",
    "#  Because constraining the duplicate rows to the first name lets me find incomplete duplicates as well.\n",
    "\n",
    "#loans.duplicated(subset = ['first_name', 'last_name'], keep = False)*\n",
    "#  Because subsetting on consumer metadata and not discarding any duplicate returns all duplicated rows.\n",
    "\n",
    "#loans.duplicated(subset = ['first_name', 'last_name'], keep = 'first')\n",
    "#  Because this drops all duplicates."
   ]
  },
  {
   "cell_type": "code",
   "execution_count": 9,
   "metadata": {},
   "outputs": [
    {
     "name": "stdout",
     "output_type": "stream",
     "text": [
      "    ride_id  duration  user_birth_year\n",
      "22       33        10             1979\n",
      "39       33         2             1979\n",
      "53       55         9             1985\n",
      "65       55         9             1985\n",
      "74       71        11             1997\n",
      "75       71        11             1997\n",
      "76       89         9             1986\n",
      "77       89         9             2060\n"
     ]
    }
   ],
   "source": [
    "#Finding duplicates\n",
    "\n",
    "import pandas as pd\n",
    "ride_sharing = pd.read_csv('datasets/ride_sharing_id.csv')\n",
    "ride_sharing['tire_sizes'] = ride_sharing['tire_sizes'].astype('category')\n",
    "\n",
    "#A new update to the data pipeline feeding into ride_sharing has added the ride_id column, which represents a unique identifier\n",
    "#for each ride.\n",
    "\n",
    "#The update however coincided with radically shorter average ride duration times and irregular user birth dates set in the\n",
    "#future. Most importantly, the number of rides taken has increased by 20% overnight, leading you to think there might be both\n",
    "#complete and incomplete duplicates in the ride_sharing DataFrame.\n",
    "\n",
    "#In this exercise, you will confirm this suspicion by finding those duplicates. A sample of ride_sharing is in your environment,\n",
    "#as well as all the packages you've been working with thus far.\n",
    "\n",
    "# Find duplicates\n",
    "duplicates = ride_sharing.duplicated(subset='ride_id', keep=False)\n",
    "\n",
    "# Sort your duplicated rides\n",
    "duplicated_rides = ride_sharing[duplicates].sort_values('ride_id')\n",
    "\n",
    "# Print relevant columns of duplicated_rides\n",
    "print(duplicated_rides[['ride_id','duration','user_birth_year']])"
   ]
  },
  {
   "cell_type": "code",
   "execution_count": 10,
   "metadata": {},
   "outputs": [],
   "source": [
    "#Treating duplicates\n",
    "\n",
    "#In the last exercise, you were able to verify that the new update feeding into ride_sharing contains a bug generating both\n",
    "#complete and incomplete duplicated rows for some values of the ride_id column, with occasional discrepant values for the\n",
    "#user_birth_year and duration columns.\n",
    "\n",
    "#In this exercise, you will be treating those duplicated rows by first dropping complete duplicates, and then merging the\n",
    "#incomplete duplicate rows into one while keeping the average duration, and the minimum user_birth_year for each set of\n",
    "#incomplete duplicate rows.\n",
    "\n",
    "# Drop complete duplicates from ride_sharing\n",
    "ride_dup = ride_sharing.drop_duplicates()\n",
    "\n",
    "# Create statistics dictionary for aggregation function\n",
    "statistics = {'user_birth_year': 'min', 'duration': 'mean'}\n",
    "\n",
    "# Group by ride_id and compute new statistics\n",
    "ride_unique = ride_dup.groupby('ride_id').agg(statistics).reset_index()\n",
    "\n",
    "# Find duplicated values again\n",
    "duplicates = ride_unique.duplicated(subset = 'ride_id', keep = False)\n",
    "duplicated_rides = ride_unique[duplicates == True]\n",
    "\n",
    "# Assert duplicates are processed\n",
    "assert duplicated_rides.shape[0] == 0"
   ]
  },
  {
   "cell_type": "code",
   "execution_count": null,
   "metadata": {},
   "outputs": [],
   "source": []
  }
 ],
 "metadata": {
  "kernelspec": {
   "display_name": "Python 3",
   "language": "python",
   "name": "python3"
  },
  "language_info": {
   "codemirror_mode": {
    "name": "ipython",
    "version": 3
   },
   "file_extension": ".py",
   "mimetype": "text/x-python",
   "name": "python",
   "nbconvert_exporter": "python",
   "pygments_lexer": "ipython3",
   "version": "3.7.6"
  }
 },
 "nbformat": 4,
 "nbformat_minor": 4
}
