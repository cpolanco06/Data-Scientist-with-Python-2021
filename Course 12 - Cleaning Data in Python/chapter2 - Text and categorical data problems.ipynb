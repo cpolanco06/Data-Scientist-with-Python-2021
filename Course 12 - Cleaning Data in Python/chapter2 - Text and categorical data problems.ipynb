{
 "cells": [
  {
   "cell_type": "code",
   "execution_count": 1,
   "metadata": {},
   "outputs": [],
   "source": [
    "#Members only\n",
    "\n",
    "#Throughout the course so far, you've been exposed to some common problems that you may encounter with your data, from data type\n",
    "#constraints, data range constrains, uniqueness constraints, and now membership constraints for categorical values.\n",
    "\n",
    "#In this exercise, you will map hypothetical problems to their respective categories.\n",
    "\n",
    "#Drag the items into the correct bucket\n",
    "\n",
    "#Membership Constraint                                Other Constraint\n",
    "\n",
    "#A month column with the value 14.                    A age column with values above 130.\n",
    "#A has_loan column with the value 12.                 A revenue column represented as a string.\n",
    "#A day_of_week column with the value Suntermonday.    A birthdate column with values in the future.\n",
    "#A GPA column containing a Z- grade."
   ]
  },
  {
   "cell_type": "code",
   "execution_count": 2,
   "metadata": {},
   "outputs": [
    {
     "name": "stdout",
     "output_type": "stream",
     "text": [
      "      cleanliness           safety          satisfaction\n",
      "0           Clean          Neutral        Very satisfied\n",
      "1         Average        Very safe               Neutral\n",
      "2  Somewhat clean    Somewhat safe    Somewhat satisfied\n",
      "3  Somewhat dirty      Very unsafe  Somewhat unsatisfied\n",
      "4           Dirty  Somewhat unsafe      Very unsatisfied \n",
      "\n",
      "Cleanliness:  ['Clean', 'Average', 'Unacceptable', 'Somewhat clean', 'Somewhat dirty', 'Dirty']\n",
      "Categories (6, object): ['Clean', 'Average', 'Unacceptable', 'Somewhat clean', 'Somewhat dirty', 'Dirty'] \n",
      "\n",
      "Safety:  ['Neutral', 'Very safe', 'Somewhat safe', 'Very unsafe', 'Somewhat unsafe']\n",
      "Categories (5, object): ['Neutral', 'Very safe', 'Somewhat safe', 'Very unsafe', 'Somewhat unsafe'] \n",
      "\n",
      "Satisfaction:  ['Very satisfied', 'Neutral', 'Somewhat satsified', 'Somewhat unsatisfied', 'Very unsatisfied']\n",
      "Categories (5, object): ['Very satisfied', 'Neutral', 'Somewhat satsified', 'Somewhat unsatisfied', 'Very unsatisfied'] \n",
      "\n"
     ]
    }
   ],
   "source": [
    "#Finding consistency\n",
    "\n",
    "import pandas as pd\n",
    "airlines = pd.read_csv('datasets/airlines_final.csv', index_col=0)\n",
    "airlines.loc[4, 'cleanliness'] = 'Unacceptable'\n",
    "airlines.loc[18, 'cleanliness'] = 'Unacceptable'\n",
    "airlines.loc[100, 'cleanliness'] = 'Unacceptable'\n",
    "airlines['cleanliness'] = airlines['cleanliness'].astype('category')\n",
    "airlines['safety'] = airlines['safety'].astype('category')\n",
    "airlines['satisfaction'] = airlines['satisfaction'].astype('category')\n",
    "categories = pd.read_csv('datasets/categories.csv')\n",
    "\n",
    "#In this exercise and throughout this chapter, you'll be working with the airlines DataFrame which contains survey responses on\n",
    "#the San Francisco Airport from airline customers.\n",
    "\n",
    "#The DataFrame contains flight metadata such as the airline, the destination, waiting times as well as answers to key questions\n",
    "#regarding cleanliness, safety, and satisfaction. Another DataFrame named categories was created, containing all correct\n",
    "#possible values for the survey columns.\n",
    "\n",
    "#In this exercise, you will use both of these DataFrames to find survey answers with inconsistent values, and drop them,\n",
    "#effectively performing an outer and inner join on both these DataFrames as seen in the video exercise. The pandas package has\n",
    "#been imported as pd, and the airlines and categories DataFrames are in your environment.\n",
    "\n",
    "# Print categories DataFrame\n",
    "print(categories, '\\n')\n",
    "\n",
    "# Print unique values of survey columns in airlines\n",
    "print('Cleanliness: ', airlines['cleanliness'].unique(), \"\\n\")\n",
    "print('Safety: ', airlines['safety'].unique(), \"\\n\")\n",
    "print('Satisfaction: ', airlines['satisfaction'].unique(), \"\\n\")"
   ]
  },
  {
   "cell_type": "code",
   "execution_count": 3,
   "metadata": {},
   "outputs": [],
   "source": [
    "#Question\n",
    "\n",
    "#Take a look at the output. Out of the cleanliness, safety and satisfaction columns, which one has an inconsistent category and\n",
    "#what is it?\n",
    "\n",
    "#Possible Answers\n",
    "\n",
    "#cleanliness because it has an Unacceptable category.*\n",
    "\n",
    "#cleanliness because it has a Terribly dirty category.\n",
    "\n",
    "#satisfaction because it has a Very satisfied category.\n",
    "\n",
    "#safety because it has a Neutral category."
   ]
  },
  {
   "cell_type": "code",
   "execution_count": 4,
   "metadata": {},
   "outputs": [
    {
     "name": "stdout",
     "output_type": "stream",
     "text": [
      "       id        day           airline  destination  dest_region dest_size  \\\n",
      "4    2992  Wednesday          AMERICAN        MIAMI      East US       Hub   \n",
      "18   2913     Friday  TURKISH AIRLINES     ISTANBUL  Middle East       Hub   \n",
      "100  2321  Wednesday         SOUTHWEST  LOS ANGELES      West US       Hub   \n",
      "\n",
      "    boarding_area   dept_time  wait_min   cleanliness         safety  \\\n",
      "4     Gates 50-59  2018-12-31     559.0  Unacceptable      Very safe   \n",
      "18   Gates 91-102  2018-12-31     225.0  Unacceptable      Very safe   \n",
      "100   Gates 20-39  2018-12-31     130.0  Unacceptable  Somewhat safe   \n",
      "\n",
      "           satisfaction  \n",
      "4    Somewhat satsified  \n",
      "18   Somewhat satsified  \n",
      "100  Somewhat satsified   \n",
      "\n",
      "        id       day        airline        destination    dest_region  \\\n",
      "0     1351   Tuesday    UNITED INTL             KANSAI           Asia   \n",
      "1      373    Friday         ALASKA  SAN JOSE DEL CABO  Canada/Mexico   \n",
      "2     2820  Thursday          DELTA        LOS ANGELES        West US   \n",
      "3     1157   Tuesday      SOUTHWEST        LOS ANGELES        West US   \n",
      "5      634  Thursday         ALASKA             NEWARK        East US   \n",
      "...    ...       ...            ...                ...            ...   \n",
      "2804  1475   Tuesday         ALASKA       NEW YORK-JFK        East US   \n",
      "2805  2222  Thursday      SOUTHWEST            PHOENIX        West US   \n",
      "2806  2684    Friday         UNITED            ORLANDO        East US   \n",
      "2807  2549   Tuesday        JETBLUE         LONG BEACH        West US   \n",
      "2808  2162  Saturday  CHINA EASTERN            QINGDAO           Asia   \n",
      "\n",
      "     dest_size boarding_area   dept_time  wait_min     cleanliness  \\\n",
      "0          Hub  Gates 91-102  2018-12-31     115.0           Clean   \n",
      "1        Small   Gates 50-59  2018-12-31     135.0           Clean   \n",
      "2          Hub   Gates 40-48  2018-12-31      70.0         Average   \n",
      "3          Hub   Gates 20-39  2018-12-31     190.0           Clean   \n",
      "5          Hub   Gates 50-59  2018-12-31     140.0  Somewhat clean   \n",
      "...        ...           ...         ...       ...             ...   \n",
      "2804       Hub   Gates 50-59  2018-12-31     280.0  Somewhat clean   \n",
      "2805       Hub   Gates 20-39  2018-12-31     165.0           Clean   \n",
      "2806       Hub   Gates 70-90  2018-12-31      92.0           Clean   \n",
      "2807     Small    Gates 1-12  2018-12-31      95.0           Clean   \n",
      "2808     Large    Gates 1-12  2018-12-31     220.0           Clean   \n",
      "\n",
      "             safety        satisfaction  \n",
      "0           Neutral      Very satisfied  \n",
      "1         Very safe      Very satisfied  \n",
      "2     Somewhat safe             Neutral  \n",
      "3         Very safe  Somewhat satsified  \n",
      "5         Very safe      Very satisfied  \n",
      "...             ...                 ...  \n",
      "2804        Neutral  Somewhat satsified  \n",
      "2805      Very safe      Very satisfied  \n",
      "2806      Very safe      Very satisfied  \n",
      "2807  Somewhat safe      Very satisfied  \n",
      "2808      Very safe  Somewhat satsified  \n",
      "\n",
      "[2474 rows x 12 columns]\n"
     ]
    }
   ],
   "source": [
    "# Find the cleanliness category in airlines not in categories\n",
    "cat_clean = set(airlines['cleanliness']).difference(categories['cleanliness'])\n",
    "\n",
    "# Find rows with that category\n",
    "cat_clean_rows = airlines['cleanliness'].isin(cat_clean)\n",
    "\n",
    "# Print rows with inconsistent category\n",
    "print(airlines[cat_clean_rows], '\\n')\n",
    "\n",
    "# Print rows with consistent categories only\n",
    "print(airlines[~cat_clean_rows]) #~ -> Devuelve todo excepto las filas inconsistentes (es decir, en este caso no devuelve las\n",
    "                                 #     filas con la categoria \"Unacceptable\" en la columna \"cleanliness\")"
   ]
  },
  {
   "cell_type": "code",
   "execution_count": 5,
   "metadata": {},
   "outputs": [],
   "source": [
    "#Categories of errors\n",
    "\n",
    "#In the video exercise, you saw how to address common problems affecting categorical variables in your data, including white\n",
    "#spaces and inconsistencies in your categories, and the problem of creating new categories and mapping existing ones to new\n",
    "#ones.\n",
    "\n",
    "#To get a better idea of the toolkit at your disposal, you will be mapping functions and methods from pandas and Python used to\n",
    "#address each type of problem.\n",
    "\n",
    "#Drag the items into the correct bucket\n",
    "\n",
    "#White spaces and inconsistency    Creating or remapping categories\n",
    "\n",
    "#.str.strip()                      pandas.cut()\n",
    "#.str.upper()                      .replace()\n",
    "#.str.lower()                      pandas.qcut()"
   ]
  },
  {
   "cell_type": "code",
   "execution_count": 6,
   "metadata": {},
   "outputs": [
    {
     "name": "stdout",
     "output_type": "stream",
     "text": [
      "['Asia' 'Canada/Mexico' 'West US' 'East US' 'Midwest US' 'EAST US'\n",
      " 'Middle East' 'Europe' 'eur' 'Central/South America'\n",
      " 'Australia/New Zealand' 'middle east'] \n",
      "\n",
      "['Hub' 'Small' '    Hub' 'Medium' 'Large' 'Hub     ' '    Small'\n",
      " 'Medium     ' '    Medium' 'Small     ' '    Large' 'Large     ']\n"
     ]
    }
   ],
   "source": [
    "#Inconsistent categories\n",
    "\n",
    "import pandas as pd\n",
    "airlines = pd.read_csv('datasets/airlines_final.csv', index_col=0)\n",
    "\n",
    "#In this exercise, you'll be revisiting the airlines DataFrame from the previous lesson.\n",
    "\n",
    "#As a reminder, the DataFrame contains flight metadata such as the airline, the destination, waiting times as well as answers to\n",
    "#key questions regarding cleanliness, safety, and satisfaction on the San Francisco Airport.\n",
    "\n",
    "#In this exercise, you will examine two categorical columns from this DataFrame, dest_region and dest_size respectively, assess\n",
    "#how to address them and make sure that they are cleaned and ready for analysis. The pandas package has been imported as pd, and\n",
    "#the airlines DataFrame is in your environment.\n",
    "\n",
    "# Print unique values of both columns\n",
    "print(airlines['dest_region'].unique(), '\\n')\n",
    "print(airlines['dest_size'].unique())"
   ]
  },
  {
   "cell_type": "code",
   "execution_count": 7,
   "metadata": {},
   "outputs": [],
   "source": [
    "#Question\n",
    "\n",
    "#From looking at the output, what do you think is the problem with these columns?\n",
    "\n",
    "#Possible Answers\n",
    "\n",
    "#The dest_region column has only inconsistent values due to capitalization.\n",
    "\n",
    "#The dest_region column has inconsistent values due to capitalization and has one value that needs to be remapped.\n",
    "\n",
    "#The dest_size column has only inconsistent values due to leading and trailing spaces.\n",
    "\n",
    "#Both 2 and 3 are correct.*"
   ]
  },
  {
   "cell_type": "code",
   "execution_count": 8,
   "metadata": {},
   "outputs": [
    {
     "name": "stdout",
     "output_type": "stream",
     "text": [
      "['asia' 'canada/mexico' 'west us' 'east us' 'midwest us' 'middle east'\n",
      " 'europe' 'central/south america' 'australia/new zealand'] \n",
      "\n",
      "['Hub' 'Small' 'Medium' 'Large']\n"
     ]
    }
   ],
   "source": [
    "# Lower dest_region column and then replace \"eur\" with \"europe\"\n",
    "airlines['dest_region'] = airlines['dest_region'].str.lower() \n",
    "airlines['dest_region'] = airlines['dest_region'].replace({'eur':'europe'})\n",
    "\n",
    "# Remove white spaces from `dest_size`\n",
    "airlines['dest_size'] = airlines['dest_size'].str.strip()\n",
    "\n",
    "# Verify changes have been effected\n",
    "print(airlines['dest_region'].unique(), '\\n')\n",
    "print(airlines['dest_size'].unique())"
   ]
  },
  {
   "cell_type": "code",
   "execution_count": 9,
   "metadata": {},
   "outputs": [],
   "source": [
    "#Remapping categories\n",
    "\n",
    "import pandas as pd\n",
    "airlines = pd.read_csv('datasets/airlines_final.csv', index_col=0)\n",
    "airlines['day'] = airlines['day'].astype('category')\n",
    "import numpy as np\n",
    "\n",
    "#To better understand survey respondents from airlines, you want to find out if there is a relationship between certain\n",
    "#responses and the day of the week and wait time at the gate.\n",
    "\n",
    "#The airlines DataFrame contains the day and wait_min columns, which are categorical and numerical respectively. The day column\n",
    "#contains the exact day a flight took place, and wait_min contains the amount of minutes it took travelers to wait at the gate.\n",
    "#To make your analysis easier, you want to create two new categorical variables:\n",
    "\n",
    "#wait_type: 'short' for 0-60 min, 'medium' for 60-180 and long for 180+\n",
    "#day_week: 'weekday' if day is in the weekday, 'weekend' if day is in the weekend.\n",
    "\n",
    "#The pandas and numpy packages have been imported as pd and np. Let's create some new categorical data!\n",
    "\n",
    "# Create ranges for categories\n",
    "label_ranges = [0, 60, 180, np.inf]\n",
    "label_names = ['short', 'medium', 'long']\n",
    "\n",
    "# Create wait_type column\n",
    "airlines['wait_type'] = pd.cut(airlines['wait_min'], bins = label_ranges, \n",
    "                                labels = label_names)\n",
    "\n",
    "# Create mappings and replace\n",
    "mappings = {'Monday':'weekday', 'Tuesday':'weekday', 'Wednesday': 'weekday', \n",
    "            'Thursday': 'weekday', 'Friday': 'weekday', \n",
    "            'Saturday': 'weekend', 'Sunday': 'weekend'}\n",
    "\n",
    "airlines['day_week'] = airlines['day'].replace(mappings)"
   ]
  },
  {
   "cell_type": "code",
   "execution_count": 10,
   "metadata": {},
   "outputs": [
    {
     "name": "stdout",
     "output_type": "stream",
     "text": [
      "['medium', 'long', 'short']\n",
      "Categories (3, object): ['short' < 'medium' < 'long'] \n",
      "\n",
      "['weekday' 'weekend']\n"
     ]
    }
   ],
   "source": [
    "print(airlines['wait_type'].unique(), '\\n')\n",
    "print(airlines['day_week'].unique())"
   ]
  },
  {
   "cell_type": "code",
   "execution_count": 11,
   "metadata": {},
   "outputs": [],
   "source": [
    "assert airlines['wait_type'].unique().tolist() == ['medium', 'long', 'short']\n",
    "assert airlines['day_week'].unique().tolist() == ['weekday', 'weekend']"
   ]
  },
  {
   "cell_type": "code",
   "execution_count": 12,
   "metadata": {},
   "outputs": [
    {
     "name": "stderr",
     "output_type": "stream",
     "text": [
      "D:\\Users\\ASUS\\anaconda3\\lib\\site-packages\\ipykernel_launcher.py:16: FutureWarning: The default value of regex will change from True to False in a future version.\n",
      "  app.launch_new_instance()\n",
      "D:\\Users\\ASUS\\anaconda3\\lib\\site-packages\\ipykernel_launcher.py:19: FutureWarning: The default value of regex will change from True to False in a future version.\n",
      "D:\\Users\\ASUS\\anaconda3\\lib\\site-packages\\ipykernel_launcher.py:25: FutureWarning: The default value of regex will change from True to False in a future version.\n"
     ]
    }
   ],
   "source": [
    "#Removing titles and taking names\n",
    "\n",
    "import pandas as pd\n",
    "airlines = pd.read_csv('datasets/airlines_full_name.csv')\n",
    "\n",
    "#While collecting survey respondent metadata in the airlines DataFrame, the full name of respondents was saved in the full_name\n",
    "#column. However upon closer inspection, you found that a lot of the different names are prefixed by honorifics such as \"Dr.\",\n",
    "#\"Mr.\", \"Ms.\" and \"Miss\".\n",
    "\n",
    "#Your ultimate objective is to create two new columns named first_name and last_name, containing the first and last names of\n",
    "#respondents respectively. Before doing so however, you need to remove honorifics.\n",
    "\n",
    "#The airlines DataFrame is in your environment, alongside pandas as pd.\n",
    "\n",
    "# Replace \"Dr.\" with empty string \"\"\n",
    "airlines['full_name'] = airlines['full_name'].str.replace(\"Dr.\",\"\")\n",
    "\n",
    "# Replace \"Mr.\" with empty string \"\"\n",
    "airlines['full_name'] = airlines['full_name'].str.replace(\"Mr.\",\"\")\n",
    "\n",
    "# Replace \"Miss\" with empty string \"\"\n",
    "airlines['full_name'] = airlines['full_name'].str.replace(\"Miss\",\"\")\n",
    "\n",
    "# Replace \"Ms.\" with empty string \"\"\n",
    "airlines['full_name'] = airlines['full_name'].str.replace(\"Ms.\",\"\")\n",
    "\n",
    "# Assert that full_name has no honorifics\n",
    "assert airlines['full_name'].str.contains('Ms.|Mr.|Miss|Dr.').any() == False"
   ]
  },
  {
   "cell_type": "code",
   "execution_count": 13,
   "metadata": {},
   "outputs": [
    {
     "name": "stdout",
     "output_type": "stream",
     "text": [
      "18    The airport personnell forgot to alert us of d...\n",
      "19    The food in the airport was really really expe...\n",
      "20    One of the other travelers was really loud and...\n",
      "21    I don't remember answering the survey with the...\n",
      "22    The airport personnel kept ignoring my request...\n",
      "23    The chair I sat in was extremely uncomfortable...\n",
      "24    I wish you were more like other airports, the ...\n",
      "25    I was really unsatisfied with the wait times b...\n",
      "27    The flight was okay, but I didn't really like ...\n",
      "28    We were really slowed down by security measure...\n",
      "29    There was a spill on the aisle next to the bat...\n",
      "30    I felt very unsatisfied by how long the flight...\n",
      "Name: survey_response, dtype: object\n"
     ]
    }
   ],
   "source": [
    "#Keeping it descriptive\n",
    "\n",
    "import pandas as pd\n",
    "airlines = pd.read_csv('datasets/airlines_survey_response.csv', sep=';')\n",
    "\n",
    "#To further understand travelers' experiences in the San Francisco Airport, the quality assurance department sent out a\n",
    "#qualitative questionnaire to all travelers who gave the airport the worst score on all possible categories. The objective\n",
    "#behind this questionnaire is to identify common patterns in what travelers are saying about the airport.\n",
    "\n",
    "#Their response is stored in the survey_response column. Upon a closer look, you realized a few of the answers gave the shortest\n",
    "#possible character amount without much substance. In this exercise, you will isolate the responses with a character count\n",
    "#higher than 40 , and make sure your new DataFrame contains responses with 40 characters or more using an assert statement.\n",
    "\n",
    "#The airlines DataFrame is in your environment, and pandas is imported as pd.\n",
    "\n",
    "# Store length of each row in survey_response column\n",
    "resp_length = airlines['survey_response'].str.len()\n",
    "\n",
    "# Find rows in airlines where resp_length > 40\n",
    "airlines_survey = airlines[resp_length > 40]\n",
    "\n",
    "# Assert minimum survey_response length is > 40\n",
    "assert airlines_survey['survey_response'].str.len().min() > 40\n",
    "\n",
    "# Print new survey_response column\n",
    "print(airlines_survey['survey_response'])"
   ]
  },
  {
   "cell_type": "code",
   "execution_count": null,
   "metadata": {},
   "outputs": [],
   "source": []
  }
 ],
 "metadata": {
  "kernelspec": {
   "display_name": "Python 3",
   "language": "python",
   "name": "python3"
  },
  "language_info": {
   "codemirror_mode": {
    "name": "ipython",
    "version": 3
   },
   "file_extension": ".py",
   "mimetype": "text/x-python",
   "name": "python",
   "nbconvert_exporter": "python",
   "pygments_lexer": "ipython3",
   "version": "3.7.6"
  }
 },
 "nbformat": 4,
 "nbformat_minor": 4
}
